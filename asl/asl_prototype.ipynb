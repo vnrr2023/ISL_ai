{
 "cells": [
  {
   "cell_type": "code",
   "execution_count": 1,
   "id": "1bc967bb-332c-4ded-a6ed-8d4f35f09162",
   "metadata": {},
   "outputs": [],
   "source": [
    "import numpy as np\n",
    "import matplotlib.pyplot as plt\n",
    "import mediapipe as mp\n",
    "import time\n",
    "import os"
   ]
  },
  {
   "cell_type": "code",
   "execution_count": 2,
   "id": "6b4a41c2-0e5b-4f87-a5b0-8fc9140c6f7e",
   "metadata": {},
   "outputs": [],
   "source": [
    "import cv2 as cv"
   ]
  },
  {
   "cell_type": "code",
   "execution_count": 38,
   "id": "a732e067-a530-4251-b99b-806fd8038d95",
   "metadata": {},
   "outputs": [],
   "source": [
    "mp_drawing=mp.solutions.drawing_utils\n",
    "mp_holistic=mp.solutions.holistic\n",
    "holistic=mp_holistic.Holistic(min_detection_confidence=0.5,min_tracking_confidence=0.6)"
   ]
  },
  {
   "cell_type": "code",
   "execution_count": 39,
   "id": "9bf066ab-2e61-4552-b229-cd4465f8703a",
   "metadata": {},
   "outputs": [],
   "source": [
    "style1=mp_drawing.DrawingSpec((131,255,0),1,1)\n",
    "style2=mp_drawing.DrawingSpec((255,221,0),1,1)"
   ]
  },
  {
   "cell_type": "code",
   "execution_count": 5,
   "id": "8c754256-b921-4df6-ada7-eaf5f4955c22",
   "metadata": {},
   "outputs": [],
   "source": [
    "def mediapipe_process(image,model):\n",
    "    image=cv.cvtColor(image,cv.COLOR_BGR2RGB)  # convert image from bgr to rgb\n",
    "    results=model.process(image)    # process the image or give to model\n",
    "    image=cv.cvtColor(image,cv.COLOR_RGB2BGR) # again convert rgb to bgr\n",
    "    return image,results   #return the image and the results\n",
    "    "
   ]
  },
  {
   "cell_type": "code",
   "execution_count": 6,
   "id": "3a82d36d-db49-476a-8fbf-2b410db382f9",
   "metadata": {},
   "outputs": [],
   "source": [
    "def draw_landmarks(image,results):\n",
    "    mp_drawing.draw_landmarks(image,results.pose_landmarks,mp_holistic.POSE_CONNECTIONS,style1,style2)\n",
    "    mp_drawing.draw_landmarks(image,results.left_hand_landmarks,mp_holistic.HAND_CONNECTIONS,style1,style2)\n",
    "    mp_drawing.draw_landmarks(image,results.right_hand_landmarks,mp_holistic.HAND_CONNECTIONS,style1,style2)\n",
    "    mp_drawing.draw_landmarks(image,results.face_landmarks,mp_holistic.FACEMESH_CONTOURS,style1,style2)"
   ]
  },
  {
   "cell_type": "code",
   "execution_count": 7,
   "id": "8aac924e-6217-4373-b2c9-ac37efdd21ac",
   "metadata": {},
   "outputs": [],
   "source": [
    "cap=cv.VideoCapture(0)\n",
    "while cap.isOpened():\n",
    "    _,frame=cap.read()\n",
    "    image,results=mediapipe_process(frame,holistic)\n",
    "    draw_landmarks(image,results)\n",
    "    if cv.waitKey(1)==27:\n",
    "        cap.release()\n",
    "        cv.destroyAllWindows()\n",
    "        break\n",
    "\n",
    "    cv.imshow(\"frame\",image)\n",
    "\n"
   ]
  },
  {
   "cell_type": "code",
   "execution_count": 17,
   "id": "b30b0232-d6b4-46b0-9110-e5c8fd1cc9ca",
   "metadata": {},
   "outputs": [
    {
     "data": {
      "text/plain": [
       "x: 0.5417942\n",
       "y: 0.70010716\n",
       "z: -0.025448533"
      ]
     },
     "execution_count": 17,
     "metadata": {},
     "output_type": "execute_result"
    }
   ],
   "source": [
    "results.face_landmarks.landmark  #  we get list of landamrks\n",
    "results.face_landmarks.landmark[0]  # we get the first landmark object"
   ]
  },
  {
   "cell_type": "code",
   "execution_count": 65,
   "id": "1670144f-b26b-4da8-9402-45c73cf8f016",
   "metadata": {},
   "outputs": [],
   "source": [
    "face=np.array([[landmark.x,landmark.y,landmark.z] for landmark in results.face_landmarks.landmark]).flatten()  if results.face_landmarks else np.zeros(1404)"
   ]
  },
  {
   "cell_type": "code",
   "execution_count": 66,
   "id": "740b3025-c90c-4f98-bf08-7311eec6835a",
   "metadata": {},
   "outputs": [
    {
     "data": {
      "text/plain": [
       "(1404,)"
      ]
     },
     "execution_count": 66,
     "metadata": {},
     "output_type": "execute_result"
    }
   ],
   "source": [
    "face.shape\n"
   ]
  },
  {
   "cell_type": "code",
   "execution_count": 69,
   "id": "23854859-ffe4-4340-98ee-963558a8e525",
   "metadata": {},
   "outputs": [],
   "source": [
    "pose=np.array([[landmark.x,landmark.y,landmark.z , landmark.visibility] for landmark in results.pose_landmarks.landmark]).flatten() if results.pose_landmarks else np.zeros(132)"
   ]
  },
  {
   "cell_type": "code",
   "execution_count": 70,
   "id": "714f6970-76c9-4f7a-b11d-a2ebe672ba2d",
   "metadata": {},
   "outputs": [
    {
     "data": {
      "text/plain": [
       "((132,), 132)"
      ]
     },
     "execution_count": 70,
     "metadata": {},
     "output_type": "execute_result"
    }
   ],
   "source": [
    "pose.shape,33*4"
   ]
  },
  {
   "cell_type": "code",
   "execution_count": 36,
   "id": "5c386a47-4237-4a54-bfbb-311bef368264",
   "metadata": {},
   "outputs": [
    {
     "data": {
      "text/plain": [
       "21"
      ]
     },
     "execution_count": 36,
     "metadata": {},
     "output_type": "execute_result"
    }
   ],
   "source": [
    "len(results.left_hand_landmarks.landmark)"
   ]
  },
  {
   "cell_type": "code",
   "execution_count": 38,
   "id": "d1d42d51-1e51-40c3-af4e-c00c7112cf19",
   "metadata": {},
   "outputs": [
    {
     "data": {
      "text/plain": [
       "x: 0.76958835\n",
       "y: 0.63348305\n",
       "z: 2.7013255e-07"
      ]
     },
     "execution_count": 38,
     "metadata": {},
     "output_type": "execute_result"
    }
   ],
   "source": [
    "results.left_hand_landmarks.landmark[0]"
   ]
  },
  {
   "cell_type": "code",
   "execution_count": 56,
   "id": "198e94d4-30af-4a07-b8cd-31f203d4de61",
   "metadata": {},
   "outputs": [],
   "source": [
    "lh=np.array([[landmark.x,landmark.y,landmark.z] for landmark in results.left_hand_landmarks.landmark]).flatten() if results.left_hand_landmarks else np.zeros(63)"
   ]
  },
  {
   "cell_type": "code",
   "execution_count": 57,
   "id": "29fbce57-1b5a-4af0-8092-146ad0bbe293",
   "metadata": {
    "scrolled": true
   },
   "outputs": [
    {
     "data": {
      "text/plain": [
       "array([ 7.69588351e-01,  6.33483052e-01,  2.70132546e-07,  6.98390722e-01,\n",
       "        5.93119085e-01, -1.61111150e-02,  6.48746967e-01,  5.14213622e-01,\n",
       "       -2.08378024e-02,  6.31027758e-01,  4.34459209e-01, -2.63571087e-02,\n",
       "        6.28490269e-01,  3.70662779e-01, -3.13980430e-02,  6.86570883e-01,\n",
       "        4.08099413e-01,  2.96997512e-03,  6.62723601e-01,  3.21024448e-01,\n",
       "       -1.32737849e-02,  6.47231102e-01,  2.66576499e-01, -2.93239672e-02,\n",
       "        6.35680676e-01,  2.18851924e-01, -4.17023003e-02,  7.25880146e-01,\n",
       "        3.91054809e-01, -3.71778477e-03,  7.12408900e-01,  2.84705460e-01,\n",
       "       -1.78524610e-02,  7.01466084e-01,  2.17522681e-01, -3.35482731e-02,\n",
       "        6.92329586e-01,  1.61942691e-01, -4.48535495e-02,  7.65181482e-01,\n",
       "        3.94818842e-01, -1.48388082e-02,  7.54871905e-01,  2.95593262e-01,\n",
       "       -3.22471112e-02,  7.44168520e-01,  2.35549107e-01, -4.45502438e-02,\n",
       "        7.33477473e-01,  1.85654715e-01, -5.27232215e-02,  8.07887375e-01,\n",
       "        4.15152311e-01, -2.79874001e-02,  8.13515663e-01,  3.36923063e-01,\n",
       "       -4.36092727e-02,  8.12040985e-01,  2.86227584e-01, -4.98296469e-02,\n",
       "        8.07434857e-01,  2.40678594e-01, -5.37204668e-02])"
      ]
     },
     "execution_count": 57,
     "metadata": {},
     "output_type": "execute_result"
    }
   ],
   "source": [
    "lh"
   ]
  },
  {
   "cell_type": "code",
   "execution_count": 54,
   "id": "cfd7ea12-705e-4342-8a9b-e3de58c66881",
   "metadata": {},
   "outputs": [],
   "source": [
    "rh=np.array([[landmark.x,landmark.y,landmark.z] for landmark in results.left_right_landmarks.landmark]).flatten() if results.right_hand_landmarks else np.zeros(63)"
   ]
  },
  {
   "cell_type": "code",
   "execution_count": 55,
   "id": "789ad1bd-7721-48e7-90ac-11ebad88b6f5",
   "metadata": {},
   "outputs": [
    {
     "data": {
      "text/plain": [
       "array([0., 0., 0., 0., 0., 0., 0., 0., 0., 0., 0., 0., 0., 0., 0., 0., 0.,\n",
       "       0., 0., 0., 0., 0., 0., 0., 0., 0., 0., 0., 0., 0., 0., 0., 0., 0.,\n",
       "       0., 0., 0., 0., 0., 0., 0., 0., 0., 0., 0., 0., 0., 0., 0., 0., 0.,\n",
       "       0., 0., 0., 0., 0., 0., 0., 0., 0., 0., 0., 0.])"
      ]
     },
     "execution_count": 55,
     "metadata": {},
     "output_type": "execute_result"
    }
   ],
   "source": [
    "rh"
   ]
  },
  {
   "cell_type": "code",
   "execution_count": null,
   "id": "a7600b5b-36fd-4261-8419-400577dfe168",
   "metadata": {
    "scrolled": true
   },
   "outputs": [],
   "source": [
    "'''\n",
    "1. we can see if left hand or the right hand is not detected then the results.left/right_hand will throw error\n",
    "   so we need to create a blank array same as the length of the total array\n",
    "   without flattening we get an array of shape = (21,3) 21: each landmark,3: x,y,z of each landmark\n",
    "   after flattening we get array of length 21*3=63 \n",
    "\n",
    "   // same for right hand\n",
    "   after flattening for right hand we get array of length 21*3=63\n",
    "\n",
    "   to avoid the error we create and array of all zeros of length 63  by using np.zeros(63)\n",
    "\n",
    "2. without flattening the pose landamrks array then shape is (33,4)\n",
    "   hence after flattening we get a single array of 33*4=132 lenght array\n",
    "\n",
    "   \n",
    "\n",
    "3. using face landmarks we can detect 468 landmarks on the face\n",
    "    before flattening shape of array is (468,3)\n",
    "    after flattening we get length=468*3=1404\n",
    "\n",
    "    create a blank array of all zeros\n",
    "\n",
    "4. np.concatenate([a,b,c]) will merge a,b,c arrays in one single array\n",
    "    after concatenating our arrays of pose lh rh and face we will get a single big array of length=468*3+33*4+2(21*3)=1662\n",
    "    total features\n",
    "\n",
    "5. our basic idea is that we will be collecting 30 frames per seconds which is 30fps and will be making predictions on those \n",
    "    30 frames values\n",
    "    for one class we will have n videos  ===== n actual data points\n",
    "        one video consists of 30 frames\n",
    "        each frame has 1662 values\n",
    "        total values we will collect to make 1 prediction will be 30*1662=49860\n",
    "\n",
    "        so our input shape to our model will be (30,1662)\n",
    "        oops thats too big isnt it?\n",
    "\n",
    "6. np.save(filename,array) will save the array as file with a npy extension\n",
    "    this is usefull to extract datapoints from each frame and store accordingly\n",
    "'''"
   ]
  },
  {
   "cell_type": "code",
   "execution_count": 73,
   "id": "eb23ace5-f28c-4393-a62d-d6298ffce1fb",
   "metadata": {},
   "outputs": [
    {
     "data": {
      "text/plain": [
       "1662"
      ]
     },
     "execution_count": 73,
     "metadata": {},
     "output_type": "execute_result"
    }
   ],
   "source": [
    "468*3+33*4+2*(21*3)"
   ]
  },
  {
   "cell_type": "code",
   "execution_count": 77,
   "id": "6c3116ab-ba00-4e44-ae2f-c0cb3777af11",
   "metadata": {},
   "outputs": [
    {
     "data": {
      "text/plain": [
       "49860"
      ]
     },
     "execution_count": 77,
     "metadata": {},
     "output_type": "execute_result"
    }
   ],
   "source": [
    "30*1662"
   ]
  },
  {
   "cell_type": "code",
   "execution_count": 71,
   "id": "cf6c5f6e-af57-438d-8d17-978dddd99765",
   "metadata": {},
   "outputs": [
    {
     "data": {
      "text/plain": [
       "array([ 0,  1,  2,  3,  4,  5,  6,  7,  8,  9, 10, 11, 12, 13, 14, 15, 16,\n",
       "       17, 18, 19])"
      ]
     },
     "execution_count": 71,
     "metadata": {},
     "output_type": "execute_result"
    }
   ],
   "source": [
    "a=np.arange(0,10)\n",
    "b=np.arange(10,20)\n",
    "\n",
    "np.concatenate([a,b])"
   ]
  },
  {
   "cell_type": "code",
   "execution_count": 7,
   "id": "a237f3aa-f455-4719-ba45-657b045ac9de",
   "metadata": {},
   "outputs": [],
   "source": [
    "def extract_landmarks(results):\n",
    "    face=np.array([[landmark.x,landmark.y,landmark.z] for landmark in results.face_landmarks.landmark]).flatten()  if results.face_landmarks else np.zeros(1404)\n",
    "    pose=np.array([[landmark.x,landmark.y,landmark.z , landmark.visibility] for landmark in results.pose_landmarks.landmark]).flatten() if results.pose_landmarks else np.zeros(132)\n",
    "    rh=np.array([[landmark.x,landmark.y,landmark.z] for landmark in results.right_hand_landmarks.landmark]).flatten() if results.right_hand_landmarks else np.zeros(63)\n",
    "    lh=np.array([[landmark.x,landmark.y,landmark.z] for landmark in results.left_hand_landmarks.landmark]).flatten() if results.left_hand_landmarks else np.zeros(63)\n",
    "\n",
    "    return np.concatenate([pose,face,lh,rh])"
   ]
  },
  {
   "cell_type": "code",
   "execution_count": 76,
   "id": "5781f378-ac60-42b1-8935-9ac30cb97a48",
   "metadata": {},
   "outputs": [
    {
     "data": {
      "text/plain": [
       "(1662,)"
      ]
     },
     "execution_count": 76,
     "metadata": {},
     "output_type": "execute_result"
    }
   ],
   "source": [
    "extract_landmarks(results).shape"
   ]
  },
  {
   "cell_type": "code",
   "execution_count": 78,
   "id": "ed8db90a-56ca-4b36-ae04-2808a09ccab9",
   "metadata": {},
   "outputs": [],
   "source": [
    "# ###################################\n",
    "        # Creating folders\n",
    "####################################\n"
   ]
  },
  {
   "cell_type": "code",
   "execution_count": 8,
   "id": "5a7726da-44fd-47af-91da-521f8afcf607",
   "metadata": {},
   "outputs": [],
   "source": [
    "data_dir='data'"
   ]
  },
  {
   "cell_type": "code",
   "execution_count": 9,
   "id": "10259d02-ec7f-44e8-ae64-4ea77f288b4c",
   "metadata": {},
   "outputs": [],
   "source": [
    "actions=np.array(['hello','thanks','iloveyou','please','blank'])"
   ]
  },
  {
   "cell_type": "code",
   "execution_count": 10,
   "id": "04ffb14d-1db6-4041-8a53-1e8a90de56f1",
   "metadata": {},
   "outputs": [],
   "source": [
    "no_of_videos=30  #will be n for isl\n",
    "no_of_frames=30  # will be 30 only for isl"
   ]
  },
  {
   "cell_type": "code",
   "execution_count": 86,
   "id": "d7c598de-36e9-41e7-91c5-655c5463a5e0",
   "metadata": {},
   "outputs": [],
   "source": [
    "# create dirs\n",
    "# for action in actions:\n",
    "#     for i in range(no_of_videos):\n",
    "#         try:\n",
    "#             os.makedirs(os.path.join(data_dir,,str(i)))\n",
    "#         except:\n",
    "#             print('error')"
   ]
  },
  {
   "cell_type": "code",
   "execution_count": 88,
   "id": "eefb91a0-eb12-4c49-b247-a96c3dadba27",
   "metadata": {},
   "outputs": [],
   "source": [
    "# np.save('1',extract_landmarks(results))"
   ]
  },
  {
   "cell_type": "code",
   "execution_count": 10,
   "id": "b10230ab-6500-40bf-9f77-3eed054a1c6a",
   "metadata": {},
   "outputs": [],
   "source": [
    "# collect data\n",
    "model=holistic"
   ]
  },
  {
   "cell_type": "code",
   "execution_count": 13,
   "id": "54ca4ae6-719d-4c17-81e7-e1a408849ebb",
   "metadata": {},
   "outputs": [
    {
     "name": "stdout",
     "output_type": "stream",
     "text": [
      "hello\n",
      "thanks\n",
      "iloveyou\n",
      "please\n",
      "blank\n"
     ]
    }
   ],
   "source": [
    "try:\n",
    "    cap=cv.VideoCapture(0)\n",
    "    for action in actions:  #  for each action\n",
    "        print(action)\n",
    "        for video in range(no_of_videos):  # for n videos\n",
    "            for frame in range(no_of_frames):\n",
    "                \n",
    "    \n",
    "                # read the frame from the camera/webcam\n",
    "                _,framee=cap.read()\n",
    "                image,results=mediapipe_process(framee,model)\n",
    "                draw_landmarks(image,results)\n",
    "                a=extract_landmarks(results)\n",
    "    \n",
    "                if frame==0:  # for the first frame\n",
    "                    cv.putText(image,f'starting collection',(100,200),cv.FONT_HERSHEY_COMPLEX_SMALL,3,(0,0,255),1,cv.LINE_AA)\n",
    "                    cv.putText(image,f'For {action}  Video {video} Frame {frame}',(120,32),cv.FONT_HERSHEY_COMPLEX_SMALL,1,(0,255,0),1,cv.LINE_AA)\n",
    "                    cv.imshow('image',image)\n",
    "                    cv.waitKey(4000)\n",
    "                else:\n",
    "                    cv.putText(image,f'For Video {action} {video} Frame {frame}',(120,32),cv.FONT_HERSHEY_COMPLEX_SMALL,1,(0,255,0),1,cv.LINE_AA)\n",
    "                    cv.imshow('image',image)\n",
    "    \n",
    "                a_path=os.path.join(data_dir,action,str(video),str(frame))\n",
    "                np.save(a_path,a)            \n",
    "                if cv.waitKey(5)==27:\n",
    "                    cap.release()\n",
    "                    break\n",
    "            \n",
    "    \n",
    "    cv.destroyAllWindows()\n",
    "    cap.release()\n",
    "except:\n",
    "    print('error')"
   ]
  },
  {
   "cell_type": "code",
   "execution_count": 13,
   "id": "a278a511-c965-459d-a618-c895219209a8",
   "metadata": {},
   "outputs": [],
   "source": [
    "cap.release()"
   ]
  },
  {
   "cell_type": "code",
   "execution_count": 11,
   "id": "ba06b440-9797-4347-895c-2ed88f9aaa92",
   "metadata": {},
   "outputs": [],
   "source": [
    "# collect data"
   ]
  },
  {
   "cell_type": "code",
   "execution_count": 12,
   "id": "c836ac7f-216f-4aa0-a59b-75101b21f89e",
   "metadata": {},
   "outputs": [],
   "source": [
    "from tensorflow.keras.utils import to_categorical\n",
    "from sklearn.model_selection import train_test_split"
   ]
  },
  {
   "cell_type": "code",
   "execution_count": 11,
   "id": "428edbab-94b8-4f09-af99-76ef33fd04ad",
   "metadata": {},
   "outputs": [],
   "source": [
    "label_map={label:num for num,label in enumerate(actions)}"
   ]
  },
  {
   "cell_type": "code",
   "execution_count": 12,
   "id": "ee529dd6-2cc9-43bd-9e4c-71cb6a10118b",
   "metadata": {},
   "outputs": [
    {
     "data": {
      "text/plain": [
       "{'hello': 0, 'thanks': 1, 'iloveyou': 2, 'please': 3, 'blank': 4}"
      ]
     },
     "execution_count": 12,
     "metadata": {},
     "output_type": "execute_result"
    }
   ],
   "source": [
    "label_map"
   ]
  },
  {
   "cell_type": "code",
   "execution_count": 15,
   "id": "afb930a9-e30f-4d9e-b1cc-7e611681f837",
   "metadata": {},
   "outputs": [],
   "source": [
    "# now we will take data"
   ]
  },
  {
   "cell_type": "code",
   "execution_count": 16,
   "id": "7592907f-8c26-434c-989b-7339ab3d9739",
   "metadata": {},
   "outputs": [],
   "source": [
    "videos=[]\n",
    "labels=[]"
   ]
  },
  {
   "cell_type": "code",
   "execution_count": 17,
   "id": "7e656cbf-9fbe-4f50-8c39-691105e089d2",
   "metadata": {},
   "outputs": [],
   "source": [
    "for action in actions:\n",
    "    for video in range(no_of_videos):\n",
    "        data_window=[]\n",
    "        for frame in range(no_of_frames):\n",
    "            path=os.path.join(data_dir,action,str(video),f'{frame}.npy')\n",
    "            res=np.load(path)\n",
    "            data_window.append(res)\n",
    "        videos.append(data_window)\n",
    "        labels.append(label_map[action])\n",
    "            "
   ]
  },
  {
   "cell_type": "code",
   "execution_count": 18,
   "id": "fa8cf819-4f70-4f63-bada-89c93a2fc3e1",
   "metadata": {},
   "outputs": [],
   "source": [
    "videos=np.array(videos)"
   ]
  },
  {
   "cell_type": "code",
   "execution_count": 19,
   "id": "89fdf2bf-467e-4631-907f-1a9f6124bb6f",
   "metadata": {},
   "outputs": [],
   "source": [
    "labels=np.array(labels)"
   ]
  },
  {
   "cell_type": "code",
   "execution_count": 20,
   "id": "c1a88594-7ac3-4974-bdfe-ae83b212cc9d",
   "metadata": {},
   "outputs": [
    {
     "data": {
      "text/plain": [
       "(150, 30, 1662)"
      ]
     },
     "execution_count": 20,
     "metadata": {},
     "output_type": "execute_result"
    }
   ],
   "source": [
    "videos.shape"
   ]
  },
  {
   "cell_type": "code",
   "execution_count": 22,
   "id": "9d73fd97-4c05-4d5d-ac32-aab6d80bf3b5",
   "metadata": {},
   "outputs": [
    {
     "data": {
      "text/plain": [
       "(150,)"
      ]
     },
     "execution_count": 22,
     "metadata": {},
     "output_type": "execute_result"
    }
   ],
   "source": [
    "labels.shape"
   ]
  },
  {
   "cell_type": "code",
   "execution_count": 21,
   "id": "4c7b8425-8b36-491a-a9ab-644b295fd616",
   "metadata": {},
   "outputs": [
    {
     "data": {
      "text/plain": [
       "'\\nso we have \\n150 videos where each video has 30 rows and 1662 colmns\\n\\n'"
      ]
     },
     "execution_count": 21,
     "metadata": {},
     "output_type": "execute_result"
    }
   ],
   "source": [
    "'''\n",
    "so we have \n",
    "150 videos where each video has 30 rows and 1662 colmns\n",
    "150 labels\n",
    "'''"
   ]
  },
  {
   "cell_type": "code",
   "execution_count": 23,
   "id": "18c8cb9e-b2e6-450d-8a43-effc6dea309e",
   "metadata": {},
   "outputs": [],
   "source": [
    "import pickle"
   ]
  },
  {
   "cell_type": "code",
   "execution_count": 24,
   "id": "b84af0d7-566d-4bd7-9463-58d69de0bb2d",
   "metadata": {},
   "outputs": [],
   "source": [
    "f=open('labels.pickle','wb')"
   ]
  },
  {
   "cell_type": "code",
   "execution_count": 25,
   "id": "2df95092-12e5-4e10-b041-8322dd8b4cf4",
   "metadata": {},
   "outputs": [],
   "source": [
    "pickle.dump(labels,f)"
   ]
  },
  {
   "cell_type": "code",
   "execution_count": 26,
   "id": "789f542d-d808-4dde-8527-b9855dca988b",
   "metadata": {},
   "outputs": [],
   "source": [
    "f.close()"
   ]
  },
  {
   "cell_type": "code",
   "execution_count": 27,
   "id": "0599c909-0b09-4c6a-8e31-ca70ec26340f",
   "metadata": {},
   "outputs": [],
   "source": [
    "f=open('data_videos.pickle','wb')\n",
    "pickle.dump(videos,f)\n",
    "f.close()"
   ]
  },
  {
   "cell_type": "code",
   "execution_count": 28,
   "id": "494dfb5f-8b5e-428e-b28a-0ebb7249a8ed",
   "metadata": {},
   "outputs": [],
   "source": [
    "# doing one hot encoding"
   ]
  },
  {
   "cell_type": "code",
   "execution_count": 31,
   "id": "dfc8e8a6-f0b6-4118-8a2e-b7a9fdf4b04f",
   "metadata": {},
   "outputs": [],
   "source": [
    "y=to_categorical(labels).astype(int)"
   ]
  },
  {
   "cell_type": "code",
   "execution_count": 33,
   "id": "5507306c-e3ac-4c4e-aa19-6c26b9bdedb9",
   "metadata": {},
   "outputs": [
    {
     "data": {
      "text/plain": [
       "(150, 5)"
      ]
     },
     "execution_count": 33,
     "metadata": {},
     "output_type": "execute_result"
    }
   ],
   "source": [
    "y.shape"
   ]
  },
  {
   "cell_type": "code",
   "execution_count": 110,
   "id": "531e3e96-15e3-4d75-a7e7-430a7eedc587",
   "metadata": {},
   "outputs": [],
   "source": [
    "# split the data\n",
    "x_train,x_test,y_train,y_test=train_test_split(videos,y,test_size=0.40)"
   ]
  },
  {
   "cell_type": "code",
   "execution_count": 35,
   "id": "a4095aa5-b8e4-427f-b67c-80c92d5e3d55",
   "metadata": {},
   "outputs": [
    {
     "data": {
      "text/plain": [
       "((135, 30, 1662), (135, 5))"
      ]
     },
     "execution_count": 35,
     "metadata": {},
     "output_type": "execute_result"
    }
   ],
   "source": [
    "x_train.shape,y_train.shape"
   ]
  },
  {
   "cell_type": "code",
   "execution_count": 13,
   "id": "4495499c-0722-4a4f-b765-a16b0e8b7c61",
   "metadata": {},
   "outputs": [],
   "source": [
    "# prepare model\n",
    "from tensorflow.keras.layers import LSTM,Dense\n",
    "from tensorflow.keras import Sequential\n",
    "from tensorflow.keras.callbacks import TensorBoard"
   ]
  },
  {
   "cell_type": "code",
   "execution_count": 37,
   "id": "c51f031e-3014-4871-82c6-c5e8c3a26d9c",
   "metadata": {},
   "outputs": [],
   "source": [
    "tb_callback=TensorBoard(log_dir='log_dir')"
   ]
  },
  {
   "cell_type": "code",
   "execution_count": 43,
   "id": "91d2f3e5-564d-4f18-9e11-06f93a523941",
   "metadata": {},
   "outputs": [],
   "source": [
    "model=Sequential()\n",
    "model.add(LSTM(64,return_sequences=True,activation='relu',input_shape=(30,1662)))\n",
    "model.add(LSTM(64,return_sequences=True,activation='relu'))\n",
    "model.add(LSTM(64,return_sequences=False,activation='relu'))\n",
    "model.add(Dense(64,activation='relu'))\n",
    "model.add(Dense(32,activation='relu'))\n",
    "model.add(Dense(5,activation='softmax'))"
   ]
  },
  {
   "cell_type": "code",
   "execution_count": 44,
   "id": "a8a64559-ee36-4916-a864-deb49ca93662",
   "metadata": {},
   "outputs": [
    {
     "name": "stdout",
     "output_type": "stream",
     "text": [
      "Model: \"sequential_1\"\n",
      "_________________________________________________________________\n",
      " Layer (type)                Output Shape              Param #   \n",
      "=================================================================\n",
      " lstm_3 (LSTM)               (None, 30, 64)            442112    \n",
      "                                                                 \n",
      " lstm_4 (LSTM)               (None, 30, 64)            33024     \n",
      "                                                                 \n",
      " lstm_5 (LSTM)               (None, 64)                33024     \n",
      "                                                                 \n",
      " dense_3 (Dense)             (None, 64)                4160      \n",
      "                                                                 \n",
      " dense_4 (Dense)             (None, 32)                2080      \n",
      "                                                                 \n",
      " dense_5 (Dense)             (None, 5)                 165       \n",
      "                                                                 \n",
      "=================================================================\n",
      "Total params: 514565 (1.96 MB)\n",
      "Trainable params: 514565 (1.96 MB)\n",
      "Non-trainable params: 0 (0.00 Byte)\n",
      "_________________________________________________________________\n"
     ]
    }
   ],
   "source": [
    "model.summary()"
   ]
  },
  {
   "cell_type": "code",
   "execution_count": 45,
   "id": "5ebd31db-b3c7-4bd5-910e-d418f6de05ee",
   "metadata": {},
   "outputs": [],
   "source": [
    "model.compile(loss='categorical_crossentropy',optimizer='adam',metrics=['categorical_accuracy'])"
   ]
  },
  {
   "cell_type": "code",
   "execution_count": 46,
   "id": "98c353ef-1ebc-4c6d-aa8a-c5108dfe7870",
   "metadata": {
    "scrolled": true
   },
   "outputs": [
    {
     "name": "stdout",
     "output_type": "stream",
     "text": [
      "Epoch 1/500\n",
      "5/5 [==============================] - 11s 444ms/step - loss: 1.8335 - categorical_accuracy: 0.2074 - val_loss: 1.6288 - val_categorical_accuracy: 0.1333\n",
      "Epoch 2/500\n",
      "5/5 [==============================] - 1s 170ms/step - loss: 1.7201 - categorical_accuracy: 0.2148 - val_loss: 1.7259 - val_categorical_accuracy: 0.1333\n",
      "Epoch 3/500\n",
      "5/5 [==============================] - 1s 193ms/step - loss: 3.3031 - categorical_accuracy: 0.2074 - val_loss: 1.9768 - val_categorical_accuracy: 0.2667\n",
      "Epoch 4/500\n",
      "5/5 [==============================] - 1s 175ms/step - loss: 1.8652 - categorical_accuracy: 0.1259 - val_loss: 1.8572 - val_categorical_accuracy: 0.0000e+00\n",
      "Epoch 5/500\n",
      "5/5 [==============================] - 1s 165ms/step - loss: 1.8356 - categorical_accuracy: 0.1926 - val_loss: 1.6618 - val_categorical_accuracy: 0.2000\n",
      "Epoch 6/500\n",
      "5/5 [==============================] - 1s 163ms/step - loss: 1.5903 - categorical_accuracy: 0.2148 - val_loss: 2.6467 - val_categorical_accuracy: 0.1333\n",
      "Epoch 7/500\n",
      "5/5 [==============================] - 1s 224ms/step - loss: 2.0894 - categorical_accuracy: 0.1630 - val_loss: 1.5510 - val_categorical_accuracy: 0.2667\n",
      "Epoch 8/500\n",
      "5/5 [==============================] - 1s 159ms/step - loss: 1.6838 - categorical_accuracy: 0.0741 - val_loss: 3.3109 - val_categorical_accuracy: 0.0667\n",
      "Epoch 9/500\n",
      "5/5 [==============================] - 1s 158ms/step - loss: 1.7547 - categorical_accuracy: 0.0889 - val_loss: 1.6598 - val_categorical_accuracy: 0.0667\n",
      "Epoch 10/500\n",
      "5/5 [==============================] - 1s 198ms/step - loss: 1.6590 - categorical_accuracy: 0.1259 - val_loss: 1.6035 - val_categorical_accuracy: 0.2667\n",
      "Epoch 11/500\n",
      "5/5 [==============================] - 1s 163ms/step - loss: 1.6213 - categorical_accuracy: 0.2000 - val_loss: 1.6192 - val_categorical_accuracy: 0.1333\n",
      "Epoch 12/500\n",
      "5/5 [==============================] - 1s 167ms/step - loss: 1.6136 - categorical_accuracy: 0.2296 - val_loss: 1.5887 - val_categorical_accuracy: 0.3333\n",
      "Epoch 13/500\n",
      "5/5 [==============================] - 1s 170ms/step - loss: 1.5879 - categorical_accuracy: 0.2148 - val_loss: 1.5995 - val_categorical_accuracy: 0.1333\n",
      "Epoch 14/500\n",
      "5/5 [==============================] - 1s 178ms/step - loss: 1.5987 - categorical_accuracy: 0.2074 - val_loss: 1.5415 - val_categorical_accuracy: 0.3333\n",
      "Epoch 15/500\n",
      "5/5 [==============================] - 1s 167ms/step - loss: 1.5464 - categorical_accuracy: 0.3556 - val_loss: 1.4710 - val_categorical_accuracy: 0.4000\n",
      "Epoch 16/500\n",
      "5/5 [==============================] - 1s 159ms/step - loss: 1.4484 - categorical_accuracy: 0.3926 - val_loss: 1.4176 - val_categorical_accuracy: 0.4000\n",
      "Epoch 17/500\n",
      "5/5 [==============================] - 1s 171ms/step - loss: 1.4332 - categorical_accuracy: 0.3778 - val_loss: 1.3480 - val_categorical_accuracy: 0.4667\n",
      "Epoch 18/500\n",
      "5/5 [==============================] - 1s 179ms/step - loss: 1.3536 - categorical_accuracy: 0.4370 - val_loss: 1.1892 - val_categorical_accuracy: 0.4667\n",
      "Epoch 19/500\n",
      "5/5 [==============================] - 1s 190ms/step - loss: 1.2956 - categorical_accuracy: 0.4519 - val_loss: 1.2191 - val_categorical_accuracy: 0.5333\n",
      "Epoch 20/500\n",
      "5/5 [==============================] - 1s 174ms/step - loss: 1.1781 - categorical_accuracy: 0.4889 - val_loss: 1.0271 - val_categorical_accuracy: 0.6000\n",
      "Epoch 21/500\n",
      "5/5 [==============================] - 1s 169ms/step - loss: 1.0571 - categorical_accuracy: 0.5333 - val_loss: 1.6754 - val_categorical_accuracy: 0.6000\n",
      "Epoch 22/500\n",
      "5/5 [==============================] - 1s 191ms/step - loss: 1.1151 - categorical_accuracy: 0.5037 - val_loss: 1.2182 - val_categorical_accuracy: 0.4667\n",
      "Epoch 23/500\n",
      "5/5 [==============================] - 1s 172ms/step - loss: 1.3115 - categorical_accuracy: 0.4074 - val_loss: 1.4839 - val_categorical_accuracy: 0.7333\n",
      "Epoch 24/500\n",
      "5/5 [==============================] - 1s 166ms/step - loss: 1.0239 - categorical_accuracy: 0.5926 - val_loss: 1.5050 - val_categorical_accuracy: 0.5333\n",
      "Epoch 25/500\n",
      "5/5 [==============================] - 1s 177ms/step - loss: 0.8121 - categorical_accuracy: 0.6593 - val_loss: 1.2547 - val_categorical_accuracy: 0.8000\n",
      "Epoch 26/500\n",
      "5/5 [==============================] - 1s 169ms/step - loss: 1.0097 - categorical_accuracy: 0.5407 - val_loss: 1.1068 - val_categorical_accuracy: 0.7333\n",
      "Epoch 27/500\n",
      "5/5 [==============================] - 1s 178ms/step - loss: 0.7091 - categorical_accuracy: 0.7185 - val_loss: 1.1278 - val_categorical_accuracy: 0.6667\n",
      "Epoch 28/500\n",
      "5/5 [==============================] - 1s 159ms/step - loss: 0.6294 - categorical_accuracy: 0.7556 - val_loss: 1.1177 - val_categorical_accuracy: 0.7333\n",
      "Epoch 29/500\n",
      "5/5 [==============================] - 1s 172ms/step - loss: 0.6909 - categorical_accuracy: 0.6519 - val_loss: 1.1805 - val_categorical_accuracy: 0.7333\n",
      "Epoch 30/500\n",
      "5/5 [==============================] - 1s 159ms/step - loss: 0.7943 - categorical_accuracy: 0.6296 - val_loss: 2.0424 - val_categorical_accuracy: 0.4000\n",
      "Epoch 31/500\n",
      "5/5 [==============================] - 1s 156ms/step - loss: 1.2920 - categorical_accuracy: 0.5037 - val_loss: 1.3941 - val_categorical_accuracy: 0.4667\n",
      "Epoch 32/500\n",
      "5/5 [==============================] - 1s 163ms/step - loss: 1.1930 - categorical_accuracy: 0.4519 - val_loss: 1.5483 - val_categorical_accuracy: 0.5333\n",
      "Epoch 33/500\n",
      "5/5 [==============================] - 1s 170ms/step - loss: 1.1777 - categorical_accuracy: 0.4667 - val_loss: 1.2941 - val_categorical_accuracy: 0.4667\n",
      "Epoch 34/500\n",
      "5/5 [==============================] - 1s 169ms/step - loss: 1.1652 - categorical_accuracy: 0.6222 - val_loss: 1.4339 - val_categorical_accuracy: 0.6667\n",
      "Epoch 35/500\n",
      "5/5 [==============================] - 1s 217ms/step - loss: 1.0910 - categorical_accuracy: 0.6815 - val_loss: 1.1815 - val_categorical_accuracy: 0.5333\n",
      "Epoch 36/500\n",
      "5/5 [==============================] - 1s 175ms/step - loss: 0.9163 - categorical_accuracy: 0.6074 - val_loss: 1.6407 - val_categorical_accuracy: 0.6000\n",
      "Epoch 37/500\n",
      "5/5 [==============================] - 1s 161ms/step - loss: 0.7130 - categorical_accuracy: 0.7333 - val_loss: 1.0902 - val_categorical_accuracy: 0.7333\n",
      "Epoch 38/500\n",
      "5/5 [==============================] - 1s 147ms/step - loss: 0.7697 - categorical_accuracy: 0.6074 - val_loss: 6.6191 - val_categorical_accuracy: 0.5333\n",
      "Epoch 39/500\n",
      "5/5 [==============================] - 1s 192ms/step - loss: 0.8904 - categorical_accuracy: 0.6370 - val_loss: 3.2094 - val_categorical_accuracy: 0.4667\n",
      "Epoch 40/500\n",
      "5/5 [==============================] - 1s 161ms/step - loss: 1.1460 - categorical_accuracy: 0.3704 - val_loss: 2.0764 - val_categorical_accuracy: 0.6000\n",
      "Epoch 41/500\n",
      "5/5 [==============================] - 1s 164ms/step - loss: 0.6843 - categorical_accuracy: 0.6370 - val_loss: 2.0159 - val_categorical_accuracy: 0.6000\n",
      "Epoch 42/500\n",
      "5/5 [==============================] - 1s 172ms/step - loss: 0.6693 - categorical_accuracy: 0.6593 - val_loss: 2.6721 - val_categorical_accuracy: 0.6667\n",
      "Epoch 43/500\n",
      "5/5 [==============================] - 1s 156ms/step - loss: 0.6210 - categorical_accuracy: 0.7037 - val_loss: 2.1119 - val_categorical_accuracy: 0.6667\n",
      "Epoch 44/500\n",
      "5/5 [==============================] - 1s 177ms/step - loss: 0.5534 - categorical_accuracy: 0.7630 - val_loss: 2.9173 - val_categorical_accuracy: 0.6667\n",
      "Epoch 45/500\n",
      "5/5 [==============================] - 1s 158ms/step - loss: 0.4977 - categorical_accuracy: 0.8074 - val_loss: 2.6791 - val_categorical_accuracy: 0.7333\n",
      "Epoch 46/500\n",
      "5/5 [==============================] - 1s 179ms/step - loss: 0.4379 - categorical_accuracy: 0.8222 - val_loss: 2.1880 - val_categorical_accuracy: 0.8000\n",
      "Epoch 47/500\n",
      "5/5 [==============================] - 1s 180ms/step - loss: 0.4700 - categorical_accuracy: 0.7556 - val_loss: 4.1320 - val_categorical_accuracy: 0.2000\n",
      "Epoch 48/500\n",
      "5/5 [==============================] - 1s 171ms/step - loss: 1.7911 - categorical_accuracy: 0.3926 - val_loss: 1.6278 - val_categorical_accuracy: 0.2667\n",
      "Epoch 49/500\n",
      "5/5 [==============================] - 1s 179ms/step - loss: 1.5071 - categorical_accuracy: 0.2074 - val_loss: 1.3538 - val_categorical_accuracy: 0.4000\n",
      "Epoch 50/500\n",
      "5/5 [==============================] - 1s 171ms/step - loss: 1.1961 - categorical_accuracy: 0.4889 - val_loss: 1.1556 - val_categorical_accuracy: 0.5333\n",
      "Epoch 51/500\n",
      "5/5 [==============================] - 1s 178ms/step - loss: 1.1844 - categorical_accuracy: 0.4148 - val_loss: 1.0088 - val_categorical_accuracy: 0.7333\n",
      "Epoch 52/500\n",
      "5/5 [==============================] - 1s 166ms/step - loss: 1.0292 - categorical_accuracy: 0.6370 - val_loss: 0.9349 - val_categorical_accuracy: 0.7333\n",
      "Epoch 53/500\n",
      "5/5 [==============================] - 1s 171ms/step - loss: 0.8721 - categorical_accuracy: 0.7111 - val_loss: 0.7168 - val_categorical_accuracy: 0.8000\n",
      "Epoch 54/500\n",
      "5/5 [==============================] - 1s 176ms/step - loss: 0.7995 - categorical_accuracy: 0.6370 - val_loss: 0.9267 - val_categorical_accuracy: 0.6667\n",
      "Epoch 55/500\n",
      "5/5 [==============================] - 1s 162ms/step - loss: 0.6561 - categorical_accuracy: 0.7333 - val_loss: 0.9486 - val_categorical_accuracy: 0.7333\n",
      "Epoch 56/500\n",
      "5/5 [==============================] - 1s 174ms/step - loss: 0.5745 - categorical_accuracy: 0.7185 - val_loss: 1.2017 - val_categorical_accuracy: 0.6667\n",
      "Epoch 57/500\n",
      "5/5 [==============================] - 1s 218ms/step - loss: 0.4845 - categorical_accuracy: 0.7926 - val_loss: 1.9315 - val_categorical_accuracy: 0.6667\n",
      "Epoch 58/500\n",
      "5/5 [==============================] - 1s 163ms/step - loss: 0.6040 - categorical_accuracy: 0.7704 - val_loss: 1.8446 - val_categorical_accuracy: 0.4667\n",
      "Epoch 59/500\n",
      "5/5 [==============================] - 1s 173ms/step - loss: 0.8988 - categorical_accuracy: 0.5926 - val_loss: 0.9665 - val_categorical_accuracy: 0.6667\n",
      "Epoch 60/500\n",
      "5/5 [==============================] - 1s 170ms/step - loss: 0.6835 - categorical_accuracy: 0.6667 - val_loss: 0.7348 - val_categorical_accuracy: 0.7333\n",
      "Epoch 61/500\n",
      "5/5 [==============================] - 1s 180ms/step - loss: 0.7683 - categorical_accuracy: 0.6741 - val_loss: 1.0547 - val_categorical_accuracy: 0.6667\n",
      "Epoch 62/500\n",
      "5/5 [==============================] - 1s 198ms/step - loss: 0.7864 - categorical_accuracy: 0.7630 - val_loss: 0.7966 - val_categorical_accuracy: 0.7333\n",
      "Epoch 63/500\n",
      "5/5 [==============================] - 1s 192ms/step - loss: 0.7485 - categorical_accuracy: 0.6963 - val_loss: 0.8902 - val_categorical_accuracy: 0.7333\n",
      "Epoch 64/500\n",
      "5/5 [==============================] - 1s 153ms/step - loss: 0.6785 - categorical_accuracy: 0.7852 - val_loss: 1.0134 - val_categorical_accuracy: 0.6667\n",
      "Epoch 65/500\n",
      "5/5 [==============================] - 1s 158ms/step - loss: 0.5843 - categorical_accuracy: 0.7778 - val_loss: 0.8505 - val_categorical_accuracy: 0.7333\n",
      "Epoch 66/500\n",
      "5/5 [==============================] - 1s 165ms/step - loss: 0.4574 - categorical_accuracy: 0.7926 - val_loss: 1.2664 - val_categorical_accuracy: 0.6000\n",
      "Epoch 67/500\n",
      "5/5 [==============================] - 1s 179ms/step - loss: 0.3635 - categorical_accuracy: 0.8074 - val_loss: 1.5973 - val_categorical_accuracy: 0.8667\n",
      "Epoch 68/500\n",
      "5/5 [==============================] - 1s 171ms/step - loss: 0.3715 - categorical_accuracy: 0.7778 - val_loss: 3.0014 - val_categorical_accuracy: 0.6667\n",
      "Epoch 69/500\n",
      "5/5 [==============================] - 1s 164ms/step - loss: 1.9108 - categorical_accuracy: 0.5111 - val_loss: 1.8330 - val_categorical_accuracy: 0.5333\n",
      "Epoch 70/500\n",
      "5/5 [==============================] - 1s 155ms/step - loss: 1.9871 - categorical_accuracy: 0.3037 - val_loss: 1.7182 - val_categorical_accuracy: 0.4000\n",
      "Epoch 71/500\n",
      "5/5 [==============================] - 1s 190ms/step - loss: 1.4001 - categorical_accuracy: 0.4000 - val_loss: 1.4369 - val_categorical_accuracy: 0.4000\n",
      "Epoch 72/500\n",
      "5/5 [==============================] - 1s 177ms/step - loss: 1.3345 - categorical_accuracy: 0.4444 - val_loss: 1.3424 - val_categorical_accuracy: 0.4667\n",
      "Epoch 73/500\n",
      "5/5 [==============================] - 1s 180ms/step - loss: 1.2453 - categorical_accuracy: 0.5185 - val_loss: 1.3629 - val_categorical_accuracy: 0.4000\n",
      "Epoch 74/500\n",
      "5/5 [==============================] - 1s 171ms/step - loss: 1.1655 - categorical_accuracy: 0.4593 - val_loss: 1.4724 - val_categorical_accuracy: 0.4000\n",
      "Epoch 75/500\n",
      "5/5 [==============================] - 1s 179ms/step - loss: 1.0699 - categorical_accuracy: 0.5481 - val_loss: 1.4305 - val_categorical_accuracy: 0.6000\n",
      "Epoch 76/500\n",
      "5/5 [==============================] - 1s 158ms/step - loss: 0.9376 - categorical_accuracy: 0.6741 - val_loss: 1.5672 - val_categorical_accuracy: 0.6667\n",
      "Epoch 77/500\n",
      "5/5 [==============================] - 1s 165ms/step - loss: 0.7438 - categorical_accuracy: 0.6370 - val_loss: 1.5967 - val_categorical_accuracy: 0.6667\n",
      "Epoch 78/500\n",
      "5/5 [==============================] - 1s 157ms/step - loss: 0.5666 - categorical_accuracy: 0.7037 - val_loss: 1.7215 - val_categorical_accuracy: 0.7333\n",
      "Epoch 79/500\n",
      "5/5 [==============================] - 1s 168ms/step - loss: 0.6154 - categorical_accuracy: 0.7704 - val_loss: 1.3929 - val_categorical_accuracy: 0.7333\n",
      "Epoch 80/500\n",
      "5/5 [==============================] - 1s 160ms/step - loss: 0.8669 - categorical_accuracy: 0.6815 - val_loss: 1.4141 - val_categorical_accuracy: 0.7333\n",
      "Epoch 81/500\n",
      "5/5 [==============================] - 1s 163ms/step - loss: 0.6509 - categorical_accuracy: 0.6815 - val_loss: 2.2242 - val_categorical_accuracy: 0.7333\n",
      "Epoch 82/500\n",
      "5/5 [==============================] - 1s 156ms/step - loss: 0.5097 - categorical_accuracy: 0.7926 - val_loss: 1.7258 - val_categorical_accuracy: 0.7333\n",
      "Epoch 83/500\n",
      "5/5 [==============================] - 1s 162ms/step - loss: 0.4055 - categorical_accuracy: 0.7778 - val_loss: 0.9625 - val_categorical_accuracy: 0.8000\n",
      "Epoch 84/500\n",
      "5/5 [==============================] - 1s 159ms/step - loss: 0.4205 - categorical_accuracy: 0.8148 - val_loss: 1.6489 - val_categorical_accuracy: 0.7333\n",
      "Epoch 85/500\n",
      "5/5 [==============================] - 1s 177ms/step - loss: 0.3892 - categorical_accuracy: 0.7926 - val_loss: 0.8859 - val_categorical_accuracy: 0.7333\n",
      "Epoch 86/500\n",
      "5/5 [==============================] - 1s 182ms/step - loss: 0.4255 - categorical_accuracy: 0.7852 - val_loss: 1.2582 - val_categorical_accuracy: 0.7333\n",
      "Epoch 87/500\n",
      "5/5 [==============================] - 1s 157ms/step - loss: 0.5074 - categorical_accuracy: 0.7259 - val_loss: 0.7592 - val_categorical_accuracy: 0.7333\n",
      "Epoch 88/500\n",
      "5/5 [==============================] - 1s 167ms/step - loss: 0.5114 - categorical_accuracy: 0.7852 - val_loss: 0.8447 - val_categorical_accuracy: 0.7333\n",
      "Epoch 89/500\n",
      "5/5 [==============================] - 1s 168ms/step - loss: 0.4127 - categorical_accuracy: 0.7556 - val_loss: 0.9688 - val_categorical_accuracy: 0.8000\n",
      "Epoch 90/500\n",
      "5/5 [==============================] - 1s 160ms/step - loss: 0.3623 - categorical_accuracy: 0.7926 - val_loss: 0.8930 - val_categorical_accuracy: 0.7333\n",
      "Epoch 91/500\n",
      "5/5 [==============================] - 1s 190ms/step - loss: 0.3843 - categorical_accuracy: 0.8519 - val_loss: 0.9522 - val_categorical_accuracy: 0.7333\n",
      "Epoch 92/500\n",
      "5/5 [==============================] - 1s 178ms/step - loss: 0.3542 - categorical_accuracy: 0.8074 - val_loss: 0.9462 - val_categorical_accuracy: 0.8667\n",
      "Epoch 93/500\n",
      "5/5 [==============================] - 1s 164ms/step - loss: 0.3710 - categorical_accuracy: 0.7926 - val_loss: 0.8292 - val_categorical_accuracy: 0.8000\n",
      "Epoch 94/500\n",
      "5/5 [==============================] - 1s 160ms/step - loss: 0.3071 - categorical_accuracy: 0.8222 - val_loss: 0.9719 - val_categorical_accuracy: 0.8000\n",
      "Epoch 95/500\n",
      "5/5 [==============================] - 1s 153ms/step - loss: 0.2951 - categorical_accuracy: 0.8593 - val_loss: 0.8763 - val_categorical_accuracy: 0.8000\n",
      "Epoch 96/500\n",
      "5/5 [==============================] - 1s 153ms/step - loss: 0.2894 - categorical_accuracy: 0.8815 - val_loss: 0.9085 - val_categorical_accuracy: 0.8000\n",
      "Epoch 97/500\n",
      "5/5 [==============================] - 1s 178ms/step - loss: 0.2768 - categorical_accuracy: 0.8815 - val_loss: 0.9206 - val_categorical_accuracy: 0.8000\n",
      "Epoch 98/500\n",
      "5/5 [==============================] - 1s 182ms/step - loss: 0.2709 - categorical_accuracy: 0.8815 - val_loss: 0.9180 - val_categorical_accuracy: 0.8000\n",
      "Epoch 99/500\n",
      "5/5 [==============================] - 1s 184ms/step - loss: 0.2700 - categorical_accuracy: 0.8519 - val_loss: 0.9771 - val_categorical_accuracy: 0.8000\n",
      "Epoch 100/500\n",
      "5/5 [==============================] - 1s 162ms/step - loss: 0.2915 - categorical_accuracy: 0.8593 - val_loss: 0.9058 - val_categorical_accuracy: 0.8000\n",
      "Epoch 101/500\n",
      "5/5 [==============================] - 1s 170ms/step - loss: 0.2970 - categorical_accuracy: 0.8444 - val_loss: 1.0060 - val_categorical_accuracy: 0.8000\n",
      "Epoch 102/500\n",
      "5/5 [==============================] - 1s 166ms/step - loss: 0.2888 - categorical_accuracy: 0.8741 - val_loss: 1.0861 - val_categorical_accuracy: 0.8000\n",
      "Epoch 103/500\n",
      "5/5 [==============================] - 1s 170ms/step - loss: 0.2601 - categorical_accuracy: 0.8667 - val_loss: 1.0336 - val_categorical_accuracy: 0.8000\n",
      "Epoch 104/500\n",
      "5/5 [==============================] - 1s 158ms/step - loss: 0.2360 - categorical_accuracy: 0.9037 - val_loss: 1.1893 - val_categorical_accuracy: 0.8000\n",
      "Epoch 105/500\n",
      "5/5 [==============================] - 1s 180ms/step - loss: 0.2302 - categorical_accuracy: 0.8815 - val_loss: 1.3589 - val_categorical_accuracy: 0.7333\n",
      "Epoch 106/500\n",
      "5/5 [==============================] - 1s 159ms/step - loss: 0.2773 - categorical_accuracy: 0.8593 - val_loss: 1.3839 - val_categorical_accuracy: 0.7333\n",
      "Epoch 107/500\n",
      "5/5 [==============================] - 1s 171ms/step - loss: 0.2508 - categorical_accuracy: 0.8519 - val_loss: 1.1213 - val_categorical_accuracy: 0.8000\n",
      "Epoch 108/500\n",
      "5/5 [==============================] - 1s 181ms/step - loss: 0.2535 - categorical_accuracy: 0.8741 - val_loss: 1.1121 - val_categorical_accuracy: 0.8000\n",
      "Epoch 109/500\n",
      "5/5 [==============================] - 1s 164ms/step - loss: 0.2450 - categorical_accuracy: 0.8593 - val_loss: 1.1586 - val_categorical_accuracy: 0.8000\n",
      "Epoch 110/500\n",
      "5/5 [==============================] - 1s 180ms/step - loss: 0.2316 - categorical_accuracy: 0.8741 - val_loss: 1.1526 - val_categorical_accuracy: 0.8000\n",
      "Epoch 111/500\n",
      "5/5 [==============================] - 1s 193ms/step - loss: 0.2048 - categorical_accuracy: 0.8889 - val_loss: 1.0360 - val_categorical_accuracy: 0.8000\n",
      "Epoch 112/500\n",
      "5/5 [==============================] - 2s 294ms/step - loss: 0.2030 - categorical_accuracy: 0.8963 - val_loss: 1.0226 - val_categorical_accuracy: 0.8000\n",
      "Epoch 113/500\n",
      "5/5 [==============================] - 1s 299ms/step - loss: 0.2494 - categorical_accuracy: 0.8889 - val_loss: 1.0120 - val_categorical_accuracy: 0.8667\n",
      "Epoch 114/500\n",
      "5/5 [==============================] - 1s 275ms/step - loss: 0.2665 - categorical_accuracy: 0.8444 - val_loss: 1.2463 - val_categorical_accuracy: 0.8000\n",
      "Epoch 115/500\n",
      "5/5 [==============================] - 1s 235ms/step - loss: 0.2808 - categorical_accuracy: 0.8593 - val_loss: 0.9443 - val_categorical_accuracy: 0.8667\n",
      "Epoch 116/500\n",
      "5/5 [==============================] - 1s 283ms/step - loss: 0.2474 - categorical_accuracy: 0.8963 - val_loss: 1.0867 - val_categorical_accuracy: 0.8667\n",
      "Epoch 117/500\n",
      "5/5 [==============================] - 1s 297ms/step - loss: 0.2490 - categorical_accuracy: 0.8963 - val_loss: 1.2535 - val_categorical_accuracy: 0.8667\n",
      "Epoch 118/500\n",
      "5/5 [==============================] - 1s 174ms/step - loss: 0.2421 - categorical_accuracy: 0.8519 - val_loss: 2.1480 - val_categorical_accuracy: 0.8000\n",
      "Epoch 119/500\n",
      "5/5 [==============================] - 2s 351ms/step - loss: 0.2758 - categorical_accuracy: 0.8519 - val_loss: 1.8107 - val_categorical_accuracy: 0.7333\n",
      "Epoch 120/500\n",
      "5/5 [==============================] - 1s 272ms/step - loss: 0.3342 - categorical_accuracy: 0.8667 - val_loss: 1.7668 - val_categorical_accuracy: 0.8000\n",
      "Epoch 121/500\n",
      "5/5 [==============================] - 1s 281ms/step - loss: 0.4449 - categorical_accuracy: 0.7926 - val_loss: 1.4953 - val_categorical_accuracy: 0.8000\n",
      "Epoch 122/500\n",
      "5/5 [==============================] - 1s 244ms/step - loss: 1.0812 - categorical_accuracy: 0.6296 - val_loss: 2.7799 - val_categorical_accuracy: 0.4667\n",
      "Epoch 123/500\n",
      "5/5 [==============================] - 1s 267ms/step - loss: 1.1740 - categorical_accuracy: 0.5481 - val_loss: 1.2236 - val_categorical_accuracy: 0.6667\n",
      "Epoch 124/500\n",
      "5/5 [==============================] - 1s 296ms/step - loss: 0.9910 - categorical_accuracy: 0.7259 - val_loss: 0.9798 - val_categorical_accuracy: 0.6667\n",
      "Epoch 125/500\n",
      "5/5 [==============================] - 1s 173ms/step - loss: 0.6768 - categorical_accuracy: 0.7852 - val_loss: 0.7992 - val_categorical_accuracy: 0.8000\n",
      "Epoch 126/500\n",
      "5/5 [==============================] - 1s 189ms/step - loss: 0.4618 - categorical_accuracy: 0.8444 - val_loss: 0.7035 - val_categorical_accuracy: 0.8000\n",
      "Epoch 127/500\n",
      "5/5 [==============================] - 1s 174ms/step - loss: 0.3544 - categorical_accuracy: 0.8296 - val_loss: 0.5363 - val_categorical_accuracy: 0.8667\n",
      "Epoch 128/500\n",
      "5/5 [==============================] - 1s 166ms/step - loss: 0.2660 - categorical_accuracy: 0.8815 - val_loss: 0.5426 - val_categorical_accuracy: 0.8667\n",
      "Epoch 129/500\n",
      "5/5 [==============================] - 1s 230ms/step - loss: 0.2545 - categorical_accuracy: 0.8741 - val_loss: 0.6046 - val_categorical_accuracy: 0.8000\n",
      "Epoch 130/500\n",
      "5/5 [==============================] - 1s 192ms/step - loss: 0.2300 - categorical_accuracy: 0.8593 - val_loss: 0.5803 - val_categorical_accuracy: 0.8667\n",
      "Epoch 131/500\n",
      "5/5 [==============================] - 1s 163ms/step - loss: 0.2069 - categorical_accuracy: 0.9185 - val_loss: 0.5660 - val_categorical_accuracy: 0.8667\n",
      "Epoch 132/500\n",
      "5/5 [==============================] - 1s 234ms/step - loss: 0.2301 - categorical_accuracy: 0.8889 - val_loss: 0.6485 - val_categorical_accuracy: 0.8667\n",
      "Epoch 133/500\n",
      "5/5 [==============================] - 1s 246ms/step - loss: 0.2150 - categorical_accuracy: 0.8815 - val_loss: 0.6963 - val_categorical_accuracy: 0.8667\n",
      "Epoch 134/500\n",
      "5/5 [==============================] - 1s 293ms/step - loss: 0.2174 - categorical_accuracy: 0.9037 - val_loss: 0.6547 - val_categorical_accuracy: 0.8667\n",
      "Epoch 135/500\n",
      "5/5 [==============================] - 1s 203ms/step - loss: 0.1802 - categorical_accuracy: 0.9259 - val_loss: 0.7148 - val_categorical_accuracy: 0.8000\n",
      "Epoch 136/500\n",
      "5/5 [==============================] - 1s 178ms/step - loss: 0.2088 - categorical_accuracy: 0.8741 - val_loss: 0.7907 - val_categorical_accuracy: 0.7333\n",
      "Epoch 137/500\n",
      "5/5 [==============================] - 1s 207ms/step - loss: 0.3907 - categorical_accuracy: 0.8222 - val_loss: 0.6463 - val_categorical_accuracy: 0.8667\n",
      "Epoch 138/500\n",
      "5/5 [==============================] - 1s 201ms/step - loss: 0.2299 - categorical_accuracy: 0.9111 - val_loss: 0.6530 - val_categorical_accuracy: 0.8000\n",
      "Epoch 139/500\n",
      "5/5 [==============================] - 1s 207ms/step - loss: 0.2454 - categorical_accuracy: 0.8593 - val_loss: 0.6364 - val_categorical_accuracy: 0.8667\n",
      "Epoch 140/500\n",
      "5/5 [==============================] - 1s 197ms/step - loss: 0.2257 - categorical_accuracy: 0.9037 - val_loss: 0.7166 - val_categorical_accuracy: 0.8000\n",
      "Epoch 141/500\n",
      "5/5 [==============================] - 1s 181ms/step - loss: 0.2303 - categorical_accuracy: 0.8963 - val_loss: 0.6119 - val_categorical_accuracy: 0.8667\n",
      "Epoch 142/500\n",
      "5/5 [==============================] - 1s 205ms/step - loss: 0.1934 - categorical_accuracy: 0.9111 - val_loss: 0.7217 - val_categorical_accuracy: 0.8000\n",
      "Epoch 143/500\n",
      "5/5 [==============================] - 1s 214ms/step - loss: 0.2653 - categorical_accuracy: 0.9111 - val_loss: 0.7200 - val_categorical_accuracy: 0.8000\n",
      "Epoch 144/500\n",
      "5/5 [==============================] - 1s 158ms/step - loss: 0.2614 - categorical_accuracy: 0.8815 - val_loss: 0.6832 - val_categorical_accuracy: 0.8667\n",
      "Epoch 145/500\n",
      "5/5 [==============================] - 1s 149ms/step - loss: 0.4006 - categorical_accuracy: 0.8444 - val_loss: 0.9940 - val_categorical_accuracy: 0.8000\n",
      "Epoch 146/500\n",
      "5/5 [==============================] - 1s 177ms/step - loss: 0.3242 - categorical_accuracy: 0.8815 - val_loss: 1.0381 - val_categorical_accuracy: 0.7333\n",
      "Epoch 147/500\n",
      "5/5 [==============================] - 1s 169ms/step - loss: 0.3706 - categorical_accuracy: 0.8074 - val_loss: 1.2465 - val_categorical_accuracy: 0.6667\n",
      "Epoch 148/500\n",
      "5/5 [==============================] - 1s 169ms/step - loss: 0.2734 - categorical_accuracy: 0.8889 - val_loss: 1.0119 - val_categorical_accuracy: 0.7333\n",
      "Epoch 149/500\n",
      "5/5 [==============================] - 1s 187ms/step - loss: 0.4037 - categorical_accuracy: 0.8148 - val_loss: 0.9427 - val_categorical_accuracy: 0.8000\n",
      "Epoch 150/500\n",
      "5/5 [==============================] - 1s 157ms/step - loss: 0.2986 - categorical_accuracy: 0.8889 - val_loss: 1.0310 - val_categorical_accuracy: 0.8000\n",
      "Epoch 151/500\n",
      "5/5 [==============================] - 1s 161ms/step - loss: 0.2710 - categorical_accuracy: 0.8296 - val_loss: 1.0931 - val_categorical_accuracy: 0.8000\n",
      "Epoch 152/500\n",
      "5/5 [==============================] - 1s 161ms/step - loss: 0.2248 - categorical_accuracy: 0.8963 - val_loss: 0.9450 - val_categorical_accuracy: 0.8667\n",
      "Epoch 153/500\n",
      "5/5 [==============================] - 1s 167ms/step - loss: 0.2819 - categorical_accuracy: 0.8741 - val_loss: 1.7921 - val_categorical_accuracy: 0.6667\n",
      "Epoch 154/500\n",
      "5/5 [==============================] - 1s 172ms/step - loss: 0.4429 - categorical_accuracy: 0.7778 - val_loss: 1.1528 - val_categorical_accuracy: 0.7333\n",
      "Epoch 155/500\n",
      "5/5 [==============================] - 1s 159ms/step - loss: 0.2446 - categorical_accuracy: 0.8741 - val_loss: 1.1745 - val_categorical_accuracy: 0.8000\n",
      "Epoch 156/500\n",
      "5/5 [==============================] - 1s 170ms/step - loss: 0.2916 - categorical_accuracy: 0.8296 - val_loss: 0.9748 - val_categorical_accuracy: 0.8000\n",
      "Epoch 157/500\n",
      "5/5 [==============================] - 1s 172ms/step - loss: 0.2343 - categorical_accuracy: 0.8963 - val_loss: 1.0379 - val_categorical_accuracy: 0.8000\n",
      "Epoch 158/500\n",
      "5/5 [==============================] - 1s 161ms/step - loss: 0.2539 - categorical_accuracy: 0.8741 - val_loss: 0.8773 - val_categorical_accuracy: 0.8000\n",
      "Epoch 159/500\n",
      "5/5 [==============================] - 1s 158ms/step - loss: 0.2478 - categorical_accuracy: 0.8593 - val_loss: 0.8479 - val_categorical_accuracy: 0.8000\n",
      "Epoch 160/500\n",
      "5/5 [==============================] - 1s 189ms/step - loss: 0.1748 - categorical_accuracy: 0.9111 - val_loss: 1.1003 - val_categorical_accuracy: 0.8000\n",
      "Epoch 161/500\n",
      "5/5 [==============================] - 1s 227ms/step - loss: 0.1745 - categorical_accuracy: 0.9333 - val_loss: 0.8683 - val_categorical_accuracy: 0.8667\n",
      "Epoch 162/500\n",
      "5/5 [==============================] - 1s 169ms/step - loss: 0.1854 - categorical_accuracy: 0.8889 - val_loss: 0.9145 - val_categorical_accuracy: 0.8000\n",
      "Epoch 163/500\n",
      "5/5 [==============================] - 1s 194ms/step - loss: 0.1600 - categorical_accuracy: 0.9333 - val_loss: 0.7606 - val_categorical_accuracy: 0.8667\n",
      "Epoch 164/500\n",
      "5/5 [==============================] - 1s 174ms/step - loss: 0.1408 - categorical_accuracy: 0.9333 - val_loss: 0.7694 - val_categorical_accuracy: 0.8667\n",
      "Epoch 165/500\n",
      "5/5 [==============================] - 1s 152ms/step - loss: 0.1385 - categorical_accuracy: 0.9185 - val_loss: 1.1666 - val_categorical_accuracy: 0.8000\n",
      "Epoch 166/500\n",
      "5/5 [==============================] - 1s 244ms/step - loss: 0.2495 - categorical_accuracy: 0.8815 - val_loss: 0.9302 - val_categorical_accuracy: 0.8667\n",
      "Epoch 167/500\n",
      "5/5 [==============================] - 1s 300ms/step - loss: 0.1948 - categorical_accuracy: 0.8889 - val_loss: 0.9602 - val_categorical_accuracy: 0.8000\n",
      "Epoch 168/500\n",
      "5/5 [==============================] - 1s 172ms/step - loss: 0.1674 - categorical_accuracy: 0.9185 - val_loss: 0.9537 - val_categorical_accuracy: 0.8000\n",
      "Epoch 169/500\n",
      "5/5 [==============================] - 1s 169ms/step - loss: 0.2366 - categorical_accuracy: 0.8741 - val_loss: 1.0712 - val_categorical_accuracy: 0.8000\n",
      "Epoch 170/500\n",
      "5/5 [==============================] - 1s 163ms/step - loss: 0.2191 - categorical_accuracy: 0.8741 - val_loss: 0.8684 - val_categorical_accuracy: 0.8667\n",
      "Epoch 171/500\n",
      "5/5 [==============================] - 1s 239ms/step - loss: 0.1460 - categorical_accuracy: 0.9333 - val_loss: 0.8070 - val_categorical_accuracy: 0.8667\n",
      "Epoch 172/500\n",
      "5/5 [==============================] - 1s 199ms/step - loss: 0.1388 - categorical_accuracy: 0.9259 - val_loss: 0.8270 - val_categorical_accuracy: 0.8000\n",
      "Epoch 173/500\n",
      "5/5 [==============================] - 1s 331ms/step - loss: 0.0927 - categorical_accuracy: 0.9556 - val_loss: 0.7308 - val_categorical_accuracy: 0.8667\n",
      "Epoch 174/500\n",
      "5/5 [==============================] - 1s 181ms/step - loss: 0.0784 - categorical_accuracy: 0.9704 - val_loss: 0.8426 - val_categorical_accuracy: 0.8000\n",
      "Epoch 175/500\n",
      "5/5 [==============================] - 1s 174ms/step - loss: 0.1519 - categorical_accuracy: 0.9407 - val_loss: 0.7724 - val_categorical_accuracy: 0.8667\n",
      "Epoch 176/500\n",
      "5/5 [==============================] - 1s 193ms/step - loss: 0.1089 - categorical_accuracy: 0.9481 - val_loss: 0.7903 - val_categorical_accuracy: 0.8667\n",
      "Epoch 177/500\n",
      "5/5 [==============================] - 1s 193ms/step - loss: 0.0887 - categorical_accuracy: 0.9630 - val_loss: 0.9277 - val_categorical_accuracy: 0.8000\n",
      "Epoch 178/500\n",
      "5/5 [==============================] - 1s 298ms/step - loss: 0.1687 - categorical_accuracy: 0.9185 - val_loss: 1.0211 - val_categorical_accuracy: 0.7333\n",
      "Epoch 179/500\n",
      "5/5 [==============================] - 1s 183ms/step - loss: 0.1776 - categorical_accuracy: 0.8963 - val_loss: 1.2193 - val_categorical_accuracy: 0.7333\n",
      "Epoch 180/500\n",
      "5/5 [==============================] - 1s 219ms/step - loss: 0.1418 - categorical_accuracy: 0.9407 - val_loss: 0.7715 - val_categorical_accuracy: 0.8667\n",
      "Epoch 181/500\n",
      "5/5 [==============================] - 1s 203ms/step - loss: 0.1101 - categorical_accuracy: 0.9556 - val_loss: 0.7850 - val_categorical_accuracy: 0.8667\n",
      "Epoch 182/500\n",
      "5/5 [==============================] - 1s 234ms/step - loss: 0.1562 - categorical_accuracy: 0.9407 - val_loss: 0.7631 - val_categorical_accuracy: 0.8667\n",
      "Epoch 183/500\n",
      "5/5 [==============================] - 1s 231ms/step - loss: 0.3849 - categorical_accuracy: 0.8370 - val_loss: 1.1129 - val_categorical_accuracy: 0.8000\n",
      "Epoch 184/500\n",
      "5/5 [==============================] - 1s 217ms/step - loss: 0.2077 - categorical_accuracy: 0.9185 - val_loss: 0.7569 - val_categorical_accuracy: 0.8667\n",
      "Epoch 185/500\n",
      "5/5 [==============================] - 1s 249ms/step - loss: 0.2822 - categorical_accuracy: 0.8296 - val_loss: 0.8222 - val_categorical_accuracy: 0.8667\n",
      "Epoch 186/500\n",
      "5/5 [==============================] - 1s 240ms/step - loss: 0.1773 - categorical_accuracy: 0.9556 - val_loss: 1.0782 - val_categorical_accuracy: 0.7333\n",
      "Epoch 187/500\n",
      "5/5 [==============================] - 1s 182ms/step - loss: 0.2024 - categorical_accuracy: 0.8963 - val_loss: 0.8285 - val_categorical_accuracy: 0.8667\n",
      "Epoch 188/500\n",
      "5/5 [==============================] - 1s 181ms/step - loss: 0.1926 - categorical_accuracy: 0.9185 - val_loss: 0.8314 - val_categorical_accuracy: 0.8000\n",
      "Epoch 189/500\n",
      "5/5 [==============================] - 1s 177ms/step - loss: 0.1682 - categorical_accuracy: 0.9333 - val_loss: 0.8267 - val_categorical_accuracy: 0.8667\n",
      "Epoch 190/500\n",
      "5/5 [==============================] - 1s 165ms/step - loss: 0.1573 - categorical_accuracy: 0.9481 - val_loss: 0.8109 - val_categorical_accuracy: 0.8667\n",
      "Epoch 191/500\n",
      "5/5 [==============================] - 1s 198ms/step - loss: 0.1118 - categorical_accuracy: 0.9556 - val_loss: 0.8025 - val_categorical_accuracy: 0.8667\n",
      "Epoch 192/500\n",
      "5/5 [==============================] - 1s 167ms/step - loss: 0.0886 - categorical_accuracy: 0.9630 - val_loss: 0.8044 - val_categorical_accuracy: 0.8667\n",
      "Epoch 193/500\n",
      "5/5 [==============================] - 1s 174ms/step - loss: 0.0699 - categorical_accuracy: 0.9778 - val_loss: 0.7795 - val_categorical_accuracy: 0.8667\n",
      "Epoch 194/500\n",
      "5/5 [==============================] - 1s 209ms/step - loss: 0.0599 - categorical_accuracy: 0.9926 - val_loss: 0.7784 - val_categorical_accuracy: 0.8667\n",
      "Epoch 195/500\n",
      "5/5 [==============================] - 1s 171ms/step - loss: 0.1071 - categorical_accuracy: 0.9630 - val_loss: 0.8769 - val_categorical_accuracy: 0.9333\n",
      "Epoch 196/500\n",
      "5/5 [==============================] - 1s 162ms/step - loss: 0.2680 - categorical_accuracy: 0.8963 - val_loss: 0.9871 - val_categorical_accuracy: 0.8667\n",
      "Epoch 197/500\n",
      "5/5 [==============================] - 1s 155ms/step - loss: 0.1653 - categorical_accuracy: 0.9407 - val_loss: 1.4669 - val_categorical_accuracy: 0.7333\n",
      "Epoch 198/500\n",
      "5/5 [==============================] - 1s 147ms/step - loss: 0.8210 - categorical_accuracy: 0.7630 - val_loss: 1.3836 - val_categorical_accuracy: 0.8000\n",
      "Epoch 199/500\n",
      "5/5 [==============================] - 1s 182ms/step - loss: 0.7597 - categorical_accuracy: 0.7481 - val_loss: 1.2125 - val_categorical_accuracy: 0.6667\n",
      "Epoch 200/500\n",
      "5/5 [==============================] - 1s 166ms/step - loss: 0.6128 - categorical_accuracy: 0.6815 - val_loss: 1.1061 - val_categorical_accuracy: 0.6667\n",
      "Epoch 201/500\n",
      "5/5 [==============================] - 1s 192ms/step - loss: 0.5358 - categorical_accuracy: 0.7481 - val_loss: 0.8241 - val_categorical_accuracy: 0.8000\n",
      "Epoch 202/500\n",
      "5/5 [==============================] - 1s 166ms/step - loss: 0.2800 - categorical_accuracy: 0.8741 - val_loss: 0.8495 - val_categorical_accuracy: 0.8667\n",
      "Epoch 203/500\n",
      "5/5 [==============================] - 1s 173ms/step - loss: 0.2592 - categorical_accuracy: 0.9037 - val_loss: 0.8058 - val_categorical_accuracy: 0.8667\n",
      "Epoch 204/500\n",
      "5/5 [==============================] - 1s 171ms/step - loss: 0.2198 - categorical_accuracy: 0.9111 - val_loss: 0.7762 - val_categorical_accuracy: 0.8000\n",
      "Epoch 205/500\n",
      "5/5 [==============================] - 1s 170ms/step - loss: 0.1952 - categorical_accuracy: 0.9111 - val_loss: 0.6775 - val_categorical_accuracy: 0.8667\n",
      "Epoch 206/500\n",
      "5/5 [==============================] - 1s 153ms/step - loss: 0.2355 - categorical_accuracy: 0.8889 - val_loss: 0.7348 - val_categorical_accuracy: 0.8667\n",
      "Epoch 207/500\n",
      "5/5 [==============================] - 1s 170ms/step - loss: 0.1951 - categorical_accuracy: 0.9185 - val_loss: 0.6685 - val_categorical_accuracy: 0.8667\n",
      "Epoch 208/500\n",
      "5/5 [==============================] - 1s 174ms/step - loss: 0.1606 - categorical_accuracy: 0.9407 - val_loss: 1.1714 - val_categorical_accuracy: 0.8000\n",
      "Epoch 209/500\n",
      "5/5 [==============================] - 1s 167ms/step - loss: 0.1462 - categorical_accuracy: 0.9407 - val_loss: 0.7321 - val_categorical_accuracy: 0.8667\n",
      "Epoch 210/500\n",
      "5/5 [==============================] - ETA: 0s - loss: 0.1200 - categorical_accuracy: 0.9556"
     ]
    },
    {
     "ename": "KeyboardInterrupt",
     "evalue": "",
     "output_type": "error",
     "traceback": [
      "\u001b[1;31m---------------------------------------------------------------------------\u001b[0m",
      "\u001b[1;31mKeyboardInterrupt\u001b[0m                         Traceback (most recent call last)",
      "Cell \u001b[1;32mIn[46], line 1\u001b[0m\n\u001b[1;32m----> 1\u001b[0m history\u001b[38;5;241m=\u001b[39m\u001b[43mmodel\u001b[49m\u001b[38;5;241;43m.\u001b[39;49m\u001b[43mfit\u001b[49m\u001b[43m(\u001b[49m\u001b[43mx_train\u001b[49m\u001b[43m,\u001b[49m\u001b[43my_train\u001b[49m\u001b[43m,\u001b[49m\u001b[43mepochs\u001b[49m\u001b[38;5;241;43m=\u001b[39;49m\u001b[38;5;241;43m500\u001b[39;49m\u001b[43m,\u001b[49m\u001b[43mvalidation_data\u001b[49m\u001b[38;5;241;43m=\u001b[39;49m\u001b[43m(\u001b[49m\u001b[43mx_test\u001b[49m\u001b[43m,\u001b[49m\u001b[43my_test\u001b[49m\u001b[43m)\u001b[49m\u001b[43m,\u001b[49m\u001b[43mcallbacks\u001b[49m\u001b[38;5;241;43m=\u001b[39;49m\u001b[43m[\u001b[49m\u001b[43mtb_callback\u001b[49m\u001b[43m]\u001b[49m\u001b[43m)\u001b[49m\n",
      "File \u001b[1;32m~\\AppData\\Roaming\\Python\\Python311\\site-packages\\keras\\src\\utils\\traceback_utils.py:65\u001b[0m, in \u001b[0;36mfilter_traceback.<locals>.error_handler\u001b[1;34m(*args, **kwargs)\u001b[0m\n\u001b[0;32m     63\u001b[0m filtered_tb \u001b[38;5;241m=\u001b[39m \u001b[38;5;28;01mNone\u001b[39;00m\n\u001b[0;32m     64\u001b[0m \u001b[38;5;28;01mtry\u001b[39;00m:\n\u001b[1;32m---> 65\u001b[0m     \u001b[38;5;28;01mreturn\u001b[39;00m \u001b[43mfn\u001b[49m\u001b[43m(\u001b[49m\u001b[38;5;241;43m*\u001b[39;49m\u001b[43margs\u001b[49m\u001b[43m,\u001b[49m\u001b[43m \u001b[49m\u001b[38;5;241;43m*\u001b[39;49m\u001b[38;5;241;43m*\u001b[39;49m\u001b[43mkwargs\u001b[49m\u001b[43m)\u001b[49m\n\u001b[0;32m     66\u001b[0m \u001b[38;5;28;01mexcept\u001b[39;00m \u001b[38;5;167;01mException\u001b[39;00m \u001b[38;5;28;01mas\u001b[39;00m e:\n\u001b[0;32m     67\u001b[0m     filtered_tb \u001b[38;5;241m=\u001b[39m _process_traceback_frames(e\u001b[38;5;241m.\u001b[39m__traceback__)\n",
      "File \u001b[1;32m~\\AppData\\Roaming\\Python\\Python311\\site-packages\\keras\\src\\engine\\training.py:1791\u001b[0m, in \u001b[0;36mModel.fit\u001b[1;34m(self, x, y, batch_size, epochs, verbose, callbacks, validation_split, validation_data, shuffle, class_weight, sample_weight, initial_epoch, steps_per_epoch, validation_steps, validation_batch_size, validation_freq, max_queue_size, workers, use_multiprocessing)\u001b[0m\n\u001b[0;32m   1775\u001b[0m \u001b[38;5;28;01mif\u001b[39;00m \u001b[38;5;28mgetattr\u001b[39m(\u001b[38;5;28mself\u001b[39m, \u001b[38;5;124m\"\u001b[39m\u001b[38;5;124m_eval_data_handler\u001b[39m\u001b[38;5;124m\"\u001b[39m, \u001b[38;5;28;01mNone\u001b[39;00m) \u001b[38;5;129;01mis\u001b[39;00m \u001b[38;5;28;01mNone\u001b[39;00m:\n\u001b[0;32m   1776\u001b[0m     \u001b[38;5;28mself\u001b[39m\u001b[38;5;241m.\u001b[39m_eval_data_handler \u001b[38;5;241m=\u001b[39m data_adapter\u001b[38;5;241m.\u001b[39mget_data_handler(\n\u001b[0;32m   1777\u001b[0m         x\u001b[38;5;241m=\u001b[39mval_x,\n\u001b[0;32m   1778\u001b[0m         y\u001b[38;5;241m=\u001b[39mval_y,\n\u001b[1;32m   (...)\u001b[0m\n\u001b[0;32m   1789\u001b[0m         pss_evaluation_shards\u001b[38;5;241m=\u001b[39m\u001b[38;5;28mself\u001b[39m\u001b[38;5;241m.\u001b[39m_pss_evaluation_shards,\n\u001b[0;32m   1790\u001b[0m     )\n\u001b[1;32m-> 1791\u001b[0m val_logs \u001b[38;5;241m=\u001b[39m \u001b[38;5;28;43mself\u001b[39;49m\u001b[38;5;241;43m.\u001b[39;49m\u001b[43mevaluate\u001b[49m\u001b[43m(\u001b[49m\n\u001b[0;32m   1792\u001b[0m \u001b[43m    \u001b[49m\u001b[43mx\u001b[49m\u001b[38;5;241;43m=\u001b[39;49m\u001b[43mval_x\u001b[49m\u001b[43m,\u001b[49m\n\u001b[0;32m   1793\u001b[0m \u001b[43m    \u001b[49m\u001b[43my\u001b[49m\u001b[38;5;241;43m=\u001b[39;49m\u001b[43mval_y\u001b[49m\u001b[43m,\u001b[49m\n\u001b[0;32m   1794\u001b[0m \u001b[43m    \u001b[49m\u001b[43msample_weight\u001b[49m\u001b[38;5;241;43m=\u001b[39;49m\u001b[43mval_sample_weight\u001b[49m\u001b[43m,\u001b[49m\n\u001b[0;32m   1795\u001b[0m \u001b[43m    \u001b[49m\u001b[43mbatch_size\u001b[49m\u001b[38;5;241;43m=\u001b[39;49m\u001b[43mvalidation_batch_size\u001b[49m\u001b[43m \u001b[49m\u001b[38;5;129;43;01mor\u001b[39;49;00m\u001b[43m \u001b[49m\u001b[43mbatch_size\u001b[49m\u001b[43m,\u001b[49m\n\u001b[0;32m   1796\u001b[0m \u001b[43m    \u001b[49m\u001b[43msteps\u001b[49m\u001b[38;5;241;43m=\u001b[39;49m\u001b[43mvalidation_steps\u001b[49m\u001b[43m,\u001b[49m\n\u001b[0;32m   1797\u001b[0m \u001b[43m    \u001b[49m\u001b[43mcallbacks\u001b[49m\u001b[38;5;241;43m=\u001b[39;49m\u001b[43mcallbacks\u001b[49m\u001b[43m,\u001b[49m\n\u001b[0;32m   1798\u001b[0m \u001b[43m    \u001b[49m\u001b[43mmax_queue_size\u001b[49m\u001b[38;5;241;43m=\u001b[39;49m\u001b[43mmax_queue_size\u001b[49m\u001b[43m,\u001b[49m\n\u001b[0;32m   1799\u001b[0m \u001b[43m    \u001b[49m\u001b[43mworkers\u001b[49m\u001b[38;5;241;43m=\u001b[39;49m\u001b[43mworkers\u001b[49m\u001b[43m,\u001b[49m\n\u001b[0;32m   1800\u001b[0m \u001b[43m    \u001b[49m\u001b[43muse_multiprocessing\u001b[49m\u001b[38;5;241;43m=\u001b[39;49m\u001b[43muse_multiprocessing\u001b[49m\u001b[43m,\u001b[49m\n\u001b[0;32m   1801\u001b[0m \u001b[43m    \u001b[49m\u001b[43mreturn_dict\u001b[49m\u001b[38;5;241;43m=\u001b[39;49m\u001b[38;5;28;43;01mTrue\u001b[39;49;00m\u001b[43m,\u001b[49m\n\u001b[0;32m   1802\u001b[0m \u001b[43m    \u001b[49m\u001b[43m_use_cached_eval_dataset\u001b[49m\u001b[38;5;241;43m=\u001b[39;49m\u001b[38;5;28;43;01mTrue\u001b[39;49;00m\u001b[43m,\u001b[49m\n\u001b[0;32m   1803\u001b[0m \u001b[43m\u001b[49m\u001b[43m)\u001b[49m\n\u001b[0;32m   1804\u001b[0m val_logs \u001b[38;5;241m=\u001b[39m {\n\u001b[0;32m   1805\u001b[0m     \u001b[38;5;124m\"\u001b[39m\u001b[38;5;124mval_\u001b[39m\u001b[38;5;124m\"\u001b[39m \u001b[38;5;241m+\u001b[39m name: val \u001b[38;5;28;01mfor\u001b[39;00m name, val \u001b[38;5;129;01min\u001b[39;00m val_logs\u001b[38;5;241m.\u001b[39mitems()\n\u001b[0;32m   1806\u001b[0m }\n\u001b[0;32m   1807\u001b[0m epoch_logs\u001b[38;5;241m.\u001b[39mupdate(val_logs)\n",
      "File \u001b[1;32m~\\AppData\\Roaming\\Python\\Python311\\site-packages\\keras\\src\\utils\\traceback_utils.py:65\u001b[0m, in \u001b[0;36mfilter_traceback.<locals>.error_handler\u001b[1;34m(*args, **kwargs)\u001b[0m\n\u001b[0;32m     63\u001b[0m filtered_tb \u001b[38;5;241m=\u001b[39m \u001b[38;5;28;01mNone\u001b[39;00m\n\u001b[0;32m     64\u001b[0m \u001b[38;5;28;01mtry\u001b[39;00m:\n\u001b[1;32m---> 65\u001b[0m     \u001b[38;5;28;01mreturn\u001b[39;00m \u001b[43mfn\u001b[49m\u001b[43m(\u001b[49m\u001b[38;5;241;43m*\u001b[39;49m\u001b[43margs\u001b[49m\u001b[43m,\u001b[49m\u001b[43m \u001b[49m\u001b[38;5;241;43m*\u001b[39;49m\u001b[38;5;241;43m*\u001b[39;49m\u001b[43mkwargs\u001b[49m\u001b[43m)\u001b[49m\n\u001b[0;32m     66\u001b[0m \u001b[38;5;28;01mexcept\u001b[39;00m \u001b[38;5;167;01mException\u001b[39;00m \u001b[38;5;28;01mas\u001b[39;00m e:\n\u001b[0;32m     67\u001b[0m     filtered_tb \u001b[38;5;241m=\u001b[39m _process_traceback_frames(e\u001b[38;5;241m.\u001b[39m__traceback__)\n",
      "File \u001b[1;32m~\\AppData\\Roaming\\Python\\Python311\\site-packages\\keras\\src\\engine\\training.py:2213\u001b[0m, in \u001b[0;36mModel.evaluate\u001b[1;34m(self, x, y, batch_size, verbose, sample_weight, steps, callbacks, max_queue_size, workers, use_multiprocessing, return_dict, **kwargs)\u001b[0m\n\u001b[0;32m   2211\u001b[0m \u001b[38;5;28;01melse\u001b[39;00m:\n\u001b[0;32m   2212\u001b[0m     logs \u001b[38;5;241m=\u001b[39m \u001b[38;5;28mself\u001b[39m\u001b[38;5;241m.\u001b[39m_validate_and_get_metrics_result(logs)\n\u001b[1;32m-> 2213\u001b[0m \u001b[43mcallbacks\u001b[49m\u001b[38;5;241;43m.\u001b[39;49m\u001b[43mon_test_end\u001b[49m\u001b[43m(\u001b[49m\u001b[43mlogs\u001b[49m\u001b[38;5;241;43m=\u001b[39;49m\u001b[43mlogs\u001b[49m\u001b[43m)\u001b[49m\n\u001b[0;32m   2215\u001b[0m \u001b[38;5;28;01mif\u001b[39;00m return_dict:\n\u001b[0;32m   2216\u001b[0m     \u001b[38;5;28;01mreturn\u001b[39;00m logs\n",
      "File \u001b[1;32m~\\AppData\\Roaming\\Python\\Python311\\site-packages\\keras\\src\\callbacks.py:563\u001b[0m, in \u001b[0;36mCallbackList.on_test_end\u001b[1;34m(self, logs)\u001b[0m\n\u001b[0;32m    561\u001b[0m logs \u001b[38;5;241m=\u001b[39m \u001b[38;5;28mself\u001b[39m\u001b[38;5;241m.\u001b[39m_process_logs(logs)\n\u001b[0;32m    562\u001b[0m \u001b[38;5;28;01mfor\u001b[39;00m callback \u001b[38;5;129;01min\u001b[39;00m \u001b[38;5;28mself\u001b[39m\u001b[38;5;241m.\u001b[39mcallbacks:\n\u001b[1;32m--> 563\u001b[0m     \u001b[43mcallback\u001b[49m\u001b[38;5;241;43m.\u001b[39;49m\u001b[43mon_test_end\u001b[49m\u001b[43m(\u001b[49m\u001b[43mlogs\u001b[49m\u001b[43m)\u001b[49m\n",
      "File \u001b[1;32m~\\AppData\\Roaming\\Python\\Python311\\site-packages\\keras\\src\\callbacks.py:2782\u001b[0m, in \u001b[0;36mTensorBoard.on_test_end\u001b[1;34m(self, logs)\u001b[0m\n\u001b[0;32m   2780\u001b[0m \u001b[38;5;28;01mdef\u001b[39;00m \u001b[38;5;21mon_test_end\u001b[39m(\u001b[38;5;28mself\u001b[39m, logs\u001b[38;5;241m=\u001b[39m\u001b[38;5;28;01mNone\u001b[39;00m):\n\u001b[0;32m   2781\u001b[0m     \u001b[38;5;28;01mif\u001b[39;00m \u001b[38;5;28mself\u001b[39m\u001b[38;5;241m.\u001b[39mmodel\u001b[38;5;241m.\u001b[39moptimizer \u001b[38;5;129;01mand\u001b[39;00m \u001b[38;5;28mhasattr\u001b[39m(\u001b[38;5;28mself\u001b[39m\u001b[38;5;241m.\u001b[39mmodel\u001b[38;5;241m.\u001b[39moptimizer, \u001b[38;5;124m\"\u001b[39m\u001b[38;5;124miterations\u001b[39m\u001b[38;5;124m\"\u001b[39m):\n\u001b[1;32m-> 2782\u001b[0m \u001b[43m        \u001b[49m\u001b[38;5;28;43;01mwith\u001b[39;49;00m\u001b[43m \u001b[49m\u001b[43mtf\u001b[49m\u001b[38;5;241;43m.\u001b[39;49m\u001b[43msummary\u001b[49m\u001b[38;5;241;43m.\u001b[39;49m\u001b[43mrecord_if\u001b[49m\u001b[43m(\u001b[49m\u001b[38;5;28;43;01mTrue\u001b[39;49;00m\u001b[43m)\u001b[49m\u001b[43m,\u001b[49m\u001b[43m \u001b[49m\u001b[38;5;28;43mself\u001b[39;49m\u001b[38;5;241;43m.\u001b[39;49m\u001b[43m_val_writer\u001b[49m\u001b[38;5;241;43m.\u001b[39;49m\u001b[43mas_default\u001b[49m\u001b[43m(\u001b[49m\u001b[43m)\u001b[49m\u001b[43m:\u001b[49m\n\u001b[0;32m   2783\u001b[0m \u001b[43m            \u001b[49m\u001b[38;5;28;43;01mfor\u001b[39;49;00m\u001b[43m \u001b[49m\u001b[43mname\u001b[49m\u001b[43m,\u001b[49m\u001b[43m \u001b[49m\u001b[43mvalue\u001b[49m\u001b[43m \u001b[49m\u001b[38;5;129;43;01min\u001b[39;49;00m\u001b[43m \u001b[49m\u001b[43mlogs\u001b[49m\u001b[38;5;241;43m.\u001b[39;49m\u001b[43mitems\u001b[49m\u001b[43m(\u001b[49m\u001b[43m)\u001b[49m\u001b[43m:\u001b[49m\n\u001b[0;32m   2784\u001b[0m \u001b[43m                \u001b[49m\u001b[43mtf\u001b[49m\u001b[38;5;241;43m.\u001b[39;49m\u001b[43msummary\u001b[49m\u001b[38;5;241;43m.\u001b[39;49m\u001b[43mscalar\u001b[49m\u001b[43m(\u001b[49m\n\u001b[0;32m   2785\u001b[0m \u001b[43m                    \u001b[49m\u001b[38;5;124;43m\"\u001b[39;49m\u001b[38;5;124;43mevaluation_\u001b[39;49m\u001b[38;5;124;43m\"\u001b[39;49m\u001b[43m \u001b[49m\u001b[38;5;241;43m+\u001b[39;49m\u001b[43m \u001b[49m\u001b[43mname\u001b[49m\u001b[43m \u001b[49m\u001b[38;5;241;43m+\u001b[39;49m\u001b[43m \u001b[49m\u001b[38;5;124;43m\"\u001b[39;49m\u001b[38;5;124;43m_vs_iterations\u001b[39;49m\u001b[38;5;124;43m\"\u001b[39;49m\u001b[43m,\u001b[49m\n\u001b[0;32m   2786\u001b[0m \u001b[43m                    \u001b[49m\u001b[43mvalue\u001b[49m\u001b[43m,\u001b[49m\n\u001b[0;32m   2787\u001b[0m \u001b[43m                    \u001b[49m\u001b[43mstep\u001b[49m\u001b[38;5;241;43m=\u001b[39;49m\u001b[38;5;28;43mself\u001b[39;49m\u001b[38;5;241;43m.\u001b[39;49m\u001b[43mmodel\u001b[49m\u001b[38;5;241;43m.\u001b[39;49m\u001b[43moptimizer\u001b[49m\u001b[38;5;241;43m.\u001b[39;49m\u001b[43miterations\u001b[49m\u001b[38;5;241;43m.\u001b[39;49m\u001b[43mread_value\u001b[49m\u001b[43m(\u001b[49m\u001b[43m)\u001b[49m\u001b[43m,\u001b[49m\n\u001b[0;32m   2788\u001b[0m \u001b[43m                \u001b[49m\u001b[43m)\u001b[49m\n",
      "File \u001b[1;32m~\\AppData\\Roaming\\Python\\Python311\\site-packages\\tensorflow\\python\\ops\\summary_ops_v2.py:91\u001b[0m, in \u001b[0;36m_SummaryContextManager.__exit__\u001b[1;34m(self, *exc)\u001b[0m\n\u001b[0;32m     88\u001b[0m \u001b[38;5;28;01mdef\u001b[39;00m \u001b[38;5;21m__exit__\u001b[39m(\u001b[38;5;28mself\u001b[39m, \u001b[38;5;241m*\u001b[39mexc):\n\u001b[0;32m     89\u001b[0m   \u001b[38;5;66;03m# Flushes the summary writer in eager mode or in graph functions, but\u001b[39;00m\n\u001b[0;32m     90\u001b[0m   \u001b[38;5;66;03m# not in legacy graph mode (you're on your own there).\u001b[39;00m\n\u001b[1;32m---> 91\u001b[0m   \u001b[43m_summary_state\u001b[49m\u001b[38;5;241;43m.\u001b[39;49m\u001b[43mwriter\u001b[49m\u001b[38;5;241;43m.\u001b[39;49m\u001b[43mflush\u001b[49m\u001b[43m(\u001b[49m\u001b[43m)\u001b[49m\n\u001b[0;32m     92\u001b[0m   _summary_state\u001b[38;5;241m.\u001b[39mwriter \u001b[38;5;241m=\u001b[39m \u001b[38;5;28mself\u001b[39m\u001b[38;5;241m.\u001b[39m_old_writer\n\u001b[0;32m     93\u001b[0m   \u001b[38;5;28;01mif\u001b[39;00m \u001b[38;5;28mself\u001b[39m\u001b[38;5;241m.\u001b[39m_step \u001b[38;5;129;01mis\u001b[39;00m \u001b[38;5;129;01mnot\u001b[39;00m \u001b[38;5;28;01mNone\u001b[39;00m:\n",
      "File \u001b[1;32m~\\AppData\\Roaming\\Python\\Python311\\site-packages\\tensorflow\\python\\ops\\summary_ops_v2.py:347\u001b[0m, in \u001b[0;36m_ResourceSummaryWriter.flush\u001b[1;34m(self)\u001b[0m\n\u001b[0;32m    345\u001b[0m   \u001b[38;5;28;01mreturn\u001b[39;00m\n\u001b[0;32m    346\u001b[0m \u001b[38;5;28;01mwith\u001b[39;00m ops\u001b[38;5;241m.\u001b[39mdevice(\u001b[38;5;124m\"\u001b[39m\u001b[38;5;124mcpu:0\u001b[39m\u001b[38;5;124m\"\u001b[39m):\n\u001b[1;32m--> 347\u001b[0m   \u001b[38;5;28;01mreturn\u001b[39;00m \u001b[43mgen_summary_ops\u001b[49m\u001b[38;5;241;43m.\u001b[39;49m\u001b[43mflush_summary_writer\u001b[49m\u001b[43m(\u001b[49m\u001b[38;5;28;43mself\u001b[39;49m\u001b[38;5;241;43m.\u001b[39;49m\u001b[43m_resource\u001b[49m\u001b[43m)\u001b[49m\n",
      "File \u001b[1;32m~\\AppData\\Roaming\\Python\\Python311\\site-packages\\tensorflow\\python\\ops\\gen_summary_ops.py:194\u001b[0m, in \u001b[0;36mflush_summary_writer\u001b[1;34m(writer, name)\u001b[0m\n\u001b[0;32m    192\u001b[0m \u001b[38;5;28;01mif\u001b[39;00m tld\u001b[38;5;241m.\u001b[39mis_eager:\n\u001b[0;32m    193\u001b[0m   \u001b[38;5;28;01mtry\u001b[39;00m:\n\u001b[1;32m--> 194\u001b[0m     _result \u001b[38;5;241m=\u001b[39m \u001b[43mpywrap_tfe\u001b[49m\u001b[38;5;241;43m.\u001b[39;49m\u001b[43mTFE_Py_FastPathExecute\u001b[49m\u001b[43m(\u001b[49m\n\u001b[0;32m    195\u001b[0m \u001b[43m      \u001b[49m\u001b[43m_ctx\u001b[49m\u001b[43m,\u001b[49m\u001b[43m \u001b[49m\u001b[38;5;124;43m\"\u001b[39;49m\u001b[38;5;124;43mFlushSummaryWriter\u001b[39;49m\u001b[38;5;124;43m\"\u001b[39;49m\u001b[43m,\u001b[49m\u001b[43m \u001b[49m\u001b[43mname\u001b[49m\u001b[43m,\u001b[49m\u001b[43m \u001b[49m\u001b[43mwriter\u001b[49m\u001b[43m)\u001b[49m\n\u001b[0;32m    196\u001b[0m     \u001b[38;5;28;01mreturn\u001b[39;00m _result\n\u001b[0;32m    197\u001b[0m   \u001b[38;5;28;01mexcept\u001b[39;00m _core\u001b[38;5;241m.\u001b[39m_NotOkStatusException \u001b[38;5;28;01mas\u001b[39;00m e:\n",
      "\u001b[1;31mKeyboardInterrupt\u001b[0m: "
     ]
    }
   ],
   "source": [
    "history=model.fit(x_train,y_train,epochs=500,validation_data=(x_test,y_test),callbacks=[tb_callback])"
   ]
  },
  {
   "cell_type": "code",
   "execution_count": 82,
   "id": "d86ba855-49f5-442e-a624-d630743be4d5",
   "metadata": {
    "scrolled": true
   },
   "outputs": [
    {
     "data": {
      "text/plain": [
       "100"
      ]
     },
     "execution_count": 82,
     "metadata": {},
     "output_type": "execute_result"
    }
   ],
   "source": [
    "len(history.history['categorical_accuracy'])"
   ]
  },
  {
   "cell_type": "code",
   "execution_count": 49,
   "id": "f3b231ca-21e8-484f-b7bc-35619e55c95f",
   "metadata": {},
   "outputs": [],
   "source": [
    "# evaluating"
   ]
  },
  {
   "cell_type": "code",
   "execution_count": 50,
   "id": "1d425d1d-2dcf-4d01-ad05-3c169a6fb779",
   "metadata": {},
   "outputs": [],
   "source": [
    "from tensorflow.math import confusion_matrix"
   ]
  },
  {
   "cell_type": "code",
   "execution_count": 51,
   "id": "73c76af9-b2cc-4bde-b4d1-58853a422e49",
   "metadata": {},
   "outputs": [],
   "source": [
    "from seaborn import heatmap"
   ]
  },
  {
   "cell_type": "code",
   "execution_count": 53,
   "id": "8b7dcbd1-715b-49c3-8f69-358defaa063d",
   "metadata": {},
   "outputs": [
    {
     "name": "stdout",
     "output_type": "stream",
     "text": [
      "1/1 [==============================] - 0s 46ms/step\n"
     ]
    }
   ],
   "source": [
    "y_p=model.predict(x_test)"
   ]
  },
  {
   "cell_type": "code",
   "execution_count": 61,
   "id": "e68f9608-49e8-405f-82ba-258b1c38cfce",
   "metadata": {},
   "outputs": [],
   "source": [
    "predictions=[np.argmax(i) for i in y_p]"
   ]
  },
  {
   "cell_type": "code",
   "execution_count": 62,
   "id": "43a8fbb7-1300-43ac-bec4-4ea9a2d5eb2c",
   "metadata": {},
   "outputs": [
    {
     "data": {
      "text/plain": [
       "[1, 2, 1, 1, 4, 1, 1, 0, 4, 2, 3, 4, 0, 3, 3]"
      ]
     },
     "execution_count": 62,
     "metadata": {},
     "output_type": "execute_result"
    }
   ],
   "source": [
    "predictions"
   ]
  },
  {
   "cell_type": "code",
   "execution_count": 63,
   "id": "e6f3a96c-86ec-4c51-b037-5b8149e9b7ee",
   "metadata": {},
   "outputs": [],
   "source": [
    "actual=[np.argmax(i) for i in y_test]"
   ]
  },
  {
   "cell_type": "code",
   "execution_count": 64,
   "id": "7393b1c9-a66b-477e-bb35-322edb94281f",
   "metadata": {},
   "outputs": [
    {
     "data": {
      "text/plain": [
       "[1, 0, 4, 1, 4, 1, 1, 0, 4, 2, 2, 4, 0, 3, 3]"
      ]
     },
     "execution_count": 64,
     "metadata": {},
     "output_type": "execute_result"
    }
   ],
   "source": [
    "actual"
   ]
  },
  {
   "cell_type": "code",
   "execution_count": 66,
   "id": "5b374b51-ce31-4c33-a688-3a606dc8bdd9",
   "metadata": {},
   "outputs": [],
   "source": [
    "cm=confusion_matrix(actual,predictions)"
   ]
  },
  {
   "cell_type": "code",
   "execution_count": 69,
   "id": "b7915e96-4db4-44bb-a7ef-b90207f44b7b",
   "metadata": {},
   "outputs": [
    {
     "data": {
      "text/plain": [
       "<Axes: >"
      ]
     },
     "execution_count": 69,
     "metadata": {},
     "output_type": "execute_result"
    },
    {
     "data": {
      "image/png": "[encoded data removed]",
      "text/plain": [
       "<Figure size 640x480 with 2 Axes>"
      ]
     },
     "metadata": {},
     "output_type": "display_data"
    }
   ],
   "source": [
    "heatmap(cm,annot=True)"
   ]
  },
  {
   "cell_type": "code",
   "execution_count": 68,
   "id": "fa4dad9b-0169-434d-b3bf-966eb33ac2b8",
   "metadata": {},
   "outputs": [
    {
     "data": {
      "text/plain": [
       "<tf.Tensor: shape=(5, 5), dtype=int32, numpy=\n",
       "array([[2, 0, 1, 0, 0],\n",
       "       [0, 4, 0, 0, 0],\n",
       "       [0, 0, 1, 1, 0],\n",
       "       [0, 0, 0, 2, 0],\n",
       "       [0, 1, 0, 0, 3]])>"
      ]
     },
     "execution_count": 68,
     "metadata": {},
     "output_type": "execute_result"
    }
   ],
   "source": [
    "cm"
   ]
  },
  {
   "cell_type": "code",
   "execution_count": 73,
   "id": "33faafe8-e9b2-4de0-9055-c6562b00b6c0",
   "metadata": {},
   "outputs": [],
   "source": [
    "from sklearn.metrics import confusion_matrix,classification_report,multilabel_confusion_matrix"
   ]
  },
  {
   "cell_type": "code",
   "execution_count": 72,
   "id": "1758c088-1719-40d0-9bd5-cdd2eefc66c2",
   "metadata": {},
   "outputs": [
    {
     "name": "stdout",
     "output_type": "stream",
     "text": [
      "              precision    recall  f1-score   support\n",
      "\n",
      "           0       1.00      0.67      0.80         3\n",
      "           1       0.80      1.00      0.89         4\n",
      "           2       0.50      0.50      0.50         2\n",
      "           3       0.67      1.00      0.80         2\n",
      "           4       1.00      0.75      0.86         4\n",
      "\n",
      "    accuracy                           0.80        15\n",
      "   macro avg       0.79      0.78      0.77        15\n",
      "weighted avg       0.84      0.80      0.80        15\n",
      "\n"
     ]
    }
   ],
   "source": [
    "print(classification_report(actual,predictions))"
   ]
  },
  {
   "cell_type": "code",
   "execution_count": 74,
   "id": "49a204fc-f867-43c2-8fa9-f7819a3eb747",
   "metadata": {},
   "outputs": [],
   "source": [
    "cm=multilabel_confusion_matrix(actual,predictions)"
   ]
  },
  {
   "cell_type": "code",
   "execution_count": 77,
   "id": "947f65cb-1e16-404d-af56-b12e0f227a53",
   "metadata": {},
   "outputs": [
    {
     "data": {
      "text/plain": [
       "array([[[12,  0],\n",
       "        [ 1,  2]],\n",
       "\n",
       "       [[10,  1],\n",
       "        [ 0,  4]],\n",
       "\n",
       "       [[12,  1],\n",
       "        [ 1,  1]],\n",
       "\n",
       "       [[12,  1],\n",
       "        [ 0,  2]],\n",
       "\n",
       "       [[11,  0],\n",
       "        [ 1,  3]]], dtype=int64)"
      ]
     },
     "execution_count": 77,
     "metadata": {},
     "output_type": "execute_result"
    }
   ],
   "source": [
    "cm"
   ]
  },
  {
   "cell_type": "code",
   "execution_count": 78,
   "id": "6694cee0-c89f-44bb-8d1e-a068cb171419",
   "metadata": {},
   "outputs": [],
   "source": [
    "model.save('asl_model1.keras')"
   ]
  },
  {
   "cell_type": "code",
   "execution_count": 83,
   "id": "48c9af0b-9334-44eb-bfea-f3558e97f9f1",
   "metadata": {},
   "outputs": [
    {
     "data": {
      "text/plain": [
       "[<matplotlib.lines.Line2D at 0x16901eb23d0>]"
      ]
     },
     "execution_count": 83,
     "metadata": {},
     "output_type": "execute_result"
    },
    {
     "data": {
      "image/png": "[encoded data removed]",
      "text/plain": [
       "<Figure size 640x480 with 1 Axes>"
      ]
     },
     "metadata": {},
     "output_type": "display_data"
    }
   ],
   "source": [
    "plt.plot(range(100),history.history['categorical_accuracy'])"
   ]
  },
  {
   "cell_type": "code",
   "execution_count": 94,
   "id": "8dc96f05-86a0-4bac-b05c-7d86fd3960bd",
   "metadata": {},
   "outputs": [],
   "source": [
    "model2=Sequential()\n",
    "model2.add(LSTM(64,return_sequences=True,activation='relu',input_shape=(30,1662)))\n",
    "model2.add(LSTM(128,return_sequences=True,activation='relu'))\n",
    "model2.add(LSTM(64,return_sequences=False,activation='relu'))\n",
    "model2.add(Dense(64,activation='relu'))\n",
    "model2.add(Dense(32,activation='relu'))\n",
    "model2.add(Dense(5,activation='softmax'))\n",
    "model2.compile(loss='categorical_crossentropy',optimizer='adam',metrics=['categorical_accuracy'])"
   ]
  },
  {
   "cell_type": "code",
   "execution_count": 95,
   "id": "177a16ab-ead9-4c66-8415-249d88018d12",
   "metadata": {
    "scrolled": true
   },
   "outputs": [
    {
     "name": "stdout",
     "output_type": "stream",
     "text": [
      "Epoch 1/140\n",
      "1/1 [==============================] - 7s 7s/step - loss: 1.6198 - categorical_accuracy: 0.1333\n",
      "Epoch 2/140\n",
      "1/1 [==============================] - 0s 134ms/step - loss: 1.6452 - categorical_accuracy: 0.1333\n",
      "Epoch 3/140\n",
      "1/1 [==============================] - 0s 118ms/step - loss: 12.4674 - categorical_accuracy: 0.1333\n",
      "Epoch 4/140\n",
      "1/1 [==============================] - 0s 116ms/step - loss: 1.6597 - categorical_accuracy: 0.1333\n",
      "Epoch 5/140\n",
      "1/1 [==============================] - 0s 118ms/step - loss: 2.0983 - categorical_accuracy: 0.1333\n",
      "Epoch 6/140\n",
      "1/1 [==============================] - 0s 116ms/step - loss: 1.6945 - categorical_accuracy: 0.2000\n",
      "Epoch 7/140\n",
      "1/1 [==============================] - 0s 123ms/step - loss: 1.7937 - categorical_accuracy: 0.1333\n",
      "Epoch 8/140\n",
      "1/1 [==============================] - 0s 126ms/step - loss: 2.0175 - categorical_accuracy: 0.2667\n",
      "Epoch 9/140\n",
      "1/1 [==============================] - 0s 125ms/step - loss: 5.1618 - categorical_accuracy: 0.1333\n",
      "Epoch 10/140\n",
      "1/1 [==============================] - 0s 119ms/step - loss: 2.8572 - categorical_accuracy: 0.2667\n",
      "Epoch 11/140\n",
      "1/1 [==============================] - 0s 123ms/step - loss: 1.8389 - categorical_accuracy: 0.2667\n",
      "Epoch 12/140\n",
      "1/1 [==============================] - 0s 130ms/step - loss: 1.6879 - categorical_accuracy: 0.2667\n",
      "Epoch 13/140\n",
      "1/1 [==============================] - 0s 230ms/step - loss: 1.6250 - categorical_accuracy: 0.2667\n",
      "Epoch 14/140\n",
      "1/1 [==============================] - 0s 148ms/step - loss: 3.0863 - categorical_accuracy: 0.2000\n",
      "Epoch 15/140\n",
      "1/1 [==============================] - 0s 148ms/step - loss: 1.7883 - categorical_accuracy: 0.2667\n",
      "Epoch 16/140\n",
      "1/1 [==============================] - 0s 137ms/step - loss: 1.6319 - categorical_accuracy: 0.2667\n",
      "Epoch 17/140\n",
      "1/1 [==============================] - 0s 147ms/step - loss: 1.6999 - categorical_accuracy: 0.0667\n",
      "Epoch 18/140\n",
      "1/1 [==============================] - 0s 140ms/step - loss: 1.6192 - categorical_accuracy: 0.2667\n",
      "Epoch 19/140\n",
      "1/1 [==============================] - 0s 116ms/step - loss: 1.6561 - categorical_accuracy: 0.2000\n",
      "Epoch 20/140\n",
      "1/1 [==============================] - 0s 127ms/step - loss: 4.2369 - categorical_accuracy: 0.1333\n",
      "Epoch 21/140\n",
      "1/1 [==============================] - 0s 135ms/step - loss: 7.6483 - categorical_accuracy: 0.2000\n",
      "Epoch 22/140\n",
      "1/1 [==============================] - 0s 135ms/step - loss: 8.6920 - categorical_accuracy: 0.2667\n",
      "Epoch 23/140\n",
      "1/1 [==============================] - 0s 151ms/step - loss: 10.5773 - categorical_accuracy: 0.2000\n",
      "Epoch 24/140\n",
      "1/1 [==============================] - 0s 114ms/step - loss: 5.1125 - categorical_accuracy: 0.0000e+00\n",
      "Epoch 25/140\n",
      "1/1 [==============================] - 0s 139ms/step - loss: 9.4255 - categorical_accuracy: 0.1333\n",
      "Epoch 26/140\n",
      "1/1 [==============================] - 0s 126ms/step - loss: 4.1967 - categorical_accuracy: 0.1333\n",
      "Epoch 27/140\n",
      "1/1 [==============================] - 0s 188ms/step - loss: 6.8683 - categorical_accuracy: 0.2667\n",
      "Epoch 28/140\n",
      "1/1 [==============================] - 0s 153ms/step - loss: 6.3266 - categorical_accuracy: 0.4000\n",
      "Epoch 29/140\n",
      "1/1 [==============================] - 0s 155ms/step - loss: 4.1747 - categorical_accuracy: 0.2667\n",
      "Epoch 30/140\n",
      "1/1 [==============================] - 0s 134ms/step - loss: 3.9161 - categorical_accuracy: 0.4000\n",
      "Epoch 31/140\n",
      "1/1 [==============================] - 0s 148ms/step - loss: 4.1473 - categorical_accuracy: 0.2000\n",
      "Epoch 32/140\n",
      "1/1 [==============================] - 0s 152ms/step - loss: 3.6345 - categorical_accuracy: 0.3333\n",
      "Epoch 33/140\n",
      "1/1 [==============================] - 0s 122ms/step - loss: 11.6413 - categorical_accuracy: 0.2000\n",
      "Epoch 34/140\n",
      "1/1 [==============================] - 0s 131ms/step - loss: 4.2814 - categorical_accuracy: 0.0667\n",
      "Epoch 35/140\n",
      "1/1 [==============================] - 0s 153ms/step - loss: 2.1511 - categorical_accuracy: 0.5333\n",
      "Epoch 36/140\n",
      "1/1 [==============================] - 0s 164ms/step - loss: 4.1595 - categorical_accuracy: 0.1333\n",
      "Epoch 37/140\n",
      "1/1 [==============================] - 0s 136ms/step - loss: 5.4686 - categorical_accuracy: 0.1333\n",
      "Epoch 38/140\n",
      "1/1 [==============================] - 0s 174ms/step - loss: 8.2728 - categorical_accuracy: 0.2667\n",
      "Epoch 39/140\n",
      "1/1 [==============================] - 0s 159ms/step - loss: 24.4886 - categorical_accuracy: 0.2667\n",
      "Epoch 40/140\n",
      "1/1 [==============================] - 0s 152ms/step - loss: 11.0393 - categorical_accuracy: 0.2000\n",
      "Epoch 41/140\n",
      "1/1 [==============================] - 0s 143ms/step - loss: 7.8762 - categorical_accuracy: 0.4000\n",
      "Epoch 42/140\n",
      "1/1 [==============================] - 0s 132ms/step - loss: 8.0132 - categorical_accuracy: 0.4000\n",
      "Epoch 43/140\n",
      "1/1 [==============================] - 0s 165ms/step - loss: 13.6970 - categorical_accuracy: 0.2000\n",
      "Epoch 44/140\n",
      "1/1 [==============================] - 0s 156ms/step - loss: 13.5498 - categorical_accuracy: 0.2667\n",
      "Epoch 45/140\n",
      "1/1 [==============================] - 0s 125ms/step - loss: 14.5285 - categorical_accuracy: 0.0667\n",
      "Epoch 46/140\n",
      "1/1 [==============================] - 0s 144ms/step - loss: 13.7904 - categorical_accuracy: 0.2667\n",
      "Epoch 47/140\n",
      "1/1 [==============================] - 0s 157ms/step - loss: 21.9917 - categorical_accuracy: 0.1333\n",
      "Epoch 48/140\n",
      "1/1 [==============================] - 0s 146ms/step - loss: 22.4109 - categorical_accuracy: 0.0000e+00\n",
      "Epoch 49/140\n",
      "1/1 [==============================] - 0s 157ms/step - loss: 12.8956 - categorical_accuracy: 0.1333\n",
      "Epoch 50/140\n",
      "1/1 [==============================] - 0s 218ms/step - loss: 5.2426 - categorical_accuracy: 0.2000\n",
      "Epoch 51/140\n",
      "1/1 [==============================] - 0s 149ms/step - loss: 5.0325 - categorical_accuracy: 0.2000\n",
      "Epoch 52/140\n",
      "1/1 [==============================] - 0s 155ms/step - loss: 5.2047 - categorical_accuracy: 0.0667\n",
      "Epoch 53/140\n",
      "1/1 [==============================] - 0s 139ms/step - loss: 6.0325 - categorical_accuracy: 0.1333\n",
      "Epoch 54/140\n",
      "1/1 [==============================] - 0s 151ms/step - loss: 4.4622 - categorical_accuracy: 0.2667\n",
      "Epoch 55/140\n",
      "1/1 [==============================] - 0s 158ms/step - loss: 4.2700 - categorical_accuracy: 0.2000\n",
      "Epoch 56/140\n",
      "1/1 [==============================] - 0s 123ms/step - loss: 4.8673 - categorical_accuracy: 0.0667\n",
      "Epoch 57/140\n",
      "1/1 [==============================] - 0s 140ms/step - loss: 7.6148 - categorical_accuracy: 0.0667\n",
      "Epoch 58/140\n",
      "1/1 [==============================] - 0s 158ms/step - loss: 3.8497 - categorical_accuracy: 0.2667\n",
      "Epoch 59/140\n",
      "1/1 [==============================] - 0s 130ms/step - loss: 2.7972 - categorical_accuracy: 0.4000\n",
      "Epoch 60/140\n",
      "1/1 [==============================] - 0s 150ms/step - loss: 2.6097 - categorical_accuracy: 0.2000\n",
      "Epoch 61/140\n",
      "1/1 [==============================] - 0s 155ms/step - loss: 4.3489 - categorical_accuracy: 0.0667\n",
      "Epoch 62/140\n",
      "1/1 [==============================] - 0s 138ms/step - loss: 3.6062 - categorical_accuracy: 0.2667\n",
      "Epoch 63/140\n",
      "1/1 [==============================] - 0s 140ms/step - loss: 4.8023 - categorical_accuracy: 0.2667\n",
      "Epoch 64/140\n",
      "1/1 [==============================] - 0s 157ms/step - loss: 4.2601 - categorical_accuracy: 0.2667\n",
      "Epoch 65/140\n",
      "1/1 [==============================] - 0s 131ms/step - loss: 3.6713 - categorical_accuracy: 0.2000\n",
      "Epoch 66/140\n",
      "1/1 [==============================] - 0s 141ms/step - loss: 2.1390 - categorical_accuracy: 0.3333\n",
      "Epoch 67/140\n",
      "1/1 [==============================] - 0s 160ms/step - loss: 2.7393 - categorical_accuracy: 0.2667\n",
      "Epoch 68/140\n",
      "1/1 [==============================] - 0s 151ms/step - loss: 2.0304 - categorical_accuracy: 0.3333\n",
      "Epoch 69/140\n",
      "1/1 [==============================] - 0s 143ms/step - loss: 3.3406 - categorical_accuracy: 0.2000\n",
      "Epoch 70/140\n",
      "1/1 [==============================] - 0s 150ms/step - loss: 2.5085 - categorical_accuracy: 0.3333\n",
      "Epoch 71/140\n",
      "1/1 [==============================] - 0s 128ms/step - loss: 2.1559 - categorical_accuracy: 0.3333\n",
      "Epoch 72/140\n",
      "1/1 [==============================] - 0s 217ms/step - loss: 9.3029 - categorical_accuracy: 0.2000\n",
      "Epoch 73/140\n",
      "1/1 [==============================] - 0s 141ms/step - loss: 3.6262 - categorical_accuracy: 0.2000\n",
      "Epoch 74/140\n",
      "1/1 [==============================] - 0s 122ms/step - loss: 2.8539 - categorical_accuracy: 0.2000\n",
      "Epoch 75/140\n",
      "1/1 [==============================] - 0s 156ms/step - loss: 2.0570 - categorical_accuracy: 0.2000\n",
      "Epoch 76/140\n",
      "1/1 [==============================] - 0s 152ms/step - loss: 2.5610 - categorical_accuracy: 0.2667\n",
      "Epoch 77/140\n",
      "1/1 [==============================] - 0s 131ms/step - loss: 2.4592 - categorical_accuracy: 0.2667\n",
      "Epoch 78/140\n",
      "1/1 [==============================] - 0s 150ms/step - loss: 3.8438 - categorical_accuracy: 0.1333\n",
      "Epoch 79/140\n",
      "1/1 [==============================] - 0s 159ms/step - loss: 5.6777 - categorical_accuracy: 0.2667\n",
      "Epoch 80/140\n",
      "1/1 [==============================] - 0s 129ms/step - loss: 5.0943 - categorical_accuracy: 0.0667\n",
      "Epoch 81/140\n",
      "1/1 [==============================] - 0s 127ms/step - loss: 4.8428 - categorical_accuracy: 0.1333\n",
      "Epoch 82/140\n",
      "1/1 [==============================] - 0s 167ms/step - loss: 3.9755 - categorical_accuracy: 0.1333\n",
      "Epoch 83/140\n",
      "1/1 [==============================] - 0s 152ms/step - loss: 3.4495 - categorical_accuracy: 0.0000e+00\n",
      "Epoch 84/140\n",
      "1/1 [==============================] - 0s 120ms/step - loss: 2.3893 - categorical_accuracy: 0.2667\n",
      "Epoch 85/140\n",
      "1/1 [==============================] - 0s 140ms/step - loss: 2.1272 - categorical_accuracy: 0.3333\n",
      "Epoch 86/140\n",
      "1/1 [==============================] - 0s 142ms/step - loss: 1.9869 - categorical_accuracy: 0.4000\n",
      "Epoch 87/140\n",
      "1/1 [==============================] - 0s 135ms/step - loss: 1.7035 - categorical_accuracy: 0.2000\n",
      "Epoch 88/140\n",
      "1/1 [==============================] - 0s 151ms/step - loss: 2.9637 - categorical_accuracy: 0.2667\n",
      "Epoch 89/140\n",
      "1/1 [==============================] - 0s 164ms/step - loss: 2.6001 - categorical_accuracy: 0.2000\n",
      "Epoch 90/140\n",
      "1/1 [==============================] - 0s 150ms/step - loss: 1.7648 - categorical_accuracy: 0.2667\n",
      "Epoch 91/140\n",
      "1/1 [==============================] - 0s 132ms/step - loss: 2.1874 - categorical_accuracy: 0.2000\n",
      "Epoch 92/140\n",
      "1/1 [==============================] - 0s 142ms/step - loss: 2.1478 - categorical_accuracy: 0.2667\n",
      "Epoch 93/140\n",
      "1/1 [==============================] - 0s 198ms/step - loss: 2.1064 - categorical_accuracy: 0.2667\n",
      "Epoch 94/140\n",
      "1/1 [==============================] - 0s 157ms/step - loss: 1.9126 - categorical_accuracy: 0.2667\n",
      "Epoch 95/140\n",
      "1/1 [==============================] - 0s 125ms/step - loss: 1.8052 - categorical_accuracy: 0.2667\n",
      "Epoch 96/140\n",
      "1/1 [==============================] - 0s 121ms/step - loss: 1.6683 - categorical_accuracy: 0.2000\n",
      "Epoch 97/140\n",
      "1/1 [==============================] - 0s 125ms/step - loss: 1.6238 - categorical_accuracy: 0.3333\n",
      "Epoch 98/140\n",
      "1/1 [==============================] - 0s 127ms/step - loss: 1.6604 - categorical_accuracy: 0.3333\n",
      "Epoch 99/140\n",
      "1/1 [==============================] - 0s 127ms/step - loss: 1.5575 - categorical_accuracy: 0.4000\n",
      "Epoch 100/140\n",
      "1/1 [==============================] - 0s 143ms/step - loss: 1.6807 - categorical_accuracy: 0.4000\n",
      "Epoch 101/140\n",
      "1/1 [==============================] - 0s 145ms/step - loss: 1.6227 - categorical_accuracy: 0.4000\n",
      "Epoch 102/140\n",
      "1/1 [==============================] - 0s 133ms/step - loss: 1.3979 - categorical_accuracy: 0.4000\n",
      "Epoch 103/140\n",
      "1/1 [==============================] - 0s 123ms/step - loss: 1.5096 - categorical_accuracy: 0.4000\n",
      "Epoch 104/140\n",
      "1/1 [==============================] - 0s 164ms/step - loss: 2.4584 - categorical_accuracy: 0.1333\n",
      "Epoch 105/140\n",
      "1/1 [==============================] - 0s 159ms/step - loss: 2.6026 - categorical_accuracy: 0.3333\n",
      "Epoch 106/140\n",
      "1/1 [==============================] - 0s 133ms/step - loss: 2.0477 - categorical_accuracy: 0.4667\n",
      "Epoch 107/140\n",
      "1/1 [==============================] - 0s 145ms/step - loss: 1.8753 - categorical_accuracy: 0.2667\n",
      "Epoch 108/140\n",
      "1/1 [==============================] - 0s 154ms/step - loss: 1.7870 - categorical_accuracy: 0.2667\n",
      "Epoch 109/140\n",
      "1/1 [==============================] - 0s 139ms/step - loss: 1.6066 - categorical_accuracy: 0.3333\n",
      "Epoch 110/140\n",
      "1/1 [==============================] - 0s 125ms/step - loss: 1.5035 - categorical_accuracy: 0.2667\n",
      "Epoch 111/140\n",
      "1/1 [==============================] - 0s 147ms/step - loss: 1.4470 - categorical_accuracy: 0.4667\n",
      "Epoch 112/140\n",
      "1/1 [==============================] - 0s 157ms/step - loss: 1.3933 - categorical_accuracy: 0.4000\n",
      "Epoch 113/140\n",
      "1/1 [==============================] - 0s 130ms/step - loss: 1.5842 - categorical_accuracy: 0.3333\n",
      "Epoch 114/140\n",
      "1/1 [==============================] - 0s 142ms/step - loss: 1.9275 - categorical_accuracy: 0.3333\n",
      "Epoch 115/140\n",
      "1/1 [==============================] - 0s 209ms/step - loss: 2.0061 - categorical_accuracy: 0.5333\n",
      "Epoch 116/140\n",
      "1/1 [==============================] - 0s 154ms/step - loss: 2.0552 - categorical_accuracy: 0.4000\n",
      "Epoch 117/140\n",
      "1/1 [==============================] - 0s 144ms/step - loss: 1.9345 - categorical_accuracy: 0.4000\n",
      "Epoch 118/140\n",
      "1/1 [==============================] - 0s 131ms/step - loss: 1.8602 - categorical_accuracy: 0.4667\n",
      "Epoch 119/140\n",
      "1/1 [==============================] - 0s 148ms/step - loss: 1.8364 - categorical_accuracy: 0.3333\n",
      "Epoch 120/140\n",
      "1/1 [==============================] - 0s 157ms/step - loss: 1.7627 - categorical_accuracy: 0.3333\n",
      "Epoch 121/140\n",
      "1/1 [==============================] - 0s 153ms/step - loss: 1.6974 - categorical_accuracy: 0.4000\n",
      "Epoch 122/140\n",
      "1/1 [==============================] - 0s 150ms/step - loss: 1.6339 - categorical_accuracy: 0.4000\n",
      "Epoch 123/140\n",
      "1/1 [==============================] - 0s 154ms/step - loss: 1.6012 - categorical_accuracy: 0.3333\n",
      "Epoch 124/140\n",
      "1/1 [==============================] - 0s 132ms/step - loss: 1.4780 - categorical_accuracy: 0.4000\n",
      "Epoch 125/140\n",
      "1/1 [==============================] - 0s 131ms/step - loss: 1.7224 - categorical_accuracy: 0.3333\n",
      "Epoch 126/140\n",
      "1/1 [==============================] - 0s 163ms/step - loss: 1.6544 - categorical_accuracy: 0.4000\n",
      "Epoch 127/140\n",
      "1/1 [==============================] - 0s 133ms/step - loss: 1.6675 - categorical_accuracy: 0.4000\n",
      "Epoch 128/140\n",
      "1/1 [==============================] - 0s 137ms/step - loss: 1.6157 - categorical_accuracy: 0.3333\n",
      "Epoch 129/140\n",
      "1/1 [==============================] - 0s 136ms/step - loss: 1.5565 - categorical_accuracy: 0.3333\n",
      "Epoch 130/140\n",
      "1/1 [==============================] - 0s 154ms/step - loss: 1.7004 - categorical_accuracy: 0.4000\n",
      "Epoch 131/140\n",
      "1/1 [==============================] - 0s 146ms/step - loss: 1.4825 - categorical_accuracy: 0.4000\n",
      "Epoch 132/140\n",
      "1/1 [==============================] - 0s 136ms/step - loss: 1.4139 - categorical_accuracy: 0.3333\n",
      "Epoch 133/140\n",
      "1/1 [==============================] - 0s 157ms/step - loss: 1.4199 - categorical_accuracy: 0.4000\n",
      "Epoch 134/140\n",
      "1/1 [==============================] - 0s 201ms/step - loss: 1.4494 - categorical_accuracy: 0.4667\n",
      "Epoch 135/140\n",
      "1/1 [==============================] - 0s 149ms/step - loss: 1.4051 - categorical_accuracy: 0.4667\n",
      "Epoch 136/140\n",
      "1/1 [==============================] - 0s 149ms/step - loss: 1.3201 - categorical_accuracy: 0.5333\n",
      "Epoch 137/140\n",
      "1/1 [==============================] - 0s 152ms/step - loss: 1.3165 - categorical_accuracy: 0.6000\n",
      "Epoch 138/140\n",
      "1/1 [==============================] - 0s 127ms/step - loss: 1.3321 - categorical_accuracy: 0.5333\n",
      "Epoch 139/140\n",
      "1/1 [==============================] - 0s 173ms/step - loss: 1.2819 - categorical_accuracy: 0.6000\n",
      "Epoch 140/140\n",
      "1/1 [==============================] - 0s 145ms/step - loss: 1.2406 - categorical_accuracy: 0.6667\n"
     ]
    }
   ],
   "source": [
    "history=model2.fit(x_test,y_test,epochs=140)"
   ]
  },
  {
   "cell_type": "code",
   "execution_count": 92,
   "id": "6232a63b-f1cf-4723-ae3a-55c994f7cc35",
   "metadata": {},
   "outputs": [
    {
     "ename": "NameError",
     "evalue": "name 'model1' is not defined",
     "output_type": "error",
     "traceback": [
      "\u001b[1;31m---------------------------------------------------------------------------\u001b[0m",
      "\u001b[1;31mNameError\u001b[0m                                 Traceback (most recent call last)",
      "Cell \u001b[1;32mIn[92], line 1\u001b[0m\n\u001b[1;32m----> 1\u001b[0m \u001b[38;5;28;01mdel\u001b[39;00m \u001b[43mmodel1\u001b[49m\n",
      "\u001b[1;31mNameError\u001b[0m: name 'model1' is not defined"
     ]
    }
   ],
   "source": [
    "del model1"
   ]
  },
  {
   "cell_type": "code",
   "execution_count": 99,
   "id": "814d7387-afc2-4abf-a604-e462c86964b8",
   "metadata": {},
   "outputs": [
    {
     "name": "stdout",
     "output_type": "stream",
     "text": [
      "1/1 [==============================] - 1s 966ms/step - loss: 0.1122 - categorical_accuracy: 1.0000\n"
     ]
    },
    {
     "data": {
      "text/plain": [
       "[0.11217392235994339, 1.0]"
      ]
     },
     "execution_count": 99,
     "metadata": {},
     "output_type": "execute_result"
    }
   ],
   "source": [
    "model2.evaluate(x_test,y_test)"
   ]
  },
  {
   "cell_type": "code",
   "execution_count": 93,
   "id": "714165cc-699f-4987-8db0-037a315ee842",
   "metadata": {},
   "outputs": [
    {
     "ename": "NameError",
     "evalue": "name 'model2' is not defined",
     "output_type": "error",
     "traceback": [
      "\u001b[1;31m---------------------------------------------------------------------------\u001b[0m",
      "\u001b[1;31mNameError\u001b[0m                                 Traceback (most recent call last)",
      "Cell \u001b[1;32mIn[93], line 1\u001b[0m\n\u001b[1;32m----> 1\u001b[0m \u001b[38;5;28;01mdel\u001b[39;00m \u001b[43mmodel2\u001b[49m\n",
      "\u001b[1;31mNameError\u001b[0m: name 'model2' is not defined"
     ]
    }
   ],
   "source": [
    "del model2"
   ]
  },
  {
   "cell_type": "code",
   "execution_count": 96,
   "id": "388d89b7-cf8a-4183-a300-e0f7ebfeea37",
   "metadata": {
    "scrolled": true
   },
   "outputs": [
    {
     "name": "stdout",
     "output_type": "stream",
     "text": [
      "Epoch 1/60\n",
      "1/1 [==============================] - 0s 122ms/step - loss: 1.1788 - categorical_accuracy: 0.6667\n",
      "Epoch 2/60\n",
      "1/1 [==============================] - 0s 125ms/step - loss: 1.1470 - categorical_accuracy: 0.6000\n",
      "Epoch 3/60\n",
      "1/1 [==============================] - 0s 117ms/step - loss: 1.1437 - categorical_accuracy: 0.6000\n",
      "Epoch 4/60\n",
      "1/1 [==============================] - 0s 124ms/step - loss: 1.1488 - categorical_accuracy: 0.6667\n",
      "Epoch 5/60\n",
      "1/1 [==============================] - 0s 113ms/step - loss: 1.0972 - categorical_accuracy: 0.7333\n",
      "Epoch 6/60\n",
      "1/1 [==============================] - 0s 116ms/step - loss: 1.0569 - categorical_accuracy: 0.6667\n",
      "Epoch 7/60\n",
      "1/1 [==============================] - 0s 138ms/step - loss: 1.0028 - categorical_accuracy: 0.7333\n",
      "Epoch 8/60\n",
      "1/1 [==============================] - 0s 135ms/step - loss: 0.9733 - categorical_accuracy: 0.7333\n",
      "Epoch 9/60\n",
      "1/1 [==============================] - 0s 192ms/step - loss: 0.9419 - categorical_accuracy: 0.6667\n",
      "Epoch 10/60\n",
      "1/1 [==============================] - 0s 172ms/step - loss: 0.9173 - categorical_accuracy: 0.6667\n",
      "Epoch 11/60\n",
      "1/1 [==============================] - 0s 131ms/step - loss: 0.8951 - categorical_accuracy: 0.6000\n",
      "Epoch 12/60\n",
      "1/1 [==============================] - 0s 114ms/step - loss: 0.9358 - categorical_accuracy: 0.6000\n",
      "Epoch 13/60\n",
      "1/1 [==============================] - 0s 152ms/step - loss: 0.8110 - categorical_accuracy: 0.6667\n",
      "Epoch 14/60\n",
      "1/1 [==============================] - 0s 161ms/step - loss: 0.8220 - categorical_accuracy: 0.6667\n",
      "Epoch 15/60\n",
      "1/1 [==============================] - 0s 146ms/step - loss: 0.8415 - categorical_accuracy: 0.6667\n",
      "Epoch 16/60\n",
      "1/1 [==============================] - 0s 139ms/step - loss: 0.6995 - categorical_accuracy: 0.8667\n",
      "Epoch 17/60\n",
      "1/1 [==============================] - 0s 141ms/step - loss: 0.7029 - categorical_accuracy: 0.8000\n",
      "Epoch 18/60\n",
      "1/1 [==============================] - 0s 135ms/step - loss: 0.6629 - categorical_accuracy: 0.7333\n",
      "Epoch 19/60\n",
      "1/1 [==============================] - 0s 138ms/step - loss: 0.6280 - categorical_accuracy: 0.7333\n",
      "Epoch 20/60\n",
      "1/1 [==============================] - 0s 135ms/step - loss: 0.6404 - categorical_accuracy: 0.8000\n",
      "Epoch 21/60\n",
      "1/1 [==============================] - 0s 151ms/step - loss: 0.5855 - categorical_accuracy: 0.8000\n",
      "Epoch 22/60\n",
      "1/1 [==============================] - 0s 124ms/step - loss: 0.5664 - categorical_accuracy: 0.8000\n",
      "Epoch 23/60\n",
      "1/1 [==============================] - 0s 127ms/step - loss: 0.5400 - categorical_accuracy: 0.8000\n",
      "Epoch 24/60\n",
      "1/1 [==============================] - 0s 170ms/step - loss: 0.5063 - categorical_accuracy: 0.8000\n",
      "Epoch 25/60\n",
      "1/1 [==============================] - 0s 126ms/step - loss: 0.5182 - categorical_accuracy: 0.8000\n",
      "Epoch 26/60\n",
      "1/1 [==============================] - 0s 117ms/step - loss: 0.4674 - categorical_accuracy: 0.8000\n",
      "Epoch 27/60\n",
      "1/1 [==============================] - 0s 117ms/step - loss: 0.4649 - categorical_accuracy: 0.8667\n",
      "Epoch 28/60\n",
      "1/1 [==============================] - 0s 193ms/step - loss: 0.4331 - categorical_accuracy: 0.8667\n",
      "Epoch 29/60\n",
      "1/1 [==============================] - 0s 127ms/step - loss: 0.4127 - categorical_accuracy: 0.8667\n",
      "Epoch 30/60\n",
      "1/1 [==============================] - 0s 141ms/step - loss: 0.3922 - categorical_accuracy: 0.8667\n",
      "Epoch 31/60\n",
      "1/1 [==============================] - 0s 149ms/step - loss: 0.3608 - categorical_accuracy: 0.9333\n",
      "Epoch 32/60\n",
      "1/1 [==============================] - 0s 131ms/step - loss: 0.3929 - categorical_accuracy: 0.8667\n",
      "Epoch 33/60\n",
      "1/1 [==============================] - 0s 128ms/step - loss: 0.4302 - categorical_accuracy: 0.9333\n",
      "Epoch 34/60\n",
      "1/1 [==============================] - 0s 137ms/step - loss: 0.3574 - categorical_accuracy: 0.9333\n",
      "Epoch 35/60\n",
      "1/1 [==============================] - 0s 149ms/step - loss: 0.4361 - categorical_accuracy: 0.8000\n",
      "Epoch 36/60\n",
      "1/1 [==============================] - 0s 139ms/step - loss: 0.3558 - categorical_accuracy: 1.0000\n",
      "Epoch 37/60\n",
      "1/1 [==============================] - 0s 151ms/step - loss: 0.6609 - categorical_accuracy: 0.8667\n",
      "Epoch 38/60\n",
      "1/1 [==============================] - 0s 148ms/step - loss: 0.6071 - categorical_accuracy: 0.7333\n",
      "Epoch 39/60\n",
      "1/1 [==============================] - 0s 124ms/step - loss: 0.5348 - categorical_accuracy: 0.8000\n",
      "Epoch 40/60\n",
      "1/1 [==============================] - 0s 154ms/step - loss: 0.4658 - categorical_accuracy: 0.9333\n",
      "Epoch 41/60\n",
      "1/1 [==============================] - 0s 160ms/step - loss: 0.5927 - categorical_accuracy: 0.6667\n",
      "Epoch 42/60\n",
      "1/1 [==============================] - 0s 126ms/step - loss: 0.2886 - categorical_accuracy: 0.9333\n",
      "Epoch 43/60\n",
      "1/1 [==============================] - 0s 123ms/step - loss: 0.7503 - categorical_accuracy: 0.7333\n",
      "Epoch 44/60\n",
      "1/1 [==============================] - 0s 121ms/step - loss: 1.7947 - categorical_accuracy: 0.6000\n",
      "Epoch 45/60\n",
      "1/1 [==============================] - 0s 150ms/step - loss: 0.6214 - categorical_accuracy: 0.7333\n",
      "Epoch 46/60\n",
      "1/1 [==============================] - 0s 165ms/step - loss: 1.0097 - categorical_accuracy: 0.5333\n",
      "Epoch 47/60\n",
      "1/1 [==============================] - 0s 142ms/step - loss: 1.4727 - categorical_accuracy: 0.4000\n",
      "Epoch 48/60\n",
      "1/1 [==============================] - 0s 132ms/step - loss: 0.7483 - categorical_accuracy: 0.7333\n",
      "Epoch 49/60\n",
      "1/1 [==============================] - 0s 151ms/step - loss: 0.9862 - categorical_accuracy: 0.6000\n",
      "Epoch 50/60\n",
      "1/1 [==============================] - 0s 147ms/step - loss: 0.6899 - categorical_accuracy: 0.8000\n",
      "Epoch 51/60\n",
      "1/1 [==============================] - 0s 122ms/step - loss: 0.7675 - categorical_accuracy: 0.6667\n",
      "Epoch 52/60\n",
      "1/1 [==============================] - 0s 179ms/step - loss: 0.6574 - categorical_accuracy: 0.8000\n",
      "Epoch 53/60\n",
      "1/1 [==============================] - 0s 121ms/step - loss: 0.6412 - categorical_accuracy: 0.6667\n",
      "Epoch 54/60\n",
      "1/1 [==============================] - 0s 124ms/step - loss: 0.4315 - categorical_accuracy: 0.8667\n",
      "Epoch 55/60\n",
      "1/1 [==============================] - 0s 134ms/step - loss: 0.4970 - categorical_accuracy: 0.8667\n",
      "Epoch 56/60\n",
      "1/1 [==============================] - 0s 121ms/step - loss: 0.5251 - categorical_accuracy: 0.8000\n",
      "Epoch 57/60\n",
      "1/1 [==============================] - 0s 122ms/step - loss: 0.5419 - categorical_accuracy: 0.7333\n",
      "Epoch 58/60\n",
      "1/1 [==============================] - 0s 134ms/step - loss: 0.4653 - categorical_accuracy: 0.8667\n",
      "Epoch 59/60\n",
      "1/1 [==============================] - 0s 155ms/step - loss: 0.3911 - categorical_accuracy: 0.8667\n",
      "Epoch 60/60\n",
      "1/1 [==============================] - 0s 130ms/step - loss: 0.3769 - categorical_accuracy: 0.8667\n"
     ]
    }
   ],
   "source": [
    "history1=model2.fit(x_test,y_test,epochs=60)"
   ]
  },
  {
   "cell_type": "code",
   "execution_count": 98,
   "id": "9e00c84c-b62a-4d44-a350-911edbb9e7ae",
   "metadata": {
    "scrolled": true
   },
   "outputs": [
    {
     "name": "stdout",
     "output_type": "stream",
     "text": [
      "Epoch 1/50\n",
      "1/1 [==============================] - 0s 123ms/step - loss: 0.5312 - categorical_accuracy: 0.8000\n",
      "Epoch 2/50\n",
      "1/1 [==============================] - 0s 132ms/step - loss: 0.3750 - categorical_accuracy: 0.8667\n",
      "Epoch 3/50\n",
      "1/1 [==============================] - 0s 133ms/step - loss: 2.0096 - categorical_accuracy: 0.6000\n",
      "Epoch 4/50\n",
      "1/1 [==============================] - 0s 119ms/step - loss: 0.6305 - categorical_accuracy: 0.8000\n",
      "Epoch 5/50\n",
      "1/1 [==============================] - 0s 164ms/step - loss: 1.3924 - categorical_accuracy: 0.5333\n",
      "Epoch 6/50\n",
      "1/1 [==============================] - 0s 142ms/step - loss: 1.7566 - categorical_accuracy: 0.7333\n",
      "Epoch 7/50\n",
      "1/1 [==============================] - 0s 141ms/step - loss: 0.8453 - categorical_accuracy: 0.6000\n",
      "Epoch 8/50\n",
      "1/1 [==============================] - 0s 130ms/step - loss: 2.6653 - categorical_accuracy: 0.6000\n",
      "Epoch 9/50\n",
      "1/1 [==============================] - 0s 151ms/step - loss: 0.9194 - categorical_accuracy: 0.6667\n",
      "Epoch 10/50\n",
      "1/1 [==============================] - 0s 162ms/step - loss: 0.6873 - categorical_accuracy: 0.6667\n",
      "Epoch 11/50\n",
      "1/1 [==============================] - 0s 128ms/step - loss: 1.8768 - categorical_accuracy: 0.3333\n",
      "Epoch 12/50\n",
      "1/1 [==============================] - 0s 144ms/step - loss: 1.1101 - categorical_accuracy: 0.5333\n",
      "Epoch 13/50\n",
      "1/1 [==============================] - 0s 137ms/step - loss: 0.5119 - categorical_accuracy: 0.8000\n",
      "Epoch 14/50\n",
      "1/1 [==============================] - 0s 131ms/step - loss: 1.4238 - categorical_accuracy: 0.5333\n",
      "Epoch 15/50\n",
      "1/1 [==============================] - 0s 135ms/step - loss: 0.9127 - categorical_accuracy: 0.6000\n",
      "Epoch 16/50\n",
      "1/1 [==============================] - 0s 146ms/step - loss: 1.0403 - categorical_accuracy: 0.6000\n",
      "Epoch 17/50\n",
      "1/1 [==============================] - 0s 126ms/step - loss: 0.8324 - categorical_accuracy: 0.6667\n",
      "Epoch 18/50\n",
      "1/1 [==============================] - 0s 142ms/step - loss: 0.7755 - categorical_accuracy: 0.6667\n",
      "Epoch 19/50\n",
      "1/1 [==============================] - 0s 220ms/step - loss: 0.5795 - categorical_accuracy: 0.8000\n",
      "Epoch 20/50\n",
      "1/1 [==============================] - 0s 137ms/step - loss: 0.5907 - categorical_accuracy: 0.7333\n",
      "Epoch 21/50\n",
      "1/1 [==============================] - 0s 124ms/step - loss: 0.5561 - categorical_accuracy: 0.7333\n",
      "Epoch 22/50\n",
      "1/1 [==============================] - 0s 126ms/step - loss: 0.5389 - categorical_accuracy: 0.8667\n",
      "Epoch 23/50\n",
      "1/1 [==============================] - 0s 146ms/step - loss: 0.5021 - categorical_accuracy: 0.8000\n",
      "Epoch 24/50\n",
      "1/1 [==============================] - 0s 153ms/step - loss: 0.4981 - categorical_accuracy: 0.8667\n",
      "Epoch 25/50\n",
      "1/1 [==============================] - 0s 132ms/step - loss: 0.4672 - categorical_accuracy: 0.9333\n",
      "Epoch 26/50\n",
      "1/1 [==============================] - 0s 148ms/step - loss: 0.4824 - categorical_accuracy: 0.8000\n",
      "Epoch 27/50\n",
      "1/1 [==============================] - 0s 137ms/step - loss: 0.4091 - categorical_accuracy: 0.9333\n",
      "Epoch 28/50\n",
      "1/1 [==============================] - 0s 139ms/step - loss: 0.4125 - categorical_accuracy: 0.9333\n",
      "Epoch 29/50\n",
      "1/1 [==============================] - 0s 149ms/step - loss: 0.3848 - categorical_accuracy: 0.9333\n",
      "Epoch 30/50\n",
      "1/1 [==============================] - 0s 143ms/step - loss: 0.3727 - categorical_accuracy: 0.9333\n",
      "Epoch 31/50\n",
      "1/1 [==============================] - 0s 113ms/step - loss: 0.3423 - categorical_accuracy: 0.9333\n",
      "Epoch 32/50\n",
      "1/1 [==============================] - 0s 148ms/step - loss: 0.3238 - categorical_accuracy: 0.9333\n",
      "Epoch 33/50\n",
      "1/1 [==============================] - 0s 146ms/step - loss: 0.3140 - categorical_accuracy: 0.9333\n",
      "Epoch 34/50\n",
      "1/1 [==============================] - 0s 170ms/step - loss: 0.2763 - categorical_accuracy: 0.9333\n",
      "Epoch 35/50\n",
      "1/1 [==============================] - 0s 128ms/step - loss: 0.2792 - categorical_accuracy: 0.9333\n",
      "Epoch 36/50\n",
      "1/1 [==============================] - 0s 130ms/step - loss: 0.2502 - categorical_accuracy: 0.9333\n",
      "Epoch 37/50\n",
      "1/1 [==============================] - 0s 141ms/step - loss: 0.2208 - categorical_accuracy: 0.9333\n",
      "Epoch 38/50\n",
      "1/1 [==============================] - 0s 126ms/step - loss: 0.2154 - categorical_accuracy: 0.9333\n",
      "Epoch 39/50\n",
      "1/1 [==============================] - 0s 124ms/step - loss: 0.2158 - categorical_accuracy: 0.9333\n",
      "Epoch 40/50\n",
      "1/1 [==============================] - 0s 124ms/step - loss: 0.2012 - categorical_accuracy: 0.9333\n",
      "Epoch 41/50\n",
      "1/1 [==============================] - 0s 126ms/step - loss: 0.1958 - categorical_accuracy: 0.9333\n",
      "Epoch 42/50\n",
      "1/1 [==============================] - 0s 120ms/step - loss: 0.1784 - categorical_accuracy: 0.9333\n",
      "Epoch 43/50\n",
      "1/1 [==============================] - 0s 140ms/step - loss: 0.1774 - categorical_accuracy: 0.9333\n",
      "Epoch 44/50\n",
      "1/1 [==============================] - 0s 148ms/step - loss: 0.1643 - categorical_accuracy: 0.9333\n",
      "Epoch 45/50\n",
      "1/1 [==============================] - 0s 124ms/step - loss: 0.1555 - categorical_accuracy: 0.9333\n",
      "Epoch 46/50\n",
      "1/1 [==============================] - 0s 125ms/step - loss: 0.1491 - categorical_accuracy: 1.0000\n",
      "Epoch 47/50\n",
      "1/1 [==============================] - 0s 118ms/step - loss: 0.1387 - categorical_accuracy: 1.0000\n",
      "Epoch 48/50\n",
      "1/1 [==============================] - 0s 128ms/step - loss: 0.1293 - categorical_accuracy: 1.0000\n",
      "Epoch 49/50\n",
      "1/1 [==============================] - 0s 161ms/step - loss: 0.1222 - categorical_accuracy: 1.0000\n",
      "Epoch 50/50\n",
      "1/1 [==============================] - 0s 135ms/step - loss: 0.1164 - categorical_accuracy: 1.0000\n"
     ]
    }
   ],
   "source": [
    "history2=model2.fit(x_test,y_test,epochs=50)"
   ]
  },
  {
   "cell_type": "code",
   "execution_count": 122,
   "id": "b4880298-d2e8-4624-87ff-f1b60b0a7d6f",
   "metadata": {},
   "outputs": [
    {
     "name": "stdout",
     "output_type": "stream",
     "text": [
      "2/2 [==============================] - 1s 47ms/step\n"
     ]
    }
   ],
   "source": [
    "predicted=model.predict(x_test)"
   ]
  },
  {
   "cell_type": "code",
   "execution_count": 123,
   "id": "c171034e-4826-49cd-b34c-1094f3723091",
   "metadata": {},
   "outputs": [],
   "source": [
    "predictions=[actions[np.argmax(i)] for i in predicted]\n",
    "actual=[actions[np.argmax(i)] for i in y_test]"
   ]
  },
  {
   "cell_type": "code",
   "execution_count": 124,
   "id": "fbfe918b-57b0-4d6a-9a4a-7599de5a8bac",
   "metadata": {},
   "outputs": [
    {
     "name": "stdout",
     "output_type": "stream",
     "text": [
      "['please', 'thanks', 'iloveyou', 'blank', 'thanks', 'thanks', 'please', 'blank', 'iloveyou', 'thanks', 'blank', 'thanks', 'thanks', 'iloveyou', 'hello', 'iloveyou', 'blank', 'please', 'thanks', 'iloveyou', 'thanks', 'thanks', 'thanks', 'iloveyou', 'please', 'hello', 'blank', 'hello', 'blank', 'blank', 'blank', 'thanks', 'hello', 'hello', 'blank', 'blank', 'please', 'blank', 'thanks', 'thanks', 'please', 'blank', 'iloveyou', 'blank', 'hello', 'hello', 'please', 'iloveyou', 'iloveyou', 'iloveyou', 'please', 'thanks', 'iloveyou', 'hello', 'iloveyou', 'please', 'please', 'iloveyou', 'iloveyou', 'please']\n",
      "\n",
      "['please', 'thanks', 'iloveyou', 'blank', 'thanks', 'thanks', 'please', 'blank', 'iloveyou', 'thanks', 'blank', 'thanks', 'thanks', 'iloveyou', 'hello', 'iloveyou', 'blank', 'please', 'thanks', 'iloveyou', 'thanks', 'thanks', 'thanks', 'iloveyou', 'please', 'hello', 'blank', 'hello', 'blank', 'blank', 'blank', 'thanks', 'hello', 'hello', 'blank', 'blank', 'please', 'blank', 'thanks', 'thanks', 'please', 'blank', 'iloveyou', 'blank', 'hello', 'hello', 'please', 'iloveyou', 'iloveyou', 'iloveyou', 'please', 'thanks', 'iloveyou', 'hello', 'hello', 'please', 'please', 'iloveyou', 'iloveyou', 'please']\n"
     ]
    }
   ],
   "source": [
    "print(predictions)\n",
    "print()\n",
    "print(actual)"
   ]
  },
  {
   "cell_type": "code",
   "execution_count": 125,
   "id": "63793a71-e7a7-419e-9f4b-d654fa8c073b",
   "metadata": {},
   "outputs": [],
   "source": [
    "predictions_val=[np.argmax(i) for i in predicted]\n",
    "actual_val=[np.argmax(i) for i in y_test]"
   ]
  },
  {
   "cell_type": "code",
   "execution_count": 126,
   "id": "b065fcf1-1cbc-465f-b644-8ed313570e3a",
   "metadata": {},
   "outputs": [],
   "source": [
    "from sklearn.metrics import confusion_matrix as com\n",
    "cm=com(actual_val,predictions_val)"
   ]
  },
  {
   "cell_type": "code",
   "execution_count": 127,
   "id": "2badd696-fd58-40eb-9bad-18381c75df8d",
   "metadata": {},
   "outputs": [
    {
     "data": {
      "text/plain": [
       "<Axes: >"
      ]
     },
     "execution_count": 127,
     "metadata": {},
     "output_type": "execute_result"
    },
    {
     "data": {
      "image/png": "[encoded data removed]",
      "text/plain": [
       "<Figure size 640x480 with 2 Axes>"
      ]
     },
     "metadata": {},
     "output_type": "display_data"
    }
   ],
   "source": [
    "heatmap(cm,annot=True)"
   ]
  },
  {
   "cell_type": "code",
   "execution_count": 111,
   "id": "41f62731-5f21-497b-af97-adb81f037f67",
   "metadata": {},
   "outputs": [],
   "source": [
    "model2.save('asl_model2.keras')"
   ]
  },
  {
   "cell_type": "code",
   "execution_count": 128,
   "id": "af6f3255-1ddd-4d07-8a52-50440c85e9c7",
   "metadata": {
    "scrolled": true
   },
   "outputs": [
    {
     "name": "stdout",
     "output_type": "stream",
     "text": [
      "2/2 [==============================] - 2s 46ms/step - loss: 0.0795 - categorical_accuracy: 0.9833\n"
     ]
    },
    {
     "data": {
      "text/plain": [
       "[0.0794592797756195, 0.9833333492279053]"
      ]
     },
     "execution_count": 128,
     "metadata": {},
     "output_type": "execute_result"
    }
   ],
   "source": [
    "model.evaluate(x_test,y_test)"
   ]
  },
  {
   "cell_type": "code",
   "execution_count": 15,
   "id": "d19f099b-99d3-4350-8b0c-fc682c2dc08b",
   "metadata": {},
   "outputs": [],
   "source": [
    "from tensorflow.keras.models import load_model"
   ]
  },
  {
   "cell_type": "code",
   "execution_count": 16,
   "id": "31219001-6ef7-43be-b12b-0a7b8347b91d",
   "metadata": {},
   "outputs": [],
   "source": [
    "model=load_model('asl_model1.keras')"
   ]
  },
  {
   "cell_type": "code",
   "execution_count": 129,
   "id": "38eb8eee-be73-4e0b-a2d2-6142cf1e0abd",
   "metadata": {},
   "outputs": [
    {
     "name": "stdout",
     "output_type": "stream",
     "text": [
      "2/2 [==============================] - 0s 59ms/step - loss: 3.2778 - categorical_accuracy: 0.4167\n"
     ]
    },
    {
     "data": {
      "text/plain": [
       "[3.2777726650238037, 0.4166666567325592]"
      ]
     },
     "execution_count": 129,
     "metadata": {},
     "output_type": "execute_result"
    }
   ],
   "source": [
    "model2.evaluate(x_test,y_test)"
   ]
  },
  {
   "cell_type": "code",
   "execution_count": 130,
   "id": "aebb76c4-822c-40bc-b0b9-7ba176946cd2",
   "metadata": {},
   "outputs": [],
   "source": [
    "# till now asl model1 is better"
   ]
  },
  {
   "cell_type": "code",
   "execution_count": 18,
   "id": "574bae34-7a1f-4d07-a7fb-6880bbb36feb",
   "metadata": {},
   "outputs": [
    {
     "data": {
      "text/plain": [
       "[<keras.src.layers.rnn.lstm.LSTM at 0x16bf7334a50>,\n",
       " <keras.src.layers.rnn.lstm.LSTM at 0x16bf72ed910>,\n",
       " <keras.src.layers.rnn.lstm.LSTM at 0x16bf72ed8d0>,\n",
       " <keras.src.layers.core.dense.Dense at 0x16bea9480d0>,\n",
       " <keras.src.layers.core.dense.Dense at 0x16bf7448990>,\n",
       " <keras.src.layers.core.dense.Dense at 0x16bf734bf90>]"
      ]
     },
     "execution_count": 18,
     "metadata": {},
     "output_type": "execute_result"
    }
   ],
   "source": [
    "model"
   ]
  },
  {
   "cell_type": "code",
   "execution_count": 19,
   "id": "1676ab36-e23a-49ff-afcd-844703d0aa8b",
   "metadata": {},
   "outputs": [],
   "source": [
    "# real time detection"
   ]
  },
  {
   "cell_type": "code",
   "execution_count": null,
   "id": "e71cb028-6201-4a7b-b3d9-80b77ba80eb5",
   "metadata": {},
   "outputs": [],
   "source": [
    "'''\n",
    "sentence array will contain all our predictions predicted by the model.\n",
    "\n",
    "frames=[] is an array which will contain the extracted landmarks.\n",
    "when the length of the this arrray == 30 then it will be converted to a numpy array as numpy arrays are suitable for predictions.\n",
    "then frames will again be set to [] / blank.\n",
    "\n",
    "after the frames array gets cleared \n",
    "    we are expanding the dimension of the input array as models accept batch of data.\n",
    "    giving the model to predict it\n",
    "    getting the first array of prediction\n",
    "    out of that first array we aking the index whose probablity is more\n",
    "    and then getting the action giving it as an index.\n",
    "\n",
    "we will be creating a white image which will be rendered everytime and will contain the predicted action in text.\n",
    "\n",
    "USER SHOULD BE 110cm or 43 inches AWAY FROM CAMERA FOR CORRECT PREDICTIONS.\n",
    "'''"
   ]
  },
  {
   "cell_type": "code",
   "execution_count": 50,
   "id": "1cb26077-4270-48fc-bb20-22fc04a191e7",
   "metadata": {},
   "outputs": [
    {
     "name": "stdout",
     "output_type": "stream",
     "text": [
      "1/1 [==============================] - 0s 38ms/step\n",
      "1/1 [==============================] - 0s 47ms/step\n",
      "1/1 [==============================] - 0s 22ms/step\n",
      "1/1 [==============================] - 0s 31ms/step\n",
      "1/1 [==============================] - 0s 38ms/step\n",
      "1/1 [==============================] - 0s 38ms/step\n",
      "1/1 [==============================] - 0s 31ms/step\n",
      "1/1 [==============================] - 0s 31ms/step\n",
      "1/1 [==============================] - 0s 31ms/step\n",
      "1/1 [==============================] - 0s 16ms/step\n",
      "1/1 [==============================] - 0s 27ms/step\n",
      "1/1 [==============================] - 0s 31ms/step\n",
      "1/1 [==============================] - 0s 31ms/step\n"
     ]
    }
   ],
   "source": [
    "sentence=[]\n",
    "frames=[]\n",
    "threshold=0.7  # change acc to detections\n",
    "white=cv.imread(\"white.png\")\n",
    "cap=cv.VideoCapture(0)\n",
    "while cap.isOpened():\n",
    "    _,frame=cap.read()\n",
    "    image,results=mediapipe_process(frame,holistic)\n",
    "    draw_landmarks(image,results)\n",
    "    # landmarks=extract_landmarks(results)\n",
    "    frames.insert(0,extract_landmarks(results))\n",
    "    \n",
    "    if len(frames)==30:\n",
    "        x=np.array(frames)\n",
    "        frames.clear()\n",
    "        # res_1=actions[np.argmax(model.predict(np.expand_dims(x,0))[0])]\n",
    "        res_1=model.predict(np.expand_dims(x,0))[0]  # this has the array of predictions\n",
    "        # sentence.append(res)\n",
    "    \n",
    "    # arrangement logic of words \n",
    "        if np.max(res_1)>threshold:  # if our predicted value is greater than the threshold\n",
    "            res_2=actions[np.argmax(res_1)]  #  predicted output will be stored in res_2 eg=> thanks\n",
    "            if len(sentence)>0:  # if length of sentence array is greater than 0 which means there are some words present.\n",
    "                if res_2!=sentence[-1]:  # if the latest outcome is not equal to the latest predicted outcome\n",
    "                    sentence.append(res_2)\n",
    "                \n",
    "            else: # if the sentence lenght is 0 which means its the first prediction\n",
    "                sentence.append(res_2) \n",
    "            \n",
    "    sentence=sentence[-5:]   \n",
    "    cv.putText(white,' '.join(sentence),(10,20),cv.FONT_HERSHEY_COMPLEX_SMALL,1,(0,0,0),1,cv.LINE_AA)\n",
    "    if cv.waitKey(5)==27:\n",
    "        cap.release()\n",
    "        cv.destroyAllWindows()\n",
    "        break\n",
    "\n",
    "    cv.imshow(\"frame\",image)\n",
    "    cv.imshow('ur_sentence',white)\n"
   ]
  },
  {
   "cell_type": "code",
   "execution_count": 31,
   "id": "9e092c1e-944a-44d2-b3b2-6e30a99bab7c",
   "metadata": {},
   "outputs": [
    {
     "data": {
      "text/plain": [
       "['hello', 'hello', 'iloveyou', 'blank', 'please', 'iloveyou']"
      ]
     },
     "execution_count": 31,
     "metadata": {},
     "output_type": "execute_result"
    }
   ],
   "source": [
    "sentence"
   ]
  },
  {
   "cell_type": "code",
   "execution_count": 42,
   "id": "fd74e653-bef8-405c-9095-5738f04dff31",
   "metadata": {},
   "outputs": [
    {
     "data": {
      "text/plain": [
       "array([4.0627378e-03, 4.9415537e-16, 7.8519285e-03, 2.1599365e-06,\n",
       "       9.8808318e-01], dtype=float32)"
      ]
     },
     "execution_count": 42,
     "metadata": {},
     "output_type": "execute_result"
    }
   ],
   "source": [
    "res_1"
   ]
  },
  {
   "cell_type": "code",
   "execution_count": null,
   "id": "991bed1b-a6ae-4f78-b7d0-22ce96e4d99c",
   "metadata": {},
   "outputs": [],
   "source": []
  }
 ],
 "metadata": {
  "kernelspec": {
   "display_name": "Python 3 (ipykernel)",
   "language": "python",
   "name": "python3"
  },
  "language_info": {
   "codemirror_mode": {
    "name": "ipython",
    "version": 3
   },
   "file_extension": ".py",
   "mimetype": "text/x-python",
   "name": "python",
   "nbconvert_exporter": "python",
   "pygments_lexer": "ipython3",
   "version": "3.11.5"
  }
 },
 "nbformat": 4,
 "nbformat_minor": 5
}
