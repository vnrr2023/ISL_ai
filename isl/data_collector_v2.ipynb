{
 "cells": [
  {
   "cell_type": "code",
   "execution_count": 2,
   "id": "5d0f3ec5-40f1-4bb4-9b51-fb5aa83e0f44",
   "metadata": {},
   "outputs": [],
   "source": [
    "import mediapipe as mp\n",
    "import numpy as np\n",
    "import cv2 as cv\n",
    "import os"
   ]
  },
  {
   "cell_type": "code",
   "execution_count": 3,
   "id": "b29bf7b3-cb60-4e1b-8bd2-57adbc9a1f78",
   "metadata": {},
   "outputs": [],
   "source": [
    "cap=cv.VideoCapture(0)\n",
    "while True:\n",
    "    _,frame=cap.read()\n",
    "\n",
    "    cv.imshow('frame',frame)\n",
    "    if cv.waitKey(10)==27:\n",
    "        cap.release()\n",
    "        break\n",
    "\n",
    "cv.destroyAllWindows()"
   ]
  },
  {
   "cell_type": "code",
   "execution_count": 9,
   "id": "19b5a716-1ada-4299-9eab-01376f6fb858",
   "metadata": {},
   "outputs": [],
   "source": [
    "mp_drawing=mp.solutions.drawing_utils\n",
    "mp_holistic=mp.solutions.holistic\n",
    "holistic=mp_holistic.Holistic()"
   ]
  },
  {
   "cell_type": "code",
   "execution_count": 18,
   "id": "915edc5b-989a-4b99-8382-a530cecc6359",
   "metadata": {},
   "outputs": [],
   "source": [
    "cap=cv.VideoCapture(0)\n",
    "while True:\n",
    "    _,frame=cap.read()\n",
    "    # mediapipe operations\n",
    "    img=cv.cvtColor(frame,cv.COLOR_BGR2RGB)\n",
    "    results=holistic.process(img)\n",
    "    img=cv.cvtColor(img,cv.COLOR_RGB2BGR)\n",
    "    draw_landmarks(img,results)\n",
    "\n",
    "    cv.imshow('frame',img)\n",
    "    if cv.waitKey(1)==27:\n",
    "        cap.release()\n",
    "        break\n",
    "\n",
    "cv.destroyAllWindows()"
   ]
  },
  {
   "cell_type": "code",
   "execution_count": 17,
   "id": "f00eddda-73e2-4048-ab68-65d555211dd4",
   "metadata": {},
   "outputs": [],
   "source": [
    "\n",
    "def draw_landmarks(img,results):\n",
    "    mp_drawing.draw_landmarks(img,results.left_hand_landmarks,mp_holistic.HAND_CONNECTIONS,style1,style2)\n",
    "    mp_drawing.draw_landmarks(img,results.right_hand_landmarks,mp_holistic.HAND_CONNECTIONS,style1,style2)\n",
    "    mp_drawing.draw_landmarks(img,results.pose_landmarks,mp_holistic.POSE_CONNECTIONS,style1,style2)\n",
    "    mp_drawing.draw_landmarks(img,results.face_landmarks,mp_holistic.FACEMESH_CONTOURS,style1,style2)"
   ]
  },
  {
   "cell_type": "code",
   "execution_count": 15,
   "id": "4d39e4c6-5366-45a0-8397-bb402d8d3e77",
   "metadata": {},
   "outputs": [],
   "source": [
    "style1=mp_drawing.DrawingSpec((71, 237, 212),1,1)\n",
    "style2=mp_drawing.DrawingSpec((67, 73, 247),2,1)\n",
    "def extract_landmarks(results):\n",
    "    face=np.array([[landmark.x,landmark.y,landmark.z] for landmark in results.face_landmarks.landmark]).flatten()  if results.face_landmarks else np.zeros(1404)\n",
    "    pose=np.array([[landmark.x,landmark.y,landmark.z , landmark.visibility] for landmark in results.pose_landmarks.landmark]).flatten() if results.pose_landmarks else np.zeros(132)\n",
    "    rh=np.array([[landmark.x,landmark.y,landmark.z] for landmark in results.right_hand_landmarks.landmark]).flatten() if results.right_hand_landmarks else np.zeros(63)\n",
    "    lh=np.array([[landmark.x,landmark.y,landmark.z] for landmark in results.left_hand_landmarks.landmark]).flatten() if results.left_hand_landmarks else np.zeros(63)\n",
    "\n",
    "    return np.concatenate([pose,face,lh,rh])"
   ]
  },
  {
   "cell_type": "code",
   "execution_count": null,
   "id": "56f3b977-f63a-45c3-becf-08466bf0a2a4",
   "metadata": {},
   "outputs": [],
   "source": [
    "data_dir='data'\n"
   ]
  },
  {
   "cell_type": "code",
   "execution_count": null,
   "id": "5c5b59c7-b85d-423e-96eb-5990cc1f8f28",
   "metadata": {},
   "outputs": [],
   "source": [
    "no_of_videos=75\n",
    "no_of_frames=30"
   ]
  },
  {
   "cell_type": "code",
   "execution_count": null,
   "id": "339ed845-5296-4adc-befc-9d5bcbb37402",
   "metadata": {},
   "outputs": [],
   "source": [
    "action='blank'"
   ]
  },
  {
   "cell_type": "code",
   "execution_count": null,
   "id": "67b1cdc4-e847-4ee7-997b-e3f45ea9dcae",
   "metadata": {},
   "outputs": [],
   "source": [
    "try:\n",
    "    cap=cv.VideoCapture(0)\n",
    "\n",
    "    for video in range(no_of_videos):\n",
    "        for frame in range(no_of_frames):\n",
    "            _,framee=cap.read()\n",
    "            # mediapipe operations\n",
    "            img=cv.cvtColor(framee,cv.COLOR_BGR2RGB)\n",
    "            results=holistic.process(img)\n",
    "            img=cv.cvtColor(img,cv.COLOR_RGB2BGR)\n",
    "            \n",
    "            draw_landmarks(img,results)\n",
    "            landmarks=extract_landmarks(results)\n",
    "            if frame==0:  # for the first frame\n",
    "                cv.putText(img,f'starting collection',(100,200),cv.FONT_HERSHEY_COMPLEX_SMALL,4,(0,0,255),1,cv.LINE_AA)\n",
    "                cv.putText(img,f'For {action}  Video {video} Frame {frame}',(120,32),cv.FONT_HERSHEY_COMPLEX_SMALL,1,(0,255,0),1,cv.LINE_AA)\n",
    "                cv.imshow('image',img)\n",
    "                cv.waitKey(4000)\n",
    "            else:\n",
    "                cv.putText(img,f'For {action}  Video {video} Frame {frame}',(120,32),cv.FONT_HERSHEY_COMPLEX_SMALL,1,(0,255,0),1,cv.LINE_AA)\n",
    "                cv.imshow('image',img)\n",
    "\n",
    "            path=os.path.join(data_dir,action,str(video),f'{frame}.npy')\n",
    "            np.save(path,landmarks)\n",
    "                \n",
    "\n",
    "            \n",
    "        \n",
    "            \n",
    "            if cv.waitKey(1)==27:\n",
    "                cap.release()\n",
    "                break\n",
    "        \n",
    "except:\n",
    "        print('error')\n",
    "\n",
    "\n",
    "cv.destroyAllWindows()"
   ]
  },
  {
   "cell_type": "code",
   "execution_count": 16,
   "id": "792bae83-4a15-4112-bc0f-34b42eefbc6f",
   "metadata": {},
   "outputs": [],
   "source": [
    "cap.release()"
   ]
  },
  {
   "cell_type": "code",
   "execution_count": null,
   "id": "0c2e763a-4c21-4e97-b5a9-eeb149568d89",
   "metadata": {},
   "outputs": [],
   "source": []
  }
 ],
 "metadata": {
  "kernelspec": {
   "display_name": "Python 3 (ipykernel)",
   "language": "python",
   "name": "python3"
  },
  "language_info": {
   "codemirror_mode": {
    "name": "ipython",
    "version": 3
   },
   "file_extension": ".py",
   "mimetype": "text/x-python",
   "name": "python",
   "nbconvert_exporter": "python",
   "pygments_lexer": "ipython3",
   "version": "3.11.5"
  }
 },
 "nbformat": 4,
 "nbformat_minor": 5
}
