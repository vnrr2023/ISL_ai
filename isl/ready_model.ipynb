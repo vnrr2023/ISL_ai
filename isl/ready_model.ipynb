{
 "cells": [
  {
   "cell_type": "code",
   "execution_count": 1,
   "id": "f3882108-8c7c-43e3-91df-a9201c7e7db6",
   "metadata": {},
   "outputs": [],
   "source": [
    "from mediapipe import solutions as mp\n",
    "import cv2 as cv\n",
    "import numpy as np"
   ]
  },
  {
   "cell_type": "code",
   "execution_count": 2,
   "id": "a45c1402-5082-4e09-a61f-fabb172322ef",
   "metadata": {},
   "outputs": [],
   "source": [
    "mp_drawing=mp.drawing_utils\n",
    "mp_holistic=mp.holistic"
   ]
  },
  {
   "cell_type": "code",
   "execution_count": 3,
   "id": "242feebe-2467-4c2f-9447-4406d78c2ab7",
   "metadata": {},
   "outputs": [],
   "source": [
    "holistic=mp_holistic.Holistic(min_detection_confidence=0.7)"
   ]
  },
  {
   "cell_type": "code",
   "execution_count": 8,
   "id": "d6d0a956-7e07-41c6-b6b2-3ba59b486128",
   "metadata": {},
   "outputs": [],
   "source": [
    "cap=cv.VideoCapture(0)\n",
    "\n",
    "while cap.isOpened():\n",
    "    _,frame=cap.read()\n",
    "    if cv.waitKey(1)==27:\n",
    "        cap.release()\n",
    "        cv.destroyAllWindows()\n",
    "        break\n",
    "        \n",
    "    image=cv.cvtColor(frame,cv.COLOR_BGR2RGB)\n",
    "    results=holistic.process(image)\n",
    "    image=cv.cvtColor(image,cv.COLOR_RGB2BGR)\n",
    "    \n",
    "    mp_drawing.draw_landmarks(image,results.left_hand_landmarks,mp_holistic.HAND_CONNECTIONS)\n",
    "    mp_drawing.draw_landmarks(image,results.right_hand_landmarks,mp_holistic.HAND_CONNECTIONS)\n",
    "    mp_drawing.draw_landmarks(image,results.face_landmarks,mp_holistic.FACEMESH_CONTOURS,mp_drawing.DrawingSpec(color=(0,255,0),thickness=1,circle_radius=1),mp_drawing.DrawingSpec(color=(0,255,0),thickness=1,circle_radius=1))\n",
    "    mp_drawing.draw_landmarks(image,results.pose_landmarks,mp_holistic.POSE_CONNECTIONS)\n",
    "    \n",
    "    \n",
    "    cv.imshow('frame',image)"
   ]
  },
  {
   "cell_type": "code",
   "execution_count": 9,
   "id": "7fe7d020-d889-4d69-9160-461f9c1991bd",
   "metadata": {},
   "outputs": [
    {
     "ename": "TypeError",
     "evalue": "object of type 'NormalizedLandmarkList' has no len()",
     "output_type": "error",
     "traceback": [
      "\u001b[1;31m---------------------------------------------------------------------------\u001b[0m",
      "\u001b[1;31mTypeError\u001b[0m                                 Traceback (most recent call last)",
      "Cell \u001b[1;32mIn[9], line 1\u001b[0m\n\u001b[1;32m----> 1\u001b[0m total_landmarks\u001b[38;5;241m=\u001b[39m\u001b[38;5;28;43mlen\u001b[39;49m\u001b[43m(\u001b[49m\u001b[43mresults\u001b[49m\u001b[38;5;241;43m.\u001b[39;49m\u001b[43mleft_hand_landmarks\u001b[49m\u001b[43m)\u001b[49m\u001b[38;5;241m+\u001b[39m\u001b[38;5;28mlen\u001b[39m(results\u001b[38;5;241m.\u001b[39mright_hand_landmarks)\n",
      "\u001b[1;31mTypeError\u001b[0m: object of type 'NormalizedLandmarkList' has no len()"
     ]
    }
   ],
   "source": [
    "\n",
    "# total_landmarks=len(results.left_hand_landmarks)+len(results.right_hand_landmarks)"
   ]
  },
  {
   "cell_type": "code",
   "execution_count": 18,
   "id": "246ebdb6-f88c-434e-90c2-22ed57e648cb",
   "metadata": {},
   "outputs": [],
   "source": [
    "total_landmarks=len(results.left_hand_landmarks.landmark)+len(results.right_hand_landmarks.landmark)"
   ]
  },
  {
   "cell_type": "code",
   "execution_count": 20,
   "id": "94535780-077c-460b-aadd-d154a0c69550",
   "metadata": {},
   "outputs": [],
   "source": [
    "\n",
    "from pandas import *"
   ]
  },
  {
   "cell_type": "code",
   "execution_count": 19,
   "id": "18976c72-2295-4306-b449-fccbaa9e7ca1",
   "metadata": {},
   "outputs": [
    {
     "data": {
      "text/plain": [
       "42"
      ]
     },
     "execution_count": 19,
     "metadata": {},
     "output_type": "execute_result"
    }
   ],
   "source": [
    "total_landmarks"
   ]
  },
  {
   "cell_type": "code",
   "execution_count": 21,
   "id": "dd555925-11f4-4f69-a486-0b386cd16974",
   "metadata": {},
   "outputs": [],
   "source": [
    "landmark_list=['class']\n",
    "for i in range(total_landmarks):\n",
    "    landmark_list=landmark_list+[f'x{i}',f'y{i}',f'z{i}']"
   ]
  },
  {
   "cell_type": "code",
   "execution_count": 22,
   "id": "ff1fb021-1e3e-4e58-9f16-ce6cf08f4f6c",
   "metadata": {},
   "outputs": [
    {
     "data": {
      "text/plain": [
       "['class',\n",
       " 'x0',\n",
       " 'y0',\n",
       " 'z0',\n",
       " 'x1',\n",
       " 'y1',\n",
       " 'z1',\n",
       " 'x2',\n",
       " 'y2',\n",
       " 'z2',\n",
       " 'x3',\n",
       " 'y3',\n",
       " 'z3',\n",
       " 'x4',\n",
       " 'y4',\n",
       " 'z4',\n",
       " 'x5',\n",
       " 'y5',\n",
       " 'z5',\n",
       " 'x6',\n",
       " 'y6',\n",
       " 'z6',\n",
       " 'x7',\n",
       " 'y7',\n",
       " 'z7',\n",
       " 'x8',\n",
       " 'y8',\n",
       " 'z8',\n",
       " 'x9',\n",
       " 'y9',\n",
       " 'z9',\n",
       " 'x10',\n",
       " 'y10',\n",
       " 'z10',\n",
       " 'x11',\n",
       " 'y11',\n",
       " 'z11',\n",
       " 'x12',\n",
       " 'y12',\n",
       " 'z12',\n",
       " 'x13',\n",
       " 'y13',\n",
       " 'z13',\n",
       " 'x14',\n",
       " 'y14',\n",
       " 'z14',\n",
       " 'x15',\n",
       " 'y15',\n",
       " 'z15',\n",
       " 'x16',\n",
       " 'y16',\n",
       " 'z16',\n",
       " 'x17',\n",
       " 'y17',\n",
       " 'z17',\n",
       " 'x18',\n",
       " 'y18',\n",
       " 'z18',\n",
       " 'x19',\n",
       " 'y19',\n",
       " 'z19',\n",
       " 'x20',\n",
       " 'y20',\n",
       " 'z20',\n",
       " 'x21',\n",
       " 'y21',\n",
       " 'z21',\n",
       " 'x22',\n",
       " 'y22',\n",
       " 'z22',\n",
       " 'x23',\n",
       " 'y23',\n",
       " 'z23',\n",
       " 'x24',\n",
       " 'y24',\n",
       " 'z24',\n",
       " 'x25',\n",
       " 'y25',\n",
       " 'z25',\n",
       " 'x26',\n",
       " 'y26',\n",
       " 'z26',\n",
       " 'x27',\n",
       " 'y27',\n",
       " 'z27',\n",
       " 'x28',\n",
       " 'y28',\n",
       " 'z28',\n",
       " 'x29',\n",
       " 'y29',\n",
       " 'z29',\n",
       " 'x30',\n",
       " 'y30',\n",
       " 'z30',\n",
       " 'x31',\n",
       " 'y31',\n",
       " 'z31',\n",
       " 'x32',\n",
       " 'y32',\n",
       " 'z32',\n",
       " 'x33',\n",
       " 'y33',\n",
       " 'z33',\n",
       " 'x34',\n",
       " 'y34',\n",
       " 'z34',\n",
       " 'x35',\n",
       " 'y35',\n",
       " 'z35',\n",
       " 'x36',\n",
       " 'y36',\n",
       " 'z36',\n",
       " 'x37',\n",
       " 'y37',\n",
       " 'z37',\n",
       " 'x38',\n",
       " 'y38',\n",
       " 'z38',\n",
       " 'x39',\n",
       " 'y39',\n",
       " 'z39',\n",
       " 'x40',\n",
       " 'y40',\n",
       " 'z40',\n",
       " 'x41',\n",
       " 'y41',\n",
       " 'z41']"
      ]
     },
     "execution_count": 22,
     "metadata": {},
     "output_type": "execute_result"
    }
   ],
   "source": [
    "landmark_list"
   ]
  },
  {
   "cell_type": "code",
   "execution_count": 23,
   "id": "0763ed4d-9ec8-49d5-a5c0-8e67e6d4172a",
   "metadata": {},
   "outputs": [],
   "source": [
    "df=DataFrame(columns=landmark_list)"
   ]
  },
  {
   "cell_type": "code",
   "execution_count": 24,
   "id": "56a5e87b-f9d5-4787-b3de-a9d1cd495c06",
   "metadata": {},
   "outputs": [
    {
     "data": {
      "text/html": [
       "<div>\n",
       "<style scoped>\n",
       "    .dataframe tbody tr th:only-of-type {\n",
       "        vertical-align: middle;\n",
       "    }\n",
       "\n",
       "    .dataframe tbody tr th {\n",
       "        vertical-align: top;\n",
       "    }\n",
       "\n",
       "    .dataframe thead th {\n",
       "        text-align: right;\n",
       "    }\n",
       "</style>\n",
       "<table border=\"1\" class=\"dataframe\">\n",
       "  <thead>\n",
       "    <tr style=\"text-align: right;\">\n",
       "      <th></th>\n",
       "      <th>class</th>\n",
       "      <th>x0</th>\n",
       "      <th>y0</th>\n",
       "      <th>z0</th>\n",
       "      <th>x1</th>\n",
       "      <th>y1</th>\n",
       "      <th>z1</th>\n",
       "      <th>x2</th>\n",
       "      <th>y2</th>\n",
       "      <th>z2</th>\n",
       "      <th>...</th>\n",
       "      <th>z38</th>\n",
       "      <th>x39</th>\n",
       "      <th>y39</th>\n",
       "      <th>z39</th>\n",
       "      <th>x40</th>\n",
       "      <th>y40</th>\n",
       "      <th>z40</th>\n",
       "      <th>x41</th>\n",
       "      <th>y41</th>\n",
       "      <th>z41</th>\n",
       "    </tr>\n",
       "  </thead>\n",
       "  <tbody>\n",
       "  </tbody>\n",
       "</table>\n",
       "<p>0 rows × 127 columns</p>\n",
       "</div>"
      ],
      "text/plain": [
       "Empty DataFrame\n",
       "Columns: [class, x0, y0, z0, x1, y1, z1, x2, y2, z2, x3, y3, z3, x4, y4, z4, x5, y5, z5, x6, y6, z6, x7, y7, z7, x8, y8, z8, x9, y9, z9, x10, y10, z10, x11, y11, z11, x12, y12, z12, x13, y13, z13, x14, y14, z14, x15, y15, z15, x16, y16, z16, x17, y17, z17, x18, y18, z18, x19, y19, z19, x20, y20, z20, x21, y21, z21, x22, y22, z22, x23, y23, z23, x24, y24, z24, x25, y25, z25, x26, y26, z26, x27, y27, z27, x28, y28, z28, x29, y29, z29, x30, y30, z30, x31, y31, z31, x32, y32, z32, ...]\n",
       "Index: []\n",
       "\n",
       "[0 rows x 127 columns]"
      ]
     },
     "execution_count": 24,
     "metadata": {},
     "output_type": "execute_result"
    }
   ],
   "source": [
    "df"
   ]
  },
  {
   "cell_type": "code",
   "execution_count": null,
   "id": "126e7676-2a4c-41e6-945d-2d673eb8808d",
   "metadata": {},
   "outputs": [],
   "source": [
    "\n",
    "# collecting live data\n",
    "class_name='Happy'"
   ]
  },
  {
   "cell_type": "code",
   "execution_count": null,
   "id": "ac590897-8362-4ae7-97b8-e30f2e2bf6ac",
   "metadata": {},
   "outputs": [],
   "source": [
    "cap=cv.VideoCapture(0)\n",
    "\n",
    "while cap.isOpened():\n",
    "    _,frame=cap.read()\n",
    "    \n",
    "        \n",
    "    image=cv.cvtColor(frame,cv.COLOR_BGR2RGB)\n",
    "    results=holistic.process(image)\n",
    "    image=cv.cvtColor(image,cv.COLOR_RGB2BGR)\n",
    "    \n",
    "#     mp_drawing.draw_landmarks(image,results.left_hand_landmarks,mp_holistic.HAND_CONNECTIONS)\n",
    "#     mp_drawing.draw_landmarks(image,results.right_hand_landmarks,mp_holistic.HAND_CONNECTIONS)\n",
    "    mp_drawing.draw_landmarks(image,results.face_landmarks,mp_holistic.FACEMESH_CONTOURS,mp_drawing.DrawingSpec(color=(0,255,0),thickness=1,circle_radius=1),mp_drawing.DrawingSpec(color=(0,255,0),thickness=1,circle_radius=1))\n",
    "    mp_drawing.draw_landmarks(image,results.pose_landmarks,mp_holistic.POSE_CONNECTIONS)\n",
    "    \n",
    "#     pose\n",
    "    pose=results.pose_landmarks.landmark\n",
    "    pose_row=list(np.array([[landmark.x,landmark.y,landmark.z,landmark.visibility] for landmark in pose]).flatten())\n",
    "    face=results.face_landmarks.landmark\n",
    "    face_row=list(np.array([[landmark.x,landmark.y,landmark.z,landmark.visibility] for landmark in face]).flatten())\n",
    "    row=pose_row+face_row\n",
    "    row.insert(0,class_name)\n",
    "    \n",
    "    #adding data to pandas data_frame\n",
    "    df.loc[len(df)]=row\n",
    "    \n",
    "    if cv.waitKey(2)==27:\n",
    "        cap.release()\n",
    "        cv.destroyAllWindows()\n",
    "        break\n",
    "    \n",
    "    \n",
    "    cv.imshow('frame',image)"
   ]
  }
 ],
 "metadata": {
  "kernelspec": {
   "display_name": "Python 3 (ipykernel)",
   "language": "python",
   "name": "python3"
  },
  "language_info": {
   "codemirror_mode": {
    "name": "ipython",
    "version": 3
   },
   "file_extension": ".py",
   "mimetype": "text/x-python",
   "name": "python",
   "nbconvert_exporter": "python",
   "pygments_lexer": "ipython3",
   "version": "3.11.5"
  }
 },
 "nbformat": 4,
 "nbformat_minor": 5
}
