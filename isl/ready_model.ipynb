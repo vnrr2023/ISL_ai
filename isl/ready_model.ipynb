{
 "cells": [
  {
   "cell_type": "code",
   "execution_count": 1,
   "id": "f3882108-8c7c-43e3-91df-a9201c7e7db6",
   "metadata": {},
   "outputs": [],
   "source": [
    "from mediapipe import solutions as mp\n",
    "import cv2 as cv\n",
    "import numpy as np"
   ]
  },
  {
   "cell_type": "code",
   "execution_count": 2,
   "id": "a45c1402-5082-4e09-a61f-fabb172322ef",
   "metadata": {},
   "outputs": [],
   "source": [
    "mp_drawing=mp.drawing_utils\n",
    "mp_holistic=mp.holistic"
   ]
  },
  {
   "cell_type": "code",
   "execution_count": 3,
   "id": "242feebe-2467-4c2f-9447-4406d78c2ab7",
   "metadata": {},
   "outputs": [],
   "source": [
    "holistic=mp_holistic.Holistic(min_detection_confidence=0.7)"
   ]
  },
  {
   "cell_type": "code",
   "execution_count": 4,
   "id": "196de83b-56f0-467f-b659-c8c3a5e754d2",
   "metadata": {},
   "outputs": [
    {
     "data": {
      "text/plain": [
       "63"
      ]
     },
     "execution_count": 4,
     "metadata": {},
     "output_type": "execute_result"
    }
   ],
   "source": [
    "21*3"
   ]
  },
  {
   "cell_type": "code",
   "execution_count": 5,
   "id": "7fe7d020-d889-4d69-9160-461f9c1991bd",
   "metadata": {},
   "outputs": [],
   "source": [
    "def draw_landmarks(results,image):\n",
    "    mp_drawing.draw_landmarks(image,results.left_hand_landmarks,mp_holistic.HAND_CONNECTIONS)\n",
    "    mp_drawing.draw_landmarks(image,results.right_hand_landmarks,mp_holistic.HAND_CONNECTIONS)\n",
    "    mp_drawing.draw_landmarks(image,results.face_landmarks,mp_holistic.FACEMESH_CONTOURS,mp_drawing.DrawingSpec(color=(0,255,0),thickness=1,circle_radius=1),mp_drawing.DrawingSpec(color=(0,255,0),thickness=1,circle_radius=1))\n",
    "    mp_drawing.draw_landmarks(image,results.pose_landmarks,mp_holistic.POSE_CONNECTIONS)\n",
    "    \n",
    "    "
   ]
  },
  {
   "cell_type": "code",
   "execution_count": 6,
   "id": "61ccd659-c002-4abc-bc18-f8b04eeaf128",
   "metadata": {},
   "outputs": [],
   "source": [
    "def extract_landmarks(results):\n",
    "    lh=np.array([[landmark.x,landmark.y,landmark.z] for landmark in results.left_hand_landmarks.landmark]).flatten() if results.left_hand_landmarks else np.zeros(63)\n",
    "    rh=np.array([[landmark.x,landmark.y,landmark.z] for landmark in results.right_hand_landmarks.landmark]).flatten() if results.right_hand_landmarks else np.zeros(63)\n",
    "    return np.concatenate([lh,rh])"
   ]
  },
  {
   "cell_type": "code",
   "execution_count": 12,
   "id": "d6d0a956-7e07-41c6-b6b2-3ba59b486128",
   "metadata": {},
   "outputs": [],
   "source": [
    "cap=cv.VideoCapture(0)\n",
    "\n",
    "while cap.isOpened():\n",
    "    _,frame=cap.read()\n",
    "    try:\n",
    "        if cv.waitKey(1)==27:\n",
    "            cap.release()\n",
    "            cv.destroyAllWindows()\n",
    "            break\n",
    "            \n",
    "        image=cv.cvtColor(frame,cv.COLOR_BGR2RGB)\n",
    "        results=holistic.process(image)\n",
    "        image=cv.cvtColor(image,cv.COLOR_RGB2BGR)\n",
    "        draw_landmarks(results,image)\n",
    "        landmarks=extract_landmarks(results)\n",
    "    except:\n",
    "        continue\n",
    "        \n",
    "    \n",
    "    \n",
    "    cv.imshow('frame',image)"
   ]
  },
  {
   "cell_type": "code",
   "execution_count": 19,
   "id": "246ebdb6-f88c-434e-90c2-22ed57e648cb",
   "metadata": {},
   "outputs": [],
   "source": [
    "total_landmarks=2*len(results.right_hand_landmarks.landmark)"
   ]
  },
  {
   "cell_type": "code",
   "execution_count": 35,
   "id": "94535780-077c-460b-aadd-d154a0c69550",
   "metadata": {},
   "outputs": [],
   "source": [
    "\n",
    "from pandas import *"
   ]
  },
  {
   "cell_type": "code",
   "execution_count": 21,
   "id": "18976c72-2295-4306-b449-fccbaa9e7ca1",
   "metadata": {},
   "outputs": [
    {
     "data": {
      "text/plain": [
       "42"
      ]
     },
     "execution_count": 21,
     "metadata": {},
     "output_type": "execute_result"
    }
   ],
   "source": [
    "total_landmarks"
   ]
  },
  {
   "cell_type": "code",
   "execution_count": 52,
   "id": "dd555925-11f4-4f69-a486-0b386cd16974",
   "metadata": {},
   "outputs": [],
   "source": [
    "landmark_list=[]\n",
    "for i in range(42):\n",
    "    landmark_list=landmark_list+[f'x{i}',f'y{i}',f'z{i}']"
   ]
  },
  {
   "cell_type": "code",
   "execution_count": 53,
   "id": "ff1fb021-1e3e-4e58-9f16-ce6cf08f4f6c",
   "metadata": {},
   "outputs": [
    {
     "data": {
      "text/plain": [
       "126"
      ]
     },
     "execution_count": 53,
     "metadata": {},
     "output_type": "execute_result"
    }
   ],
   "source": [
    "len(landmark_list)"
   ]
  },
  {
   "cell_type": "code",
   "execution_count": 54,
   "id": "0763ed4d-9ec8-49d5-a5c0-8e67e6d4172a",
   "metadata": {},
   "outputs": [],
   "source": [
    "df=DataFrame(columns=landmark_list)"
   ]
  },
  {
   "cell_type": "code",
   "execution_count": 55,
   "id": "56a5e87b-f9d5-4787-b3de-a9d1cd495c06",
   "metadata": {},
   "outputs": [
    {
     "data": {
      "text/html": [
       "<div>\n",
       "<style scoped>\n",
       "    .dataframe tbody tr th:only-of-type {\n",
       "        vertical-align: middle;\n",
       "    }\n",
       "\n",
       "    .dataframe tbody tr th {\n",
       "        vertical-align: top;\n",
       "    }\n",
       "\n",
       "    .dataframe thead th {\n",
       "        text-align: right;\n",
       "    }\n",
       "</style>\n",
       "<table border=\"1\" class=\"dataframe\">\n",
       "  <thead>\n",
       "    <tr style=\"text-align: right;\">\n",
       "      <th></th>\n",
       "      <th>x0</th>\n",
       "      <th>y0</th>\n",
       "      <th>z0</th>\n",
       "      <th>x1</th>\n",
       "      <th>y1</th>\n",
       "      <th>z1</th>\n",
       "      <th>x2</th>\n",
       "      <th>y2</th>\n",
       "      <th>z2</th>\n",
       "      <th>x3</th>\n",
       "      <th>...</th>\n",
       "      <th>z38</th>\n",
       "      <th>x39</th>\n",
       "      <th>y39</th>\n",
       "      <th>z39</th>\n",
       "      <th>x40</th>\n",
       "      <th>y40</th>\n",
       "      <th>z40</th>\n",
       "      <th>x41</th>\n",
       "      <th>y41</th>\n",
       "      <th>z41</th>\n",
       "    </tr>\n",
       "  </thead>\n",
       "  <tbody>\n",
       "  </tbody>\n",
       "</table>\n",
       "<p>0 rows × 126 columns</p>\n",
       "</div>"
      ],
      "text/plain": [
       "Empty DataFrame\n",
       "Columns: [x0, y0, z0, x1, y1, z1, x2, y2, z2, x3, y3, z3, x4, y4, z4, x5, y5, z5, x6, y6, z6, x7, y7, z7, x8, y8, z8, x9, y9, z9, x10, y10, z10, x11, y11, z11, x12, y12, z12, x13, y13, z13, x14, y14, z14, x15, y15, z15, x16, y16, z16, x17, y17, z17, x18, y18, z18, x19, y19, z19, x20, y20, z20, x21, y21, z21, x22, y22, z22, x23, y23, z23, x24, y24, z24, x25, y25, z25, x26, y26, z26, x27, y27, z27, x28, y28, z28, x29, y29, z29, x30, y30, z30, x31, y31, z31, x32, y32, z32, x33, ...]\n",
       "Index: []\n",
       "\n",
       "[0 rows x 126 columns]"
      ]
     },
     "execution_count": 55,
     "metadata": {},
     "output_type": "execute_result"
    }
   ],
   "source": [
    "df"
   ]
  },
  {
   "cell_type": "code",
   "execution_count": 56,
   "id": "447c56e4-c15b-4c6f-89c1-fa933d333079",
   "metadata": {},
   "outputs": [],
   "source": [
    "class_df=DataFrame(columns=['class'])"
   ]
  },
  {
   "cell_type": "code",
   "execution_count": 57,
   "id": "643fe505-e4f1-4abb-ba00-ec1f6b6bc197",
   "metadata": {},
   "outputs": [
    {
     "data": {
      "text/html": [
       "<div>\n",
       "<style scoped>\n",
       "    .dataframe tbody tr th:only-of-type {\n",
       "        vertical-align: middle;\n",
       "    }\n",
       "\n",
       "    .dataframe tbody tr th {\n",
       "        vertical-align: top;\n",
       "    }\n",
       "\n",
       "    .dataframe thead th {\n",
       "        text-align: right;\n",
       "    }\n",
       "</style>\n",
       "<table border=\"1\" class=\"dataframe\">\n",
       "  <thead>\n",
       "    <tr style=\"text-align: right;\">\n",
       "      <th></th>\n",
       "      <th>class</th>\n",
       "    </tr>\n",
       "  </thead>\n",
       "  <tbody>\n",
       "  </tbody>\n",
       "</table>\n",
       "</div>"
      ],
      "text/plain": [
       "Empty DataFrame\n",
       "Columns: [class]\n",
       "Index: []"
      ]
     },
     "execution_count": 57,
     "metadata": {},
     "output_type": "execute_result"
    }
   ],
   "source": [
    "class_df"
   ]
  },
  {
   "cell_type": "code",
   "execution_count": 61,
   "id": "126e7676-2a4c-41e6-945d-2d673eb8808d",
   "metadata": {},
   "outputs": [],
   "source": [
    "\n",
    "# collecting live data\n",
    "class_name='ready'"
   ]
  },
  {
   "cell_type": "code",
   "execution_count": 62,
   "id": "ac590897-8362-4ae7-97b8-e30f2e2bf6ac",
   "metadata": {},
   "outputs": [],
   "source": [
    "cap=cv.VideoCapture(0)\n",
    "\n",
    "while cap.isOpened():\n",
    "    _,frame=cap.read()\n",
    "    \n",
    "        \n",
    "    image=cv.cvtColor(frame,cv.COLOR_BGR2RGB)\n",
    "    results=holistic.process(image)\n",
    "    image=cv.cvtColor(image,cv.COLOR_RGB2BGR)\n",
    "    draw_landmarks(results,image)\n",
    "#     mp_drawing.draw_landmarks(image,results.left_hand_landmarks,mp_holistic.HAND_CONNECTIONS)\n",
    "#     mp_drawing.draw_landmarks(image,results.right_hand_landmarks,mp_holistic.HAND_CONNECTIONS)\n",
    "    # mp_drawing.draw_landmarks(image,results.face_landmarks,mp_holistic.FACEMESH_CONTOURS,mp_drawing.DrawingSpec(color=(0,255,0),thickness=1,circle_radius=1),mp_drawing.DrawingSpec(color=(0,255,0),thickness=1,circle_radius=1))\n",
    "    # mp_drawing.draw_landmarks(image,results.pose_landmarks,mp_holistic.POSE_CONNECTIONS)\n",
    "    \n",
    "#     pose\n",
    "    # pose=results.pose_landmarks.landmark\n",
    "    # pose_row=list(np.array([[landmark.x,landmark.y,landmark.z,landmark.visibility] for landmark in pose]).flatten())\n",
    "    # face=results.face_landmarks.landmark\n",
    "    # face_row=list(np.array([[landmark.x,landmark.y,landmark.z,landmark.visibility] for landmark in face]).flatten())\n",
    "    # row=pose_row+face_row\n",
    "    # row.insert(0,class_name)\n",
    "    landmarks=extract_landmarks(results)\n",
    "    \n",
    "    \n",
    "    #adding data to pandas data_frame\n",
    "    df.loc[len(df)]=landmarks\n",
    "    class_df.loc[len(class_df)]=class_name\n",
    "    \n",
    "    if cv.waitKey(2)==27:\n",
    "        cap.release()\n",
    "        cv.destroyAllWindows()\n",
    "        break\n",
    "    \n",
    "    \n",
    "    cv.imshow('frame',image)"
   ]
  },
  {
   "cell_type": "code",
   "execution_count": 7,
   "id": "172595fd-e82e-4699-b868-f84fa861d7d0",
   "metadata": {},
   "outputs": [],
   "source": [
    "cap.release()"
   ]
  },
  {
   "cell_type": "code",
   "execution_count": 63,
   "id": "4798b934-350a-4df4-a97b-99b9a83965c4",
   "metadata": {},
   "outputs": [
    {
     "data": {
      "text/html": [
       "<div>\n",
       "<style scoped>\n",
       "    .dataframe tbody tr th:only-of-type {\n",
       "        vertical-align: middle;\n",
       "    }\n",
       "\n",
       "    .dataframe tbody tr th {\n",
       "        vertical-align: top;\n",
       "    }\n",
       "\n",
       "    .dataframe thead th {\n",
       "        text-align: right;\n",
       "    }\n",
       "</style>\n",
       "<table border=\"1\" class=\"dataframe\">\n",
       "  <thead>\n",
       "    <tr style=\"text-align: right;\">\n",
       "      <th></th>\n",
       "      <th>x0</th>\n",
       "      <th>y0</th>\n",
       "      <th>z0</th>\n",
       "      <th>x1</th>\n",
       "      <th>y1</th>\n",
       "      <th>z1</th>\n",
       "      <th>x2</th>\n",
       "      <th>y2</th>\n",
       "      <th>z2</th>\n",
       "      <th>x3</th>\n",
       "      <th>...</th>\n",
       "      <th>z38</th>\n",
       "      <th>x39</th>\n",
       "      <th>y39</th>\n",
       "      <th>z39</th>\n",
       "      <th>x40</th>\n",
       "      <th>y40</th>\n",
       "      <th>z40</th>\n",
       "      <th>x41</th>\n",
       "      <th>y41</th>\n",
       "      <th>z41</th>\n",
       "    </tr>\n",
       "  </thead>\n",
       "  <tbody>\n",
       "    <tr>\n",
       "      <th>0</th>\n",
       "      <td>0.000000</td>\n",
       "      <td>0.000000</td>\n",
       "      <td>0.000000e+00</td>\n",
       "      <td>0.000000</td>\n",
       "      <td>0.000000</td>\n",
       "      <td>0.000000</td>\n",
       "      <td>0.000000</td>\n",
       "      <td>0.000000</td>\n",
       "      <td>0.000000</td>\n",
       "      <td>0.000000</td>\n",
       "      <td>...</td>\n",
       "      <td>0.000000</td>\n",
       "      <td>0.000000</td>\n",
       "      <td>0.000000</td>\n",
       "      <td>0.000000</td>\n",
       "      <td>0.000000</td>\n",
       "      <td>0.000000</td>\n",
       "      <td>0.000000</td>\n",
       "      <td>0.000000</td>\n",
       "      <td>0.000000</td>\n",
       "      <td>0.000000</td>\n",
       "    </tr>\n",
       "    <tr>\n",
       "      <th>1</th>\n",
       "      <td>0.000000</td>\n",
       "      <td>0.000000</td>\n",
       "      <td>0.000000e+00</td>\n",
       "      <td>0.000000</td>\n",
       "      <td>0.000000</td>\n",
       "      <td>0.000000</td>\n",
       "      <td>0.000000</td>\n",
       "      <td>0.000000</td>\n",
       "      <td>0.000000</td>\n",
       "      <td>0.000000</td>\n",
       "      <td>...</td>\n",
       "      <td>0.000000</td>\n",
       "      <td>0.000000</td>\n",
       "      <td>0.000000</td>\n",
       "      <td>0.000000</td>\n",
       "      <td>0.000000</td>\n",
       "      <td>0.000000</td>\n",
       "      <td>0.000000</td>\n",
       "      <td>0.000000</td>\n",
       "      <td>0.000000</td>\n",
       "      <td>0.000000</td>\n",
       "    </tr>\n",
       "    <tr>\n",
       "      <th>2</th>\n",
       "      <td>0.000000</td>\n",
       "      <td>0.000000</td>\n",
       "      <td>0.000000e+00</td>\n",
       "      <td>0.000000</td>\n",
       "      <td>0.000000</td>\n",
       "      <td>0.000000</td>\n",
       "      <td>0.000000</td>\n",
       "      <td>0.000000</td>\n",
       "      <td>0.000000</td>\n",
       "      <td>0.000000</td>\n",
       "      <td>...</td>\n",
       "      <td>0.000000</td>\n",
       "      <td>0.000000</td>\n",
       "      <td>0.000000</td>\n",
       "      <td>0.000000</td>\n",
       "      <td>0.000000</td>\n",
       "      <td>0.000000</td>\n",
       "      <td>0.000000</td>\n",
       "      <td>0.000000</td>\n",
       "      <td>0.000000</td>\n",
       "      <td>0.000000</td>\n",
       "    </tr>\n",
       "    <tr>\n",
       "      <th>3</th>\n",
       "      <td>0.000000</td>\n",
       "      <td>0.000000</td>\n",
       "      <td>0.000000e+00</td>\n",
       "      <td>0.000000</td>\n",
       "      <td>0.000000</td>\n",
       "      <td>0.000000</td>\n",
       "      <td>0.000000</td>\n",
       "      <td>0.000000</td>\n",
       "      <td>0.000000</td>\n",
       "      <td>0.000000</td>\n",
       "      <td>...</td>\n",
       "      <td>0.000000</td>\n",
       "      <td>0.000000</td>\n",
       "      <td>0.000000</td>\n",
       "      <td>0.000000</td>\n",
       "      <td>0.000000</td>\n",
       "      <td>0.000000</td>\n",
       "      <td>0.000000</td>\n",
       "      <td>0.000000</td>\n",
       "      <td>0.000000</td>\n",
       "      <td>0.000000</td>\n",
       "    </tr>\n",
       "    <tr>\n",
       "      <th>4</th>\n",
       "      <td>0.000000</td>\n",
       "      <td>0.000000</td>\n",
       "      <td>0.000000e+00</td>\n",
       "      <td>0.000000</td>\n",
       "      <td>0.000000</td>\n",
       "      <td>0.000000</td>\n",
       "      <td>0.000000</td>\n",
       "      <td>0.000000</td>\n",
       "      <td>0.000000</td>\n",
       "      <td>0.000000</td>\n",
       "      <td>...</td>\n",
       "      <td>0.000000</td>\n",
       "      <td>0.000000</td>\n",
       "      <td>0.000000</td>\n",
       "      <td>0.000000</td>\n",
       "      <td>0.000000</td>\n",
       "      <td>0.000000</td>\n",
       "      <td>0.000000</td>\n",
       "      <td>0.000000</td>\n",
       "      <td>0.000000</td>\n",
       "      <td>0.000000</td>\n",
       "    </tr>\n",
       "    <tr>\n",
       "      <th>...</th>\n",
       "      <td>...</td>\n",
       "      <td>...</td>\n",
       "      <td>...</td>\n",
       "      <td>...</td>\n",
       "      <td>...</td>\n",
       "      <td>...</td>\n",
       "      <td>...</td>\n",
       "      <td>...</td>\n",
       "      <td>...</td>\n",
       "      <td>...</td>\n",
       "      <td>...</td>\n",
       "      <td>...</td>\n",
       "      <td>...</td>\n",
       "      <td>...</td>\n",
       "      <td>...</td>\n",
       "      <td>...</td>\n",
       "      <td>...</td>\n",
       "      <td>...</td>\n",
       "      <td>...</td>\n",
       "      <td>...</td>\n",
       "      <td>...</td>\n",
       "    </tr>\n",
       "    <tr>\n",
       "      <th>881</th>\n",
       "      <td>0.672318</td>\n",
       "      <td>0.805353</td>\n",
       "      <td>-4.206358e-08</td>\n",
       "      <td>0.647711</td>\n",
       "      <td>0.766020</td>\n",
       "      <td>-0.002508</td>\n",
       "      <td>0.618035</td>\n",
       "      <td>0.754015</td>\n",
       "      <td>-0.006642</td>\n",
       "      <td>0.592241</td>\n",
       "      <td>...</td>\n",
       "      <td>0.000000</td>\n",
       "      <td>0.000000</td>\n",
       "      <td>0.000000</td>\n",
       "      <td>0.000000</td>\n",
       "      <td>0.000000</td>\n",
       "      <td>0.000000</td>\n",
       "      <td>0.000000</td>\n",
       "      <td>0.000000</td>\n",
       "      <td>0.000000</td>\n",
       "      <td>0.000000</td>\n",
       "    </tr>\n",
       "    <tr>\n",
       "      <th>882</th>\n",
       "      <td>0.694514</td>\n",
       "      <td>0.796932</td>\n",
       "      <td>-1.326698e-07</td>\n",
       "      <td>0.676979</td>\n",
       "      <td>0.764802</td>\n",
       "      <td>-0.005680</td>\n",
       "      <td>0.654126</td>\n",
       "      <td>0.748512</td>\n",
       "      <td>-0.014886</td>\n",
       "      <td>0.634035</td>\n",
       "      <td>...</td>\n",
       "      <td>0.000000</td>\n",
       "      <td>0.000000</td>\n",
       "      <td>0.000000</td>\n",
       "      <td>0.000000</td>\n",
       "      <td>0.000000</td>\n",
       "      <td>0.000000</td>\n",
       "      <td>0.000000</td>\n",
       "      <td>0.000000</td>\n",
       "      <td>0.000000</td>\n",
       "      <td>0.000000</td>\n",
       "    </tr>\n",
       "    <tr>\n",
       "      <th>883</th>\n",
       "      <td>0.706744</td>\n",
       "      <td>0.758776</td>\n",
       "      <td>1.367024e-08</td>\n",
       "      <td>0.696825</td>\n",
       "      <td>0.721242</td>\n",
       "      <td>-0.008032</td>\n",
       "      <td>0.674000</td>\n",
       "      <td>0.691968</td>\n",
       "      <td>-0.017501</td>\n",
       "      <td>0.652751</td>\n",
       "      <td>...</td>\n",
       "      <td>-0.011982</td>\n",
       "      <td>0.541699</td>\n",
       "      <td>0.766944</td>\n",
       "      <td>-0.011307</td>\n",
       "      <td>0.531299</td>\n",
       "      <td>0.760497</td>\n",
       "      <td>-0.004399</td>\n",
       "      <td>0.521188</td>\n",
       "      <td>0.762667</td>\n",
       "      <td>0.000814</td>\n",
       "    </tr>\n",
       "    <tr>\n",
       "      <th>884</th>\n",
       "      <td>0.700611</td>\n",
       "      <td>0.687796</td>\n",
       "      <td>-3.103206e-08</td>\n",
       "      <td>0.685415</td>\n",
       "      <td>0.643576</td>\n",
       "      <td>-0.006068</td>\n",
       "      <td>0.665539</td>\n",
       "      <td>0.612349</td>\n",
       "      <td>-0.013995</td>\n",
       "      <td>0.651930</td>\n",
       "      <td>...</td>\n",
       "      <td>-0.025141</td>\n",
       "      <td>0.557842</td>\n",
       "      <td>0.685026</td>\n",
       "      <td>-0.024063</td>\n",
       "      <td>0.547735</td>\n",
       "      <td>0.681217</td>\n",
       "      <td>-0.015628</td>\n",
       "      <td>0.536541</td>\n",
       "      <td>0.685090</td>\n",
       "      <td>-0.009521</td>\n",
       "    </tr>\n",
       "    <tr>\n",
       "      <th>885</th>\n",
       "      <td>0.707585</td>\n",
       "      <td>0.688674</td>\n",
       "      <td>-5.499803e-09</td>\n",
       "      <td>0.694062</td>\n",
       "      <td>0.648277</td>\n",
       "      <td>-0.006273</td>\n",
       "      <td>0.672329</td>\n",
       "      <td>0.619305</td>\n",
       "      <td>-0.012844</td>\n",
       "      <td>0.656735</td>\n",
       "      <td>...</td>\n",
       "      <td>-0.018104</td>\n",
       "      <td>0.555564</td>\n",
       "      <td>0.692523</td>\n",
       "      <td>-0.015943</td>\n",
       "      <td>0.546665</td>\n",
       "      <td>0.687548</td>\n",
       "      <td>-0.008800</td>\n",
       "      <td>0.536047</td>\n",
       "      <td>0.689596</td>\n",
       "      <td>-0.003947</td>\n",
       "    </tr>\n",
       "  </tbody>\n",
       "</table>\n",
       "<p>886 rows × 126 columns</p>\n",
       "</div>"
      ],
      "text/plain": [
       "           x0        y0            z0        x1        y1        z1        x2  \\\n",
       "0    0.000000  0.000000  0.000000e+00  0.000000  0.000000  0.000000  0.000000   \n",
       "1    0.000000  0.000000  0.000000e+00  0.000000  0.000000  0.000000  0.000000   \n",
       "2    0.000000  0.000000  0.000000e+00  0.000000  0.000000  0.000000  0.000000   \n",
       "3    0.000000  0.000000  0.000000e+00  0.000000  0.000000  0.000000  0.000000   \n",
       "4    0.000000  0.000000  0.000000e+00  0.000000  0.000000  0.000000  0.000000   \n",
       "..        ...       ...           ...       ...       ...       ...       ...   \n",
       "881  0.672318  0.805353 -4.206358e-08  0.647711  0.766020 -0.002508  0.618035   \n",
       "882  0.694514  0.796932 -1.326698e-07  0.676979  0.764802 -0.005680  0.654126   \n",
       "883  0.706744  0.758776  1.367024e-08  0.696825  0.721242 -0.008032  0.674000   \n",
       "884  0.700611  0.687796 -3.103206e-08  0.685415  0.643576 -0.006068  0.665539   \n",
       "885  0.707585  0.688674 -5.499803e-09  0.694062  0.648277 -0.006273  0.672329   \n",
       "\n",
       "           y2        z2        x3  ...       z38       x39       y39  \\\n",
       "0    0.000000  0.000000  0.000000  ...  0.000000  0.000000  0.000000   \n",
       "1    0.000000  0.000000  0.000000  ...  0.000000  0.000000  0.000000   \n",
       "2    0.000000  0.000000  0.000000  ...  0.000000  0.000000  0.000000   \n",
       "3    0.000000  0.000000  0.000000  ...  0.000000  0.000000  0.000000   \n",
       "4    0.000000  0.000000  0.000000  ...  0.000000  0.000000  0.000000   \n",
       "..        ...       ...       ...  ...       ...       ...       ...   \n",
       "881  0.754015 -0.006642  0.592241  ...  0.000000  0.000000  0.000000   \n",
       "882  0.748512 -0.014886  0.634035  ...  0.000000  0.000000  0.000000   \n",
       "883  0.691968 -0.017501  0.652751  ... -0.011982  0.541699  0.766944   \n",
       "884  0.612349 -0.013995  0.651930  ... -0.025141  0.557842  0.685026   \n",
       "885  0.619305 -0.012844  0.656735  ... -0.018104  0.555564  0.692523   \n",
       "\n",
       "          z39       x40       y40       z40       x41       y41       z41  \n",
       "0    0.000000  0.000000  0.000000  0.000000  0.000000  0.000000  0.000000  \n",
       "1    0.000000  0.000000  0.000000  0.000000  0.000000  0.000000  0.000000  \n",
       "2    0.000000  0.000000  0.000000  0.000000  0.000000  0.000000  0.000000  \n",
       "3    0.000000  0.000000  0.000000  0.000000  0.000000  0.000000  0.000000  \n",
       "4    0.000000  0.000000  0.000000  0.000000  0.000000  0.000000  0.000000  \n",
       "..        ...       ...       ...       ...       ...       ...       ...  \n",
       "881  0.000000  0.000000  0.000000  0.000000  0.000000  0.000000  0.000000  \n",
       "882  0.000000  0.000000  0.000000  0.000000  0.000000  0.000000  0.000000  \n",
       "883 -0.011307  0.531299  0.760497 -0.004399  0.521188  0.762667  0.000814  \n",
       "884 -0.024063  0.547735  0.681217 -0.015628  0.536541  0.685090 -0.009521  \n",
       "885 -0.015943  0.546665  0.687548 -0.008800  0.536047  0.689596 -0.003947  \n",
       "\n",
       "[886 rows x 126 columns]"
      ]
     },
     "execution_count": 63,
     "metadata": {},
     "output_type": "execute_result"
    }
   ],
   "source": [
    "df"
   ]
  },
  {
   "cell_type": "code",
   "execution_count": 64,
   "id": "c4811935-7d87-4f87-bd61-bfb85fec2dd0",
   "metadata": {},
   "outputs": [
    {
     "data": {
      "text/html": [
       "<div>\n",
       "<style scoped>\n",
       "    .dataframe tbody tr th:only-of-type {\n",
       "        vertical-align: middle;\n",
       "    }\n",
       "\n",
       "    .dataframe tbody tr th {\n",
       "        vertical-align: top;\n",
       "    }\n",
       "\n",
       "    .dataframe thead th {\n",
       "        text-align: right;\n",
       "    }\n",
       "</style>\n",
       "<table border=\"1\" class=\"dataframe\">\n",
       "  <thead>\n",
       "    <tr style=\"text-align: right;\">\n",
       "      <th></th>\n",
       "      <th>class</th>\n",
       "    </tr>\n",
       "  </thead>\n",
       "  <tbody>\n",
       "    <tr>\n",
       "      <th>0</th>\n",
       "      <td>not ready</td>\n",
       "    </tr>\n",
       "    <tr>\n",
       "      <th>1</th>\n",
       "      <td>not ready</td>\n",
       "    </tr>\n",
       "    <tr>\n",
       "      <th>2</th>\n",
       "      <td>not ready</td>\n",
       "    </tr>\n",
       "    <tr>\n",
       "      <th>3</th>\n",
       "      <td>not ready</td>\n",
       "    </tr>\n",
       "    <tr>\n",
       "      <th>4</th>\n",
       "      <td>not ready</td>\n",
       "    </tr>\n",
       "    <tr>\n",
       "      <th>...</th>\n",
       "      <td>...</td>\n",
       "    </tr>\n",
       "    <tr>\n",
       "      <th>881</th>\n",
       "      <td>ready</td>\n",
       "    </tr>\n",
       "    <tr>\n",
       "      <th>882</th>\n",
       "      <td>ready</td>\n",
       "    </tr>\n",
       "    <tr>\n",
       "      <th>883</th>\n",
       "      <td>ready</td>\n",
       "    </tr>\n",
       "    <tr>\n",
       "      <th>884</th>\n",
       "      <td>ready</td>\n",
       "    </tr>\n",
       "    <tr>\n",
       "      <th>885</th>\n",
       "      <td>ready</td>\n",
       "    </tr>\n",
       "  </tbody>\n",
       "</table>\n",
       "<p>886 rows × 1 columns</p>\n",
       "</div>"
      ],
      "text/plain": [
       "         class\n",
       "0    not ready\n",
       "1    not ready\n",
       "2    not ready\n",
       "3    not ready\n",
       "4    not ready\n",
       "..         ...\n",
       "881      ready\n",
       "882      ready\n",
       "883      ready\n",
       "884      ready\n",
       "885      ready\n",
       "\n",
       "[886 rows x 1 columns]"
      ]
     },
     "execution_count": 64,
     "metadata": {},
     "output_type": "execute_result"
    }
   ],
   "source": [
    "class_df"
   ]
  },
  {
   "cell_type": "code",
   "execution_count": 51,
   "id": "5562a9a3-2932-43e0-9002-e8e692a1a4fb",
   "metadata": {},
   "outputs": [],
   "source": [
    "del df\n",
    "del class_df"
   ]
  },
  {
   "cell_type": "code",
   "execution_count": 47,
   "id": "4ab66c84-9a73-4687-a146-1a665ec882a6",
   "metadata": {},
   "outputs": [
    {
     "data": {
      "text/plain": [
       "0"
      ]
     },
     "execution_count": 47,
     "metadata": {},
     "output_type": "execute_result"
    }
   ],
   "source": [
    "int(-4.384927e-07)"
   ]
  },
  {
   "cell_type": "code",
   "execution_count": 52,
   "id": "6f0e56ed-56dc-4f11-abf8-47c55064b059",
   "metadata": {},
   "outputs": [
    {
     "data": {
      "text/plain": [
       "True"
      ]
     },
     "execution_count": 52,
     "metadata": {},
     "output_type": "execute_result"
    }
   ],
   "source": [
    "-8.509754e-07 < -4.384927e-07"
   ]
  },
  {
   "cell_type": "code",
   "execution_count": 65,
   "id": "6793c188-8a9d-4682-a7fe-2ba788b498c7",
   "metadata": {},
   "outputs": [],
   "source": [
    "df.to_csv('read_data.csv')\n",
    "class_df.to_csv('classes.csv')"
   ]
  },
  {
   "cell_type": "code",
   "execution_count": 56,
   "id": "b8a4d013-4ad5-45f2-a5d7-3200e09864ad",
   "metadata": {},
   "outputs": [],
   "source": [
    "start_point1=(180,0)"
   ]
  },
  {
   "cell_type": "code",
   "execution_count": 57,
   "id": "5db62487-aefb-40a2-b298-b711703a09f8",
   "metadata": {},
   "outputs": [],
   "source": [
    "end_point1=(180,480)"
   ]
  },
  {
   "cell_type": "code",
   "execution_count": 58,
   "id": "517eda2f-2390-4b9f-949d-a80b7e0a78c7",
   "metadata": {},
   "outputs": [],
   "source": [
    "start_point2=(440,0)"
   ]
  },
  {
   "cell_type": "code",
   "execution_count": 59,
   "id": "c6b5aeaf-b00b-40cc-9d59-7df41f38dfa5",
   "metadata": {},
   "outputs": [],
   "source": [
    "end_point2=(440,480)"
   ]
  },
  {
   "cell_type": "code",
   "execution_count": 75,
   "id": "9612c72c-f5a9-44b8-827b-ed468d79cae5",
   "metadata": {},
   "outputs": [],
   "source": [
    "cap=cv.VideoCapture(0)\n",
    "\n",
    "while cap.isOpened():\n",
    "    _,frame=cap.read()\n",
    "    try:\n",
    "        \n",
    "            \n",
    "        image=cv.cvtColor(frame,cv.COLOR_BGR2RGB)\n",
    "        results=holistic.process(image)\n",
    "        image=cv.cvtColor(image,cv.COLOR_RGB2BGR)\n",
    "        draw_landmarks(results,image)\n",
    "        cv.line(image,start_point1,end_point1,(0,255,0),1)\n",
    "        cv.line(image,start_point2,end_point2,(0,255,0),)\n",
    "        cv.putText(image,'place yourself in such a position ',(20,380),cv.FONT_HERSHEY_SIMPLEX,1,(0,255,0),1,cv.LINE_AA)\n",
    "        cv.putText(image,'that both shoulders come inside ',(20,400+8),cv.FONT_HERSHEY_SIMPLEX,1,(0,255,0),1,cv.LINE_AA)\n",
    "        cv.putText(image,'the green box and do ready sign',(20,420+8),cv.FONT_HERSHEY_SIMPLEX,1,(0,255,0),1,cv.LINE_AA)\n",
    "        # landmarks=extract_landmarks(results)\n",
    "    except:\n",
    "        pass\n",
    "    \n",
    "    \n",
    "    if cv.waitKey(1)==27:\n",
    "            cap.release()\n",
    "            cv.destroyAllWindows()\n",
    "            break\n",
    "    cv.imshow('frame',image)"
   ]
  },
  {
   "cell_type": "code",
   "execution_count": 32,
   "id": "e0bf7fe2-294d-44d8-8a33-fa64734c1ca6",
   "metadata": {},
   "outputs": [
    {
     "data": {
      "text/plain": [
       "(x: 0.3756353\n",
       " y: 0.7029769\n",
       " z: -0.2134277\n",
       " visibility: 0.9730139,\n",
       " x: 0.7888814\n",
       " y: 0.67163056\n",
       " z: -0.15271327\n",
       " visibility: 0.954656)"
      ]
     },
     "execution_count": 32,
     "metadata": {},
     "output_type": "execute_result"
    }
   ],
   "source": [
    "# range 1\n",
    "results.pose_landmarks.landmark[14],results.pose_landmarks.landmark[13]"
   ]
  },
  {
   "cell_type": "code",
   "execution_count": 28,
   "id": "56e1e6ab-407e-4c16-b522-10933178a94b",
   "metadata": {},
   "outputs": [
    {
     "data": {
      "text/plain": [
       "(x: 0.40908027\n",
       " y: 0.72627217\n",
       " z: -0.1940277\n",
       " visibility: 0.9550642,\n",
       " x: 0.71907794\n",
       " y: 0.70081997\n",
       " z: -0.13998124\n",
       " visibility: 0.9583299)"
      ]
     },
     "execution_count": 28,
     "metadata": {},
     "output_type": "execute_result"
    }
   ],
   "source": [
    "# range 2\n",
    "results.pose_landmarks.landmark[14],results.pose_landmarks.landmark[13]"
   ]
  },
  {
   "cell_type": "code",
   "execution_count": 30,
   "id": "147aa277-2005-4bae-991c-59cb2f065a58",
   "metadata": {},
   "outputs": [
    {
     "data": {
      "text/plain": [
       "(x: 0.4103341\n",
       " y: 0.7191417\n",
       " z: -0.2233502\n",
       " visibility: 0.9760119,\n",
       " x: 0.69762313\n",
       " y: 0.7088432\n",
       " z: -0.098089956\n",
       " visibility: 0.9778157)"
      ]
     },
     "execution_count": 30,
     "metadata": {},
     "output_type": "execute_result"
    }
   ],
   "source": [
    "# range 3\n",
    "results.pose_landmarks.landmark[14],results.pose_landmarks.landmark[13]\n"
   ]
  },
  {
   "cell_type": "code",
   "execution_count": 8,
   "id": "0bff26de-88de-4ed8-aa43-3667d3232a44",
   "metadata": {},
   "outputs": [
    {
     "data": {
      "text/plain": [
       "(480, 640, 3)"
      ]
     },
     "execution_count": 8,
     "metadata": {},
     "output_type": "execute_result"
    }
   ],
   "source": [
    "image.shape"
   ]
  },
  {
   "cell_type": "code",
   "execution_count": 10,
   "id": "47ed8274-dcba-41e3-bbb2-ac35ba3c7d22",
   "metadata": {},
   "outputs": [
    {
     "data": {
      "text/plain": [
       "x: 0.38702258\n",
       "y: 1.5778618\n",
       "z: 0.04150772\n",
       "visibility: 0.0005064775"
      ]
     },
     "execution_count": 10,
     "metadata": {},
     "output_type": "execute_result"
    }
   ],
   "source": [
    "results.pose_landmarks.landmark[24]"
   ]
  },
  {
   "cell_type": "code",
   "execution_count": 11,
   "id": "ef0ee47a-13b6-487a-9d18-a9659f8096dd",
   "metadata": {},
   "outputs": [
    {
     "data": {
      "text/plain": [
       "x: 0.32288572\n",
       "y: 0.90164894\n",
       "z: -0.41410336\n",
       "visibility: 0.9754075"
      ]
     },
     "execution_count": 11,
     "metadata": {},
     "output_type": "execute_result"
    }
   ],
   "source": [
    "results.pose_landmarks.landmark[12]"
   ]
  },
  {
   "cell_type": "code",
   "execution_count": null,
   "id": "69e99f27-1edd-4914-acfc-8474d41a2980",
   "metadata": {},
   "outputs": [],
   "source": []
  }
 ],
 "metadata": {
  "kernelspec": {
   "display_name": "Python 3 (ipykernel)",
   "language": "python",
   "name": "python3"
  },
  "language_info": {
   "codemirror_mode": {
    "name": "ipython",
    "version": 3
   },
   "file_extension": ".py",
   "mimetype": "text/x-python",
   "name": "python",
   "nbconvert_exporter": "python",
   "pygments_lexer": "ipython3",
   "version": "3.11.5"
  }
 },
 "nbformat": 4,
 "nbformat_minor": 5
}
