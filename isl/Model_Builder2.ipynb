{
 "cells": [
  {
   "cell_type": "code",
   "execution_count": 1,
   "id": "693372fb-80fe-4033-974f-0236e74b6839",
   "metadata": {},
   "outputs": [],
   "source": [
    "# here after collecting the data create the code for implementing the model"
   ]
  },
  {
   "cell_type": "code",
   "execution_count": 3,
   "id": "30f37615-db37-4311-a8fd-dc330ea77595",
   "metadata": {},
   "outputs": [],
   "source": [
    "import numpy as np\n",
    "import os\n",
    "import tensorflow as tf\n",
    "import tqdm\n",
    "from sklearn.model_selection import train_test_split\n",
    "from tensorflow import keras"
   ]
  },
  {
   "cell_type": "code",
   "execution_count": 4,
   "id": "1026c421-2290-45e9-84c5-7fc5cb061272",
   "metadata": {},
   "outputs": [],
   "source": [
    "data_dir='temp'\n",
    "no_of_videos=75\n",
    "no_of_frames=30"
   ]
  },
  {
   "cell_type": "code",
   "execution_count": 5,
   "id": "a60cce95-0bba-4714-bbfa-8a84ef615115",
   "metadata": {},
   "outputs": [],
   "source": [
    "actions=os.listdir(data_dir)\n",
    "action_map={action:num for num,action in enumerate(actions)}"
   ]
  },
  {
   "cell_type": "code",
   "execution_count": 6,
   "id": "eb470aca-b50d-4ee5-8bf9-298da2ba989d",
   "metadata": {},
   "outputs": [
    {
     "data": {
      "text/plain": [
       "['afternoon',\n",
       " 'blank',\n",
       " 'evening',\n",
       " 'fine',\n",
       " 'hello',\n",
       " 'how are you',\n",
       " 'morning',\n",
       " 'name',\n",
       " 'sorry',\n",
       " 'thank you',\n",
       " 'welcome']"
      ]
     },
     "execution_count": 6,
     "metadata": {},
     "output_type": "execute_result"
    }
   ],
   "source": [
    "actions"
   ]
  },
  {
   "cell_type": "code",
   "execution_count": 7,
   "id": "f8baa88b-6245-426c-b99f-370d6c3b92c5",
   "metadata": {},
   "outputs": [
    {
     "name": "stderr",
     "output_type": "stream",
     "text": [
      "100%|██████████████████████████████████████████████████████████████████████████████████████████████████████████████| 11/11 [06:38<00:00, 36.18s/it]\n"
     ]
    }
   ],
   "source": [
    "x_data=[]\n",
    "y_data=[]\n",
    "for action in tqdm.tqdm(actions):\n",
    "    index=action_map[action]\n",
    "    for video in range(no_of_videos):\n",
    "        window=[]\n",
    "        for frame in range(no_of_frames):\n",
    "            path=os.path.join(data_dir,action,str(video),f'{frame}.npy')\n",
    "            res=np.load(path)\n",
    "            window.append(res)\n",
    "        x_data.append(window)\n",
    "        y_data.append(index)\n",
    "        \n",
    "    "
   ]
  },
  {
   "cell_type": "code",
   "execution_count": 8,
   "id": "ee872948-d961-48c6-99cc-ab9af6efc84b",
   "metadata": {},
   "outputs": [
    {
     "data": {
      "text/plain": [
       "(825, 825)"
      ]
     },
     "execution_count": 8,
     "metadata": {},
     "output_type": "execute_result"
    }
   ],
   "source": [
    "len(y_data),11*75"
   ]
  },
  {
   "cell_type": "code",
   "execution_count": 9,
   "id": "e94298d9-6cde-45ab-9f96-40f9f5aa7afa",
   "metadata": {},
   "outputs": [],
   "source": [
    "x=np.array(x_data)"
   ]
  },
  {
   "cell_type": "code",
   "execution_count": 10,
   "id": "2643177e-d22a-441c-aabf-dce03d0db9a5",
   "metadata": {},
   "outputs": [],
   "source": [
    "y=keras.utils.to_categorical(np.array(y_data)).astype(int)"
   ]
  },
  {
   "cell_type": "code",
   "execution_count": 11,
   "id": "15cc8a9a-4325-438c-aace-2e95d7442ec7",
   "metadata": {},
   "outputs": [
    {
     "data": {
      "text/plain": [
       "((825, 11), (825, 30, 1662))"
      ]
     },
     "execution_count": 11,
     "metadata": {},
     "output_type": "execute_result"
    }
   ],
   "source": [
    "y.shape,x.shape"
   ]
  },
  {
   "cell_type": "code",
   "execution_count": 12,
   "id": "aea6f2ba-7835-478d-bcdb-16cbbe9326e8",
   "metadata": {},
   "outputs": [],
   "source": [
    "x_train,x_test,y_train,y_test=train_test_split(x,y,test_size=0.1)"
   ]
  },
  {
   "cell_type": "code",
   "execution_count": 13,
   "id": "8c5dc156-cfcf-4c56-bafb-3e84d61cec12",
   "metadata": {},
   "outputs": [
    {
     "data": {
      "text/plain": [
       "((742, 30, 1662), (742, 11))"
      ]
     },
     "execution_count": 13,
     "metadata": {},
     "output_type": "execute_result"
    }
   ],
   "source": [
    "x_train.shape,y_train.shape"
   ]
  },
  {
   "cell_type": "code",
   "execution_count": 15,
   "id": "0fe5d9cf-63be-426e-8db0-47f33a5a2807",
   "metadata": {},
   "outputs": [
    {
     "name": "stdout",
     "output_type": "stream",
     "text": [
      "Epoch 1/100\n",
      "24/24 [==============================] - 11s 151ms/step - loss: 2.3979 - categorical_accuracy: 0.0836 - val_loss: 2.3624 - val_categorical_accuracy: 0.1084\n",
      "Epoch 2/100\n",
      "24/24 [==============================] - 3s 119ms/step - loss: 2.2505 - categorical_accuracy: 0.1388 - val_loss: 1.9453 - val_categorical_accuracy: 0.3976\n",
      "Epoch 3/100\n",
      "24/24 [==============================] - 3s 144ms/step - loss: 1.7608 - categorical_accuracy: 0.2951 - val_loss: 1.3735 - val_categorical_accuracy: 0.4819\n",
      "Epoch 4/100\n",
      "24/24 [==============================] - 3s 140ms/step - loss: 1.2875 - categorical_accuracy: 0.5054 - val_loss: 1.0030 - val_categorical_accuracy: 0.6265\n",
      "Epoch 5/100\n",
      "24/24 [==============================] - 3s 119ms/step - loss: 0.9425 - categorical_accuracy: 0.6334 - val_loss: 1.6539 - val_categorical_accuracy: 0.3494\n",
      "Epoch 6/100\n",
      "24/24 [==============================] - 3s 111ms/step - loss: 0.9583 - categorical_accuracy: 0.6065 - val_loss: 0.6692 - val_categorical_accuracy: 0.7349\n",
      "Epoch 7/100\n",
      "24/24 [==============================] - 3s 107ms/step - loss: 0.7458 - categorical_accuracy: 0.6981 - val_loss: 0.6415 - val_categorical_accuracy: 0.7229\n",
      "Epoch 8/100\n",
      "24/24 [==============================] - 3s 116ms/step - loss: 0.6275 - categorical_accuracy: 0.7493 - val_loss: 0.5923 - val_categorical_accuracy: 0.7108\n",
      "Epoch 9/100\n",
      "24/24 [==============================] - 3s 116ms/step - loss: 0.7719 - categorical_accuracy: 0.7062 - val_loss: 0.5406 - val_categorical_accuracy: 0.8434\n",
      "Epoch 10/100\n",
      "24/24 [==============================] - 3s 110ms/step - loss: 0.5325 - categorical_accuracy: 0.7844 - val_loss: 0.4690 - val_categorical_accuracy: 0.8072\n",
      "Epoch 11/100\n",
      "24/24 [==============================] - 3s 107ms/step - loss: 0.4282 - categorical_accuracy: 0.8329 - val_loss: 0.6898 - val_categorical_accuracy: 0.7470\n",
      "Epoch 12/100\n",
      "24/24 [==============================] - 3s 117ms/step - loss: 0.5407 - categorical_accuracy: 0.7790 - val_loss: 0.4025 - val_categorical_accuracy: 0.8795\n",
      "Epoch 13/100\n",
      "24/24 [==============================] - 3s 140ms/step - loss: 0.5414 - categorical_accuracy: 0.7898 - val_loss: 0.4943 - val_categorical_accuracy: 0.8313\n",
      "Epoch 14/100\n",
      "24/24 [==============================] - 3s 112ms/step - loss: 0.4242 - categorical_accuracy: 0.8356 - val_loss: 0.7452 - val_categorical_accuracy: 0.6747\n",
      "Epoch 15/100\n",
      "24/24 [==============================] - 3s 116ms/step - loss: 0.4521 - categorical_accuracy: 0.8356 - val_loss: 0.3256 - val_categorical_accuracy: 0.8554\n",
      "Epoch 16/100\n",
      "24/24 [==============================] - 3s 123ms/step - loss: 0.3581 - categorical_accuracy: 0.8625 - val_loss: 0.3036 - val_categorical_accuracy: 0.8916\n",
      "Epoch 17/100\n",
      "24/24 [==============================] - 3s 122ms/step - loss: 0.3267 - categorical_accuracy: 0.8679 - val_loss: 0.3211 - val_categorical_accuracy: 0.8916\n",
      "Epoch 18/100\n",
      "24/24 [==============================] - 3s 117ms/step - loss: 0.3070 - categorical_accuracy: 0.8706 - val_loss: 0.2533 - val_categorical_accuracy: 0.9157\n",
      "Epoch 19/100\n",
      "24/24 [==============================] - 3s 111ms/step - loss: 0.3187 - categorical_accuracy: 0.8827 - val_loss: 0.3024 - val_categorical_accuracy: 0.9157\n",
      "Epoch 20/100\n",
      "24/24 [==============================] - 3s 110ms/step - loss: 0.2892 - categorical_accuracy: 0.8935 - val_loss: 0.2470 - val_categorical_accuracy: 0.9036\n",
      "Epoch 21/100\n",
      "24/24 [==============================] - 3s 114ms/step - loss: 0.3490 - categorical_accuracy: 0.8531 - val_loss: 0.2497 - val_categorical_accuracy: 0.8795\n",
      "Epoch 22/100\n",
      "24/24 [==============================] - 3s 123ms/step - loss: 0.2872 - categorical_accuracy: 0.8760 - val_loss: 0.4340 - val_categorical_accuracy: 0.8193\n",
      "Epoch 23/100\n",
      "24/24 [==============================] - 3s 112ms/step - loss: 0.3291 - categorical_accuracy: 0.8504 - val_loss: 0.2214 - val_categorical_accuracy: 0.9157\n",
      "Epoch 24/100\n",
      "24/24 [==============================] - 3s 123ms/step - loss: 0.2573 - categorical_accuracy: 0.8949 - val_loss: 0.2774 - val_categorical_accuracy: 0.9036\n",
      "Epoch 25/100\n",
      "24/24 [==============================] - 3s 116ms/step - loss: 0.2562 - categorical_accuracy: 0.8962 - val_loss: 0.2022 - val_categorical_accuracy: 0.9398\n",
      "Epoch 26/100\n",
      "24/24 [==============================] - 3s 119ms/step - loss: 0.1823 - categorical_accuracy: 0.9259 - val_loss: 0.1322 - val_categorical_accuracy: 0.9518\n",
      "Epoch 27/100\n",
      "24/24 [==============================] - 3s 123ms/step - loss: 0.1587 - categorical_accuracy: 0.9380 - val_loss: 0.1391 - val_categorical_accuracy: 0.9518\n",
      "Epoch 28/100\n",
      "24/24 [==============================] - 3s 115ms/step - loss: 0.1632 - categorical_accuracy: 0.9259 - val_loss: 0.3173 - val_categorical_accuracy: 0.8554\n",
      "Epoch 29/100\n",
      "24/24 [==============================] - 3s 114ms/step - loss: 0.3596 - categorical_accuracy: 0.8625 - val_loss: 0.1729 - val_categorical_accuracy: 0.9518\n",
      "Epoch 30/100\n",
      "24/24 [==============================] - 3s 113ms/step - loss: 0.1809 - categorical_accuracy: 0.9394 - val_loss: 0.1011 - val_categorical_accuracy: 0.9639\n",
      "Epoch 31/100\n",
      "24/24 [==============================] - 3s 112ms/step - loss: 0.1219 - categorical_accuracy: 0.9596 - val_loss: 0.0736 - val_categorical_accuracy: 0.9759\n",
      "Epoch 32/100\n",
      "24/24 [==============================] - 3s 117ms/step - loss: 0.1476 - categorical_accuracy: 0.9447 - val_loss: 0.0768 - val_categorical_accuracy: 0.9759\n",
      "Epoch 33/100\n",
      "24/24 [==============================] - 3s 114ms/step - loss: 0.1488 - categorical_accuracy: 0.9488 - val_loss: 0.1129 - val_categorical_accuracy: 0.9398\n",
      "Epoch 34/100\n",
      "24/24 [==============================] - 3s 113ms/step - loss: 0.2585 - categorical_accuracy: 0.9030 - val_loss: 0.1204 - val_categorical_accuracy: 0.9759\n",
      "Epoch 35/100\n",
      "24/24 [==============================] - 3s 111ms/step - loss: 0.1835 - categorical_accuracy: 0.9286 - val_loss: 0.0863 - val_categorical_accuracy: 0.9759\n",
      "Epoch 36/100\n",
      "24/24 [==============================] - 3s 112ms/step - loss: 0.1469 - categorical_accuracy: 0.9488 - val_loss: 0.0901 - val_categorical_accuracy: 0.9759\n",
      "Epoch 37/100\n",
      "24/24 [==============================] - 3s 111ms/step - loss: 0.1127 - categorical_accuracy: 0.9596 - val_loss: 0.0688 - val_categorical_accuracy: 0.9759\n",
      "Epoch 38/100\n",
      "24/24 [==============================] - 3s 107ms/step - loss: 0.0869 - categorical_accuracy: 0.9677 - val_loss: 0.3526 - val_categorical_accuracy: 0.8554\n",
      "Epoch 39/100\n",
      "24/24 [==============================] - 3s 109ms/step - loss: 0.1852 - categorical_accuracy: 0.9313 - val_loss: 0.1186 - val_categorical_accuracy: 0.9518\n",
      "Epoch 40/100\n",
      "24/24 [==============================] - 3s 108ms/step - loss: 0.1198 - categorical_accuracy: 0.9474 - val_loss: 0.1183 - val_categorical_accuracy: 0.9398\n",
      "Epoch 41/100\n",
      "24/24 [==============================] - 3s 107ms/step - loss: 0.1245 - categorical_accuracy: 0.9434 - val_loss: 0.0627 - val_categorical_accuracy: 0.9880\n",
      "Epoch 42/100\n",
      "24/24 [==============================] - 3s 109ms/step - loss: 0.1262 - categorical_accuracy: 0.9474 - val_loss: 0.0999 - val_categorical_accuracy: 0.9639\n",
      "Epoch 43/100\n",
      "24/24 [==============================] - 3s 108ms/step - loss: 0.0858 - categorical_accuracy: 0.9744 - val_loss: 0.0634 - val_categorical_accuracy: 0.9759\n",
      "Epoch 44/100\n",
      "24/24 [==============================] - 3s 116ms/step - loss: 0.0824 - categorical_accuracy: 0.9690 - val_loss: 0.0303 - val_categorical_accuracy: 0.9880\n",
      "Epoch 45/100\n",
      "24/24 [==============================] - 3s 110ms/step - loss: 0.0595 - categorical_accuracy: 0.9825 - val_loss: 0.1694 - val_categorical_accuracy: 0.8916\n",
      "Epoch 46/100\n",
      "24/24 [==============================] - 3s 109ms/step - loss: 0.1777 - categorical_accuracy: 0.9380 - val_loss: 0.0970 - val_categorical_accuracy: 0.9759\n",
      "Epoch 47/100\n",
      "24/24 [==============================] - 3s 109ms/step - loss: 0.0720 - categorical_accuracy: 0.9744 - val_loss: 0.1516 - val_categorical_accuracy: 0.9277\n",
      "Epoch 48/100\n",
      "24/24 [==============================] - 3s 106ms/step - loss: 0.0918 - categorical_accuracy: 0.9636 - val_loss: 0.0468 - val_categorical_accuracy: 0.9880\n",
      "Epoch 49/100\n",
      "24/24 [==============================] - 3s 113ms/step - loss: 0.0547 - categorical_accuracy: 0.9825 - val_loss: 0.3860 - val_categorical_accuracy: 0.9277\n",
      "Epoch 50/100\n",
      "24/24 [==============================] - 3s 114ms/step - loss: 0.0628 - categorical_accuracy: 0.9784 - val_loss: 0.1501 - val_categorical_accuracy: 0.9639\n",
      "Epoch 51/100\n",
      "24/24 [==============================] - 3s 108ms/step - loss: 0.1057 - categorical_accuracy: 0.9704 - val_loss: 0.1209 - val_categorical_accuracy: 0.9518\n",
      "Epoch 52/100\n",
      "24/24 [==============================] - 3s 114ms/step - loss: 0.0642 - categorical_accuracy: 0.9825 - val_loss: 0.0328 - val_categorical_accuracy: 0.9880\n",
      "Epoch 53/100\n",
      "24/24 [==============================] - 3s 112ms/step - loss: 0.0685 - categorical_accuracy: 0.9717 - val_loss: 0.1096 - val_categorical_accuracy: 0.9639\n",
      "Epoch 54/100\n",
      "24/24 [==============================] - 3s 107ms/step - loss: 0.1346 - categorical_accuracy: 0.9542 - val_loss: 0.1564 - val_categorical_accuracy: 0.9157\n",
      "Epoch 55/100\n",
      "24/24 [==============================] - 3s 106ms/step - loss: 0.1017 - categorical_accuracy: 0.9717 - val_loss: 0.0464 - val_categorical_accuracy: 0.9880\n",
      "Epoch 56/100\n",
      "24/24 [==============================] - 3s 129ms/step - loss: 0.0377 - categorical_accuracy: 0.9879 - val_loss: 0.1574 - val_categorical_accuracy: 0.9398\n",
      "Epoch 57/100\n",
      "24/24 [==============================] - 3s 122ms/step - loss: 0.0430 - categorical_accuracy: 0.9879 - val_loss: 0.0938 - val_categorical_accuracy: 0.9639\n",
      "Epoch 58/100\n",
      "24/24 [==============================] - 3s 123ms/step - loss: 0.0373 - categorical_accuracy: 0.9852 - val_loss: 0.0193 - val_categorical_accuracy: 0.9880\n",
      "Epoch 59/100\n",
      "24/24 [==============================] - 3s 140ms/step - loss: 0.0533 - categorical_accuracy: 0.9784 - val_loss: 0.3453 - val_categorical_accuracy: 0.9036\n",
      "Epoch 60/100\n",
      "24/24 [==============================] - 3s 129ms/step - loss: 0.0889 - categorical_accuracy: 0.9744 - val_loss: 0.0268 - val_categorical_accuracy: 1.0000\n",
      "Epoch 61/100\n",
      "24/24 [==============================] - 3s 124ms/step - loss: 0.0596 - categorical_accuracy: 0.9771 - val_loss: 0.0368 - val_categorical_accuracy: 0.9880\n",
      "Epoch 62/100\n",
      "24/24 [==============================] - 3s 117ms/step - loss: 0.1888 - categorical_accuracy: 0.9272 - val_loss: 0.0279 - val_categorical_accuracy: 1.0000\n",
      "Epoch 63/100\n",
      "24/24 [==============================] - 3s 120ms/step - loss: 0.0840 - categorical_accuracy: 0.9663 - val_loss: 0.0525 - val_categorical_accuracy: 0.9880\n",
      "Epoch 64/100\n",
      "24/24 [==============================] - 3s 126ms/step - loss: 0.1103 - categorical_accuracy: 0.9650 - val_loss: 0.0610 - val_categorical_accuracy: 0.9639\n",
      "Epoch 65/100\n",
      "24/24 [==============================] - 3s 125ms/step - loss: 0.0420 - categorical_accuracy: 0.9825 - val_loss: 0.0760 - val_categorical_accuracy: 0.9759\n",
      "Epoch 66/100\n",
      "24/24 [==============================] - 3s 132ms/step - loss: 0.0366 - categorical_accuracy: 0.9892 - val_loss: 0.1159 - val_categorical_accuracy: 0.9518\n",
      "Epoch 67/100\n",
      "24/24 [==============================] - 3s 121ms/step - loss: 0.0847 - categorical_accuracy: 0.9704 - val_loss: 0.0415 - val_categorical_accuracy: 0.9880\n",
      "Epoch 68/100\n",
      "24/24 [==============================] - 3s 117ms/step - loss: 0.0298 - categorical_accuracy: 0.9906 - val_loss: 0.0346 - val_categorical_accuracy: 0.9759\n",
      "Epoch 69/100\n",
      "24/24 [==============================] - 3s 115ms/step - loss: 0.0300 - categorical_accuracy: 0.9892 - val_loss: 0.0747 - val_categorical_accuracy: 0.9759\n",
      "Epoch 70/100\n",
      "24/24 [==============================] - 3s 119ms/step - loss: 0.0248 - categorical_accuracy: 0.9919 - val_loss: 0.0142 - val_categorical_accuracy: 1.0000\n",
      "Epoch 71/100\n",
      "24/24 [==============================] - 3s 125ms/step - loss: 0.0635 - categorical_accuracy: 0.9798 - val_loss: 0.0908 - val_categorical_accuracy: 0.9277\n",
      "Epoch 72/100\n",
      "24/24 [==============================] - 3s 117ms/step - loss: 0.1123 - categorical_accuracy: 0.9609 - val_loss: 0.0220 - val_categorical_accuracy: 1.0000\n",
      "Epoch 73/100\n",
      "24/24 [==============================] - 4s 165ms/step - loss: 0.0925 - categorical_accuracy: 0.9717 - val_loss: 0.0589 - val_categorical_accuracy: 0.9880\n",
      "Epoch 74/100\n",
      "24/24 [==============================] - 4s 156ms/step - loss: 0.0676 - categorical_accuracy: 0.9730 - val_loss: 0.0438 - val_categorical_accuracy: 0.9880\n",
      "Epoch 75/100\n",
      "24/24 [==============================] - 3s 145ms/step - loss: 0.0290 - categorical_accuracy: 0.9919 - val_loss: 0.0250 - val_categorical_accuracy: 0.9880\n",
      "Epoch 76/100\n",
      "24/24 [==============================] - 3s 133ms/step - loss: 0.0167 - categorical_accuracy: 0.9946 - val_loss: 0.0173 - val_categorical_accuracy: 1.0000\n",
      "Epoch 77/100\n",
      "24/24 [==============================] - 3s 130ms/step - loss: 0.0188 - categorical_accuracy: 0.9933 - val_loss: 0.0066 - val_categorical_accuracy: 1.0000\n",
      "Epoch 78/100\n",
      "24/24 [==============================] - 3s 139ms/step - loss: 0.0143 - categorical_accuracy: 0.9960 - val_loss: 0.0078 - val_categorical_accuracy: 1.0000\n",
      "Epoch 79/100\n",
      "24/24 [==============================] - 3s 129ms/step - loss: 0.0178 - categorical_accuracy: 0.9919 - val_loss: 0.0158 - val_categorical_accuracy: 1.0000\n",
      "Epoch 80/100\n",
      "24/24 [==============================] - 3s 137ms/step - loss: 0.0082 - categorical_accuracy: 0.9987 - val_loss: 0.0029 - val_categorical_accuracy: 1.0000\n",
      "Epoch 81/100\n",
      "24/24 [==============================] - 3s 124ms/step - loss: 0.0275 - categorical_accuracy: 0.9865 - val_loss: 0.0181 - val_categorical_accuracy: 1.0000\n",
      "Epoch 82/100\n",
      "24/24 [==============================] - 3s 119ms/step - loss: 0.0293 - categorical_accuracy: 0.9946 - val_loss: 0.0526 - val_categorical_accuracy: 0.9880\n",
      "Epoch 83/100\n",
      "24/24 [==============================] - 3s 119ms/step - loss: 0.0217 - categorical_accuracy: 0.9919 - val_loss: 0.0020 - val_categorical_accuracy: 1.0000\n",
      "Epoch 84/100\n",
      "24/24 [==============================] - 3s 120ms/step - loss: 0.0139 - categorical_accuracy: 0.9960 - val_loss: 0.0111 - val_categorical_accuracy: 1.0000\n",
      "Epoch 85/100\n",
      "24/24 [==============================] - 3s 117ms/step - loss: 0.0222 - categorical_accuracy: 0.9906 - val_loss: 0.0221 - val_categorical_accuracy: 0.9759\n",
      "Epoch 86/100\n",
      "24/24 [==============================] - 3s 123ms/step - loss: 0.0567 - categorical_accuracy: 0.9825 - val_loss: 0.3446 - val_categorical_accuracy: 0.9157\n",
      "Epoch 87/100\n",
      "24/24 [==============================] - 3s 132ms/step - loss: 0.0524 - categorical_accuracy: 0.9811 - val_loss: 0.0151 - val_categorical_accuracy: 0.9880\n",
      "Epoch 88/100\n",
      "24/24 [==============================] - 3s 123ms/step - loss: 0.0151 - categorical_accuracy: 0.9973 - val_loss: 0.0187 - val_categorical_accuracy: 0.9880\n",
      "Epoch 89/100\n",
      "24/24 [==============================] - 3s 128ms/step - loss: 0.0042 - categorical_accuracy: 1.0000 - val_loss: 0.0113 - val_categorical_accuracy: 1.0000\n",
      "Epoch 90/100\n",
      "24/24 [==============================] - 3s 130ms/step - loss: 0.0070 - categorical_accuracy: 0.9987 - val_loss: 0.0061 - val_categorical_accuracy: 1.0000\n",
      "Epoch 91/100\n",
      "24/24 [==============================] - 3s 129ms/step - loss: 0.0122 - categorical_accuracy: 0.9933 - val_loss: 0.0429 - val_categorical_accuracy: 0.9759\n",
      "Epoch 92/100\n",
      "24/24 [==============================] - 3s 113ms/step - loss: 0.0165 - categorical_accuracy: 0.9933 - val_loss: 0.0263 - val_categorical_accuracy: 0.9880\n",
      "Epoch 93/100\n",
      "24/24 [==============================] - 3s 117ms/step - loss: 0.1331 - categorical_accuracy: 0.9596 - val_loss: 0.0411 - val_categorical_accuracy: 0.9880\n",
      "Epoch 94/100\n",
      "24/24 [==============================] - 3s 115ms/step - loss: 0.0759 - categorical_accuracy: 0.9757 - val_loss: 1.1296 - val_categorical_accuracy: 0.7711\n",
      "Epoch 95/100\n",
      "24/24 [==============================] - 3s 112ms/step - loss: 0.2106 - categorical_accuracy: 0.9313 - val_loss: 0.2030 - val_categorical_accuracy: 0.9518\n",
      "Epoch 96/100\n",
      "24/24 [==============================] - 3s 113ms/step - loss: 0.0511 - categorical_accuracy: 0.9852 - val_loss: 0.0475 - val_categorical_accuracy: 0.9759\n",
      "Epoch 97/100\n",
      "24/24 [==============================] - 3s 111ms/step - loss: 0.0189 - categorical_accuracy: 0.9973 - val_loss: 0.0166 - val_categorical_accuracy: 1.0000\n",
      "Epoch 98/100\n",
      "24/24 [==============================] - 3s 110ms/step - loss: 0.0088 - categorical_accuracy: 0.9973 - val_loss: 0.0066 - val_categorical_accuracy: 1.0000\n",
      "Epoch 99/100\n",
      "24/24 [==============================] - 3s 112ms/step - loss: 0.0043 - categorical_accuracy: 1.0000 - val_loss: 0.0027 - val_categorical_accuracy: 1.0000\n",
      "Epoch 100/100\n",
      "24/24 [==============================] - 3s 112ms/step - loss: 0.0038 - categorical_accuracy: 1.0000 - val_loss: 0.0042 - val_categorical_accuracy: 1.0000\n"
     ]
    }
   ],
   "source": [
    "gru_model2_v2=keras.models.Sequential()\n",
    "gru_model2_v2.add(keras.layers.GRU(64,activation='relu',return_sequences=True,input_shape=(30,1662)))\n",
    "gru_model2_v2.add(keras.layers.GRU(128,activation='relu',return_sequences=True))\n",
    "gru_model2_v2.add(keras.layers.GRU(32,activation='relu',return_sequences=False))\n",
    "gru_model2_v2.add(keras.layers.Dense(64,activation='relu'))\n",
    "gru_model2_v2.add(keras.layers.Dense(32,activation='relu'))\n",
    "gru_model2_v2.add(keras.layers.Dense(11,activation='softmax'))\n",
    "gru_model2_v2.compile(loss='categorical_crossentropy',optimizer='adam',metrics=['categorical_accuracy'])\n",
    "\n",
    "\n",
    "history_2_v2=gru_model2_v2.fit(x_train,y_train,epochs=100,validation_data=(x_test,y_test))"
   ]
  },
  {
   "cell_type": "code",
   "execution_count": 16,
   "id": "d9a1cf27-4b8b-4d74-ae97-f1d1b9701575",
   "metadata": {},
   "outputs": [
    {
     "name": "stdout",
     "output_type": "stream",
     "text": [
      "3/3 [==============================] - 0s 36ms/step - loss: 0.0042 - categorical_accuracy: 1.0000\n"
     ]
    },
    {
     "data": {
      "text/plain": [
       "[0.00422377185896039, 1.0]"
      ]
     },
     "execution_count": 16,
     "metadata": {},
     "output_type": "execute_result"
    }
   ],
   "source": [
    "\n",
    "gru_model2_v2.evaluate(x_test,y_test)"
   ]
  },
  {
   "cell_type": "code",
   "execution_count": 18,
   "id": "63eb8d1f-f1ad-4bdc-af79-8dd6470ed871",
   "metadata": {},
   "outputs": [
    {
     "name": "stderr",
     "output_type": "stream",
     "text": [
      "C:\\Users\\vivek chouhan\\AppData\\Local\\Programs\\Python\\Python311\\Lib\\site-packages\\keras\\src\\engine\\training.py:3000: UserWarning: You are saving your model as an HDF5 file via `model.save()`. This file format is considered legacy. We recommend using instead the native Keras format, e.g. `model.save('my_model.keras')`.\n",
      "  saving_api.save_model(\n"
     ]
    }
   ],
   "source": [
    "gru_model2_v2.save(\"latest_model.h5\")"
   ]
  },
  {
   "cell_type": "code",
   "execution_count": 15,
   "id": "0145e6a9-eb2b-4471-9410-afa774d8cff1",
   "metadata": {},
   "outputs": [
    {
     "ename": "NameError",
     "evalue": "name 'gru_model_v2' is not defined",
     "output_type": "error",
     "traceback": [
      "\u001b[1;31m---------------------------------------------------------------------------\u001b[0m",
      "\u001b[1;31mNameError\u001b[0m                                 Traceback (most recent call last)",
      "Cell \u001b[1;32mIn[15], line 1\u001b[0m\n\u001b[1;32m----> 1\u001b[0m \u001b[43mgru_model_v2\u001b[49m\u001b[38;5;241m.\u001b[39mevaluate(x_test,y_test)\n",
      "\u001b[1;31mNameError\u001b[0m: name 'gru_model_v2' is not defined"
     ]
    }
   ],
   "source": [
    "gru_model_v2.evaluate(x_test,y_test)"
   ]
  },
  {
   "cell_type": "code",
   "execution_count": 20,
   "id": "63a4e220-c213-404c-b232-be9a60f425a1",
   "metadata": {},
   "outputs": [],
   "source": [
    "from matplotlib import pyplot as plt"
   ]
  },
  {
   "cell_type": "code",
   "execution_count": 21,
   "id": "0c41193a-ed3b-444e-8bf1-b332a5886171",
   "metadata": {},
   "outputs": [
    {
     "data": {
      "image/png": "[encoded data removed]",
      "text/plain": [
       "<Figure size 640x480 with 1 Axes>"
      ]
     },
     "metadata": {},
     "output_type": "display_data"
    }
   ],
   "source": [
    "plt.plot(history_2_v2.history['loss'])\n",
    "plt.plot(history_2_v2.history['categorical_accuracy'])\n",
    "plt.title('Training Stats')\n",
    "plt.xlabel('epochs')\n",
    "plt.legend(['training_loss','traning categorical_accuracy'])\n",
    "plt.savefig('training_stats.png')"
   ]
  },
  {
   "cell_type": "code",
   "execution_count": 19,
   "id": "69529931-4965-4b25-9ae8-7cb705bd3996",
   "metadata": {},
   "outputs": [
    {
     "ename": "NameError",
     "evalue": "name 'plt' is not defined",
     "output_type": "error",
     "traceback": [
      "\u001b[1;31m---------------------------------------------------------------------------\u001b[0m",
      "\u001b[1;31mNameError\u001b[0m                                 Traceback (most recent call last)",
      "Cell \u001b[1;32mIn[19], line 1\u001b[0m\n\u001b[1;32m----> 1\u001b[0m \u001b[43mplt\u001b[49m\u001b[38;5;241m.\u001b[39mplot(history_2_v2\u001b[38;5;241m.\u001b[39mhistory[\u001b[38;5;124m'\u001b[39m\u001b[38;5;124mval_loss\u001b[39m\u001b[38;5;124m'\u001b[39m])\n\u001b[0;32m      2\u001b[0m plt\u001b[38;5;241m.\u001b[39mplot(history_2_v2\u001b[38;5;241m.\u001b[39mhistory[\u001b[38;5;124m'\u001b[39m\u001b[38;5;124mval_categorical_accuracy\u001b[39m\u001b[38;5;124m'\u001b[39m])\n\u001b[0;32m      3\u001b[0m plt\u001b[38;5;241m.\u001b[39mtitle(\u001b[38;5;124m'\u001b[39m\u001b[38;5;124mTraining Stats\u001b[39m\u001b[38;5;124m'\u001b[39m)\n",
      "\u001b[1;31mNameError\u001b[0m: name 'plt' is not defined"
     ]
    }
   ],
   "source": [
    "plt.plot(history_2_v2.history['val_loss'])\n",
    "plt.plot(history_2_v2.history['val_categorical_accuracy'])\n",
    "plt.title('Training Stats')\n",
    "plt.xlabel('epochs')\n",
    "plt.legend(['testing_loss','testing categorical_accuracy'])\n",
    "plt.savefig('testing_stats.png')"
   ]
  },
  {
   "cell_type": "code",
   "execution_count": 18,
   "id": "054926b1-ab1f-421a-8c43-e69115ff7100",
   "metadata": {},
   "outputs": [
    {
     "name": "stderr",
     "output_type": "stream",
     "text": [
      "C:\\Users\\vivek chouhan\\AppData\\Roaming\\Python\\Python311\\site-packages\\keras\\src\\engine\\training.py:3000: UserWarning: You are saving your model as an HDF5 file via `model.save()`. This file format is considered legacy. We recommend using instead the native Keras format, e.g. `model.save('my_model.keras')`.\n",
      "  saving_api.save_model(\n"
     ]
    }
   ],
   "source": [
    "gru_model2_v2.save('gru_isl_model_extra_v2.keras')\n",
    "gru_model2_v2.save('gru_isl_model_extra_v2.h5')"
   ]
  },
  {
   "cell_type": "code",
   "execution_count": 22,
   "id": "80dd9d23-a984-4465-b1a1-c212c5d7a4a0",
   "metadata": {},
   "outputs": [],
   "source": [
    "import pickle"
   ]
  },
  {
   "cell_type": "code",
   "execution_count": 23,
   "id": "4ea7d139-b130-431e-9919-e66c6d84bffb",
   "metadata": {},
   "outputs": [],
   "source": [
    "pickle.dump(actions,open('latest_classes.pickle','wb'))"
   ]
  },
  {
   "cell_type": "code",
   "execution_count": 50,
   "id": "68f67d1d-2250-42d8-a429-5949a74579db",
   "metadata": {},
   "outputs": [],
   "source": [
    "actual=[np.argmax(i) for i in y_test]"
   ]
  },
  {
   "cell_type": "code",
   "execution_count": 51,
   "id": "83d686f6-e24f-4365-8022-11f3a3fd3a84",
   "metadata": {
    "scrolled": true
   },
   "outputs": [
    {
     "data": {
      "text/plain": [
       "45"
      ]
     },
     "execution_count": 51,
     "metadata": {},
     "output_type": "execute_result"
    }
   ],
   "source": [
    "len(actual)"
   ]
  },
  {
   "cell_type": "code",
   "execution_count": 53,
   "id": "fd18b30f-b11b-4d2e-b2b0-78e4b0405a54",
   "metadata": {},
   "outputs": [
    {
     "name": "stdout",
     "output_type": "stream",
     "text": [
      "2/2 [==============================] - 1s 30ms/step\n"
     ]
    }
   ],
   "source": [
    "y_p=gru_model2_v2.predict(x_test)"
   ]
  },
  {
   "cell_type": "code",
   "execution_count": 54,
   "id": "016a2830-0bfc-4f98-aaae-9496d45e5575",
   "metadata": {},
   "outputs": [
    {
     "data": {
      "text/plain": [
       "array([[4.0991516e-11, 1.5915861e-06, 1.7602229e-05, 2.9272464e-04,\n",
       "        3.4122996e-02, 9.6556503e-01],\n",
       "       [2.1456553e-10, 9.6570851e-08, 2.1201344e-04, 8.6935339e-03,\n",
       "        3.4385999e-03, 9.8765570e-01],\n",
       "       [9.9828440e-01, 1.3990568e-03, 1.9528099e-07, 2.6365076e-04,\n",
       "        9.8078626e-06, 4.2761432e-05],\n",
       "       [1.5491990e-10, 1.1384355e-07, 9.9908757e-01, 6.9884126e-10,\n",
       "        8.6657028e-04, 4.5797864e-05],\n",
       "       [8.0207320e-15, 1.3361032e-11, 2.1496926e-06, 3.4936625e-07,\n",
       "        2.9814078e-03, 9.9701607e-01],\n",
       "       [3.3969862e-09, 1.8448958e-05, 1.1921901e-03, 2.7535358e-05,\n",
       "        8.7938541e-01, 1.1937642e-01],\n",
       "       [2.3373993e-15, 7.6752504e-13, 1.5847012e-07, 5.9118061e-06,\n",
       "        2.2797358e-05, 9.9997115e-01],\n",
       "       [1.0250419e-08, 4.1355665e-06, 9.7584730e-01, 1.6533741e-08,\n",
       "        2.3974326e-02, 1.7417989e-04],\n",
       "       [6.2335333e-05, 9.9906415e-01, 3.0153806e-05, 4.6705865e-04,\n",
       "        2.9726129e-04, 7.8963087e-05],\n",
       "       [3.9946135e-10, 1.2318050e-07, 9.9950552e-01, 9.8987085e-10,\n",
       "        4.2724636e-04, 6.7092675e-05],\n",
       "       [1.0808837e-11, 4.0923524e-07, 3.3986523e-06, 8.5787702e-01,\n",
       "        2.2492296e-04, 1.4189430e-01],\n",
       "       [6.7990013e-06, 9.9802041e-01, 1.5712762e-04, 6.2322582e-04,\n",
       "        1.0174381e-03, 1.7498306e-04],\n",
       "       [5.9802024e-10, 4.7433230e-07, 9.9707055e-01, 9.7126063e-10,\n",
       "        2.8838303e-03, 4.5164910e-05],\n",
       "       [1.6669400e-09, 6.4533407e-07, 9.9630690e-01, 2.1864341e-09,\n",
       "        3.6034461e-03, 8.9059846e-05],\n",
       "       [9.9729663e-01, 2.2719989e-03, 4.0315982e-07, 3.4965691e-04,\n",
       "        1.6780850e-05, 6.4575463e-05],\n",
       "       [7.7947582e-10, 2.8669328e-06, 1.9824435e-03, 4.0190176e-07,\n",
       "        9.9341971e-01, 4.5945863e-03],\n",
       "       [9.9678254e-01, 2.6651747e-03, 5.4198767e-07, 4.5304492e-04,\n",
       "        2.1355992e-05, 7.7215132e-05],\n",
       "       [4.0174092e-14, 8.7521236e-08, 4.2656190e-10, 9.9996984e-01,\n",
       "        2.0113630e-08, 3.0039000e-05],\n",
       "       [2.5032939e-06, 9.9980289e-01, 2.4989599e-06, 1.5027422e-04,\n",
       "        2.8892080e-05, 1.2937711e-05],\n",
       "       [9.9903357e-01, 8.0203736e-04, 6.7818846e-08, 1.3396253e-04,\n",
       "        4.4031231e-06, 2.5973213e-05],\n",
       "       [1.3452083e-09, 2.5998891e-06, 1.7271938e-02, 2.1089558e-07,\n",
       "        9.8226142e-01, 4.6375583e-04],\n",
       "       [7.8406372e-16, 1.2811016e-09, 1.0624502e-11, 9.9998307e-01,\n",
       "        2.8746545e-09, 1.6962389e-05],\n",
       "       [9.9819881e-01, 1.4712779e-03, 2.0104804e-07, 2.7384743e-04,\n",
       "        1.0067354e-05, 4.5779037e-05],\n",
       "       [9.0575469e-15, 1.9701895e-11, 1.9089896e-06, 4.8297716e-07,\n",
       "        2.9835892e-03, 9.9701405e-01],\n",
       "       [5.0715943e-10, 1.1989487e-06, 2.2773684e-03, 6.8943331e-07,\n",
       "        9.9119765e-01, 6.5230494e-03],\n",
       "       [2.4253308e-10, 9.2712526e-07, 1.4782221e-03, 7.6321817e-07,\n",
       "        9.8770708e-01, 1.0812949e-02],\n",
       "       [1.9536481e-05, 9.9598014e-01, 6.0180185e-04, 4.1243603e-04,\n",
       "        2.6568943e-03, 3.2915885e-04],\n",
       "       [1.8566244e-11, 2.4760982e-07, 7.2208741e-06, 3.5529124e-04,\n",
       "        3.2671851e-03, 9.9637008e-01],\n",
       "       [5.0986923e-06, 9.9962127e-01, 3.1448687e-07, 3.6299214e-04,\n",
       "        4.9510063e-06, 5.4415800e-06],\n",
       "       [3.0815420e-10, 9.5126018e-07, 1.9539285e-03, 1.1041885e-06,\n",
       "        9.8841023e-01, 9.6337711e-03],\n",
       "       [6.5717424e-14, 1.0549125e-07, 1.0711562e-09, 9.9995458e-01,\n",
       "        3.5572025e-08, 4.5311965e-05],\n",
       "       [7.4603100e-05, 9.8431039e-01, 2.5427868e-04, 1.2028366e-02,\n",
       "        2.4674097e-03, 8.6485385e-04],\n",
       "       [1.1831240e-13, 2.5206412e-10, 6.2392212e-07, 3.7170281e-05,\n",
       "        4.4299118e-04, 9.9951923e-01],\n",
       "       [3.3367878e-11, 2.5028251e-06, 3.9408815e-06, 9.9163228e-01,\n",
       "        2.3800716e-05, 8.3375210e-03],\n",
       "       [4.3463958e-15, 6.3219501e-09, 1.0304775e-10, 9.9986076e-01,\n",
       "        2.0753047e-08, 1.3915250e-04],\n",
       "       [9.3192809e-16, 3.7317798e-14, 1.5470605e-05, 4.6137846e-08,\n",
       "        2.6690675e-04, 9.9971753e-01],\n",
       "       [1.7953847e-09, 2.9215995e-05, 2.0078682e-04, 3.6851875e-04,\n",
       "        2.9079041e-01, 7.0861113e-01],\n",
       "       [1.5658515e-10, 2.2948591e-07, 9.9951363e-01, 4.7735665e-10,\n",
       "        4.5621212e-04, 2.9893979e-05],\n",
       "       [5.2942795e-10, 3.2950177e-06, 9.1106171e-04, 3.5342591e-06,\n",
       "        9.3697071e-01, 6.2111355e-02],\n",
       "       [7.3162423e-09, 6.0655611e-06, 9.8626745e-01, 7.2384294e-09,\n",
       "        1.3626958e-02, 9.9484489e-05],\n",
       "       [6.0687576e-05, 9.9956483e-01, 8.4760513e-06, 2.2636897e-04,\n",
       "        9.9174067e-05, 4.0502626e-05],\n",
       "       [5.6597908e-14, 1.6556843e-08, 6.2682132e-10, 9.9994028e-01,\n",
       "        5.4075841e-08, 5.9660546e-05],\n",
       "       [3.6568979e-13, 9.5736385e-10, 9.2579994e-06, 2.5857519e-06,\n",
       "        1.7162891e-02, 9.8282522e-01],\n",
       "       [9.9808973e-01, 1.5480150e-03, 1.9164231e-07, 3.0591476e-04,\n",
       "        9.8795708e-06, 4.6153153e-05],\n",
       "       [2.0576334e-12, 3.0127609e-11, 2.9081121e-02, 1.1308496e-07,\n",
       "        2.2973051e-02, 9.4794577e-01]], dtype=float32)"
      ]
     },
     "execution_count": 54,
     "metadata": {},
     "output_type": "execute_result"
    }
   ],
   "source": [
    "y_p"
   ]
  },
  {
   "cell_type": "code",
   "execution_count": 56,
   "id": "a7d000fb-6706-42c8-823e-4d46bb588dc7",
   "metadata": {},
   "outputs": [],
   "source": [
    "predicted=[np.argmax(i) for i in y_p]"
   ]
  },
  {
   "cell_type": "code",
   "execution_count": 57,
   "id": "0225e3ae-eddd-4ab9-807e-8439832a9a40",
   "metadata": {},
   "outputs": [],
   "source": [
    "from seaborn import heatmap"
   ]
  },
  {
   "cell_type": "code",
   "execution_count": 59,
   "id": "8155fc0f-8eaf-436c-8f89-af39c7ff10d1",
   "metadata": {},
   "outputs": [],
   "source": [
    "cm=tf.math.confusion_matrix(actual,predicted)"
   ]
  },
  {
   "cell_type": "code",
   "execution_count": 60,
   "id": "e8f67061-b2df-4039-a80a-1bd2115b0f21",
   "metadata": {},
   "outputs": [],
   "source": [
    "from sklearn.metrics import classification_report"
   ]
  },
  {
   "cell_type": "code",
   "execution_count": 64,
   "id": "798f186f-baa3-43d0-8722-c45710fd5090",
   "metadata": {},
   "outputs": [
    {
     "data": {
      "image/png": "[encoded data removed]",
      "text/plain": [
       "<Figure size 640x480 with 2 Axes>"
      ]
     },
     "metadata": {},
     "output_type": "display_data"
    }
   ],
   "source": [
    "cm_plot=heatmap(cm,annot=True)"
   ]
  },
  {
   "cell_type": "code",
   "execution_count": 67,
   "id": "16c81da7-8fa8-41fa-b57d-1a54fba07b4c",
   "metadata": {},
   "outputs": [],
   "source": [
    "cm_plot.get_figure().savefig('v2_cm.png')"
   ]
  },
  {
   "cell_type": "code",
   "execution_count": 68,
   "id": "0e7eec04-27ac-416a-aae9-8f03bfbd4902",
   "metadata": {},
   "outputs": [
    {
     "name": "stdout",
     "output_type": "stream",
     "text": [
      "              precision    recall  f1-score   support\n",
      "\n",
      "           0       1.00      1.00      1.00         6\n",
      "           1       1.00      1.00      1.00         7\n",
      "           2       1.00      1.00      1.00         7\n",
      "           3       1.00      1.00      1.00         7\n",
      "           4       1.00      1.00      1.00         7\n",
      "           5       1.00      1.00      1.00        11\n",
      "\n",
      "    accuracy                           1.00        45\n",
      "   macro avg       1.00      1.00      1.00        45\n",
      "weighted avg       1.00      1.00      1.00        45\n",
      "\n"
     ]
    }
   ],
   "source": [
    "print(classification_report(actual,predicted))"
   ]
  },
  {
   "cell_type": "code",
   "execution_count": null,
   "id": "ae02e70f-ba37-48e7-a4ae-070d58a624d8",
   "metadata": {},
   "outputs": [],
   "source": []
  }
 ],
 "metadata": {
  "kernelspec": {
   "display_name": "Python 3 (ipykernel)",
   "language": "python",
   "name": "python3"
  },
  "language_info": {
   "codemirror_mode": {
    "name": "ipython",
    "version": 3
   },
   "file_extension": ".py",
   "mimetype": "text/x-python",
   "name": "python",
   "nbconvert_exporter": "python",
   "pygments_lexer": "ipython3",
   "version": "3.11.5"
  }
 },
 "nbformat": 4,
 "nbformat_minor": 5
}
