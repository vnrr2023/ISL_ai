{
 "cells": [
  {
   "cell_type": "code",
   "execution_count": 1,
   "id": "7569026e-58f1-486a-85e3-0ccbf98990e6",
   "metadata": {},
   "outputs": [],
   "source": [
    "import numpy as np"
   ]
  },
  {
   "cell_type": "code",
   "execution_count": 2,
   "id": "bc5cbd2c-88a6-445a-a01f-ba69898187a0",
   "metadata": {},
   "outputs": [],
   "source": [
    "import os"
   ]
  },
  {
   "cell_type": "code",
   "execution_count": 24,
   "id": "5b132d3b-7697-46aa-87fd-8ff658e743eb",
   "metadata": {},
   "outputs": [],
   "source": [
    "from tqdm import tqdm"
   ]
  },
  {
   "cell_type": "code",
   "execution_count": 3,
   "id": "0303d973-64e5-465a-bd14-222511fd413b",
   "metadata": {},
   "outputs": [],
   "source": [
    "data_dir='data'"
   ]
  },
  {
   "cell_type": "code",
   "execution_count": 4,
   "id": "0a94dd22-12a8-47ae-92a3-c76de914c8e8",
   "metadata": {},
   "outputs": [],
   "source": [
    "actions=['hello','thank you','welcome','sorry','blank','how are you']"
   ]
  },
  {
   "cell_type": "code",
   "execution_count": 65,
   "id": "42626859-3f28-4375-b10e-2fcc4215923a",
   "metadata": {},
   "outputs": [],
   "source": [
    "data_dir2='data2'"
   ]
  },
  {
   "cell_type": "code",
   "execution_count": 98,
   "id": "c254fc85-9e4c-4e2b-872b-6f264f00a87b",
   "metadata": {},
   "outputs": [],
   "source": [
    "action='name'"
   ]
  },
  {
   "cell_type": "code",
   "execution_count": 99,
   "id": "de865053-74e6-44aa-a345-1f1cb0912478",
   "metadata": {},
   "outputs": [],
   "source": [
    "os.mkdir(os.path.join(data_dir2,action))"
   ]
  },
  {
   "cell_type": "code",
   "execution_count": 100,
   "id": "8e61681a-af04-4a66-884a-db783adfefbd",
   "metadata": {},
   "outputs": [],
   "source": [
    "hello=[]"
   ]
  },
  {
   "cell_type": "code",
   "execution_count": 101,
   "id": "6e000b9e-c214-4a9a-bb7d-0c40e0ec6eaa",
   "metadata": {},
   "outputs": [
    {
     "name": "stderr",
     "output_type": "stream",
     "text": [
      "100%|████████████████████████████████████████████████████████████████████████████████████████████████████████████| 150/150 [01:57<00:00,  1.27it/s]\n"
     ]
    }
   ],
   "source": [
    "for i in tqdm(range(150)):\n",
    "    temp=[]\n",
    "    for frame in os.listdir(os.path.join(data_dir,action,str(i))):\n",
    "        path=os.path.join(data_dir,action,str(i),frame)\n",
    "        temp.append(np.load(path))\n",
    "    hello.append(temp)\n",
    "        "
   ]
  },
  {
   "cell_type": "code",
   "execution_count": 102,
   "id": "99455aaa-096e-47a4-b549-803881f1c3af",
   "metadata": {},
   "outputs": [],
   "source": [
    "heelo=np.array(hello)"
   ]
  },
  {
   "cell_type": "code",
   "execution_count": 103,
   "id": "a59222d7-8a9a-41cc-bdd9-b8c88db9e2ea",
   "metadata": {},
   "outputs": [
    {
     "data": {
      "text/plain": [
       "(150, 30, 1662)"
      ]
     },
     "execution_count": 103,
     "metadata": {},
     "output_type": "execute_result"
    }
   ],
   "source": [
    "heelo.shape"
   ]
  },
  {
   "cell_type": "code",
   "execution_count": 104,
   "id": "dfde835e-b013-4a66-9c6b-992cc94b3eb8",
   "metadata": {},
   "outputs": [
    {
     "name": "stdout",
     "output_type": "stream",
     "text": [
      "(30, 1662)\n",
      "(30, 1662)\n",
      "(30, 1662)\n",
      "(30, 1662)\n",
      "(30, 1662)\n",
      "(30, 1662)\n",
      "(30, 1662)\n",
      "(30, 1662)\n",
      "(30, 1662)\n",
      "(30, 1662)\n",
      "(30, 1662)\n",
      "(30, 1662)\n",
      "(30, 1662)\n",
      "(30, 1662)\n",
      "(30, 1662)\n",
      "(30, 1662)\n",
      "(30, 1662)\n",
      "(30, 1662)\n",
      "(30, 1662)\n",
      "(30, 1662)\n",
      "(30, 1662)\n",
      "(30, 1662)\n",
      "(30, 1662)\n",
      "(30, 1662)\n",
      "(30, 1662)\n",
      "(30, 1662)\n",
      "(30, 1662)\n",
      "(30, 1662)\n",
      "(30, 1662)\n",
      "(30, 1662)\n",
      "(30, 1662)\n",
      "(30, 1662)\n",
      "(30, 1662)\n",
      "(30, 1662)\n",
      "(30, 1662)\n",
      "(30, 1662)\n",
      "(30, 1662)\n",
      "(30, 1662)\n",
      "(30, 1662)\n",
      "(30, 1662)\n",
      "(30, 1662)\n",
      "(30, 1662)\n",
      "(30, 1662)\n",
      "(30, 1662)\n",
      "(30, 1662)\n",
      "(30, 1662)\n",
      "(30, 1662)\n",
      "(30, 1662)\n",
      "(30, 1662)\n",
      "(30, 1662)\n",
      "(30, 1662)\n",
      "(30, 1662)\n",
      "(30, 1662)\n",
      "(30, 1662)\n",
      "(30, 1662)\n",
      "(30, 1662)\n",
      "(30, 1662)\n",
      "(30, 1662)\n",
      "(30, 1662)\n",
      "(30, 1662)\n",
      "(30, 1662)\n",
      "(30, 1662)\n",
      "(30, 1662)\n",
      "(30, 1662)\n",
      "(30, 1662)\n",
      "(30, 1662)\n",
      "(30, 1662)\n",
      "(30, 1662)\n",
      "(30, 1662)\n",
      "(30, 1662)\n",
      "(30, 1662)\n",
      "(30, 1662)\n",
      "(30, 1662)\n",
      "(30, 1662)\n",
      "(30, 1662)\n",
      "(30, 1662)\n",
      "(30, 1662)\n",
      "(30, 1662)\n",
      "(30, 1662)\n",
      "(30, 1662)\n",
      "(30, 1662)\n",
      "(30, 1662)\n",
      "(30, 1662)\n",
      "(30, 1662)\n",
      "(30, 1662)\n",
      "(30, 1662)\n",
      "(30, 1662)\n",
      "(30, 1662)\n",
      "(30, 1662)\n",
      "(30, 1662)\n",
      "(30, 1662)\n",
      "(30, 1662)\n",
      "(30, 1662)\n",
      "(30, 1662)\n",
      "(30, 1662)\n",
      "(30, 1662)\n",
      "(30, 1662)\n",
      "(30, 1662)\n",
      "(30, 1662)\n",
      "(30, 1662)\n",
      "(30, 1662)\n",
      "(30, 1662)\n",
      "(30, 1662)\n",
      "(30, 1662)\n",
      "(30, 1662)\n",
      "(30, 1662)\n",
      "(30, 1662)\n",
      "(30, 1662)\n",
      "(30, 1662)\n",
      "(30, 1662)\n",
      "(30, 1662)\n",
      "(30, 1662)\n",
      "(30, 1662)\n",
      "(30, 1662)\n",
      "(30, 1662)\n",
      "(30, 1662)\n",
      "(30, 1662)\n",
      "(30, 1662)\n",
      "(30, 1662)\n",
      "(30, 1662)\n",
      "(30, 1662)\n",
      "(30, 1662)\n",
      "(30, 1662)\n",
      "(30, 1662)\n",
      "(30, 1662)\n",
      "(30, 1662)\n",
      "(30, 1662)\n",
      "(30, 1662)\n",
      "(30, 1662)\n",
      "(30, 1662)\n",
      "(30, 1662)\n",
      "(30, 1662)\n",
      "(30, 1662)\n",
      "(30, 1662)\n",
      "(30, 1662)\n",
      "(30, 1662)\n",
      "(30, 1662)\n",
      "(30, 1662)\n",
      "(30, 1662)\n",
      "(30, 1662)\n",
      "(30, 1662)\n",
      "(30, 1662)\n",
      "(30, 1662)\n",
      "(30, 1662)\n",
      "(30, 1662)\n",
      "(30, 1662)\n",
      "(30, 1662)\n",
      "(30, 1662)\n",
      "(30, 1662)\n",
      "(30, 1662)\n"
     ]
    }
   ],
   "source": [
    "for i in range(150):\n",
    "    to_save_path=os.path.join(data_dir2,action,f'{i}.npy')\n",
    "    a=heelo[i]\n",
    "    print(a.shape)\n",
    "    np.save(to_save_path,a)"
   ]
  },
  {
   "cell_type": "code",
   "execution_count": 63,
   "id": "694deb0a-01db-43b3-ab0e-65e2bec98e74",
   "metadata": {},
   "outputs": [],
   "source": [
    "for i in range(75):\n",
    "    to_read_path=os.path.join(data_dir2,action,f'{i}.npy')\n",
    "    a=np.load(to_read_path)\n",
    "    to_save_path=os.path.join(data_dir2,action,f'{i+500}.npy')\n",
    "    np.save(to_save_path,a)"
   ]
  },
  {
   "cell_type": "code",
   "execution_count": 64,
   "id": "10977580-27db-4f8a-a145-74c98e867e9f",
   "metadata": {},
   "outputs": [
    {
     "data": {
      "text/plain": [
       "150"
      ]
     },
     "execution_count": 64,
     "metadata": {},
     "output_type": "execute_result"
    }
   ],
   "source": [
    "len(os.listdir(os.path.join(data_dir2,action)))"
   ]
  },
  {
   "cell_type": "code",
   "execution_count": 115,
   "id": "f5634172-96f1-4aa7-9a8a-6dd5dda4f68b",
   "metadata": {},
   "outputs": [
    {
     "name": "stdout",
     "output_type": "stream",
     "text": [
      "afternoon 150\n",
      "age 150\n",
      "blank 150\n",
      "deaf 150\n",
      "evening 150\n",
      "fine 150\n",
      "good 150\n",
      "hello 150\n",
      "how are you 150\n",
      "I 150\n",
      "live 150\n",
      "morning 150\n",
      "name 150\n",
      "no 150\n",
      "sorry 150\n",
      "thank you 150\n",
      "time 150\n",
      "welcome 150\n",
      "what 150\n",
      "yes 150\n"
     ]
    }
   ],
   "source": [
    "for i in os.listdir('data/'):\n",
    "    total_data=len(os.listdir(os.path.join('data',i)))\n",
    "    # if total_data!=150:\n",
    "    print(i,total_data)"
   ]
  },
  {
   "cell_type": "code",
   "execution_count": 112,
   "id": "0c38c468-35d7-455b-97c7-2fcd843fedee",
   "metadata": {},
   "outputs": [
    {
     "name": "stdout",
     "output_type": "stream",
     "text": [
      "0\n",
      "1\n",
      "10\n",
      "11\n",
      "12\n",
      "120\n",
      "121\n",
      "122\n",
      "123\n",
      "124\n",
      "125\n",
      "126\n",
      "127\n",
      "128\n",
      "129\n",
      "13\n",
      "130\n",
      "131\n",
      "132\n",
      "133\n",
      "134\n",
      "135\n",
      "136\n",
      "137\n",
      "138\n",
      "139\n",
      "14\n",
      "140\n",
      "141\n",
      "142\n",
      "143\n",
      "144\n",
      "145\n",
      "146\n",
      "147\n",
      "148\n",
      "149\n",
      "15\n",
      "17\n",
      "18\n",
      "19\n",
      "2\n",
      "20\n",
      "21\n",
      "22\n",
      "23\n",
      "24\n",
      "25\n",
      "26\n",
      "27\n",
      "28\n",
      "29\n",
      "3\n",
      "30\n",
      "31\n",
      "32\n",
      "33\n",
      "34\n",
      "35\n",
      "36\n",
      "37\n",
      "38\n",
      "4\n",
      "42\n",
      "43\n",
      "44\n",
      "45\n",
      "46\n",
      "47\n",
      "48\n",
      "49\n",
      "5\n",
      "6\n",
      "7\n",
      "9\n"
     ]
    }
   ],
   "source": [
    "for i in os.listdir( os.path.join('data','deaf')  ):\n",
    "    path=os.path.join('data','deaf',i) \n",
    "    a=np.load(path)\n",
    "    number=int(i.split('.')[0])\n",
    "    # path1= os.path.join('data','deaf',f'{number+500}.npy')\n",
    "    path2= os.path.join('data','deaf',f'{number+600}.npy') \n",
    "    # np.save(path1,a)\n",
    "    np.save(path2,a)\n",
    "    print(number)"
   ]
  },
  {
   "cell_type": "code",
   "execution_count": null,
   "id": "60411e9c-fae0-4bdd-a70b-cef6e04ed6ac",
   "metadata": {},
   "outputs": [],
   "source": []
  }
 ],
 "metadata": {
  "kernelspec": {
   "display_name": "Python 3 (ipykernel)",
   "language": "python",
   "name": "python3"
  },
  "language_info": {
   "codemirror_mode": {
    "name": "ipython",
    "version": 3
   },
   "file_extension": ".py",
   "mimetype": "text/x-python",
   "name": "python",
   "nbconvert_exporter": "python",
   "pygments_lexer": "ipython3",
   "version": "3.11.5"
  }
 },
 "nbformat": 4,
 "nbformat_minor": 5
}
