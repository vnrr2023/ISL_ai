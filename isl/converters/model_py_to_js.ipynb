{
 "cells": [
  {
   "cell_type": "code",
   "execution_count": 1,
   "id": "1916000c-4381-4afe-bc48-894945907855",
   "metadata": {},
   "outputs": [],
   "source": [
    "import tensorflow as tf\n",
    "from tensorflow import keras\n"
   ]
  },
  {
   "cell_type": "code",
   "execution_count": 2,
   "id": "a53f9484-4a4d-4aef-a0e4-39aef97c7b20",
   "metadata": {},
   "outputs": [],
   "source": [
    "model=keras.models.load_model(\"../v2/gru_isl_model_v2.h5\")"
   ]
  },
  {
   "cell_type": "code",
   "execution_count": 4,
   "id": "41c30945-d35d-474a-ac9f-44adf28f86c6",
   "metadata": {},
   "outputs": [
    {
     "data": {
      "text/plain": [
       "[<keras.src.layers.rnn.gru.GRU at 0x20b5ab21f90>,\n",
       " <keras.src.layers.rnn.gru.GRU at 0x20b59aa3cd0>,\n",
       " <keras.src.layers.rnn.gru.GRU at 0x20b5ab4b710>,\n",
       " <keras.src.layers.core.dense.Dense at 0x20b5bc500d0>,\n",
       " <keras.src.layers.core.dense.Dense at 0x20b5a971d10>,\n",
       " <keras.src.layers.core.dense.Dense at 0x20b5aba7890>]"
      ]
     },
     "execution_count": 4,
     "metadata": {},
     "output_type": "execute_result"
    }
   ],
   "source": [
    "model.layers"
   ]
  },
  {
   "cell_type": "code",
   "execution_count": null,
   "id": "276263ed-a6c1-4834-abec-6c0756bb8540",
   "metadata": {},
   "outputs": [],
   "source": []
  }
 ],
 "metadata": {
  "kernelspec": {
   "display_name": "Python 3 (ipykernel)",
   "language": "python",
   "name": "python3"
  },
  "language_info": {
   "codemirror_mode": {
    "name": "ipython",
    "version": 3
   },
   "file_extension": ".py",
   "mimetype": "text/x-python",
   "name": "python",
   "nbconvert_exporter": "python",
   "pygments_lexer": "ipython3",
   "version": "3.11.5"
  }
 },
 "nbformat": 4,
 "nbformat_minor": 5
}
