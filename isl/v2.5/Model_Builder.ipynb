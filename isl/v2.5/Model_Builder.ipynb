{
 "cells": [
  {
   "cell_type": "code",
   "execution_count": 1,
   "id": "693372fb-80fe-4033-974f-0236e74b6839",
   "metadata": {},
   "outputs": [],
   "source": [
    "# here after collecting the data create the code for implementing the model"
   ]
  },
  {
   "cell_type": "code",
   "execution_count": 1,
   "id": "30f37615-db37-4311-a8fd-dc330ea77595",
   "metadata": {},
   "outputs": [],
   "source": [
    "import numpy as np\n",
    "import os\n",
    "import tensorflow as tf\n",
    "import tqdm\n",
    "from sklearn.model_selection import train_test_split\n",
    "from tensorflow import keras"
   ]
  },
  {
   "cell_type": "code",
   "execution_count": 7,
   "id": "1026c421-2290-45e9-84c5-7fc5cb061272",
   "metadata": {},
   "outputs": [],
   "source": [
    "data_dir='../temp'\n",
    "no_of_videos=150\n",
    "no_of_frames=30"
   ]
  },
  {
   "cell_type": "code",
   "execution_count": 3,
   "id": "9908eedd-cb32-4628-9eb3-165c4dcf62de",
   "metadata": {},
   "outputs": [
    {
     "data": {
      "text/plain": [
       "['afternoon',\n",
       " 'blank',\n",
       " 'evening',\n",
       " 'fine',\n",
       " 'hello',\n",
       " 'how are you',\n",
       " 'morning',\n",
       " 'name',\n",
       " 'sorry',\n",
       " 'thank you',\n",
       " 'welcome']"
      ]
     },
     "execution_count": 3,
     "metadata": {},
     "output_type": "execute_result"
    }
   ],
   "source": [
    "os.listdir(data_dir)"
   ]
  },
  {
   "cell_type": "code",
   "execution_count": 4,
   "id": "a60cce95-0bba-4714-bbfa-8a84ef615115",
   "metadata": {},
   "outputs": [],
   "source": [
    "actions=os.listdir(data_dir)\n",
    "action_map={action:num for num,action in enumerate(actions)}"
   ]
  },
  {
   "cell_type": "code",
   "execution_count": 5,
   "id": "32d650fa-5171-4d84-9273-2754e124f0ea",
   "metadata": {},
   "outputs": [
    {
     "data": {
      "text/plain": [
       "{'afternoon': 0,\n",
       " 'blank': 1,\n",
       " 'evening': 2,\n",
       " 'fine': 3,\n",
       " 'hello': 4,\n",
       " 'how are you': 5,\n",
       " 'morning': 6,\n",
       " 'name': 7,\n",
       " 'sorry': 8,\n",
       " 'thank you': 9,\n",
       " 'welcome': 10}"
      ]
     },
     "execution_count": 5,
     "metadata": {},
     "output_type": "execute_result"
    }
   ],
   "source": [
    "action_map"
   ]
  },
  {
   "cell_type": "code",
   "execution_count": 10,
   "id": "f6cfe053-f90c-4ed8-bf1d-97c45688eed1",
   "metadata": {},
   "outputs": [],
   "source": [
    "to_save_dir='../new_data'"
   ]
  },
  {
   "cell_type": "code",
   "execution_count": 20,
   "id": "2dc3c5eb-53de-4b86-aed4-7bf518506d14",
   "metadata": {},
   "outputs": [],
   "source": [
    "for i in actions:\n",
    "    os.mkdir(os.path.join(to_save_dir,i))"
   ]
  },
  {
   "cell_type": "code",
   "execution_count": 22,
   "id": "f8baa88b-6245-426c-b99f-370d6c3b92c5",
   "metadata": {},
   "outputs": [
    {
     "name": "stderr",
     "output_type": "stream",
     "text": [
      "100%|██████████████████████████████████████████████████████████████████████████████████████████████████████████████| 11/11 [13:06<00:00, 71.51s/it]\n"
     ]
    }
   ],
   "source": [
    "# x_data=[]\n",
    "# y_data=[]\n",
    "for action in tqdm.tqdm(actions):\n",
    "    index=action_map[action]\n",
    "    no_of_videos=len(os.listdir(os.path.join(data_dir,action)))\n",
    "    for video in range(no_of_videos):\n",
    "        window=[]\n",
    "        for frame in range(no_of_frames):\n",
    "            path=os.path.join(data_dir,action,str(video),f'{frame}.npy')\n",
    "            res=np.load(path)\n",
    "            array=res[:133].tolist()+res[1537:].tolist()\n",
    "            window.append(array)\n",
    "            \n",
    "        to_save_array=np.array(window)\n",
    "        path=os.path.join(to_save_dir,action,f'{video}.npy')\n",
    "        np.save(path,to_save_array)\n",
    "        \n",
    "        # x_data.append(window)\n",
    "        # y_data.append(index)\n",
    "            \n",
    "\n",
    "            \n",
    "            \n",
    "    "
   ]
  },
  {
   "cell_type": "code",
   "execution_count": 17,
   "id": "14faca96-5660-40d8-9dde-f48bc9e097b7",
   "metadata": {},
   "outputs": [
    {
     "data": {
      "text/plain": [
       "(30, 258)"
      ]
     },
     "execution_count": 17,
     "metadata": {},
     "output_type": "execute_result"
    }
   ],
   "source": [
    "np.load(os.path.join(to_save_dir,'afternoon','0.npy')).shape"
   ]
  },
  {
   "cell_type": "code",
   "execution_count": 52,
   "id": "ee872948-d961-48c6-99cc-ab9af6efc84b",
   "metadata": {},
   "outputs": [
    {
     "data": {
      "text/plain": [
       "(2550, 2550, 2550)"
      ]
     },
     "execution_count": 52,
     "metadata": {},
     "output_type": "execute_result"
    }
   ],
   "source": [
    "len(x_data),len(y_data),17*150"
   ]
  },
  {
   "cell_type": "code",
   "execution_count": 46,
   "id": "e94298d9-6cde-45ab-9f96-40f9f5aa7afa",
   "metadata": {},
   "outputs": [],
   "source": [
    "x=np.array(x_data)"
   ]
  },
  {
   "cell_type": "code",
   "execution_count": 47,
   "id": "2643177e-d22a-441c-aabf-dce03d0db9a5",
   "metadata": {},
   "outputs": [],
   "source": [
    "y=keras.utils.to_categorical(np.array(y_data)).astype(int)"
   ]
  },
  {
   "cell_type": "code",
   "execution_count": 48,
   "id": "15cc8a9a-4325-438c-aace-2e95d7442ec7",
   "metadata": {},
   "outputs": [
    {
     "data": {
      "text/plain": [
       "((2550, 17), (2550, 30, 1662))"
      ]
     },
     "execution_count": 48,
     "metadata": {},
     "output_type": "execute_result"
    }
   ],
   "source": [
    "y.shape,x.shape"
   ]
  },
  {
   "cell_type": "code",
   "execution_count": 49,
   "id": "aea6f2ba-7835-478d-bcdb-16cbbe9326e8",
   "metadata": {},
   "outputs": [],
   "source": [
    "x_train,x_test,y_train,y_test=train_test_split(x,y,test_size=0.1)"
   ]
  },
  {
   "cell_type": "code",
   "execution_count": 50,
   "id": "8c5dc156-cfcf-4c56-bafb-3e84d61cec12",
   "metadata": {},
   "outputs": [
    {
     "data": {
      "text/plain": [
       "((2295, 30, 1662), (2295, 17))"
      ]
     },
     "execution_count": 50,
     "metadata": {},
     "output_type": "execute_result"
    }
   ],
   "source": [
    "x_train.shape,y_train.shape"
   ]
  },
  {
   "cell_type": "code",
   "execution_count": 53,
   "id": "e946b0b5-1902-42f7-8dde-a25e23880684",
   "metadata": {},
   "outputs": [
    {
     "data": {
      "text/plain": [
       "(255, 30, 1662)"
      ]
     },
     "execution_count": 53,
     "metadata": {},
     "output_type": "execute_result"
    }
   ],
   "source": [
    "x_test.shape"
   ]
  },
  {
   "cell_type": "code",
   "execution_count": 26,
   "id": "a93153ae-b126-4caf-ba0c-78a9d10445e4",
   "metadata": {},
   "outputs": [],
   "source": [
    "from keras.callbacks import ModelCheckpoint"
   ]
  },
  {
   "cell_type": "code",
   "execution_count": 54,
   "id": "37f5adf0-4b08-4de2-a796-9ec84c20a5a8",
   "metadata": {},
   "outputs": [],
   "source": [
    "filepath = 'my_best_model.hdf5'\n",
    "checkpoint = ModelCheckpoint(filepath=filepath, \n",
    "                             monitor='val_loss',\n",
    "                             verbose=1, \n",
    "                             save_best_only=True,\n",
    "                             mode='min')\n",
    "callbacks = [checkpoint]"
   ]
  },
  {
   "cell_type": "code",
   "execution_count": 28,
   "id": "c91da59e-841d-47f4-bcf5-233208849f2d",
   "metadata": {},
   "outputs": [
    {
     "ename": "NameError",
     "evalue": "name 'model' is not defined",
     "output_type": "error",
     "traceback": [
      "\u001b[1;31m---------------------------------------------------------------------------\u001b[0m",
      "\u001b[1;31mNameError\u001b[0m                                 Traceback (most recent call last)",
      "Cell \u001b[1;32mIn[28], line 1\u001b[0m\n\u001b[1;32m----> 1\u001b[0m \u001b[38;5;28;01mdel\u001b[39;00m \u001b[43mmodel\u001b[49m\n",
      "\u001b[1;31mNameError\u001b[0m: name 'model' is not defined"
     ]
    }
   ],
   "source": [
    "del model"
   ]
  },
  {
   "cell_type": "code",
   "execution_count": 56,
   "id": "0fe5d9cf-63be-426e-8db0-47f33a5a2807",
   "metadata": {},
   "outputs": [],
   "source": [
    "model=keras.models.Sequential()\n",
    "model.add(keras.layers.GRU(64,activation='relu',return_sequences=True,input_shape=(30,1662)))\n",
    "model.add(keras.layers.GRU(128,activation='relu',return_sequences=True))\n",
    "model.add(keras.layers.GRU(32,activation='relu',return_sequences=False))\n",
    "model.add(keras.layers.Dense(128,activation='relu'))\n",
    "model.add(keras.layers.Dense(64,activation='relu'))\n",
    "model.add(keras.layers.Dense(64,activation='relu'))\n",
    "model.add(keras.layers.Dense(17,activation='softmax'))\n",
    "model.compile(loss='categorical_crossentropy',optimizer='adam',metrics=['categorical_accuracy'])"
   ]
  },
  {
   "cell_type": "code",
   "execution_count": 57,
   "id": "34d28ab6-b009-45d3-a488-7cb779f8af52",
   "metadata": {},
   "outputs": [
    {
     "name": "stdout",
     "output_type": "stream",
     "text": [
      "Epoch 1/200\n",
      "72/72 [==============================] - ETA: 0s - loss: 2.4357 - categorical_accuracy: 0.1743\n",
      "Epoch 1: val_loss improved from inf to 1.46032, saving model to my_best_model.hdf5\n"
     ]
    },
    {
     "name": "stderr",
     "output_type": "stream",
     "text": [
      "C:\\Users\\vivek chouhan\\AppData\\Local\\Programs\\Python\\Python311\\Lib\\site-packages\\keras\\src\\engine\\training.py:3000: UserWarning: You are saving your model as an HDF5 file via `model.save()`. This file format is considered legacy. We recommend using instead the native Keras format, e.g. `model.save('my_model.keras')`.\n",
      "  saving_api.save_model(\n"
     ]
    },
    {
     "name": "stdout",
     "output_type": "stream",
     "text": [
      "72/72 [==============================] - 78s 290ms/step - loss: 2.4357 - categorical_accuracy: 0.1743 - val_loss: 1.4603 - val_categorical_accuracy: 0.3608\n",
      "Epoch 2/200\n",
      "72/72 [==============================] - ETA: 0s - loss: 1.1758 - categorical_accuracy: 0.5146\n",
      "Epoch 2: val_loss improved from 1.46032 to 0.91489, saving model to my_best_model.hdf5\n",
      "72/72 [==============================] - 13s 182ms/step - loss: 1.1758 - categorical_accuracy: 0.5146 - val_loss: 0.9149 - val_categorical_accuracy: 0.5961\n",
      "Epoch 3/200\n",
      "72/72 [==============================] - ETA: 0s - loss: 0.8497 - categorical_accuracy: 0.6235\n",
      "Epoch 3: val_loss improved from 0.91489 to 0.64162, saving model to my_best_model.hdf5\n",
      "72/72 [==============================] - 10s 139ms/step - loss: 0.8497 - categorical_accuracy: 0.6235 - val_loss: 0.6416 - val_categorical_accuracy: 0.7137\n",
      "Epoch 4/200\n",
      "72/72 [==============================] - ETA: 0s - loss: 0.7499 - categorical_accuracy: 0.6662\n",
      "Epoch 4: val_loss improved from 0.64162 to 0.51747, saving model to my_best_model.hdf5\n",
      "72/72 [==============================] - 10s 138ms/step - loss: 0.7499 - categorical_accuracy: 0.6662 - val_loss: 0.5175 - val_categorical_accuracy: 0.7882\n",
      "Epoch 5/200\n",
      "72/72 [==============================] - ETA: 0s - loss: 0.6160 - categorical_accuracy: 0.7085\n",
      "Epoch 5: val_loss did not improve from 0.51747\n",
      "72/72 [==============================] - 9s 120ms/step - loss: 0.6160 - categorical_accuracy: 0.7085 - val_loss: 0.5712 - val_categorical_accuracy: 0.7373\n",
      "Epoch 6/200\n",
      "72/72 [==============================] - ETA: 0s - loss: 0.4929 - categorical_accuracy: 0.7599\n",
      "Epoch 6: val_loss did not improve from 0.51747\n",
      "72/72 [==============================] - 9s 122ms/step - loss: 0.4929 - categorical_accuracy: 0.7599 - val_loss: 0.5827 - val_categorical_accuracy: 0.7608\n",
      "Epoch 7/200\n",
      "72/72 [==============================] - ETA: 0s - loss: 0.5291 - categorical_accuracy: 0.7473\n",
      "Epoch 7: val_loss improved from 0.51747 to 0.47086, saving model to my_best_model.hdf5\n",
      "72/72 [==============================] - 10s 132ms/step - loss: 0.5291 - categorical_accuracy: 0.7473 - val_loss: 0.4709 - val_categorical_accuracy: 0.7765\n",
      "Epoch 8/200\n",
      "72/72 [==============================] - ETA: 0s - loss: 0.4153 - categorical_accuracy: 0.7847\n",
      "Epoch 8: val_loss improved from 0.47086 to 0.43705, saving model to my_best_model.hdf5\n",
      "72/72 [==============================] - 10s 134ms/step - loss: 0.4153 - categorical_accuracy: 0.7847 - val_loss: 0.4370 - val_categorical_accuracy: 0.7765\n",
      "Epoch 9/200\n",
      "72/72 [==============================] - ETA: 0s - loss: 0.4706 - categorical_accuracy: 0.7765\n",
      "Epoch 9: val_loss improved from 0.43705 to 0.41810, saving model to my_best_model.hdf5\n",
      "72/72 [==============================] - 14s 194ms/step - loss: 0.4706 - categorical_accuracy: 0.7765 - val_loss: 0.4181 - val_categorical_accuracy: 0.7961\n",
      "Epoch 10/200\n",
      "72/72 [==============================] - ETA: 0s - loss: 0.3799 - categorical_accuracy: 0.8227\n",
      "Epoch 10: val_loss did not improve from 0.41810\n",
      "72/72 [==============================] - 10s 142ms/step - loss: 0.3799 - categorical_accuracy: 0.8227 - val_loss: 0.4370 - val_categorical_accuracy: 0.7804\n",
      "Epoch 11/200\n",
      "72/72 [==============================] - ETA: 0s - loss: 0.3954 - categorical_accuracy: 0.8061\n",
      "Epoch 11: val_loss improved from 0.41810 to 0.33510, saving model to my_best_model.hdf5\n",
      "72/72 [==============================] - 10s 135ms/step - loss: 0.3954 - categorical_accuracy: 0.8061 - val_loss: 0.3351 - val_categorical_accuracy: 0.8314\n",
      "Epoch 12/200\n",
      "72/72 [==============================] - ETA: 0s - loss: 0.3966 - categorical_accuracy: 0.8196\n",
      "Epoch 12: val_loss did not improve from 0.33510\n",
      "72/72 [==============================] - 9s 122ms/step - loss: 0.3966 - categorical_accuracy: 0.8196 - val_loss: 0.3823 - val_categorical_accuracy: 0.8118\n",
      "Epoch 13/200\n",
      "72/72 [==============================] - ETA: 0s - loss: 0.3073 - categorical_accuracy: 0.8414\n",
      "Epoch 13: val_loss improved from 0.33510 to 0.29260, saving model to my_best_model.hdf5\n",
      "72/72 [==============================] - 9s 130ms/step - loss: 0.3073 - categorical_accuracy: 0.8414 - val_loss: 0.2926 - val_categorical_accuracy: 0.8431\n",
      "Epoch 14/200\n",
      "72/72 [==============================] - ETA: 0s - loss: 0.3198 - categorical_accuracy: 0.8414\n",
      "Epoch 14: val_loss did not improve from 0.29260\n",
      "72/72 [==============================] - 9s 126ms/step - loss: 0.3198 - categorical_accuracy: 0.8414 - val_loss: 0.4044 - val_categorical_accuracy: 0.7804\n",
      "Epoch 15/200\n",
      "72/72 [==============================] - ETA: 0s - loss: 0.3328 - categorical_accuracy: 0.8340\n",
      "Epoch 15: val_loss improved from 0.29260 to 0.28096, saving model to my_best_model.hdf5\n",
      "72/72 [==============================] - 10s 142ms/step - loss: 0.3328 - categorical_accuracy: 0.8340 - val_loss: 0.2810 - val_categorical_accuracy: 0.8588\n",
      "Epoch 16/200\n",
      "72/72 [==============================] - ETA: 0s - loss: 0.2833 - categorical_accuracy: 0.8632\n",
      "Epoch 16: val_loss improved from 0.28096 to 0.25804, saving model to my_best_model.hdf5\n",
      "72/72 [==============================] - 11s 150ms/step - loss: 0.2833 - categorical_accuracy: 0.8632 - val_loss: 0.2580 - val_categorical_accuracy: 0.8706\n",
      "Epoch 17/200\n",
      "72/72 [==============================] - ETA: 0s - loss: 0.2526 - categorical_accuracy: 0.8728\n",
      "Epoch 17: val_loss improved from 0.25804 to 0.25187, saving model to my_best_model.hdf5\n",
      "72/72 [==============================] - 10s 135ms/step - loss: 0.2526 - categorical_accuracy: 0.8728 - val_loss: 0.2519 - val_categorical_accuracy: 0.8667\n",
      "Epoch 18/200\n",
      "72/72 [==============================] - ETA: 0s - loss: 0.2278 - categorical_accuracy: 0.8937\n",
      "Epoch 18: val_loss improved from 0.25187 to 0.24642, saving model to my_best_model.hdf5\n",
      "72/72 [==============================] - 10s 146ms/step - loss: 0.2278 - categorical_accuracy: 0.8937 - val_loss: 0.2464 - val_categorical_accuracy: 0.8863\n",
      "Epoch 19/200\n",
      "72/72 [==============================] - ETA: 0s - loss: 0.2321 - categorical_accuracy: 0.8889\n",
      "Epoch 19: val_loss did not improve from 0.24642\n",
      "72/72 [==============================] - 9s 124ms/step - loss: 0.2321 - categorical_accuracy: 0.8889 - val_loss: 0.3774 - val_categorical_accuracy: 0.8235\n",
      "Epoch 20/200\n",
      "72/72 [==============================] - ETA: 0s - loss: 0.2529 - categorical_accuracy: 0.8797\n",
      "Epoch 20: val_loss did not improve from 0.24642\n",
      "72/72 [==============================] - 9s 126ms/step - loss: 0.2529 - categorical_accuracy: 0.8797 - val_loss: 0.4824 - val_categorical_accuracy: 0.8039\n",
      "Epoch 21/200\n",
      "72/72 [==============================] - ETA: 0s - loss: 0.2070 - categorical_accuracy: 0.9011\n",
      "Epoch 21: val_loss did not improve from 0.24642\n",
      "72/72 [==============================] - 9s 125ms/step - loss: 0.2070 - categorical_accuracy: 0.9011 - val_loss: 0.3832 - val_categorical_accuracy: 0.8588\n",
      "Epoch 22/200\n",
      "72/72 [==============================] - ETA: 0s - loss: 0.1995 - categorical_accuracy: 0.9033\n",
      "Epoch 22: val_loss did not improve from 0.24642\n",
      "72/72 [==============================] - 10s 143ms/step - loss: 0.1995 - categorical_accuracy: 0.9033 - val_loss: 0.3584 - val_categorical_accuracy: 0.8667\n",
      "Epoch 23/200\n",
      "72/72 [==============================] - ETA: 0s - loss: 0.2074 - categorical_accuracy: 0.9033\n",
      "Epoch 23: val_loss did not improve from 0.24642\n",
      "72/72 [==============================] - 10s 132ms/step - loss: 0.2074 - categorical_accuracy: 0.9033 - val_loss: 0.2744 - val_categorical_accuracy: 0.8706\n",
      "Epoch 24/200\n",
      "72/72 [==============================] - ETA: 0s - loss: 0.1690 - categorical_accuracy: 0.9190\n",
      "Epoch 24: val_loss improved from 0.24642 to 0.20918, saving model to my_best_model.hdf5\n",
      "72/72 [==============================] - 12s 163ms/step - loss: 0.1690 - categorical_accuracy: 0.9190 - val_loss: 0.2092 - val_categorical_accuracy: 0.8941\n",
      "Epoch 25/200\n",
      "72/72 [==============================] - ETA: 0s - loss: 0.2516 - categorical_accuracy: 0.8837\n",
      "Epoch 25: val_loss did not improve from 0.20918\n",
      "72/72 [==============================] - 9s 124ms/step - loss: 0.2516 - categorical_accuracy: 0.8837 - val_loss: 0.3113 - val_categorical_accuracy: 0.8549\n",
      "Epoch 26/200\n",
      "72/72 [==============================] - ETA: 0s - loss: 0.1889 - categorical_accuracy: 0.9046\n",
      "Epoch 26: val_loss did not improve from 0.20918\n",
      "72/72 [==============================] - 9s 121ms/step - loss: 0.1889 - categorical_accuracy: 0.9046 - val_loss: 0.3496 - val_categorical_accuracy: 0.8667\n",
      "Epoch 27/200\n",
      "72/72 [==============================] - ETA: 0s - loss: 0.2304 - categorical_accuracy: 0.8941\n",
      "Epoch 27: val_loss did not improve from 0.20918\n",
      "72/72 [==============================] - 9s 122ms/step - loss: 0.2304 - categorical_accuracy: 0.8941 - val_loss: 0.4426 - val_categorical_accuracy: 0.8275\n",
      "Epoch 28/200\n",
      "72/72 [==============================] - ETA: 0s - loss: 0.1968 - categorical_accuracy: 0.9059\n",
      "Epoch 28: val_loss improved from 0.20918 to 0.19731, saving model to my_best_model.hdf5\n",
      "72/72 [==============================] - 11s 147ms/step - loss: 0.1968 - categorical_accuracy: 0.9059 - val_loss: 0.1973 - val_categorical_accuracy: 0.9020\n",
      "Epoch 29/200\n",
      "72/72 [==============================] - ETA: 0s - loss: 0.1717 - categorical_accuracy: 0.9168\n",
      "Epoch 29: val_loss improved from 0.19731 to 0.19079, saving model to my_best_model.hdf5\n",
      "72/72 [==============================] - 11s 157ms/step - loss: 0.1717 - categorical_accuracy: 0.9168 - val_loss: 0.1908 - val_categorical_accuracy: 0.9020\n",
      "Epoch 30/200\n",
      "72/72 [==============================] - ETA: 0s - loss: 0.2244 - categorical_accuracy: 0.8828\n",
      "Epoch 30: val_loss did not improve from 0.19079\n",
      "72/72 [==============================] - 9s 124ms/step - loss: 0.2244 - categorical_accuracy: 0.8828 - val_loss: 0.2512 - val_categorical_accuracy: 0.8902\n",
      "Epoch 31/200\n",
      "72/72 [==============================] - ETA: 0s - loss: 0.1463 - categorical_accuracy: 0.9229\n",
      "Epoch 31: val_loss improved from 0.19079 to 0.18494, saving model to my_best_model.hdf5\n",
      "72/72 [==============================] - 10s 134ms/step - loss: 0.1463 - categorical_accuracy: 0.9229 - val_loss: 0.1849 - val_categorical_accuracy: 0.9176\n",
      "Epoch 32/200\n",
      "72/72 [==============================] - ETA: 0s - loss: 0.2355 - categorical_accuracy: 0.8993\n",
      "Epoch 32: val_loss did not improve from 0.18494\n",
      "72/72 [==============================] - 9s 122ms/step - loss: 0.2355 - categorical_accuracy: 0.8993 - val_loss: 0.2151 - val_categorical_accuracy: 0.8863\n",
      "Epoch 33/200\n",
      "72/72 [==============================] - ETA: 0s - loss: 0.1449 - categorical_accuracy: 0.9194\n",
      "Epoch 33: val_loss improved from 0.18494 to 0.18416, saving model to my_best_model.hdf5\n",
      "72/72 [==============================] - 10s 136ms/step - loss: 0.1449 - categorical_accuracy: 0.9194 - val_loss: 0.1842 - val_categorical_accuracy: 0.9098\n",
      "Epoch 34/200\n",
      "72/72 [==============================] - ETA: 0s - loss: 0.1342 - categorical_accuracy: 0.9281\n",
      "Epoch 34: val_loss did not improve from 0.18416\n",
      "72/72 [==============================] - 9s 126ms/step - loss: 0.1342 - categorical_accuracy: 0.9281 - val_loss: 0.2043 - val_categorical_accuracy: 0.8863\n",
      "Epoch 35/200\n",
      "72/72 [==============================] - ETA: 0s - loss: 0.1644 - categorical_accuracy: 0.9155\n",
      "Epoch 35: val_loss improved from 0.18416 to 0.18013, saving model to my_best_model.hdf5\n",
      "72/72 [==============================] - 10s 132ms/step - loss: 0.1644 - categorical_accuracy: 0.9155 - val_loss: 0.1801 - val_categorical_accuracy: 0.9137\n",
      "Epoch 36/200\n",
      "72/72 [==============================] - ETA: 0s - loss: 0.1416 - categorical_accuracy: 0.9277\n",
      "Epoch 36: val_loss did not improve from 0.18013\n",
      "72/72 [==============================] - 9s 124ms/step - loss: 0.1416 - categorical_accuracy: 0.9277 - val_loss: 0.2887 - val_categorical_accuracy: 0.8824\n",
      "Epoch 37/200\n",
      "72/72 [==============================] - ETA: 0s - loss: 0.1161 - categorical_accuracy: 0.9338\n",
      "Epoch 37: val_loss did not improve from 0.18013\n",
      "72/72 [==============================] - 9s 123ms/step - loss: 0.1161 - categorical_accuracy: 0.9338 - val_loss: 0.1832 - val_categorical_accuracy: 0.9059\n",
      "Epoch 38/200\n",
      "72/72 [==============================] - ETA: 0s - loss: 0.1392 - categorical_accuracy: 0.9251\n",
      "Epoch 38: val_loss did not improve from 0.18013\n",
      "72/72 [==============================] - 9s 122ms/step - loss: 0.1392 - categorical_accuracy: 0.9251 - val_loss: 0.1918 - val_categorical_accuracy: 0.9059\n",
      "Epoch 39/200\n",
      "72/72 [==============================] - ETA: 0s - loss: 0.1408 - categorical_accuracy: 0.9229\n",
      "Epoch 39: val_loss improved from 0.18013 to 0.15997, saving model to my_best_model.hdf5\n",
      "72/72 [==============================] - 9s 130ms/step - loss: 0.1408 - categorical_accuracy: 0.9229 - val_loss: 0.1600 - val_categorical_accuracy: 0.9020\n",
      "Epoch 40/200\n",
      "72/72 [==============================] - ETA: 0s - loss: 0.1437 - categorical_accuracy: 0.9229\n",
      "Epoch 40: val_loss did not improve from 0.15997\n",
      "72/72 [==============================] - 9s 122ms/step - loss: 0.1437 - categorical_accuracy: 0.9229 - val_loss: 0.4706 - val_categorical_accuracy: 0.8078\n",
      "Epoch 41/200\n",
      "72/72 [==============================] - ETA: 0s - loss: 0.1517 - categorical_accuracy: 0.9194\n",
      "Epoch 41: val_loss did not improve from 0.15997\n",
      "72/72 [==============================] - 9s 121ms/step - loss: 0.1517 - categorical_accuracy: 0.9194 - val_loss: 0.1747 - val_categorical_accuracy: 0.9137\n",
      "Epoch 42/200\n",
      "72/72 [==============================] - ETA: 0s - loss: 0.1136 - categorical_accuracy: 0.9246\n",
      "Epoch 42: val_loss improved from 0.15997 to 0.15289, saving model to my_best_model.hdf5\n",
      "72/72 [==============================] - 10s 136ms/step - loss: 0.1136 - categorical_accuracy: 0.9246 - val_loss: 0.1529 - val_categorical_accuracy: 0.9255\n",
      "Epoch 43/200\n",
      "72/72 [==============================] - ETA: 0s - loss: 0.1112 - categorical_accuracy: 0.9329\n",
      "Epoch 43: val_loss did not improve from 0.15289\n",
      "72/72 [==============================] - 9s 125ms/step - loss: 0.1112 - categorical_accuracy: 0.9329 - val_loss: 0.2625 - val_categorical_accuracy: 0.8902\n",
      "Epoch 44/200\n",
      "72/72 [==============================] - ETA: 0s - loss: 0.1083 - categorical_accuracy: 0.9359\n",
      "Epoch 44: val_loss improved from 0.15289 to 0.13658, saving model to my_best_model.hdf5\n",
      "72/72 [==============================] - 10s 139ms/step - loss: 0.1083 - categorical_accuracy: 0.9359 - val_loss: 0.1366 - val_categorical_accuracy: 0.9137\n",
      "Epoch 45/200\n",
      "72/72 [==============================] - ETA: 0s - loss: 0.1057 - categorical_accuracy: 0.9346\n",
      "Epoch 45: val_loss did not improve from 0.13658\n",
      "72/72 [==============================] - 9s 126ms/step - loss: 0.1057 - categorical_accuracy: 0.9346 - val_loss: 0.1667 - val_categorical_accuracy: 0.9098\n",
      "Epoch 46/200\n",
      "72/72 [==============================] - ETA: 0s - loss: 0.0967 - categorical_accuracy: 0.9394\n",
      "Epoch 46: val_loss did not improve from 0.13658\n",
      "72/72 [==============================] - 9s 125ms/step - loss: 0.0967 - categorical_accuracy: 0.9394 - val_loss: 0.1500 - val_categorical_accuracy: 0.9333\n",
      "Epoch 47/200\n",
      "72/72 [==============================] - ETA: 0s - loss: 0.0961 - categorical_accuracy: 0.9399\n",
      "Epoch 47: val_loss improved from 0.13658 to 0.13168, saving model to my_best_model.hdf5\n",
      "72/72 [==============================] - 9s 129ms/step - loss: 0.0961 - categorical_accuracy: 0.9399 - val_loss: 0.1317 - val_categorical_accuracy: 0.9373\n",
      "Epoch 48/200\n",
      "72/72 [==============================] - ETA: 0s - loss: 0.1985 - categorical_accuracy: 0.9181\n",
      "Epoch 48: val_loss did not improve from 0.13168\n",
      "72/72 [==============================] - 9s 123ms/step - loss: 0.1985 - categorical_accuracy: 0.9181 - val_loss: 0.5565 - val_categorical_accuracy: 0.7686\n",
      "Epoch 49/200\n",
      "72/72 [==============================] - ETA: 0s - loss: 0.2091 - categorical_accuracy: 0.9015\n",
      "Epoch 49: val_loss did not improve from 0.13168\n",
      "72/72 [==============================] - 9s 125ms/step - loss: 0.2091 - categorical_accuracy: 0.9015 - val_loss: 0.1652 - val_categorical_accuracy: 0.9137\n",
      "Epoch 50/200\n",
      "72/72 [==============================] - ETA: 0s - loss: 0.1599 - categorical_accuracy: 0.9194\n",
      "Epoch 50: val_loss did not improve from 0.13168\n",
      "72/72 [==============================] - 9s 123ms/step - loss: 0.1599 - categorical_accuracy: 0.9194 - val_loss: 0.3233 - val_categorical_accuracy: 0.8824\n",
      "Epoch 51/200\n",
      "72/72 [==============================] - ETA: 0s - loss: 0.1481 - categorical_accuracy: 0.9233\n",
      "Epoch 51: val_loss did not improve from 0.13168\n",
      "72/72 [==============================] - 9s 122ms/step - loss: 0.1481 - categorical_accuracy: 0.9233 - val_loss: 0.2962 - val_categorical_accuracy: 0.8824\n",
      "Epoch 52/200\n",
      "72/72 [==============================] - ETA: 0s - loss: 0.1199 - categorical_accuracy: 0.9255\n",
      "Epoch 52: val_loss did not improve from 0.13168\n",
      "72/72 [==============================] - 9s 125ms/step - loss: 0.1199 - categorical_accuracy: 0.9255 - val_loss: 0.2126 - val_categorical_accuracy: 0.9020\n",
      "Epoch 53/200\n",
      "72/72 [==============================] - ETA: 0s - loss: 0.1704 - categorical_accuracy: 0.9129\n",
      "Epoch 53: val_loss did not improve from 0.13168\n",
      "72/72 [==============================] - 9s 130ms/step - loss: 0.1704 - categorical_accuracy: 0.9129 - val_loss: 0.2250 - val_categorical_accuracy: 0.9098\n",
      "Epoch 54/200\n",
      "72/72 [==============================] - ETA: 0s - loss: 0.1083 - categorical_accuracy: 0.9329\n",
      "Epoch 54: val_loss did not improve from 0.13168\n",
      "72/72 [==============================] - 9s 123ms/step - loss: 0.1083 - categorical_accuracy: 0.9329 - val_loss: 0.1874 - val_categorical_accuracy: 0.9020\n",
      "Epoch 55/200\n",
      "72/72 [==============================] - ETA: 0s - loss: 0.0992 - categorical_accuracy: 0.9364\n",
      "Epoch 55: val_loss did not improve from 0.13168\n",
      "72/72 [==============================] - 9s 122ms/step - loss: 0.0992 - categorical_accuracy: 0.9364 - val_loss: 0.1660 - val_categorical_accuracy: 0.9216\n",
      "Epoch 56/200\n",
      "72/72 [==============================] - ETA: 0s - loss: 0.1322 - categorical_accuracy: 0.9272\n",
      "Epoch 56: val_loss did not improve from 0.13168\n",
      "72/72 [==============================] - 9s 122ms/step - loss: 0.1322 - categorical_accuracy: 0.9272 - val_loss: 0.3873 - val_categorical_accuracy: 0.8588\n",
      "Epoch 57/200\n",
      "72/72 [==============================] - ETA: 0s - loss: 0.3303 - categorical_accuracy: 0.8715\n",
      "Epoch 57: val_loss did not improve from 0.13168\n",
      "72/72 [==============================] - 9s 124ms/step - loss: 0.3303 - categorical_accuracy: 0.8715 - val_loss: 0.2821 - val_categorical_accuracy: 0.8824\n",
      "Epoch 58/200\n",
      "72/72 [==============================] - ETA: 0s - loss: 0.1389 - categorical_accuracy: 0.9220\n",
      "Epoch 58: val_loss did not improve from 0.13168\n",
      "72/72 [==============================] - 9s 128ms/step - loss: 0.1389 - categorical_accuracy: 0.9220 - val_loss: 0.1774 - val_categorical_accuracy: 0.9020\n",
      "Epoch 59/200\n",
      "72/72 [==============================] - ETA: 0s - loss: 0.1096 - categorical_accuracy: 0.9333\n",
      "Epoch 59: val_loss did not improve from 0.13168\n",
      "72/72 [==============================] - 9s 130ms/step - loss: 0.1096 - categorical_accuracy: 0.9333 - val_loss: 0.1507 - val_categorical_accuracy: 0.9137\n",
      "Epoch 60/200\n",
      "72/72 [==============================] - ETA: 0s - loss: 0.1267 - categorical_accuracy: 0.9251\n",
      "Epoch 60: val_loss did not improve from 0.13168\n",
      "72/72 [==============================] - 9s 123ms/step - loss: 0.1267 - categorical_accuracy: 0.9251 - val_loss: 0.1764 - val_categorical_accuracy: 0.9176\n",
      "Epoch 61/200\n",
      "72/72 [==============================] - ETA: 0s - loss: 0.1260 - categorical_accuracy: 0.9264\n",
      "Epoch 61: val_loss did not improve from 0.13168\n",
      "72/72 [==============================] - 9s 122ms/step - loss: 0.1260 - categorical_accuracy: 0.9264 - val_loss: 0.1649 - val_categorical_accuracy: 0.8980\n",
      "Epoch 62/200\n",
      "72/72 [==============================] - ETA: 0s - loss: 0.1004 - categorical_accuracy: 0.9368\n",
      "Epoch 62: val_loss did not improve from 0.13168\n",
      "72/72 [==============================] - 9s 123ms/step - loss: 0.1004 - categorical_accuracy: 0.9368 - val_loss: 0.1810 - val_categorical_accuracy: 0.9216\n",
      "Epoch 63/200\n",
      "72/72 [==============================] - ETA: 0s - loss: 0.1031 - categorical_accuracy: 0.9312\n",
      "Epoch 63: val_loss did not improve from 0.13168\n",
      "72/72 [==============================] - 9s 126ms/step - loss: 0.1031 - categorical_accuracy: 0.9312 - val_loss: 0.1578 - val_categorical_accuracy: 0.9137\n",
      "Epoch 64/200\n",
      "72/72 [==============================] - ETA: 0s - loss: 0.1253 - categorical_accuracy: 0.9268\n",
      "Epoch 64: val_loss did not improve from 0.13168\n",
      "72/72 [==============================] - 9s 128ms/step - loss: 0.1253 - categorical_accuracy: 0.9268 - val_loss: 0.4630 - val_categorical_accuracy: 0.8510\n",
      "Epoch 65/200\n",
      "72/72 [==============================] - ETA: 0s - loss: 0.1128 - categorical_accuracy: 0.9277\n",
      "Epoch 65: val_loss did not improve from 0.13168\n",
      "72/72 [==============================] - 9s 124ms/step - loss: 0.1128 - categorical_accuracy: 0.9277 - val_loss: 0.1977 - val_categorical_accuracy: 0.9216\n",
      "Epoch 66/200\n",
      "72/72 [==============================] - ETA: 0s - loss: 0.2443 - categorical_accuracy: 0.8963\n",
      "Epoch 66: val_loss did not improve from 0.13168\n",
      "72/72 [==============================] - 9s 124ms/step - loss: 0.2443 - categorical_accuracy: 0.8963 - val_loss: 0.1705 - val_categorical_accuracy: 0.9059\n",
      "Epoch 67/200\n",
      "72/72 [==============================] - ETA: 0s - loss: 0.1019 - categorical_accuracy: 0.9364\n",
      "Epoch 67: val_loss did not improve from 0.13168\n",
      "72/72 [==============================] - 9s 122ms/step - loss: 0.1019 - categorical_accuracy: 0.9364 - val_loss: 0.1557 - val_categorical_accuracy: 0.9216\n",
      "Epoch 68/200\n",
      "72/72 [==============================] - ETA: 0s - loss: 0.0875 - categorical_accuracy: 0.9429\n",
      "Epoch 68: val_loss did not improve from 0.13168\n",
      "72/72 [==============================] - 9s 124ms/step - loss: 0.0875 - categorical_accuracy: 0.9429 - val_loss: 0.1541 - val_categorical_accuracy: 0.9333\n",
      "Epoch 69/200\n",
      "72/72 [==============================] - ETA: 0s - loss: 0.1191 - categorical_accuracy: 0.9277\n",
      "Epoch 69: val_loss did not improve from 0.13168\n",
      "72/72 [==============================] - 9s 123ms/step - loss: 0.1191 - categorical_accuracy: 0.9277 - val_loss: 0.1924 - val_categorical_accuracy: 0.8980\n",
      "Epoch 70/200\n",
      "72/72 [==============================] - ETA: 0s - loss: 0.0961 - categorical_accuracy: 0.9351\n",
      "Epoch 70: val_loss did not improve from 0.13168\n",
      "72/72 [==============================] - 9s 125ms/step - loss: 0.0961 - categorical_accuracy: 0.9351 - val_loss: 0.1621 - val_categorical_accuracy: 0.9216\n",
      "Epoch 71/200\n",
      "72/72 [==============================] - ETA: 0s - loss: 0.0883 - categorical_accuracy: 0.9403\n",
      "Epoch 71: val_loss did not improve from 0.13168\n",
      "72/72 [==============================] - 9s 128ms/step - loss: 0.0883 - categorical_accuracy: 0.9403 - val_loss: 0.1561 - val_categorical_accuracy: 0.9255\n",
      "Epoch 72/200\n",
      "72/72 [==============================] - ETA: 0s - loss: 0.0837 - categorical_accuracy: 0.9373\n",
      "Epoch 72: val_loss did not improve from 0.13168\n",
      "72/72 [==============================] - 9s 129ms/step - loss: 0.0837 - categorical_accuracy: 0.9373 - val_loss: 0.1711 - val_categorical_accuracy: 0.9098\n",
      "Epoch 73/200\n",
      "72/72 [==============================] - ETA: 0s - loss: 0.0890 - categorical_accuracy: 0.9303\n",
      "Epoch 73: val_loss did not improve from 0.13168\n",
      "72/72 [==============================] - 9s 128ms/step - loss: 0.0890 - categorical_accuracy: 0.9303 - val_loss: 0.1738 - val_categorical_accuracy: 0.9020\n",
      "Epoch 74/200\n",
      "72/72 [==============================] - ETA: 0s - loss: 0.2065 - categorical_accuracy: 0.9015\n",
      "Epoch 74: val_loss did not improve from 0.13168\n",
      "72/72 [==============================] - 9s 129ms/step - loss: 0.2065 - categorical_accuracy: 0.9015 - val_loss: 0.1946 - val_categorical_accuracy: 0.9137\n",
      "Epoch 75/200\n",
      "72/72 [==============================] - ETA: 0s - loss: 0.0957 - categorical_accuracy: 0.9416\n",
      "Epoch 75: val_loss did not improve from 0.13168\n",
      "72/72 [==============================] - 9s 129ms/step - loss: 0.0957 - categorical_accuracy: 0.9416 - val_loss: 0.1805 - val_categorical_accuracy: 0.9137\n",
      "Epoch 76/200\n",
      "72/72 [==============================] - ETA: 0s - loss: 0.0961 - categorical_accuracy: 0.9434\n",
      "Epoch 76: val_loss did not improve from 0.13168\n",
      "72/72 [==============================] - 9s 128ms/step - loss: 0.0961 - categorical_accuracy: 0.9434 - val_loss: 0.1974 - val_categorical_accuracy: 0.9216\n",
      "Epoch 77/200\n",
      "72/72 [==============================] - ETA: 0s - loss: 0.1187 - categorical_accuracy: 0.9259\n",
      "Epoch 77: val_loss did not improve from 0.13168\n",
      "72/72 [==============================] - 9s 127ms/step - loss: 0.1187 - categorical_accuracy: 0.9259 - val_loss: 0.2066 - val_categorical_accuracy: 0.9020\n",
      "Epoch 78/200\n",
      "72/72 [==============================] - ETA: 0s - loss: 0.1120 - categorical_accuracy: 0.9277\n",
      "Epoch 78: val_loss did not improve from 0.13168\n",
      "72/72 [==============================] - 9s 124ms/step - loss: 0.1120 - categorical_accuracy: 0.9277 - val_loss: 0.2903 - val_categorical_accuracy: 0.8941\n",
      "Epoch 79/200\n",
      "72/72 [==============================] - ETA: 0s - loss: 0.1023 - categorical_accuracy: 0.9351\n",
      "Epoch 79: val_loss did not improve from 0.13168\n",
      "72/72 [==============================] - 9s 124ms/step - loss: 0.1023 - categorical_accuracy: 0.9351 - val_loss: 0.2555 - val_categorical_accuracy: 0.8902\n",
      "Epoch 80/200\n",
      "72/72 [==============================] - ETA: 0s - loss: 0.1659 - categorical_accuracy: 0.9155\n",
      "Epoch 80: val_loss did not improve from 0.13168\n",
      "72/72 [==============================] - 9s 121ms/step - loss: 0.1659 - categorical_accuracy: 0.9155 - val_loss: 0.2817 - val_categorical_accuracy: 0.8980\n",
      "Epoch 81/200\n",
      "72/72 [==============================] - ETA: 0s - loss: 0.1058 - categorical_accuracy: 0.9294\n",
      "Epoch 81: val_loss did not improve from 0.13168\n",
      "72/72 [==============================] - 9s 125ms/step - loss: 0.1058 - categorical_accuracy: 0.9294 - val_loss: 0.1477 - val_categorical_accuracy: 0.9373\n",
      "Epoch 82/200\n",
      "72/72 [==============================] - ETA: 0s - loss: 0.1081 - categorical_accuracy: 0.9307\n",
      "Epoch 82: val_loss did not improve from 0.13168\n",
      "72/72 [==============================] - 9s 123ms/step - loss: 0.1081 - categorical_accuracy: 0.9307 - val_loss: 0.2287 - val_categorical_accuracy: 0.8941\n",
      "Epoch 83/200\n",
      "72/72 [==============================] - ETA: 0s - loss: 0.1118 - categorical_accuracy: 0.9355\n",
      "Epoch 83: val_loss did not improve from 0.13168\n",
      "72/72 [==============================] - 9s 122ms/step - loss: 0.1118 - categorical_accuracy: 0.9355 - val_loss: 0.4333 - val_categorical_accuracy: 0.8471\n",
      "Epoch 84/200\n",
      "72/72 [==============================] - ETA: 0s - loss: 0.1255 - categorical_accuracy: 0.9203\n",
      "Epoch 84: val_loss did not improve from 0.13168\n",
      "72/72 [==============================] - 9s 123ms/step - loss: 0.1255 - categorical_accuracy: 0.9203 - val_loss: 0.1721 - val_categorical_accuracy: 0.9216\n",
      "Epoch 85/200\n",
      "72/72 [==============================] - ETA: 0s - loss: 0.0995 - categorical_accuracy: 0.9342\n",
      "Epoch 85: val_loss did not improve from 0.13168\n",
      "72/72 [==============================] - 9s 125ms/step - loss: 0.0995 - categorical_accuracy: 0.9342 - val_loss: 0.1663 - val_categorical_accuracy: 0.9137\n",
      "Epoch 86/200\n",
      "72/72 [==============================] - ETA: 0s - loss: 0.0844 - categorical_accuracy: 0.9386\n",
      "Epoch 86: val_loss did not improve from 0.13168\n",
      "72/72 [==============================] - 9s 125ms/step - loss: 0.0844 - categorical_accuracy: 0.9386 - val_loss: 0.1630 - val_categorical_accuracy: 0.9176\n",
      "Epoch 87/200\n",
      "72/72 [==============================] - ETA: 0s - loss: 0.0835 - categorical_accuracy: 0.9386\n",
      "Epoch 87: val_loss did not improve from 0.13168\n",
      "72/72 [==============================] - 9s 123ms/step - loss: 0.0835 - categorical_accuracy: 0.9386 - val_loss: 0.1674 - val_categorical_accuracy: 0.9255\n",
      "Epoch 88/200\n",
      "72/72 [==============================] - ETA: 0s - loss: 0.0830 - categorical_accuracy: 0.9394\n",
      "Epoch 88: val_loss did not improve from 0.13168\n",
      "72/72 [==============================] - 9s 124ms/step - loss: 0.0830 - categorical_accuracy: 0.9394 - val_loss: 0.1704 - val_categorical_accuracy: 0.9294\n",
      "Epoch 89/200\n",
      "72/72 [==============================] - ETA: 0s - loss: 0.0923 - categorical_accuracy: 0.9351\n",
      "Epoch 89: val_loss did not improve from 0.13168\n",
      "72/72 [==============================] - 9s 124ms/step - loss: 0.0923 - categorical_accuracy: 0.9351 - val_loss: 0.1649 - val_categorical_accuracy: 0.9294\n",
      "Epoch 90/200\n",
      "72/72 [==============================] - ETA: 0s - loss: 0.0855 - categorical_accuracy: 0.9316\n",
      "Epoch 90: val_loss did not improve from 0.13168\n",
      "72/72 [==============================] - 9s 124ms/step - loss: 0.0855 - categorical_accuracy: 0.9316 - val_loss: 0.1693 - val_categorical_accuracy: 0.9137\n",
      "Epoch 91/200\n",
      "72/72 [==============================] - ETA: 0s - loss: 0.0822 - categorical_accuracy: 0.9377\n",
      "Epoch 91: val_loss did not improve from 0.13168\n",
      "72/72 [==============================] - 9s 123ms/step - loss: 0.0822 - categorical_accuracy: 0.9377 - val_loss: 0.1821 - val_categorical_accuracy: 0.9216\n",
      "Epoch 92/200\n",
      "72/72 [==============================] - ETA: 0s - loss: 0.0839 - categorical_accuracy: 0.9312\n",
      "Epoch 92: val_loss did not improve from 0.13168\n",
      "72/72 [==============================] - 9s 126ms/step - loss: 0.0839 - categorical_accuracy: 0.9312 - val_loss: 0.1723 - val_categorical_accuracy: 0.9294\n",
      "Epoch 93/200\n",
      "72/72 [==============================] - ETA: 0s - loss: 0.0823 - categorical_accuracy: 0.9420\n",
      "Epoch 93: val_loss did not improve from 0.13168\n",
      "72/72 [==============================] - 9s 125ms/step - loss: 0.0823 - categorical_accuracy: 0.9420 - val_loss: 0.1777 - val_categorical_accuracy: 0.9176\n",
      "Epoch 94/200\n",
      "72/72 [==============================] - ETA: 0s - loss: 0.0820 - categorical_accuracy: 0.9407\n",
      "Epoch 94: val_loss did not improve from 0.13168\n",
      "72/72 [==============================] - 9s 124ms/step - loss: 0.0820 - categorical_accuracy: 0.9407 - val_loss: 0.1779 - val_categorical_accuracy: 0.9176\n",
      "Epoch 95/200\n",
      "72/72 [==============================] - ETA: 0s - loss: 0.0831 - categorical_accuracy: 0.9407\n",
      "Epoch 95: val_loss did not improve from 0.13168\n",
      "72/72 [==============================] - 9s 125ms/step - loss: 0.0831 - categorical_accuracy: 0.9407 - val_loss: 0.1762 - val_categorical_accuracy: 0.9176\n",
      "Epoch 96/200\n",
      "72/72 [==============================] - ETA: 0s - loss: 0.0823 - categorical_accuracy: 0.9394\n",
      "Epoch 96: val_loss did not improve from 0.13168\n",
      "72/72 [==============================] - 9s 131ms/step - loss: 0.0823 - categorical_accuracy: 0.9394 - val_loss: 0.1846 - val_categorical_accuracy: 0.9176\n",
      "Epoch 97/200\n",
      "72/72 [==============================] - ETA: 0s - loss: 0.0823 - categorical_accuracy: 0.9473\n",
      "Epoch 97: val_loss did not improve from 0.13168\n",
      "72/72 [==============================] - 9s 125ms/step - loss: 0.0823 - categorical_accuracy: 0.9473 - val_loss: 0.2070 - val_categorical_accuracy: 0.9255\n",
      "Epoch 98/200\n",
      "72/72 [==============================] - ETA: 0s - loss: 0.0975 - categorical_accuracy: 0.9333\n",
      "Epoch 98: val_loss did not improve from 0.13168\n",
      "72/72 [==============================] - 9s 124ms/step - loss: 0.0975 - categorical_accuracy: 0.9333 - val_loss: 0.2108 - val_categorical_accuracy: 0.9216\n",
      "Epoch 99/200\n",
      "72/72 [==============================] - ETA: 0s - loss: 0.0899 - categorical_accuracy: 0.9390\n",
      "Epoch 99: val_loss did not improve from 0.13168\n",
      "72/72 [==============================] - 9s 126ms/step - loss: 0.0899 - categorical_accuracy: 0.9390 - val_loss: 0.2898 - val_categorical_accuracy: 0.9137\n",
      "Epoch 100/200\n",
      "72/72 [==============================] - ETA: 0s - loss: 0.1998 - categorical_accuracy: 0.9050\n",
      "Epoch 100: val_loss did not improve from 0.13168\n",
      "72/72 [==============================] - 9s 124ms/step - loss: 0.1998 - categorical_accuracy: 0.9050 - val_loss: 0.2171 - val_categorical_accuracy: 0.9137\n",
      "Epoch 101/200\n",
      "72/72 [==============================] - ETA: 0s - loss: 0.1768 - categorical_accuracy: 0.9159\n",
      "Epoch 101: val_loss did not improve from 0.13168\n",
      "72/72 [==============================] - 9s 120ms/step - loss: 0.1768 - categorical_accuracy: 0.9159 - val_loss: 0.4524 - val_categorical_accuracy: 0.8353\n",
      "Epoch 102/200\n",
      "72/72 [==============================] - ETA: 0s - loss: 0.2025 - categorical_accuracy: 0.9041\n",
      "Epoch 102: val_loss did not improve from 0.13168\n",
      "72/72 [==============================] - 8s 113ms/step - loss: 0.2025 - categorical_accuracy: 0.9041 - val_loss: 0.1859 - val_categorical_accuracy: 0.8980\n",
      "Epoch 103/200\n",
      "72/72 [==============================] - ETA: 0s - loss: 0.1002 - categorical_accuracy: 0.9338\n",
      "Epoch 103: val_loss did not improve from 0.13168\n",
      "72/72 [==============================] - 8s 114ms/step - loss: 0.1002 - categorical_accuracy: 0.9338 - val_loss: 0.2032 - val_categorical_accuracy: 0.9216\n",
      "Epoch 104/200\n",
      "72/72 [==============================] - ETA: 0s - loss: 0.0870 - categorical_accuracy: 0.9394\n",
      "Epoch 104: val_loss did not improve from 0.13168\n",
      "72/72 [==============================] - 8s 112ms/step - loss: 0.0870 - categorical_accuracy: 0.9394 - val_loss: 0.1842 - val_categorical_accuracy: 0.9294\n",
      "Epoch 105/200\n",
      "72/72 [==============================] - ETA: 0s - loss: 0.0841 - categorical_accuracy: 0.9425\n",
      "Epoch 105: val_loss did not improve from 0.13168\n",
      "72/72 [==============================] - 8s 112ms/step - loss: 0.0841 - categorical_accuracy: 0.9425 - val_loss: 0.1969 - val_categorical_accuracy: 0.9216\n",
      "Epoch 106/200\n",
      "72/72 [==============================] - ETA: 0s - loss: 0.0830 - categorical_accuracy: 0.9386\n",
      "Epoch 106: val_loss did not improve from 0.13168\n",
      "72/72 [==============================] - 8s 112ms/step - loss: 0.0830 - categorical_accuracy: 0.9386 - val_loss: 0.1930 - val_categorical_accuracy: 0.9294\n",
      "Epoch 107/200\n",
      "72/72 [==============================] - ETA: 0s - loss: 0.0854 - categorical_accuracy: 0.9412\n",
      "Epoch 107: val_loss did not improve from 0.13168\n",
      "72/72 [==============================] - 8s 112ms/step - loss: 0.0854 - categorical_accuracy: 0.9412 - val_loss: 0.1811 - val_categorical_accuracy: 0.9216\n",
      "Epoch 108/200\n",
      "72/72 [==============================] - ETA: 0s - loss: 0.0825 - categorical_accuracy: 0.9386\n",
      "Epoch 108: val_loss did not improve from 0.13168\n",
      "72/72 [==============================] - 8s 115ms/step - loss: 0.0825 - categorical_accuracy: 0.9386 - val_loss: 0.1932 - val_categorical_accuracy: 0.9059\n",
      "Epoch 109/200\n",
      "72/72 [==============================] - ETA: 0s - loss: 0.0839 - categorical_accuracy: 0.9390\n",
      "Epoch 109: val_loss did not improve from 0.13168\n",
      "72/72 [==============================] - 8s 111ms/step - loss: 0.0839 - categorical_accuracy: 0.9390 - val_loss: 0.1957 - val_categorical_accuracy: 0.9216\n",
      "Epoch 110/200\n",
      "72/72 [==============================] - ETA: 0s - loss: 0.0825 - categorical_accuracy: 0.9394\n",
      "Epoch 110: val_loss did not improve from 0.13168\n",
      "72/72 [==============================] - 8s 110ms/step - loss: 0.0825 - categorical_accuracy: 0.9394 - val_loss: 0.1845 - val_categorical_accuracy: 0.9176\n",
      "Epoch 111/200\n",
      "72/72 [==============================] - ETA: 0s - loss: 0.0821 - categorical_accuracy: 0.9425\n",
      "Epoch 111: val_loss did not improve from 0.13168\n",
      "72/72 [==============================] - 8s 112ms/step - loss: 0.0821 - categorical_accuracy: 0.9425 - val_loss: 0.1999 - val_categorical_accuracy: 0.9176\n",
      "Epoch 112/200\n",
      "72/72 [==============================] - ETA: 0s - loss: 0.0819 - categorical_accuracy: 0.9377\n",
      "Epoch 112: val_loss did not improve from 0.13168\n",
      "72/72 [==============================] - 8s 111ms/step - loss: 0.0819 - categorical_accuracy: 0.9377 - val_loss: 0.2039 - val_categorical_accuracy: 0.8980\n",
      "Epoch 113/200\n",
      "72/72 [==============================] - ETA: 0s - loss: 0.0822 - categorical_accuracy: 0.9394\n",
      "Epoch 113: val_loss did not improve from 0.13168\n",
      "72/72 [==============================] - 8s 111ms/step - loss: 0.0822 - categorical_accuracy: 0.9394 - val_loss: 0.2069 - val_categorical_accuracy: 0.9294\n",
      "Epoch 114/200\n",
      "72/72 [==============================] - ETA: 0s - loss: 0.0821 - categorical_accuracy: 0.9364\n",
      "Epoch 114: val_loss did not improve from 0.13168\n",
      "72/72 [==============================] - 8s 110ms/step - loss: 0.0821 - categorical_accuracy: 0.9364 - val_loss: 0.2077 - val_categorical_accuracy: 0.9176\n",
      "Epoch 115/200\n",
      "72/72 [==============================] - ETA: 0s - loss: 0.0814 - categorical_accuracy: 0.9460\n",
      "Epoch 115: val_loss did not improve from 0.13168\n",
      "72/72 [==============================] - 8s 110ms/step - loss: 0.0814 - categorical_accuracy: 0.9460 - val_loss: 0.2122 - val_categorical_accuracy: 0.9216\n",
      "Epoch 116/200\n",
      "72/72 [==============================] - ETA: 0s - loss: 0.0832 - categorical_accuracy: 0.9355\n",
      "Epoch 116: val_loss did not improve from 0.13168\n",
      "72/72 [==============================] - 8s 111ms/step - loss: 0.0832 - categorical_accuracy: 0.9355 - val_loss: 0.1980 - val_categorical_accuracy: 0.9255\n",
      "Epoch 117/200\n",
      "72/72 [==============================] - ETA: 0s - loss: 0.0820 - categorical_accuracy: 0.9351\n",
      "Epoch 117: val_loss did not improve from 0.13168\n",
      "72/72 [==============================] - 8s 111ms/step - loss: 0.0820 - categorical_accuracy: 0.9351 - val_loss: 0.2074 - val_categorical_accuracy: 0.9255\n",
      "Epoch 118/200\n",
      "72/72 [==============================] - ETA: 0s - loss: 0.0819 - categorical_accuracy: 0.9351\n",
      "Epoch 118: val_loss did not improve from 0.13168\n",
      "72/72 [==============================] - 8s 110ms/step - loss: 0.0819 - categorical_accuracy: 0.9351 - val_loss: 0.2121 - val_categorical_accuracy: 0.9137\n",
      "Epoch 119/200\n",
      "72/72 [==============================] - ETA: 0s - loss: 0.0819 - categorical_accuracy: 0.9368\n",
      "Epoch 119: val_loss did not improve from 0.13168\n",
      "72/72 [==============================] - 8s 115ms/step - loss: 0.0819 - categorical_accuracy: 0.9368 - val_loss: 0.2058 - val_categorical_accuracy: 0.9098\n",
      "Epoch 120/200\n",
      "72/72 [==============================] - ETA: 0s - loss: 0.0816 - categorical_accuracy: 0.9355\n",
      "Epoch 120: val_loss did not improve from 0.13168\n",
      "72/72 [==============================] - 8s 111ms/step - loss: 0.0816 - categorical_accuracy: 0.9355 - val_loss: 0.2084 - val_categorical_accuracy: 0.9294\n",
      "Epoch 121/200\n",
      "72/72 [==============================] - ETA: 0s - loss: 0.1882 - categorical_accuracy: 0.9081\n",
      "Epoch 121: val_loss did not improve from 0.13168\n",
      "72/72 [==============================] - 8s 111ms/step - loss: 0.1882 - categorical_accuracy: 0.9081 - val_loss: 0.2624 - val_categorical_accuracy: 0.8902\n",
      "Epoch 122/200\n",
      "72/72 [==============================] - ETA: 0s - loss: 0.2476 - categorical_accuracy: 0.8906\n",
      "Epoch 122: val_loss did not improve from 0.13168\n",
      "72/72 [==============================] - 8s 111ms/step - loss: 0.2476 - categorical_accuracy: 0.8906 - val_loss: 0.1987 - val_categorical_accuracy: 0.9098\n",
      "Epoch 123/200\n",
      "72/72 [==============================] - ETA: 0s - loss: 0.1255 - categorical_accuracy: 0.9312\n",
      "Epoch 123: val_loss did not improve from 0.13168\n",
      "72/72 [==============================] - 8s 111ms/step - loss: 0.1255 - categorical_accuracy: 0.9312 - val_loss: 0.2235 - val_categorical_accuracy: 0.9098\n",
      "Epoch 124/200\n",
      "72/72 [==============================] - ETA: 0s - loss: 0.1263 - categorical_accuracy: 0.9338\n",
      "Epoch 124: val_loss did not improve from 0.13168\n",
      "72/72 [==============================] - 8s 110ms/step - loss: 0.1263 - categorical_accuracy: 0.9338 - val_loss: 0.2404 - val_categorical_accuracy: 0.9020\n",
      "Epoch 125/200\n",
      "72/72 [==============================] - ETA: 0s - loss: 0.1044 - categorical_accuracy: 0.9312\n",
      "Epoch 125: val_loss did not improve from 0.13168\n",
      "72/72 [==============================] - 9s 123ms/step - loss: 0.1044 - categorical_accuracy: 0.9312 - val_loss: 0.2675 - val_categorical_accuracy: 0.9020\n",
      "Epoch 126/200\n",
      "72/72 [==============================] - ETA: 0s - loss: 0.1199 - categorical_accuracy: 0.9303\n",
      "Epoch 126: val_loss did not improve from 0.13168\n",
      "72/72 [==============================] - 10s 138ms/step - loss: 0.1199 - categorical_accuracy: 0.9303 - val_loss: 0.1716 - val_categorical_accuracy: 0.9294\n",
      "Epoch 127/200\n",
      "72/72 [==============================] - ETA: 0s - loss: 0.0988 - categorical_accuracy: 0.9259\n",
      "Epoch 127: val_loss did not improve from 0.13168\n",
      "72/72 [==============================] - 12s 170ms/step - loss: 0.0988 - categorical_accuracy: 0.9259 - val_loss: 0.1910 - val_categorical_accuracy: 0.9216\n",
      "Epoch 128/200\n",
      "72/72 [==============================] - ETA: 0s - loss: 0.1308 - categorical_accuracy: 0.9246\n",
      "Epoch 128: val_loss did not improve from 0.13168\n",
      "72/72 [==============================] - 12s 165ms/step - loss: 0.1308 - categorical_accuracy: 0.9246 - val_loss: 0.1657 - val_categorical_accuracy: 0.9176\n",
      "Epoch 129/200\n",
      "72/72 [==============================] - ETA: 0s - loss: 0.0846 - categorical_accuracy: 0.9377\n",
      "Epoch 129: val_loss did not improve from 0.13168\n",
      "72/72 [==============================] - 12s 161ms/step - loss: 0.0846 - categorical_accuracy: 0.9377 - val_loss: 0.1684 - val_categorical_accuracy: 0.9098\n",
      "Epoch 130/200\n",
      "72/72 [==============================] - ETA: 0s - loss: 0.0827 - categorical_accuracy: 0.9429\n",
      "Epoch 130: val_loss did not improve from 0.13168\n",
      "72/72 [==============================] - 11s 154ms/step - loss: 0.0827 - categorical_accuracy: 0.9429 - val_loss: 0.1784 - val_categorical_accuracy: 0.9176\n",
      "Epoch 131/200\n",
      "72/72 [==============================] - ETA: 0s - loss: 0.0822 - categorical_accuracy: 0.9425\n",
      "Epoch 131: val_loss did not improve from 0.13168\n",
      "72/72 [==============================] - 10s 146ms/step - loss: 0.0822 - categorical_accuracy: 0.9425 - val_loss: 0.1737 - val_categorical_accuracy: 0.9294\n",
      "Epoch 132/200\n",
      "72/72 [==============================] - ETA: 0s - loss: 0.0818 - categorical_accuracy: 0.9407\n",
      "Epoch 132: val_loss did not improve from 0.13168\n",
      "72/72 [==============================] - 9s 129ms/step - loss: 0.0818 - categorical_accuracy: 0.9407 - val_loss: 0.1820 - val_categorical_accuracy: 0.9137\n",
      "Epoch 133/200\n",
      "72/72 [==============================] - ETA: 0s - loss: 0.0820 - categorical_accuracy: 0.9416\n",
      "Epoch 133: val_loss did not improve from 0.13168\n",
      "72/72 [==============================] - 9s 130ms/step - loss: 0.0820 - categorical_accuracy: 0.9416 - val_loss: 0.1824 - val_categorical_accuracy: 0.9098\n",
      "Epoch 134/200\n",
      "72/72 [==============================] - ETA: 0s - loss: 0.0828 - categorical_accuracy: 0.9390\n",
      "Epoch 134: val_loss did not improve from 0.13168\n",
      "72/72 [==============================] - 10s 141ms/step - loss: 0.0828 - categorical_accuracy: 0.9390 - val_loss: 0.1806 - val_categorical_accuracy: 0.9255\n",
      "Epoch 135/200\n",
      "72/72 [==============================] - ETA: 0s - loss: 0.0817 - categorical_accuracy: 0.9420\n",
      "Epoch 135: val_loss did not improve from 0.13168\n",
      "72/72 [==============================] - 10s 143ms/step - loss: 0.0817 - categorical_accuracy: 0.9420 - val_loss: 0.1850 - val_categorical_accuracy: 0.9255\n",
      "Epoch 136/200\n",
      "72/72 [==============================] - ETA: 0s - loss: 0.0827 - categorical_accuracy: 0.9338\n",
      "Epoch 136: val_loss did not improve from 0.13168\n",
      "72/72 [==============================] - 10s 139ms/step - loss: 0.0827 - categorical_accuracy: 0.9338 - val_loss: 0.1829 - val_categorical_accuracy: 0.9255\n",
      "Epoch 137/200\n",
      "72/72 [==============================] - ETA: 0s - loss: 0.0818 - categorical_accuracy: 0.9346\n",
      "Epoch 137: val_loss did not improve from 0.13168\n",
      "72/72 [==============================] - 10s 133ms/step - loss: 0.0818 - categorical_accuracy: 0.9346 - val_loss: 0.1851 - val_categorical_accuracy: 0.9176\n",
      "Epoch 138/200\n",
      "72/72 [==============================] - ETA: 0s - loss: 0.0823 - categorical_accuracy: 0.9473\n",
      "Epoch 138: val_loss did not improve from 0.13168\n",
      "72/72 [==============================] - 10s 138ms/step - loss: 0.0823 - categorical_accuracy: 0.9473 - val_loss: 0.1792 - val_categorical_accuracy: 0.9294\n",
      "Epoch 139/200\n",
      "72/72 [==============================] - ETA: 0s - loss: 0.0825 - categorical_accuracy: 0.9386\n",
      "Epoch 139: val_loss did not improve from 0.13168\n",
      "72/72 [==============================] - 10s 133ms/step - loss: 0.0825 - categorical_accuracy: 0.9386 - val_loss: 0.1866 - val_categorical_accuracy: 0.9098\n",
      "Epoch 140/200\n",
      "72/72 [==============================] - ETA: 0s - loss: 0.0815 - categorical_accuracy: 0.9420\n",
      "Epoch 140: val_loss did not improve from 0.13168\n",
      "72/72 [==============================] - 9s 131ms/step - loss: 0.0815 - categorical_accuracy: 0.9420 - val_loss: 0.1927 - val_categorical_accuracy: 0.9059\n",
      "Epoch 141/200\n",
      "72/72 [==============================] - ETA: 0s - loss: 0.0836 - categorical_accuracy: 0.9364\n",
      "Epoch 141: val_loss did not improve from 0.13168\n",
      "72/72 [==============================] - 9s 127ms/step - loss: 0.0836 - categorical_accuracy: 0.9364 - val_loss: 0.1831 - val_categorical_accuracy: 0.9294\n",
      "Epoch 142/200\n",
      "72/72 [==============================] - ETA: 0s - loss: 0.0815 - categorical_accuracy: 0.9434\n",
      "Epoch 142: val_loss did not improve from 0.13168\n",
      "72/72 [==============================] - 9s 127ms/step - loss: 0.0815 - categorical_accuracy: 0.9434 - val_loss: 0.1925 - val_categorical_accuracy: 0.9176\n",
      "Epoch 143/200\n",
      "72/72 [==============================] - ETA: 0s - loss: 0.0813 - categorical_accuracy: 0.9468\n",
      "Epoch 143: val_loss did not improve from 0.13168\n",
      "72/72 [==============================] - 9s 126ms/step - loss: 0.0813 - categorical_accuracy: 0.9468 - val_loss: 0.1912 - val_categorical_accuracy: 0.9294\n",
      "Epoch 144/200\n",
      "72/72 [==============================] - ETA: 0s - loss: 0.0815 - categorical_accuracy: 0.9416\n",
      "Epoch 144: val_loss did not improve from 0.13168\n",
      "72/72 [==============================] - 9s 128ms/step - loss: 0.0815 - categorical_accuracy: 0.9416 - val_loss: 0.2007 - val_categorical_accuracy: 0.9176\n",
      "Epoch 145/200\n",
      "72/72 [==============================] - ETA: 0s - loss: 0.0833 - categorical_accuracy: 0.9394\n",
      "Epoch 145: val_loss did not improve from 0.13168\n",
      "72/72 [==============================] - 10s 137ms/step - loss: 0.0833 - categorical_accuracy: 0.9394 - val_loss: 0.1921 - val_categorical_accuracy: 0.9176\n",
      "Epoch 146/200\n",
      "72/72 [==============================] - ETA: 0s - loss: 0.0819 - categorical_accuracy: 0.9429\n",
      "Epoch 146: val_loss did not improve from 0.13168\n",
      "72/72 [==============================] - 10s 142ms/step - loss: 0.0819 - categorical_accuracy: 0.9429 - val_loss: 0.1900 - val_categorical_accuracy: 0.9294\n",
      "Epoch 147/200\n",
      "72/72 [==============================] - ETA: 0s - loss: 0.0814 - categorical_accuracy: 0.9438\n",
      "Epoch 147: val_loss did not improve from 0.13168\n",
      "72/72 [==============================] - 10s 143ms/step - loss: 0.0814 - categorical_accuracy: 0.9438 - val_loss: 0.2008 - val_categorical_accuracy: 0.9176\n",
      "Epoch 148/200\n",
      "72/72 [==============================] - ETA: 0s - loss: 0.0816 - categorical_accuracy: 0.9381\n",
      "Epoch 148: val_loss did not improve from 0.13168\n",
      "72/72 [==============================] - 12s 160ms/step - loss: 0.0816 - categorical_accuracy: 0.9381 - val_loss: 0.2011 - val_categorical_accuracy: 0.9255\n",
      "Epoch 149/200\n",
      "72/72 [==============================] - ETA: 0s - loss: 0.0816 - categorical_accuracy: 0.9386\n",
      "Epoch 149: val_loss did not improve from 0.13168\n",
      "72/72 [==============================] - 11s 154ms/step - loss: 0.0816 - categorical_accuracy: 0.9386 - val_loss: 0.2004 - val_categorical_accuracy: 0.9216\n",
      "Epoch 150/200\n",
      "72/72 [==============================] - ETA: 0s - loss: 0.0822 - categorical_accuracy: 0.9403\n",
      "Epoch 150: val_loss did not improve from 0.13168\n",
      "72/72 [==============================] - 12s 170ms/step - loss: 0.0822 - categorical_accuracy: 0.9403 - val_loss: 0.2001 - val_categorical_accuracy: 0.9176\n",
      "Epoch 151/200\n",
      "72/72 [==============================] - ETA: 0s - loss: 0.0828 - categorical_accuracy: 0.9342\n",
      "Epoch 151: val_loss did not improve from 0.13168\n",
      "72/72 [==============================] - 12s 163ms/step - loss: 0.0828 - categorical_accuracy: 0.9342 - val_loss: 0.1943 - val_categorical_accuracy: 0.9020\n",
      "Epoch 152/200\n",
      "72/72 [==============================] - ETA: 0s - loss: 0.0815 - categorical_accuracy: 0.9455\n",
      "Epoch 152: val_loss did not improve from 0.13168\n",
      "72/72 [==============================] - 13s 185ms/step - loss: 0.0815 - categorical_accuracy: 0.9455 - val_loss: 0.1977 - val_categorical_accuracy: 0.9294\n",
      "Epoch 153/200\n",
      "72/72 [==============================] - ETA: 0s - loss: 0.0821 - categorical_accuracy: 0.9377\n",
      "Epoch 153: val_loss did not improve from 0.13168\n",
      "72/72 [==============================] - 16s 220ms/step - loss: 0.0821 - categorical_accuracy: 0.9377 - val_loss: 0.1919 - val_categorical_accuracy: 0.9294\n",
      "Epoch 154/200\n",
      "72/72 [==============================] - ETA: 0s - loss: 0.0819 - categorical_accuracy: 0.9355\n",
      "Epoch 154: val_loss did not improve from 0.13168\n",
      "72/72 [==============================] - 13s 174ms/step - loss: 0.0819 - categorical_accuracy: 0.9355 - val_loss: 0.2054 - val_categorical_accuracy: 0.9137\n",
      "Epoch 155/200\n",
      "72/72 [==============================] - ETA: 0s - loss: 0.0815 - categorical_accuracy: 0.9420\n",
      "Epoch 155: val_loss did not improve from 0.13168\n",
      "72/72 [==============================] - 9s 120ms/step - loss: 0.0815 - categorical_accuracy: 0.9420 - val_loss: 0.1996 - val_categorical_accuracy: 0.9294\n",
      "Epoch 156/200\n",
      "72/72 [==============================] - ETA: 0s - loss: 0.0816 - categorical_accuracy: 0.9407\n",
      "Epoch 156: val_loss did not improve from 0.13168\n",
      "72/72 [==============================] - 10s 134ms/step - loss: 0.0816 - categorical_accuracy: 0.9407 - val_loss: 0.2036 - val_categorical_accuracy: 0.9294\n",
      "Epoch 157/200\n",
      "72/72 [==============================] - ETA: 0s - loss: 0.0820 - categorical_accuracy: 0.9355\n",
      "Epoch 157: val_loss did not improve from 0.13168\n",
      "72/72 [==============================] - 11s 155ms/step - loss: 0.0820 - categorical_accuracy: 0.9355 - val_loss: 0.2082 - val_categorical_accuracy: 0.9294\n",
      "Epoch 158/200\n",
      "72/72 [==============================] - ETA: 0s - loss: 0.0826 - categorical_accuracy: 0.9412\n",
      "Epoch 158: val_loss did not improve from 0.13168\n",
      "72/72 [==============================] - 8s 118ms/step - loss: 0.0826 - categorical_accuracy: 0.9412 - val_loss: 0.2015 - val_categorical_accuracy: 0.9137\n",
      "Epoch 159/200\n",
      "72/72 [==============================] - ETA: 0s - loss: 0.0818 - categorical_accuracy: 0.9425\n",
      "Epoch 159: val_loss did not improve from 0.13168\n",
      "72/72 [==============================] - 10s 143ms/step - loss: 0.0818 - categorical_accuracy: 0.9425 - val_loss: 0.2090 - val_categorical_accuracy: 0.9255\n",
      "Epoch 160/200\n",
      "72/72 [==============================] - ETA: 0s - loss: 0.0816 - categorical_accuracy: 0.9333\n",
      "Epoch 160: val_loss did not improve from 0.13168\n",
      "72/72 [==============================] - 10s 138ms/step - loss: 0.0816 - categorical_accuracy: 0.9333 - val_loss: 0.2108 - val_categorical_accuracy: 0.9294\n",
      "Epoch 161/200\n",
      "72/72 [==============================] - ETA: 0s - loss: 0.0813 - categorical_accuracy: 0.9394\n",
      "Epoch 161: val_loss did not improve from 0.13168\n",
      "72/72 [==============================] - 9s 130ms/step - loss: 0.0813 - categorical_accuracy: 0.9394 - val_loss: 0.2193 - val_categorical_accuracy: 0.9137\n",
      "Epoch 162/200\n",
      "72/72 [==============================] - ETA: 0s - loss: 0.0814 - categorical_accuracy: 0.9416\n",
      "Epoch 162: val_loss did not improve from 0.13168\n",
      "72/72 [==============================] - 9s 126ms/step - loss: 0.0814 - categorical_accuracy: 0.9416 - val_loss: 0.2167 - val_categorical_accuracy: 0.9137\n",
      "Epoch 163/200\n",
      "72/72 [==============================] - ETA: 0s - loss: 0.0814 - categorical_accuracy: 0.9420\n",
      "Epoch 163: val_loss did not improve from 0.13168\n",
      "72/72 [==============================] - 8s 118ms/step - loss: 0.0814 - categorical_accuracy: 0.9420 - val_loss: 0.2201 - val_categorical_accuracy: 0.9216\n",
      "Epoch 164/200\n",
      "72/72 [==============================] - ETA: 0s - loss: 0.0817 - categorical_accuracy: 0.9420\n",
      "Epoch 164: val_loss did not improve from 0.13168\n",
      "72/72 [==============================] - 9s 122ms/step - loss: 0.0817 - categorical_accuracy: 0.9420 - val_loss: 0.2112 - val_categorical_accuracy: 0.9294\n",
      "Epoch 165/200\n",
      "72/72 [==============================] - ETA: 0s - loss: 0.0815 - categorical_accuracy: 0.9416\n",
      "Epoch 165: val_loss did not improve from 0.13168\n",
      "72/72 [==============================] - 9s 123ms/step - loss: 0.0815 - categorical_accuracy: 0.9416 - val_loss: 0.2150 - val_categorical_accuracy: 0.9294\n",
      "Epoch 166/200\n",
      "72/72 [==============================] - ETA: 0s - loss: 0.0816 - categorical_accuracy: 0.9381\n",
      "Epoch 166: val_loss did not improve from 0.13168\n",
      "72/72 [==============================] - 9s 119ms/step - loss: 0.0816 - categorical_accuracy: 0.9381 - val_loss: 0.2164 - val_categorical_accuracy: 0.9137\n",
      "Epoch 167/200\n",
      "72/72 [==============================] - ETA: 0s - loss: 0.0819 - categorical_accuracy: 0.9377\n",
      "Epoch 167: val_loss did not improve from 0.13168\n",
      "72/72 [==============================] - 11s 153ms/step - loss: 0.0819 - categorical_accuracy: 0.9377 - val_loss: 0.2168 - val_categorical_accuracy: 0.9137\n",
      "Epoch 168/200\n",
      "72/72 [==============================] - ETA: 0s - loss: 0.0812 - categorical_accuracy: 0.9425\n",
      "Epoch 168: val_loss did not improve from 0.13168\n",
      "72/72 [==============================] - 11s 158ms/step - loss: 0.0812 - categorical_accuracy: 0.9425 - val_loss: 0.2177 - val_categorical_accuracy: 0.9255\n",
      "Epoch 169/200\n",
      "72/72 [==============================] - ETA: 0s - loss: 0.0816 - categorical_accuracy: 0.9416\n",
      "Epoch 169: val_loss did not improve from 0.13168\n",
      "72/72 [==============================] - 9s 124ms/step - loss: 0.0816 - categorical_accuracy: 0.9416 - val_loss: 0.2220 - val_categorical_accuracy: 0.9137\n",
      "Epoch 170/200\n",
      "72/72 [==============================] - ETA: 0s - loss: 0.0813 - categorical_accuracy: 0.9377\n",
      "Epoch 170: val_loss did not improve from 0.13168\n",
      "72/72 [==============================] - 9s 123ms/step - loss: 0.0813 - categorical_accuracy: 0.9377 - val_loss: 0.2273 - val_categorical_accuracy: 0.9294\n",
      "Epoch 171/200\n",
      "72/72 [==============================] - ETA: 0s - loss: 0.3461 - categorical_accuracy: 0.8780\n",
      "Epoch 171: val_loss did not improve from 0.13168\n",
      "72/72 [==============================] - 9s 120ms/step - loss: 0.3461 - categorical_accuracy: 0.8780 - val_loss: 0.5277 - val_categorical_accuracy: 0.8549\n",
      "Epoch 172/200\n",
      "72/72 [==============================] - ETA: 0s - loss: 0.2528 - categorical_accuracy: 0.8911\n",
      "Epoch 172: val_loss did not improve from 0.13168\n",
      "72/72 [==============================] - 9s 123ms/step - loss: 0.2528 - categorical_accuracy: 0.8911 - val_loss: 0.2832 - val_categorical_accuracy: 0.8667\n",
      "Epoch 173/200\n",
      "72/72 [==============================] - ETA: 0s - loss: 0.1032 - categorical_accuracy: 0.9342\n",
      "Epoch 173: val_loss did not improve from 0.13168\n",
      "72/72 [==============================] - 10s 143ms/step - loss: 0.1032 - categorical_accuracy: 0.9342 - val_loss: 0.1779 - val_categorical_accuracy: 0.9294\n",
      "Epoch 174/200\n",
      "72/72 [==============================] - ETA: 0s - loss: 0.0996 - categorical_accuracy: 0.9294\n",
      "Epoch 174: val_loss did not improve from 0.13168\n",
      "72/72 [==============================] - 10s 141ms/step - loss: 0.0996 - categorical_accuracy: 0.9294 - val_loss: 0.2094 - val_categorical_accuracy: 0.8941\n",
      "Epoch 175/200\n",
      "72/72 [==============================] - ETA: 0s - loss: 0.1029 - categorical_accuracy: 0.9351\n",
      "Epoch 175: val_loss did not improve from 0.13168\n",
      "72/72 [==============================] - 8s 117ms/step - loss: 0.1029 - categorical_accuracy: 0.9351 - val_loss: 0.2025 - val_categorical_accuracy: 0.9176\n",
      "Epoch 176/200\n",
      "72/72 [==============================] - ETA: 0s - loss: 0.1087 - categorical_accuracy: 0.9307\n",
      "Epoch 176: val_loss did not improve from 0.13168\n",
      "72/72 [==============================] - 8s 117ms/step - loss: 0.1087 - categorical_accuracy: 0.9307 - val_loss: 0.2027 - val_categorical_accuracy: 0.9020\n",
      "Epoch 177/200\n",
      "72/72 [==============================] - ETA: 0s - loss: 0.1094 - categorical_accuracy: 0.9303\n",
      "Epoch 177: val_loss did not improve from 0.13168\n",
      "72/72 [==============================] - 9s 126ms/step - loss: 0.1094 - categorical_accuracy: 0.9303 - val_loss: 0.1633 - val_categorical_accuracy: 0.9176\n",
      "Epoch 178/200\n",
      "72/72 [==============================] - ETA: 0s - loss: 0.1032 - categorical_accuracy: 0.9338\n",
      "Epoch 178: val_loss did not improve from 0.13168\n",
      "72/72 [==============================] - 12s 168ms/step - loss: 0.1032 - categorical_accuracy: 0.9338 - val_loss: 0.1861 - val_categorical_accuracy: 0.9176\n",
      "Epoch 179/200\n",
      "72/72 [==============================] - ETA: 0s - loss: 0.0873 - categorical_accuracy: 0.9377\n",
      "Epoch 179: val_loss did not improve from 0.13168\n",
      "72/72 [==============================] - 12s 165ms/step - loss: 0.0873 - categorical_accuracy: 0.9377 - val_loss: 0.1684 - val_categorical_accuracy: 0.9255\n",
      "Epoch 180/200\n",
      "72/72 [==============================] - ETA: 0s - loss: 0.0837 - categorical_accuracy: 0.9333\n",
      "Epoch 180: val_loss did not improve from 0.13168\n",
      "72/72 [==============================] - 10s 139ms/step - loss: 0.0837 - categorical_accuracy: 0.9333 - val_loss: 0.1950 - val_categorical_accuracy: 0.9216\n",
      "Epoch 181/200\n",
      "72/72 [==============================] - ETA: 0s - loss: 0.1828 - categorical_accuracy: 0.9176\n",
      "Epoch 181: val_loss did not improve from 0.13168\n",
      "72/72 [==============================] - 10s 136ms/step - loss: 0.1828 - categorical_accuracy: 0.9176 - val_loss: 0.1957 - val_categorical_accuracy: 0.9098\n",
      "Epoch 182/200\n",
      "72/72 [==============================] - ETA: 0s - loss: 0.0999 - categorical_accuracy: 0.9359\n",
      "Epoch 182: val_loss did not improve from 0.13168\n",
      "72/72 [==============================] - 11s 156ms/step - loss: 0.0999 - categorical_accuracy: 0.9359 - val_loss: 0.5133 - val_categorical_accuracy: 0.8471\n",
      "Epoch 183/200\n",
      "72/72 [==============================] - ETA: 0s - loss: 0.1997 - categorical_accuracy: 0.9002\n",
      "Epoch 183: val_loss did not improve from 0.13168\n",
      "72/72 [==============================] - 11s 154ms/step - loss: 0.1997 - categorical_accuracy: 0.9002 - val_loss: 0.1755 - val_categorical_accuracy: 0.9098\n",
      "Epoch 184/200\n",
      "72/72 [==============================] - ETA: 0s - loss: 0.1063 - categorical_accuracy: 0.9298\n",
      "Epoch 184: val_loss did not improve from 0.13168\n",
      "72/72 [==============================] - 12s 162ms/step - loss: 0.1063 - categorical_accuracy: 0.9298 - val_loss: 0.1489 - val_categorical_accuracy: 0.9137\n",
      "Epoch 185/200\n",
      "72/72 [==============================] - ETA: 0s - loss: 0.0875 - categorical_accuracy: 0.9399\n",
      "Epoch 185: val_loss did not improve from 0.13168\n",
      "72/72 [==============================] - 12s 161ms/step - loss: 0.0875 - categorical_accuracy: 0.9399 - val_loss: 0.1874 - val_categorical_accuracy: 0.9137\n",
      "Epoch 186/200\n",
      "72/72 [==============================] - ETA: 0s - loss: 0.0974 - categorical_accuracy: 0.9386\n",
      "Epoch 186: val_loss did not improve from 0.13168\n",
      "72/72 [==============================] - 12s 166ms/step - loss: 0.0974 - categorical_accuracy: 0.9386 - val_loss: 0.1734 - val_categorical_accuracy: 0.9176\n",
      "Epoch 187/200\n",
      "72/72 [==============================] - ETA: 0s - loss: 0.0833 - categorical_accuracy: 0.9407\n",
      "Epoch 187: val_loss did not improve from 0.13168\n",
      "72/72 [==============================] - 11s 154ms/step - loss: 0.0833 - categorical_accuracy: 0.9407 - val_loss: 0.1632 - val_categorical_accuracy: 0.9176\n",
      "Epoch 188/200\n",
      "72/72 [==============================] - ETA: 0s - loss: 0.0830 - categorical_accuracy: 0.9368\n",
      "Epoch 188: val_loss did not improve from 0.13168\n",
      "72/72 [==============================] - 11s 157ms/step - loss: 0.0830 - categorical_accuracy: 0.9368 - val_loss: 0.1786 - val_categorical_accuracy: 0.9176\n",
      "Epoch 189/200\n",
      "72/72 [==============================] - ETA: 0s - loss: 0.0818 - categorical_accuracy: 0.9399\n",
      "Epoch 189: val_loss did not improve from 0.13168\n",
      "72/72 [==============================] - 11s 148ms/step - loss: 0.0818 - categorical_accuracy: 0.9399 - val_loss: 0.1709 - val_categorical_accuracy: 0.9176\n",
      "Epoch 190/200\n",
      "72/72 [==============================] - ETA: 0s - loss: 0.0820 - categorical_accuracy: 0.9364\n",
      "Epoch 190: val_loss did not improve from 0.13168\n",
      "72/72 [==============================] - 10s 143ms/step - loss: 0.0820 - categorical_accuracy: 0.9364 - val_loss: 0.1691 - val_categorical_accuracy: 0.9216\n",
      "Epoch 191/200\n",
      "72/72 [==============================] - ETA: 0s - loss: 0.0815 - categorical_accuracy: 0.9455\n",
      "Epoch 191: val_loss did not improve from 0.13168\n",
      "72/72 [==============================] - 10s 144ms/step - loss: 0.0815 - categorical_accuracy: 0.9455 - val_loss: 0.1857 - val_categorical_accuracy: 0.9176\n",
      "Epoch 192/200\n",
      "72/72 [==============================] - ETA: 0s - loss: 0.0817 - categorical_accuracy: 0.9412\n",
      "Epoch 192: val_loss did not improve from 0.13168\n",
      "72/72 [==============================] - 10s 140ms/step - loss: 0.0817 - categorical_accuracy: 0.9412 - val_loss: 0.1776 - val_categorical_accuracy: 0.9216\n",
      "Epoch 193/200\n",
      "72/72 [==============================] - ETA: 0s - loss: 0.0818 - categorical_accuracy: 0.9373\n",
      "Epoch 193: val_loss did not improve from 0.13168\n",
      "72/72 [==============================] - 10s 142ms/step - loss: 0.0818 - categorical_accuracy: 0.9373 - val_loss: 0.1791 - val_categorical_accuracy: 0.9176\n",
      "Epoch 194/200\n",
      "72/72 [==============================] - ETA: 0s - loss: 0.0839 - categorical_accuracy: 0.9399\n",
      "Epoch 194: val_loss did not improve from 0.13168\n",
      "72/72 [==============================] - 10s 135ms/step - loss: 0.0839 - categorical_accuracy: 0.9399 - val_loss: 0.3769 - val_categorical_accuracy: 0.8824\n",
      "Epoch 195/200\n",
      "72/72 [==============================] - ETA: 0s - loss: 0.1306 - categorical_accuracy: 0.9290\n",
      "Epoch 195: val_loss did not improve from 0.13168\n",
      "72/72 [==============================] - 10s 143ms/step - loss: 0.1306 - categorical_accuracy: 0.9290 - val_loss: 0.1503 - val_categorical_accuracy: 0.9098\n",
      "Epoch 196/200\n",
      "72/72 [==============================] - ETA: 0s - loss: 0.1510 - categorical_accuracy: 0.9159\n",
      "Epoch 196: val_loss did not improve from 0.13168\n",
      "72/72 [==============================] - 10s 140ms/step - loss: 0.1510 - categorical_accuracy: 0.9159 - val_loss: 0.1586 - val_categorical_accuracy: 0.9216\n",
      "Epoch 197/200\n",
      "72/72 [==============================] - ETA: 0s - loss: 0.0908 - categorical_accuracy: 0.9394\n",
      "Epoch 197: val_loss did not improve from 0.13168\n",
      "72/72 [==============================] - 10s 135ms/step - loss: 0.0908 - categorical_accuracy: 0.9394 - val_loss: 0.1536 - val_categorical_accuracy: 0.9216\n",
      "Epoch 198/200\n",
      "72/72 [==============================] - ETA: 0s - loss: 0.0838 - categorical_accuracy: 0.9364\n",
      "Epoch 198: val_loss did not improve from 0.13168\n",
      "72/72 [==============================] - 10s 142ms/step - loss: 0.0838 - categorical_accuracy: 0.9364 - val_loss: 0.1559 - val_categorical_accuracy: 0.9216\n",
      "Epoch 199/200\n",
      "72/72 [==============================] - ETA: 0s - loss: 0.0822 - categorical_accuracy: 0.9412\n",
      "Epoch 199: val_loss did not improve from 0.13168\n",
      "72/72 [==============================] - 10s 139ms/step - loss: 0.0822 - categorical_accuracy: 0.9412 - val_loss: 0.1665 - val_categorical_accuracy: 0.9216\n",
      "Epoch 200/200\n",
      "72/72 [==============================] - ETA: 0s - loss: 0.0823 - categorical_accuracy: 0.9381\n",
      "Epoch 200: val_loss did not improve from 0.13168\n",
      "72/72 [==============================] - 11s 156ms/step - loss: 0.0823 - categorical_accuracy: 0.9381 - val_loss: 0.1741 - val_categorical_accuracy: 0.9176\n"
     ]
    }
   ],
   "source": [
    "history=model.fit(x_train,y_train,epochs=200,validation_data=(x_test,y_test),callbacks=callbacks)"
   ]
  },
  {
   "cell_type": "code",
   "execution_count": 24,
   "id": "99e4444c-ab2c-474c-9787-d6df3cfde0b1",
   "metadata": {},
   "outputs": [
    {
     "name": "stdout",
     "output_type": "stream",
     "text": [
      "Epoch 1/30\n",
      "85/85 [==============================] - 15s 121ms/step - loss: 0.1260 - categorical_accuracy: 0.9311 - val_loss: 0.2659 - val_categorical_accuracy: 0.8967\n",
      "Epoch 2/30\n",
      "85/85 [==============================] - 9s 111ms/step - loss: 0.1424 - categorical_accuracy: 0.9274 - val_loss: 0.4426 - val_categorical_accuracy: 0.8633\n",
      "Epoch 3/30\n",
      "85/85 [==============================] - 10s 117ms/step - loss: 0.1325 - categorical_accuracy: 0.9304 - val_loss: 0.3474 - val_categorical_accuracy: 0.8633\n",
      "Epoch 4/30\n",
      "85/85 [==============================] - 10s 117ms/step - loss: 0.1414 - categorical_accuracy: 0.9267 - val_loss: 0.2421 - val_categorical_accuracy: 0.9167\n",
      "Epoch 5/30\n",
      "85/85 [==============================] - 10s 117ms/step - loss: 0.1327 - categorical_accuracy: 0.9330 - val_loss: 0.2777 - val_categorical_accuracy: 0.8833\n",
      "Epoch 6/30\n",
      "85/85 [==============================] - 10s 117ms/step - loss: 0.1460 - categorical_accuracy: 0.9241 - val_loss: 0.2294 - val_categorical_accuracy: 0.9167\n",
      "Epoch 7/30\n",
      "85/85 [==============================] - 9s 110ms/step - loss: 0.1168 - categorical_accuracy: 0.9374 - val_loss: 0.2511 - val_categorical_accuracy: 0.9133\n",
      "Epoch 8/30\n",
      "85/85 [==============================] - 9s 109ms/step - loss: 0.1231 - categorical_accuracy: 0.9330 - val_loss: 0.2834 - val_categorical_accuracy: 0.9200\n",
      "Epoch 9/30\n",
      "85/85 [==============================] - 9s 108ms/step - loss: 0.1452 - categorical_accuracy: 0.9259 - val_loss: 0.2605 - val_categorical_accuracy: 0.9100\n",
      "Epoch 10/30\n",
      "85/85 [==============================] - 10s 116ms/step - loss: 0.1510 - categorical_accuracy: 0.9233 - val_loss: 0.3308 - val_categorical_accuracy: 0.8833\n",
      "Epoch 11/30\n",
      "85/85 [==============================] - 10s 115ms/step - loss: 0.1214 - categorical_accuracy: 0.9322 - val_loss: 0.2966 - val_categorical_accuracy: 0.9100\n",
      "Epoch 12/30\n",
      "85/85 [==============================] - 10s 122ms/step - loss: 0.1211 - categorical_accuracy: 0.9385 - val_loss: 0.2282 - val_categorical_accuracy: 0.9200\n",
      "Epoch 13/30\n",
      "85/85 [==============================] - 10s 113ms/step - loss: 0.1094 - categorical_accuracy: 0.9393 - val_loss: 0.3108 - val_categorical_accuracy: 0.9033\n",
      "Epoch 14/30\n",
      "85/85 [==============================] - 9s 111ms/step - loss: 0.1507 - categorical_accuracy: 0.9256 - val_loss: 0.2258 - val_categorical_accuracy: 0.9233\n",
      "Epoch 15/30\n",
      "85/85 [==============================] - 9s 112ms/step - loss: 0.1019 - categorical_accuracy: 0.9441 - val_loss: 0.2515 - val_categorical_accuracy: 0.9000\n",
      "Epoch 16/30\n",
      "85/85 [==============================] - 10s 116ms/step - loss: 0.1377 - categorical_accuracy: 0.9344 - val_loss: 0.2699 - val_categorical_accuracy: 0.9000\n",
      "Epoch 17/30\n",
      "62/85 [====================>.........] - ETA: 2s - loss: 0.1818 - categorical_accuracy: 0.9148"
     ]
    },
    {
     "ename": "KeyboardInterrupt",
     "evalue": "",
     "output_type": "error",
     "traceback": [
      "\u001b[1;31m---------------------------------------------------------------------------\u001b[0m",
      "\u001b[1;31mKeyboardInterrupt\u001b[0m                         Traceback (most recent call last)",
      "Cell \u001b[1;32mIn[24], line 1\u001b[0m\n\u001b[1;32m----> 1\u001b[0m history2\u001b[38;5;241m=\u001b[39m\u001b[43mmodel\u001b[49m\u001b[38;5;241;43m.\u001b[39;49m\u001b[43mfit\u001b[49m\u001b[43m(\u001b[49m\u001b[43mx_train\u001b[49m\u001b[43m,\u001b[49m\u001b[43my_train\u001b[49m\u001b[43m,\u001b[49m\u001b[43mepochs\u001b[49m\u001b[38;5;241;43m=\u001b[39;49m\u001b[38;5;241;43m30\u001b[39;49m\u001b[43m,\u001b[49m\u001b[43mvalidation_data\u001b[49m\u001b[38;5;241;43m=\u001b[39;49m\u001b[43m(\u001b[49m\u001b[43mx_test\u001b[49m\u001b[43m,\u001b[49m\u001b[43my_test\u001b[49m\u001b[43m)\u001b[49m\u001b[43m)\u001b[49m\n",
      "File \u001b[1;32m~\\AppData\\Local\\Programs\\Python\\Python311\\Lib\\site-packages\\keras\\src\\utils\\traceback_utils.py:65\u001b[0m, in \u001b[0;36mfilter_traceback.<locals>.error_handler\u001b[1;34m(*args, **kwargs)\u001b[0m\n\u001b[0;32m     63\u001b[0m filtered_tb \u001b[38;5;241m=\u001b[39m \u001b[38;5;28;01mNone\u001b[39;00m\n\u001b[0;32m     64\u001b[0m \u001b[38;5;28;01mtry\u001b[39;00m:\n\u001b[1;32m---> 65\u001b[0m     \u001b[38;5;28;01mreturn\u001b[39;00m \u001b[43mfn\u001b[49m\u001b[43m(\u001b[49m\u001b[38;5;241;43m*\u001b[39;49m\u001b[43margs\u001b[49m\u001b[43m,\u001b[49m\u001b[43m \u001b[49m\u001b[38;5;241;43m*\u001b[39;49m\u001b[38;5;241;43m*\u001b[39;49m\u001b[43mkwargs\u001b[49m\u001b[43m)\u001b[49m\n\u001b[0;32m     66\u001b[0m \u001b[38;5;28;01mexcept\u001b[39;00m \u001b[38;5;167;01mException\u001b[39;00m \u001b[38;5;28;01mas\u001b[39;00m e:\n\u001b[0;32m     67\u001b[0m     filtered_tb \u001b[38;5;241m=\u001b[39m _process_traceback_frames(e\u001b[38;5;241m.\u001b[39m__traceback__)\n",
      "File \u001b[1;32m~\\AppData\\Local\\Programs\\Python\\Python311\\Lib\\site-packages\\keras\\src\\engine\\training.py:1742\u001b[0m, in \u001b[0;36mModel.fit\u001b[1;34m(self, x, y, batch_size, epochs, verbose, callbacks, validation_split, validation_data, shuffle, class_weight, sample_weight, initial_epoch, steps_per_epoch, validation_steps, validation_batch_size, validation_freq, max_queue_size, workers, use_multiprocessing)\u001b[0m\n\u001b[0;32m   1734\u001b[0m \u001b[38;5;28;01mwith\u001b[39;00m tf\u001b[38;5;241m.\u001b[39mprofiler\u001b[38;5;241m.\u001b[39mexperimental\u001b[38;5;241m.\u001b[39mTrace(\n\u001b[0;32m   1735\u001b[0m     \u001b[38;5;124m\"\u001b[39m\u001b[38;5;124mtrain\u001b[39m\u001b[38;5;124m\"\u001b[39m,\n\u001b[0;32m   1736\u001b[0m     epoch_num\u001b[38;5;241m=\u001b[39mepoch,\n\u001b[1;32m   (...)\u001b[0m\n\u001b[0;32m   1739\u001b[0m     _r\u001b[38;5;241m=\u001b[39m\u001b[38;5;241m1\u001b[39m,\n\u001b[0;32m   1740\u001b[0m ):\n\u001b[0;32m   1741\u001b[0m     callbacks\u001b[38;5;241m.\u001b[39mon_train_batch_begin(step)\n\u001b[1;32m-> 1742\u001b[0m     tmp_logs \u001b[38;5;241m=\u001b[39m \u001b[38;5;28;43mself\u001b[39;49m\u001b[38;5;241;43m.\u001b[39;49m\u001b[43mtrain_function\u001b[49m\u001b[43m(\u001b[49m\u001b[43miterator\u001b[49m\u001b[43m)\u001b[49m\n\u001b[0;32m   1743\u001b[0m     \u001b[38;5;28;01mif\u001b[39;00m data_handler\u001b[38;5;241m.\u001b[39mshould_sync:\n\u001b[0;32m   1744\u001b[0m         context\u001b[38;5;241m.\u001b[39masync_wait()\n",
      "File \u001b[1;32m~\\AppData\\Local\\Programs\\Python\\Python311\\Lib\\site-packages\\tensorflow\\python\\util\\traceback_utils.py:150\u001b[0m, in \u001b[0;36mfilter_traceback.<locals>.error_handler\u001b[1;34m(*args, **kwargs)\u001b[0m\n\u001b[0;32m    148\u001b[0m filtered_tb \u001b[38;5;241m=\u001b[39m \u001b[38;5;28;01mNone\u001b[39;00m\n\u001b[0;32m    149\u001b[0m \u001b[38;5;28;01mtry\u001b[39;00m:\n\u001b[1;32m--> 150\u001b[0m   \u001b[38;5;28;01mreturn\u001b[39;00m \u001b[43mfn\u001b[49m\u001b[43m(\u001b[49m\u001b[38;5;241;43m*\u001b[39;49m\u001b[43margs\u001b[49m\u001b[43m,\u001b[49m\u001b[43m \u001b[49m\u001b[38;5;241;43m*\u001b[39;49m\u001b[38;5;241;43m*\u001b[39;49m\u001b[43mkwargs\u001b[49m\u001b[43m)\u001b[49m\n\u001b[0;32m    151\u001b[0m \u001b[38;5;28;01mexcept\u001b[39;00m \u001b[38;5;167;01mException\u001b[39;00m \u001b[38;5;28;01mas\u001b[39;00m e:\n\u001b[0;32m    152\u001b[0m   filtered_tb \u001b[38;5;241m=\u001b[39m _process_traceback_frames(e\u001b[38;5;241m.\u001b[39m__traceback__)\n",
      "File \u001b[1;32m~\\AppData\\Local\\Programs\\Python\\Python311\\Lib\\site-packages\\tensorflow\\python\\eager\\polymorphic_function\\polymorphic_function.py:825\u001b[0m, in \u001b[0;36mFunction.__call__\u001b[1;34m(self, *args, **kwds)\u001b[0m\n\u001b[0;32m    822\u001b[0m compiler \u001b[38;5;241m=\u001b[39m \u001b[38;5;124m\"\u001b[39m\u001b[38;5;124mxla\u001b[39m\u001b[38;5;124m\"\u001b[39m \u001b[38;5;28;01mif\u001b[39;00m \u001b[38;5;28mself\u001b[39m\u001b[38;5;241m.\u001b[39m_jit_compile \u001b[38;5;28;01melse\u001b[39;00m \u001b[38;5;124m\"\u001b[39m\u001b[38;5;124mnonXla\u001b[39m\u001b[38;5;124m\"\u001b[39m\n\u001b[0;32m    824\u001b[0m \u001b[38;5;28;01mwith\u001b[39;00m OptionalXlaContext(\u001b[38;5;28mself\u001b[39m\u001b[38;5;241m.\u001b[39m_jit_compile):\n\u001b[1;32m--> 825\u001b[0m   result \u001b[38;5;241m=\u001b[39m \u001b[38;5;28;43mself\u001b[39;49m\u001b[38;5;241;43m.\u001b[39;49m\u001b[43m_call\u001b[49m\u001b[43m(\u001b[49m\u001b[38;5;241;43m*\u001b[39;49m\u001b[43margs\u001b[49m\u001b[43m,\u001b[49m\u001b[43m \u001b[49m\u001b[38;5;241;43m*\u001b[39;49m\u001b[38;5;241;43m*\u001b[39;49m\u001b[43mkwds\u001b[49m\u001b[43m)\u001b[49m\n\u001b[0;32m    827\u001b[0m new_tracing_count \u001b[38;5;241m=\u001b[39m \u001b[38;5;28mself\u001b[39m\u001b[38;5;241m.\u001b[39mexperimental_get_tracing_count()\n\u001b[0;32m    828\u001b[0m without_tracing \u001b[38;5;241m=\u001b[39m (tracing_count \u001b[38;5;241m==\u001b[39m new_tracing_count)\n",
      "File \u001b[1;32m~\\AppData\\Local\\Programs\\Python\\Python311\\Lib\\site-packages\\tensorflow\\python\\eager\\polymorphic_function\\polymorphic_function.py:857\u001b[0m, in \u001b[0;36mFunction._call\u001b[1;34m(self, *args, **kwds)\u001b[0m\n\u001b[0;32m    854\u001b[0m   \u001b[38;5;28mself\u001b[39m\u001b[38;5;241m.\u001b[39m_lock\u001b[38;5;241m.\u001b[39mrelease()\n\u001b[0;32m    855\u001b[0m   \u001b[38;5;66;03m# In this case we have created variables on the first call, so we run the\u001b[39;00m\n\u001b[0;32m    856\u001b[0m   \u001b[38;5;66;03m# defunned version which is guaranteed to never create variables.\u001b[39;00m\n\u001b[1;32m--> 857\u001b[0m   \u001b[38;5;28;01mreturn\u001b[39;00m \u001b[38;5;28;43mself\u001b[39;49m\u001b[38;5;241;43m.\u001b[39;49m\u001b[43m_no_variable_creation_fn\u001b[49m\u001b[43m(\u001b[49m\u001b[38;5;241;43m*\u001b[39;49m\u001b[43margs\u001b[49m\u001b[43m,\u001b[49m\u001b[43m \u001b[49m\u001b[38;5;241;43m*\u001b[39;49m\u001b[38;5;241;43m*\u001b[39;49m\u001b[43mkwds\u001b[49m\u001b[43m)\u001b[49m  \u001b[38;5;66;03m# pylint: disable=not-callable\u001b[39;00m\n\u001b[0;32m    858\u001b[0m \u001b[38;5;28;01melif\u001b[39;00m \u001b[38;5;28mself\u001b[39m\u001b[38;5;241m.\u001b[39m_variable_creation_fn \u001b[38;5;129;01mis\u001b[39;00m \u001b[38;5;129;01mnot\u001b[39;00m \u001b[38;5;28;01mNone\u001b[39;00m:\n\u001b[0;32m    859\u001b[0m   \u001b[38;5;66;03m# Release the lock early so that multiple threads can perform the call\u001b[39;00m\n\u001b[0;32m    860\u001b[0m   \u001b[38;5;66;03m# in parallel.\u001b[39;00m\n\u001b[0;32m    861\u001b[0m   \u001b[38;5;28mself\u001b[39m\u001b[38;5;241m.\u001b[39m_lock\u001b[38;5;241m.\u001b[39mrelease()\n",
      "File \u001b[1;32m~\\AppData\\Local\\Programs\\Python\\Python311\\Lib\\site-packages\\tensorflow\\python\\eager\\polymorphic_function\\tracing_compiler.py:148\u001b[0m, in \u001b[0;36mTracingCompiler.__call__\u001b[1;34m(self, *args, **kwargs)\u001b[0m\n\u001b[0;32m    145\u001b[0m \u001b[38;5;28;01mwith\u001b[39;00m \u001b[38;5;28mself\u001b[39m\u001b[38;5;241m.\u001b[39m_lock:\n\u001b[0;32m    146\u001b[0m   (concrete_function,\n\u001b[0;32m    147\u001b[0m    filtered_flat_args) \u001b[38;5;241m=\u001b[39m \u001b[38;5;28mself\u001b[39m\u001b[38;5;241m.\u001b[39m_maybe_define_function(args, kwargs)\n\u001b[1;32m--> 148\u001b[0m \u001b[38;5;28;01mreturn\u001b[39;00m \u001b[43mconcrete_function\u001b[49m\u001b[38;5;241;43m.\u001b[39;49m\u001b[43m_call_flat\u001b[49m\u001b[43m(\u001b[49m\n\u001b[0;32m    149\u001b[0m \u001b[43m    \u001b[49m\u001b[43mfiltered_flat_args\u001b[49m\u001b[43m,\u001b[49m\u001b[43m \u001b[49m\u001b[43mcaptured_inputs\u001b[49m\u001b[38;5;241;43m=\u001b[39;49m\u001b[43mconcrete_function\u001b[49m\u001b[38;5;241;43m.\u001b[39;49m\u001b[43mcaptured_inputs\u001b[49m\u001b[43m)\u001b[49m\n",
      "File \u001b[1;32m~\\AppData\\Local\\Programs\\Python\\Python311\\Lib\\site-packages\\tensorflow\\python\\eager\\polymorphic_function\\monomorphic_function.py:1349\u001b[0m, in \u001b[0;36mConcreteFunction._call_flat\u001b[1;34m(self, args, captured_inputs)\u001b[0m\n\u001b[0;32m   1345\u001b[0m possible_gradient_type \u001b[38;5;241m=\u001b[39m gradients_util\u001b[38;5;241m.\u001b[39mPossibleTapeGradientTypes(args)\n\u001b[0;32m   1346\u001b[0m \u001b[38;5;28;01mif\u001b[39;00m (possible_gradient_type \u001b[38;5;241m==\u001b[39m gradients_util\u001b[38;5;241m.\u001b[39mPOSSIBLE_GRADIENT_TYPES_NONE\n\u001b[0;32m   1347\u001b[0m     \u001b[38;5;129;01mand\u001b[39;00m executing_eagerly):\n\u001b[0;32m   1348\u001b[0m   \u001b[38;5;66;03m# No tape is watching; skip to running the function.\u001b[39;00m\n\u001b[1;32m-> 1349\u001b[0m   \u001b[38;5;28;01mreturn\u001b[39;00m \u001b[38;5;28mself\u001b[39m\u001b[38;5;241m.\u001b[39m_build_call_outputs(\u001b[38;5;28;43mself\u001b[39;49m\u001b[38;5;241;43m.\u001b[39;49m\u001b[43m_inference_function\u001b[49m\u001b[43m(\u001b[49m\u001b[38;5;241;43m*\u001b[39;49m\u001b[43margs\u001b[49m\u001b[43m)\u001b[49m)\n\u001b[0;32m   1350\u001b[0m forward_backward \u001b[38;5;241m=\u001b[39m \u001b[38;5;28mself\u001b[39m\u001b[38;5;241m.\u001b[39m_select_forward_and_backward_functions(\n\u001b[0;32m   1351\u001b[0m     args,\n\u001b[0;32m   1352\u001b[0m     possible_gradient_type,\n\u001b[0;32m   1353\u001b[0m     executing_eagerly)\n\u001b[0;32m   1354\u001b[0m forward_function, args_with_tangents \u001b[38;5;241m=\u001b[39m forward_backward\u001b[38;5;241m.\u001b[39mforward()\n",
      "File \u001b[1;32m~\\AppData\\Local\\Programs\\Python\\Python311\\Lib\\site-packages\\tensorflow\\python\\eager\\polymorphic_function\\atomic_function.py:196\u001b[0m, in \u001b[0;36mAtomicFunction.__call__\u001b[1;34m(self, *args)\u001b[0m\n\u001b[0;32m    194\u001b[0m \u001b[38;5;28;01mwith\u001b[39;00m record\u001b[38;5;241m.\u001b[39mstop_recording():\n\u001b[0;32m    195\u001b[0m   \u001b[38;5;28;01mif\u001b[39;00m \u001b[38;5;28mself\u001b[39m\u001b[38;5;241m.\u001b[39m_bound_context\u001b[38;5;241m.\u001b[39mexecuting_eagerly():\n\u001b[1;32m--> 196\u001b[0m     outputs \u001b[38;5;241m=\u001b[39m \u001b[38;5;28;43mself\u001b[39;49m\u001b[38;5;241;43m.\u001b[39;49m\u001b[43m_bound_context\u001b[49m\u001b[38;5;241;43m.\u001b[39;49m\u001b[43mcall_function\u001b[49m\u001b[43m(\u001b[49m\n\u001b[0;32m    197\u001b[0m \u001b[43m        \u001b[49m\u001b[38;5;28;43mself\u001b[39;49m\u001b[38;5;241;43m.\u001b[39;49m\u001b[43mname\u001b[49m\u001b[43m,\u001b[49m\n\u001b[0;32m    198\u001b[0m \u001b[43m        \u001b[49m\u001b[38;5;28;43mlist\u001b[39;49m\u001b[43m(\u001b[49m\u001b[43margs\u001b[49m\u001b[43m)\u001b[49m\u001b[43m,\u001b[49m\n\u001b[0;32m    199\u001b[0m \u001b[43m        \u001b[49m\u001b[38;5;28;43mlen\u001b[39;49m\u001b[43m(\u001b[49m\u001b[38;5;28;43mself\u001b[39;49m\u001b[38;5;241;43m.\u001b[39;49m\u001b[43mfunction_type\u001b[49m\u001b[38;5;241;43m.\u001b[39;49m\u001b[43mflat_outputs\u001b[49m\u001b[43m)\u001b[49m\u001b[43m,\u001b[49m\n\u001b[0;32m    200\u001b[0m \u001b[43m    \u001b[49m\u001b[43m)\u001b[49m\n\u001b[0;32m    201\u001b[0m   \u001b[38;5;28;01melse\u001b[39;00m:\n\u001b[0;32m    202\u001b[0m     outputs \u001b[38;5;241m=\u001b[39m make_call_op_in_graph(\u001b[38;5;28mself\u001b[39m, \u001b[38;5;28mlist\u001b[39m(args))\n",
      "File \u001b[1;32m~\\AppData\\Local\\Programs\\Python\\Python311\\Lib\\site-packages\\tensorflow\\python\\eager\\context.py:1457\u001b[0m, in \u001b[0;36mContext.call_function\u001b[1;34m(self, name, tensor_inputs, num_outputs)\u001b[0m\n\u001b[0;32m   1455\u001b[0m cancellation_context \u001b[38;5;241m=\u001b[39m cancellation\u001b[38;5;241m.\u001b[39mcontext()\n\u001b[0;32m   1456\u001b[0m \u001b[38;5;28;01mif\u001b[39;00m cancellation_context \u001b[38;5;129;01mis\u001b[39;00m \u001b[38;5;28;01mNone\u001b[39;00m:\n\u001b[1;32m-> 1457\u001b[0m   outputs \u001b[38;5;241m=\u001b[39m \u001b[43mexecute\u001b[49m\u001b[38;5;241;43m.\u001b[39;49m\u001b[43mexecute\u001b[49m\u001b[43m(\u001b[49m\n\u001b[0;32m   1458\u001b[0m \u001b[43m      \u001b[49m\u001b[43mname\u001b[49m\u001b[38;5;241;43m.\u001b[39;49m\u001b[43mdecode\u001b[49m\u001b[43m(\u001b[49m\u001b[38;5;124;43m\"\u001b[39;49m\u001b[38;5;124;43mutf-8\u001b[39;49m\u001b[38;5;124;43m\"\u001b[39;49m\u001b[43m)\u001b[49m\u001b[43m,\u001b[49m\n\u001b[0;32m   1459\u001b[0m \u001b[43m      \u001b[49m\u001b[43mnum_outputs\u001b[49m\u001b[38;5;241;43m=\u001b[39;49m\u001b[43mnum_outputs\u001b[49m\u001b[43m,\u001b[49m\n\u001b[0;32m   1460\u001b[0m \u001b[43m      \u001b[49m\u001b[43minputs\u001b[49m\u001b[38;5;241;43m=\u001b[39;49m\u001b[43mtensor_inputs\u001b[49m\u001b[43m,\u001b[49m\n\u001b[0;32m   1461\u001b[0m \u001b[43m      \u001b[49m\u001b[43mattrs\u001b[49m\u001b[38;5;241;43m=\u001b[39;49m\u001b[43mattrs\u001b[49m\u001b[43m,\u001b[49m\n\u001b[0;32m   1462\u001b[0m \u001b[43m      \u001b[49m\u001b[43mctx\u001b[49m\u001b[38;5;241;43m=\u001b[39;49m\u001b[38;5;28;43mself\u001b[39;49m\u001b[43m,\u001b[49m\n\u001b[0;32m   1463\u001b[0m \u001b[43m  \u001b[49m\u001b[43m)\u001b[49m\n\u001b[0;32m   1464\u001b[0m \u001b[38;5;28;01melse\u001b[39;00m:\n\u001b[0;32m   1465\u001b[0m   outputs \u001b[38;5;241m=\u001b[39m execute\u001b[38;5;241m.\u001b[39mexecute_with_cancellation(\n\u001b[0;32m   1466\u001b[0m       name\u001b[38;5;241m.\u001b[39mdecode(\u001b[38;5;124m\"\u001b[39m\u001b[38;5;124mutf-8\u001b[39m\u001b[38;5;124m\"\u001b[39m),\n\u001b[0;32m   1467\u001b[0m       num_outputs\u001b[38;5;241m=\u001b[39mnum_outputs,\n\u001b[1;32m   (...)\u001b[0m\n\u001b[0;32m   1471\u001b[0m       cancellation_manager\u001b[38;5;241m=\u001b[39mcancellation_context,\n\u001b[0;32m   1472\u001b[0m   )\n",
      "File \u001b[1;32m~\\AppData\\Local\\Programs\\Python\\Python311\\Lib\\site-packages\\tensorflow\\python\\eager\\execute.py:53\u001b[0m, in \u001b[0;36mquick_execute\u001b[1;34m(op_name, num_outputs, inputs, attrs, ctx, name)\u001b[0m\n\u001b[0;32m     51\u001b[0m \u001b[38;5;28;01mtry\u001b[39;00m:\n\u001b[0;32m     52\u001b[0m   ctx\u001b[38;5;241m.\u001b[39mensure_initialized()\n\u001b[1;32m---> 53\u001b[0m   tensors \u001b[38;5;241m=\u001b[39m \u001b[43mpywrap_tfe\u001b[49m\u001b[38;5;241;43m.\u001b[39;49m\u001b[43mTFE_Py_Execute\u001b[49m\u001b[43m(\u001b[49m\u001b[43mctx\u001b[49m\u001b[38;5;241;43m.\u001b[39;49m\u001b[43m_handle\u001b[49m\u001b[43m,\u001b[49m\u001b[43m \u001b[49m\u001b[43mdevice_name\u001b[49m\u001b[43m,\u001b[49m\u001b[43m \u001b[49m\u001b[43mop_name\u001b[49m\u001b[43m,\u001b[49m\n\u001b[0;32m     54\u001b[0m \u001b[43m                                      \u001b[49m\u001b[43minputs\u001b[49m\u001b[43m,\u001b[49m\u001b[43m \u001b[49m\u001b[43mattrs\u001b[49m\u001b[43m,\u001b[49m\u001b[43m \u001b[49m\u001b[43mnum_outputs\u001b[49m\u001b[43m)\u001b[49m\n\u001b[0;32m     55\u001b[0m \u001b[38;5;28;01mexcept\u001b[39;00m core\u001b[38;5;241m.\u001b[39m_NotOkStatusException \u001b[38;5;28;01mas\u001b[39;00m e:\n\u001b[0;32m     56\u001b[0m   \u001b[38;5;28;01mif\u001b[39;00m name \u001b[38;5;129;01mis\u001b[39;00m \u001b[38;5;129;01mnot\u001b[39;00m \u001b[38;5;28;01mNone\u001b[39;00m:\n",
      "\u001b[1;31mKeyboardInterrupt\u001b[0m: "
     ]
    }
   ],
   "source": [
    "history2=model.fit(x_train,y_train,epochs=30,validation_data=(x_test,y_test))"
   ]
  },
  {
   "cell_type": "code",
   "execution_count": 20,
   "id": "d9a1cf27-4b8b-4d74-ae97-f1d1b9701575",
   "metadata": {},
   "outputs": [
    {
     "name": "stdout",
     "output_type": "stream",
     "text": [
      "17/17 [==============================] - 1s 30ms/step - loss: 0.0404 - categorical_accuracy: 0.9833\n"
     ]
    },
    {
     "data": {
      "text/plain": [
       "[0.04038967937231064, 0.9833333492279053]"
      ]
     },
     "execution_count": 20,
     "metadata": {},
     "output_type": "execute_result"
    }
   ],
   "source": [
    "\n",
    "model.evaluate(x_test,y_test)"
   ]
  },
  {
   "cell_type": "code",
   "execution_count": 64,
   "id": "0145e6a9-eb2b-4471-9410-afa774d8cff1",
   "metadata": {},
   "outputs": [
    {
     "name": "stdout",
     "output_type": "stream",
     "text": [
      "8/8 [==============================] - 0s 41ms/step - loss: 0.1741 - categorical_accuracy: 0.9176\n"
     ]
    },
    {
     "data": {
      "text/plain": [
       "[0.174140065908432, 0.9176470637321472]"
      ]
     },
     "execution_count": 64,
     "metadata": {},
     "output_type": "execute_result"
    }
   ],
   "source": [
    "model.evaluate(x_test,y_test)"
   ]
  },
  {
   "cell_type": "code",
   "execution_count": 16,
   "id": "63a4e220-c213-404c-b232-be9a60f425a1",
   "metadata": {},
   "outputs": [],
   "source": [
    "from matplotlib import pyplot as plt"
   ]
  },
  {
   "cell_type": "code",
   "execution_count": 17,
   "id": "0c41193a-ed3b-444e-8bf1-b332a5886171",
   "metadata": {},
   "outputs": [
    {
     "ename": "NameError",
     "evalue": "name 'history_2_v2' is not defined",
     "output_type": "error",
     "traceback": [
      "\u001b[1;31m---------------------------------------------------------------------------\u001b[0m",
      "\u001b[1;31mNameError\u001b[0m                                 Traceback (most recent call last)",
      "Cell \u001b[1;32mIn[17], line 1\u001b[0m\n\u001b[1;32m----> 1\u001b[0m plt\u001b[38;5;241m.\u001b[39mplot(\u001b[43mhistory_2_v2\u001b[49m\u001b[38;5;241m.\u001b[39mhistory[\u001b[38;5;124m'\u001b[39m\u001b[38;5;124mloss\u001b[39m\u001b[38;5;124m'\u001b[39m])\n\u001b[0;32m      2\u001b[0m plt\u001b[38;5;241m.\u001b[39mplot(history_2_v2\u001b[38;5;241m.\u001b[39mhistory[\u001b[38;5;124m'\u001b[39m\u001b[38;5;124mcategorical_accuracy\u001b[39m\u001b[38;5;124m'\u001b[39m])\n\u001b[0;32m      3\u001b[0m plt\u001b[38;5;241m.\u001b[39mtitle(\u001b[38;5;124m'\u001b[39m\u001b[38;5;124mTraining Stats\u001b[39m\u001b[38;5;124m'\u001b[39m)\n",
      "\u001b[1;31mNameError\u001b[0m: name 'history_2_v2' is not defined"
     ]
    }
   ],
   "source": [
    "plt.plot(history_2_v2.history['loss'])\n",
    "plt.plot(history_2_v2.history['categorical_accuracy'])\n",
    "plt.title('Training Stats')\n",
    "plt.xlabel('epochs')\n",
    "plt.legend(['training_loss','traning categorical_accuracy'])\n",
    "plt.savefig('training_stats.png')"
   ]
  },
  {
   "cell_type": "code",
   "execution_count": 42,
   "id": "69529931-4965-4b25-9ae8-7cb705bd3996",
   "metadata": {},
   "outputs": [
    {
     "data": {
      "image/png": "[encoded data removed]",
      "text/plain": [
       "<Figure size 640x480 with 1 Axes>"
      ]
     },
     "metadata": {},
     "output_type": "display_data"
    }
   ],
   "source": [
    "plt.plot(history_2_v2.history['val_loss'])\n",
    "plt.plot(history_2_v2.history['val_categorical_accuracy'])\n",
    "plt.title('Training Stats')\n",
    "plt.xlabel('epochs')\n",
    "plt.legend(['testing_loss','testing categorical_accuracy'])\n",
    "plt.savefig('testing_stats.png')"
   ]
  },
  {
   "cell_type": "code",
   "execution_count": 18,
   "id": "054926b1-ab1f-421a-8c43-e69115ff7100",
   "metadata": {},
   "outputs": [
    {
     "name": "stderr",
     "output_type": "stream",
     "text": [
      "C:\\Users\\vivek chouhan\\AppData\\Roaming\\Python\\Python311\\site-packages\\keras\\src\\engine\\training.py:3000: UserWarning: You are saving your model as an HDF5 file via `model.save()`. This file format is considered legacy. We recommend using instead the native Keras format, e.g. `model.save('my_model.keras')`.\n",
      "  saving_api.save_model(\n"
     ]
    }
   ],
   "source": [
    "gru_model2_v2.save('gru_isl_model_extra_v2.keras')\n",
    "gru_model2_v2.save('gru_isl_model_extra_v2.h5')"
   ]
  },
  {
   "cell_type": "code",
   "execution_count": 62,
   "id": "80dd9d23-a984-4465-b1a1-c212c5d7a4a0",
   "metadata": {},
   "outputs": [],
   "source": [
    "import pickle"
   ]
  },
  {
   "cell_type": "code",
   "execution_count": 63,
   "id": "4ea7d139-b130-431e-9919-e66c6d84bffb",
   "metadata": {},
   "outputs": [],
   "source": [
    "pickle.dump(actions,open('new_classes.pickle','wb'))"
   ]
  },
  {
   "cell_type": "code",
   "execution_count": 50,
   "id": "68f67d1d-2250-42d8-a429-5949a74579db",
   "metadata": {},
   "outputs": [],
   "source": [
    "actual=[np.argmax(i) for i in y_test]"
   ]
  },
  {
   "cell_type": "code",
   "execution_count": 51,
   "id": "83d686f6-e24f-4365-8022-11f3a3fd3a84",
   "metadata": {
    "scrolled": true
   },
   "outputs": [
    {
     "data": {
      "text/plain": [
       "45"
      ]
     },
     "execution_count": 51,
     "metadata": {},
     "output_type": "execute_result"
    }
   ],
   "source": [
    "len(actual)"
   ]
  },
  {
   "cell_type": "code",
   "execution_count": 53,
   "id": "fd18b30f-b11b-4d2e-b2b0-78e4b0405a54",
   "metadata": {},
   "outputs": [
    {
     "name": "stdout",
     "output_type": "stream",
     "text": [
      "2/2 [==============================] - 1s 30ms/step\n"
     ]
    }
   ],
   "source": [
    "y_p=gru_model2_v2.predict(x_test)"
   ]
  },
  {
   "cell_type": "code",
   "execution_count": 54,
   "id": "016a2830-0bfc-4f98-aaae-9496d45e5575",
   "metadata": {},
   "outputs": [
    {
     "data": {
      "text/plain": [
       "array([[4.0991516e-11, 1.5915861e-06, 1.7602229e-05, 2.9272464e-04,\n",
       "        3.4122996e-02, 9.6556503e-01],\n",
       "       [2.1456553e-10, 9.6570851e-08, 2.1201344e-04, 8.6935339e-03,\n",
       "        3.4385999e-03, 9.8765570e-01],\n",
       "       [9.9828440e-01, 1.3990568e-03, 1.9528099e-07, 2.6365076e-04,\n",
       "        9.8078626e-06, 4.2761432e-05],\n",
       "       [1.5491990e-10, 1.1384355e-07, 9.9908757e-01, 6.9884126e-10,\n",
       "        8.6657028e-04, 4.5797864e-05],\n",
       "       [8.0207320e-15, 1.3361032e-11, 2.1496926e-06, 3.4936625e-07,\n",
       "        2.9814078e-03, 9.9701607e-01],\n",
       "       [3.3969862e-09, 1.8448958e-05, 1.1921901e-03, 2.7535358e-05,\n",
       "        8.7938541e-01, 1.1937642e-01],\n",
       "       [2.3373993e-15, 7.6752504e-13, 1.5847012e-07, 5.9118061e-06,\n",
       "        2.2797358e-05, 9.9997115e-01],\n",
       "       [1.0250419e-08, 4.1355665e-06, 9.7584730e-01, 1.6533741e-08,\n",
       "        2.3974326e-02, 1.7417989e-04],\n",
       "       [6.2335333e-05, 9.9906415e-01, 3.0153806e-05, 4.6705865e-04,\n",
       "        2.9726129e-04, 7.8963087e-05],\n",
       "       [3.9946135e-10, 1.2318050e-07, 9.9950552e-01, 9.8987085e-10,\n",
       "        4.2724636e-04, 6.7092675e-05],\n",
       "       [1.0808837e-11, 4.0923524e-07, 3.3986523e-06, 8.5787702e-01,\n",
       "        2.2492296e-04, 1.4189430e-01],\n",
       "       [6.7990013e-06, 9.9802041e-01, 1.5712762e-04, 6.2322582e-04,\n",
       "        1.0174381e-03, 1.7498306e-04],\n",
       "       [5.9802024e-10, 4.7433230e-07, 9.9707055e-01, 9.7126063e-10,\n",
       "        2.8838303e-03, 4.5164910e-05],\n",
       "       [1.6669400e-09, 6.4533407e-07, 9.9630690e-01, 2.1864341e-09,\n",
       "        3.6034461e-03, 8.9059846e-05],\n",
       "       [9.9729663e-01, 2.2719989e-03, 4.0315982e-07, 3.4965691e-04,\n",
       "        1.6780850e-05, 6.4575463e-05],\n",
       "       [7.7947582e-10, 2.8669328e-06, 1.9824435e-03, 4.0190176e-07,\n",
       "        9.9341971e-01, 4.5945863e-03],\n",
       "       [9.9678254e-01, 2.6651747e-03, 5.4198767e-07, 4.5304492e-04,\n",
       "        2.1355992e-05, 7.7215132e-05],\n",
       "       [4.0174092e-14, 8.7521236e-08, 4.2656190e-10, 9.9996984e-01,\n",
       "        2.0113630e-08, 3.0039000e-05],\n",
       "       [2.5032939e-06, 9.9980289e-01, 2.4989599e-06, 1.5027422e-04,\n",
       "        2.8892080e-05, 1.2937711e-05],\n",
       "       [9.9903357e-01, 8.0203736e-04, 6.7818846e-08, 1.3396253e-04,\n",
       "        4.4031231e-06, 2.5973213e-05],\n",
       "       [1.3452083e-09, 2.5998891e-06, 1.7271938e-02, 2.1089558e-07,\n",
       "        9.8226142e-01, 4.6375583e-04],\n",
       "       [7.8406372e-16, 1.2811016e-09, 1.0624502e-11, 9.9998307e-01,\n",
       "        2.8746545e-09, 1.6962389e-05],\n",
       "       [9.9819881e-01, 1.4712779e-03, 2.0104804e-07, 2.7384743e-04,\n",
       "        1.0067354e-05, 4.5779037e-05],\n",
       "       [9.0575469e-15, 1.9701895e-11, 1.9089896e-06, 4.8297716e-07,\n",
       "        2.9835892e-03, 9.9701405e-01],\n",
       "       [5.0715943e-10, 1.1989487e-06, 2.2773684e-03, 6.8943331e-07,\n",
       "        9.9119765e-01, 6.5230494e-03],\n",
       "       [2.4253308e-10, 9.2712526e-07, 1.4782221e-03, 7.6321817e-07,\n",
       "        9.8770708e-01, 1.0812949e-02],\n",
       "       [1.9536481e-05, 9.9598014e-01, 6.0180185e-04, 4.1243603e-04,\n",
       "        2.6568943e-03, 3.2915885e-04],\n",
       "       [1.8566244e-11, 2.4760982e-07, 7.2208741e-06, 3.5529124e-04,\n",
       "        3.2671851e-03, 9.9637008e-01],\n",
       "       [5.0986923e-06, 9.9962127e-01, 3.1448687e-07, 3.6299214e-04,\n",
       "        4.9510063e-06, 5.4415800e-06],\n",
       "       [3.0815420e-10, 9.5126018e-07, 1.9539285e-03, 1.1041885e-06,\n",
       "        9.8841023e-01, 9.6337711e-03],\n",
       "       [6.5717424e-14, 1.0549125e-07, 1.0711562e-09, 9.9995458e-01,\n",
       "        3.5572025e-08, 4.5311965e-05],\n",
       "       [7.4603100e-05, 9.8431039e-01, 2.5427868e-04, 1.2028366e-02,\n",
       "        2.4674097e-03, 8.6485385e-04],\n",
       "       [1.1831240e-13, 2.5206412e-10, 6.2392212e-07, 3.7170281e-05,\n",
       "        4.4299118e-04, 9.9951923e-01],\n",
       "       [3.3367878e-11, 2.5028251e-06, 3.9408815e-06, 9.9163228e-01,\n",
       "        2.3800716e-05, 8.3375210e-03],\n",
       "       [4.3463958e-15, 6.3219501e-09, 1.0304775e-10, 9.9986076e-01,\n",
       "        2.0753047e-08, 1.3915250e-04],\n",
       "       [9.3192809e-16, 3.7317798e-14, 1.5470605e-05, 4.6137846e-08,\n",
       "        2.6690675e-04, 9.9971753e-01],\n",
       "       [1.7953847e-09, 2.9215995e-05, 2.0078682e-04, 3.6851875e-04,\n",
       "        2.9079041e-01, 7.0861113e-01],\n",
       "       [1.5658515e-10, 2.2948591e-07, 9.9951363e-01, 4.7735665e-10,\n",
       "        4.5621212e-04, 2.9893979e-05],\n",
       "       [5.2942795e-10, 3.2950177e-06, 9.1106171e-04, 3.5342591e-06,\n",
       "        9.3697071e-01, 6.2111355e-02],\n",
       "       [7.3162423e-09, 6.0655611e-06, 9.8626745e-01, 7.2384294e-09,\n",
       "        1.3626958e-02, 9.9484489e-05],\n",
       "       [6.0687576e-05, 9.9956483e-01, 8.4760513e-06, 2.2636897e-04,\n",
       "        9.9174067e-05, 4.0502626e-05],\n",
       "       [5.6597908e-14, 1.6556843e-08, 6.2682132e-10, 9.9994028e-01,\n",
       "        5.4075841e-08, 5.9660546e-05],\n",
       "       [3.6568979e-13, 9.5736385e-10, 9.2579994e-06, 2.5857519e-06,\n",
       "        1.7162891e-02, 9.8282522e-01],\n",
       "       [9.9808973e-01, 1.5480150e-03, 1.9164231e-07, 3.0591476e-04,\n",
       "        9.8795708e-06, 4.6153153e-05],\n",
       "       [2.0576334e-12, 3.0127609e-11, 2.9081121e-02, 1.1308496e-07,\n",
       "        2.2973051e-02, 9.4794577e-01]], dtype=float32)"
      ]
     },
     "execution_count": 54,
     "metadata": {},
     "output_type": "execute_result"
    }
   ],
   "source": [
    "y_p"
   ]
  },
  {
   "cell_type": "code",
   "execution_count": 56,
   "id": "a7d000fb-6706-42c8-823e-4d46bb588dc7",
   "metadata": {},
   "outputs": [],
   "source": [
    "predicted=[np.argmax(i) for i in y_p]"
   ]
  },
  {
   "cell_type": "code",
   "execution_count": 57,
   "id": "0225e3ae-eddd-4ab9-807e-8439832a9a40",
   "metadata": {},
   "outputs": [],
   "source": [
    "from seaborn import heatmap"
   ]
  },
  {
   "cell_type": "code",
   "execution_count": 59,
   "id": "8155fc0f-8eaf-436c-8f89-af39c7ff10d1",
   "metadata": {},
   "outputs": [],
   "source": [
    "cm=tf.math.confusion_matrix(actual,predicted)"
   ]
  },
  {
   "cell_type": "code",
   "execution_count": 60,
   "id": "e8f67061-b2df-4039-a80a-1bd2115b0f21",
   "metadata": {},
   "outputs": [],
   "source": [
    "from sklearn.metrics import classification_report"
   ]
  },
  {
   "cell_type": "code",
   "execution_count": 64,
   "id": "798f186f-baa3-43d0-8722-c45710fd5090",
   "metadata": {},
   "outputs": [
    {
     "data": {
      "image/png": "[encoded data removed]",
      "text/plain": [
       "<Figure size 640x480 with 2 Axes>"
      ]
     },
     "metadata": {},
     "output_type": "display_data"
    }
   ],
   "source": [
    "cm_plot=heatmap(cm,annot=True)"
   ]
  },
  {
   "cell_type": "code",
   "execution_count": 67,
   "id": "16c81da7-8fa8-41fa-b57d-1a54fba07b4c",
   "metadata": {},
   "outputs": [],
   "source": [
    "cm_plot.get_figure().savefig('v2_cm.png')"
   ]
  },
  {
   "cell_type": "code",
   "execution_count": 68,
   "id": "0e7eec04-27ac-416a-aae9-8f03bfbd4902",
   "metadata": {},
   "outputs": [
    {
     "name": "stdout",
     "output_type": "stream",
     "text": [
      "              precision    recall  f1-score   support\n",
      "\n",
      "           0       1.00      1.00      1.00         6\n",
      "           1       1.00      1.00      1.00         7\n",
      "           2       1.00      1.00      1.00         7\n",
      "           3       1.00      1.00      1.00         7\n",
      "           4       1.00      1.00      1.00         7\n",
      "           5       1.00      1.00      1.00        11\n",
      "\n",
      "    accuracy                           1.00        45\n",
      "   macro avg       1.00      1.00      1.00        45\n",
      "weighted avg       1.00      1.00      1.00        45\n",
      "\n"
     ]
    }
   ],
   "source": [
    "print(classification_report(actual,predicted))"
   ]
  },
  {
   "cell_type": "code",
   "execution_count": 58,
   "id": "ae02e70f-ba37-48e7-a4ae-070d58a624d8",
   "metadata": {},
   "outputs": [],
   "source": [
    "model_new=keras.models.load_model('my_best_model.hdf5')"
   ]
  },
  {
   "cell_type": "code",
   "execution_count": 61,
   "id": "60ef3aba-1efb-461e-b465-89364303a9f8",
   "metadata": {},
   "outputs": [],
   "source": [
    "model_new.save('new_model.keras')"
   ]
  },
  {
   "cell_type": "code",
   "execution_count": null,
   "id": "e8642b09-c1e3-406a-bcc9-f55fe2186e3d",
   "metadata": {},
   "outputs": [],
   "source": []
  }
 ],
 "metadata": {
  "kernelspec": {
   "display_name": "Python 3 (ipykernel)",
   "language": "python",
   "name": "python3"
  },
  "language_info": {
   "codemirror_mode": {
    "name": "ipython",
    "version": 3
   },
   "file_extension": ".py",
   "mimetype": "text/x-python",
   "name": "python",
   "nbconvert_exporter": "python",
   "pygments_lexer": "ipython3",
   "version": "3.11.5"
  }
 },
 "nbformat": 4,
 "nbformat_minor": 5
}
