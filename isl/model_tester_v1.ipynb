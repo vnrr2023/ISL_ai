{
 "cells": [
  {
   "cell_type": "code",
   "execution_count": 1,
   "id": "65c74640-f6f8-498d-931c-fb83ac13ca3b",
   "metadata": {},
   "outputs": [],
   "source": [
    "import numpy as np\n",
    "import os\n",
    "import tensorflow as tf\n",
    "import tqdm\n",
    "from sklearn.model_selection import train_test_split\n",
    "from tensorflow import keras"
   ]
  },
  {
   "cell_type": "code",
   "execution_count": 2,
   "id": "dd7cb7b3-797c-41e9-ac5b-95507fea49cb",
   "metadata": {},
   "outputs": [],
   "source": [
    "# take data\n",
    "data_dir='data'"
   ]
  },
  {
   "cell_type": "code",
   "execution_count": 4,
   "id": "3bab7bda-1b3b-42ec-abb0-0305b43ff46f",
   "metadata": {},
   "outputs": [],
   "source": [
    "no_of_videos=75\n",
    "no_of_frames=30"
   ]
  },
  {
   "cell_type": "code",
   "execution_count": 6,
   "id": "467eefb7-67c5-4f1a-89ae-70835680951b",
   "metadata": {},
   "outputs": [
    {
     "data": {
      "text/plain": [
       "['blank', 'hello', 'how are you', 'thank you']"
      ]
     },
     "execution_count": 6,
     "metadata": {},
     "output_type": "execute_result"
    }
   ],
   "source": [
    "actions=os.listdir(data_dir)\n",
    "actions"
   ]
  },
  {
   "cell_type": "code",
   "execution_count": 7,
   "id": "b0d0b28a-4f75-47b0-8bc7-67e3222c4bc6",
   "metadata": {},
   "outputs": [],
   "source": [
    "action_map={action:num for num,action in enumerate(actions)}"
   ]
  },
  {
   "cell_type": "code",
   "execution_count": 8,
   "id": "2845d4f7-7f00-4d4b-88b3-574ded6a44fa",
   "metadata": {},
   "outputs": [
    {
     "data": {
      "text/plain": [
       "{'blank': 0, 'hello': 1, 'how are you': 2, 'thank you': 3}"
      ]
     },
     "execution_count": 8,
     "metadata": {},
     "output_type": "execute_result"
    }
   ],
   "source": [
    "action_map"
   ]
  },
  {
   "cell_type": "code",
   "execution_count": 18,
   "id": "1256e2d0-48ac-4c84-8c4e-68e0852be756",
   "metadata": {},
   "outputs": [
    {
     "name": "stderr",
     "output_type": "stream",
     "text": [
      "100%|████████████████████████████████████████████████████████████████████████████████████████████████████████████████| 4/4 [04:03<00:00, 60.89s/it]\n"
     ]
    }
   ],
   "source": [
    "x_data=[]\n",
    "y_data=[]\n",
    "for action in tqdm.tqdm(actions):\n",
    "    index=action_map[action]\n",
    "    for video in range(no_of_videos):\n",
    "        window=[]\n",
    "        for frame in range(no_of_frames):\n",
    "            path=os.path.join(data_dir,action,str(video),f'{frame}.npy')\n",
    "            res=np.load(path)\n",
    "            window.append(res)\n",
    "        x_data.append(window)\n",
    "        y_data.append(index)\n",
    "        \n",
    "    \n",
    "            "
   ]
  },
  {
   "cell_type": "code",
   "execution_count": 17,
   "id": "8a2a0803-a53b-4941-a133-b8cd2a1a2e0c",
   "metadata": {},
   "outputs": [
    {
     "data": {
      "text/plain": [
       "30"
      ]
     },
     "execution_count": 17,
     "metadata": {},
     "output_type": "execute_result"
    }
   ],
   "source": [
    "len(window)"
   ]
  },
  {
   "cell_type": "code",
   "execution_count": 21,
   "id": "50f10930-4bb6-4dba-a16f-ced0e9d54060",
   "metadata": {},
   "outputs": [
    {
     "data": {
      "text/plain": [
       "(300, 300)"
      ]
     },
     "execution_count": 21,
     "metadata": {},
     "output_type": "execute_result"
    }
   ],
   "source": [
    "len(y_data),4*75"
   ]
  },
  {
   "cell_type": "code",
   "execution_count": 22,
   "id": "66a6c813-66b5-4916-94a8-5960bf93021b",
   "metadata": {},
   "outputs": [],
   "source": [
    "x=np.array(x_data)"
   ]
  },
  {
   "cell_type": "code",
   "execution_count": 26,
   "id": "2c94bc49-8a8d-4413-a3a1-0fe0ee062e30",
   "metadata": {},
   "outputs": [],
   "source": [
    "y=keras.utils.to_categorical(np.array(y_data)).astype(int)"
   ]
  },
  {
   "cell_type": "code",
   "execution_count": 30,
   "id": "c653b0f8-0315-4d3c-bb09-4456862381eb",
   "metadata": {},
   "outputs": [
    {
     "data": {
      "text/plain": [
       "array([[1, 0, 0, 0],\n",
       "       [1, 0, 0, 0],\n",
       "       [1, 0, 0, 0],\n",
       "       ...,\n",
       "       [0, 0, 0, 1],\n",
       "       [0, 0, 0, 1],\n",
       "       [0, 0, 0, 1]])"
      ]
     },
     "execution_count": 30,
     "metadata": {},
     "output_type": "execute_result"
    }
   ],
   "source": [
    "y"
   ]
  },
  {
   "cell_type": "code",
   "execution_count": 31,
   "id": "f005cb3f-cdb5-45c3-8152-4626d1bdc28a",
   "metadata": {},
   "outputs": [],
   "source": [
    "# create model"
   ]
  },
  {
   "cell_type": "code",
   "execution_count": 35,
   "id": "88458793-6b6e-4573-8f95-7ea5891b3e68",
   "metadata": {},
   "outputs": [],
   "source": [
    "model=keras.Sequential()\n",
    "model.add(keras.layers.LSTM(128,return_sequences=True,activation='relu',input_shape=(30,1662)))\n",
    "model.add(keras.layers.LSTM(64,return_sequences=True,activation='relu'))\n",
    "model.add(keras.layers.LSTM(32,return_sequences=False,activation='relu'))\n",
    "model.add(keras.layers.Dense(64,activation='relu'))\n",
    "model.add(keras.layers.Dense(32,activation='relu'))\n",
    "model.add(keras.layers.Dense(4,activation='softmax'))\n",
    "model.compile(loss='categorical_crossentropy',optimizer='adam',metrics=['categorical_accuracy'])"
   ]
  },
  {
   "cell_type": "code",
   "execution_count": 36,
   "id": "da360f98-b523-4eef-a819-c707ebc7bb94",
   "metadata": {},
   "outputs": [
    {
     "name": "stdout",
     "output_type": "stream",
     "text": [
      "Model: \"sequential\"\n",
      "_________________________________________________________________\n",
      " Layer (type)                Output Shape              Param #   \n",
      "=================================================================\n",
      " lstm (LSTM)                 (None, 30, 128)           916992    \n",
      "                                                                 \n",
      " lstm_1 (LSTM)               (None, 30, 64)            49408     \n",
      "                                                                 \n",
      " lstm_2 (LSTM)               (None, 32)                12416     \n",
      "                                                                 \n",
      " dense (Dense)               (None, 64)                2112      \n",
      "                                                                 \n",
      " dense_1 (Dense)             (None, 32)                2080      \n",
      "                                                                 \n",
      " dense_2 (Dense)             (None, 4)                 132       \n",
      "                                                                 \n",
      "=================================================================\n",
      "Total params: 983140 (3.75 MB)\n",
      "Trainable params: 983140 (3.75 MB)\n",
      "Non-trainable params: 0 (0.00 Byte)\n",
      "_________________________________________________________________\n"
     ]
    }
   ],
   "source": [
    "model.summary()"
   ]
  },
  {
   "cell_type": "code",
   "execution_count": 37,
   "id": "366eff27-0846-42eb-b176-de06001fb7d1",
   "metadata": {},
   "outputs": [],
   "source": [
    "x_train,x_test,y_train,y_test=train_test_split(x,y,test_size=0.15,stratify=y)"
   ]
  },
  {
   "cell_type": "code",
   "execution_count": 38,
   "id": "8cab9ead-90f8-4a3f-8a08-d0876bf39969",
   "metadata": {},
   "outputs": [
    {
     "data": {
      "text/plain": [
       "((255, 30, 1662), (255, 4))"
      ]
     },
     "execution_count": 38,
     "metadata": {},
     "output_type": "execute_result"
    }
   ],
   "source": [
    "x_train.shape,y_train.shape"
   ]
  },
  {
   "cell_type": "code",
   "execution_count": 39,
   "id": "3c5e8c67-9969-472a-9247-9429e3f73cdd",
   "metadata": {},
   "outputs": [
    {
     "name": "stdout",
     "output_type": "stream",
     "text": [
      "Epoch 1/150\n",
      "8/8 [==============================] - 13s 393ms/step - loss: 15.1333 - categorical_accuracy: 0.2588 - val_loss: 13.0245 - val_categorical_accuracy: 0.2444\n",
      "Epoch 2/150\n",
      "8/8 [==============================] - 2s 248ms/step - loss: 46.6222 - categorical_accuracy: 0.2431 - val_loss: 45.6941 - val_categorical_accuracy: 0.2889\n",
      "Epoch 3/150\n",
      "8/8 [==============================] - 2s 223ms/step - loss: 18.6062 - categorical_accuracy: 0.2980 - val_loss: 13.1655 - val_categorical_accuracy: 0.2667\n",
      "Epoch 4/150\n",
      "8/8 [==============================] - 2s 227ms/step - loss: 13.3822 - categorical_accuracy: 0.2745 - val_loss: 15.6647 - val_categorical_accuracy: 0.1333\n",
      "Epoch 5/150\n",
      "8/8 [==============================] - 2s 224ms/step - loss: 17.9730 - categorical_accuracy: 0.2353 - val_loss: 20.6338 - val_categorical_accuracy: 0.2222\n",
      "Epoch 6/150\n",
      "8/8 [==============================] - 2s 230ms/step - loss: 45.7367 - categorical_accuracy: 0.2196 - val_loss: 78.2287 - val_categorical_accuracy: 0.2444\n",
      "Epoch 7/150\n",
      "8/8 [==============================] - 2s 229ms/step - loss: 31.7413 - categorical_accuracy: 0.2588 - val_loss: 21.2025 - val_categorical_accuracy: 0.2667\n",
      "Epoch 8/150\n",
      "8/8 [==============================] - 2s 233ms/step - loss: 76.9133 - categorical_accuracy: 0.2824 - val_loss: 424.2019 - val_categorical_accuracy: 0.3333\n",
      "Epoch 9/150\n",
      "8/8 [==============================] - 2s 234ms/step - loss: 258.5957 - categorical_accuracy: 0.2431 - val_loss: 167.5884 - val_categorical_accuracy: 0.1778\n",
      "Epoch 10/150\n",
      "8/8 [==============================] - 2s 228ms/step - loss: 139.2670 - categorical_accuracy: 0.3059 - val_loss: 206.3414 - val_categorical_accuracy: 0.2444\n",
      "Epoch 11/150\n",
      "8/8 [==============================] - 2s 224ms/step - loss: 234.8758 - categorical_accuracy: 0.2275 - val_loss: 227.8389 - val_categorical_accuracy: 0.3111\n",
      "Epoch 12/150\n",
      "8/8 [==============================] - 2s 225ms/step - loss: 186.1914 - categorical_accuracy: 0.2314 - val_loss: 69.3911 - val_categorical_accuracy: 0.2444\n",
      "Epoch 13/150\n",
      "8/8 [==============================] - 2s 239ms/step - loss: 98.2309 - categorical_accuracy: 0.2196 - val_loss: 55.9851 - val_categorical_accuracy: 0.1556\n",
      "Epoch 14/150\n",
      "8/8 [==============================] - 2s 231ms/step - loss: 65.9697 - categorical_accuracy: 0.2431 - val_loss: 53.9584 - val_categorical_accuracy: 0.2667\n",
      "Epoch 15/150\n",
      "8/8 [==============================] - 2s 224ms/step - loss: 51.2011 - categorical_accuracy: 0.2353 - val_loss: 25.4404 - val_categorical_accuracy: 0.2222\n",
      "Epoch 16/150\n",
      "8/8 [==============================] - 2s 226ms/step - loss: 34.0420 - categorical_accuracy: 0.2667 - val_loss: 30.2808 - val_categorical_accuracy: 0.2889\n",
      "Epoch 17/150\n",
      "8/8 [==============================] - 2s 224ms/step - loss: 38.7721 - categorical_accuracy: 0.2627 - val_loss: 51.0306 - val_categorical_accuracy: 0.4222\n",
      "Epoch 18/150\n",
      "8/8 [==============================] - 2s 227ms/step - loss: 91.7704 - categorical_accuracy: 0.2549 - val_loss: 15.1288 - val_categorical_accuracy: 0.1778\n",
      "Epoch 19/150\n",
      "8/8 [==============================] - 2s 239ms/step - loss: 33.3028 - categorical_accuracy: 0.2471 - val_loss: 28.2300 - val_categorical_accuracy: 0.2444\n",
      "Epoch 20/150\n",
      "8/8 [==============================] - 2s 239ms/step - loss: 20.2401 - categorical_accuracy: 0.2745 - val_loss: 29.8136 - val_categorical_accuracy: 0.2444\n",
      "Epoch 21/150\n",
      "8/8 [==============================] - 2s 234ms/step - loss: 19.3702 - categorical_accuracy: 0.2471 - val_loss: 13.6594 - val_categorical_accuracy: 0.2444\n",
      "Epoch 22/150\n",
      "8/8 [==============================] - 2s 235ms/step - loss: 9.4014 - categorical_accuracy: 0.2471 - val_loss: 5.0299 - val_categorical_accuracy: 0.2444\n",
      "Epoch 23/150\n",
      "8/8 [==============================] - 2s 225ms/step - loss: 5.5075 - categorical_accuracy: 0.2627 - val_loss: 5.3573 - val_categorical_accuracy: 0.2222\n",
      "Epoch 24/150\n",
      "8/8 [==============================] - 2s 224ms/step - loss: 4.1933 - categorical_accuracy: 0.3137 - val_loss: 3.7711 - val_categorical_accuracy: 0.4667\n",
      "Epoch 25/150\n",
      "8/8 [==============================] - 2s 223ms/step - loss: 3.0034 - categorical_accuracy: 0.3333 - val_loss: 2.9885 - val_categorical_accuracy: 0.2000\n",
      "Epoch 26/150\n",
      "8/8 [==============================] - 2s 232ms/step - loss: 2.6640 - categorical_accuracy: 0.2157 - val_loss: 8.7974 - val_categorical_accuracy: 0.2667\n",
      "Epoch 27/150\n",
      "8/8 [==============================] - 2s 226ms/step - loss: 8.8075 - categorical_accuracy: 0.2745 - val_loss: 8.7817 - val_categorical_accuracy: 0.2444\n",
      "Epoch 28/150\n",
      "8/8 [==============================] - 2s 224ms/step - loss: 5.9908 - categorical_accuracy: 0.1961 - val_loss: 3.3982 - val_categorical_accuracy: 0.2444\n",
      "Epoch 29/150\n",
      "8/8 [==============================] - 2s 229ms/step - loss: 3.8110 - categorical_accuracy: 0.2353 - val_loss: 3.4347 - val_categorical_accuracy: 0.1111\n",
      "Epoch 30/150\n",
      "8/8 [==============================] - 2s 231ms/step - loss: 2.0185 - categorical_accuracy: 0.2157 - val_loss: 1.7395 - val_categorical_accuracy: 0.3111\n",
      "Epoch 31/150\n",
      "8/8 [==============================] - 2s 224ms/step - loss: 1.8640 - categorical_accuracy: 0.2353 - val_loss: 1.9168 - val_categorical_accuracy: 0.2222\n",
      "Epoch 32/150\n",
      "8/8 [==============================] - 2s 227ms/step - loss: 1.5702 - categorical_accuracy: 0.2627 - val_loss: 1.4899 - val_categorical_accuracy: 0.2444\n",
      "Epoch 33/150\n",
      "8/8 [==============================] - 2s 227ms/step - loss: 1.4719 - categorical_accuracy: 0.2627 - val_loss: 1.4199 - val_categorical_accuracy: 0.2667\n",
      "Epoch 34/150\n",
      "8/8 [==============================] - 2s 230ms/step - loss: 1.4191 - categorical_accuracy: 0.2510 - val_loss: 1.3459 - val_categorical_accuracy: 0.3778\n",
      "Epoch 35/150\n",
      "8/8 [==============================] - 2s 231ms/step - loss: 1.3833 - categorical_accuracy: 0.3059 - val_loss: 1.3245 - val_categorical_accuracy: 0.3778\n",
      "Epoch 36/150\n",
      "8/8 [==============================] - 2s 229ms/step - loss: 1.3878 - categorical_accuracy: 0.2824 - val_loss: 1.3100 - val_categorical_accuracy: 0.3333\n",
      "Epoch 37/150\n",
      "8/8 [==============================] - 2s 223ms/step - loss: 1.3916 - categorical_accuracy: 0.3137 - val_loss: 1.3192 - val_categorical_accuracy: 0.3556\n",
      "Epoch 38/150\n",
      "8/8 [==============================] - 2s 229ms/step - loss: 1.3884 - categorical_accuracy: 0.3176 - val_loss: 1.3229 - val_categorical_accuracy: 0.3333\n",
      "Epoch 39/150\n",
      "8/8 [==============================] - 2s 228ms/step - loss: 1.3866 - categorical_accuracy: 0.3098 - val_loss: 1.3236 - val_categorical_accuracy: 0.3778\n",
      "Epoch 40/150\n",
      "8/8 [==============================] - 2s 227ms/step - loss: 1.3920 - categorical_accuracy: 0.3176 - val_loss: 1.3223 - val_categorical_accuracy: 0.4000\n",
      "Epoch 41/150\n",
      "8/8 [==============================] - 2s 227ms/step - loss: 1.3901 - categorical_accuracy: 0.2627 - val_loss: 1.3306 - val_categorical_accuracy: 0.3778\n",
      "Epoch 42/150\n",
      "8/8 [==============================] - 2s 231ms/step - loss: 1.3818 - categorical_accuracy: 0.2863 - val_loss: 1.3349 - val_categorical_accuracy: 0.3778\n",
      "Epoch 43/150\n",
      "8/8 [==============================] - 2s 225ms/step - loss: 1.3951 - categorical_accuracy: 0.2902 - val_loss: 1.3305 - val_categorical_accuracy: 0.3333\n",
      "Epoch 44/150\n",
      "8/8 [==============================] - 2s 224ms/step - loss: 1.3820 - categorical_accuracy: 0.2863 - val_loss: 1.3255 - val_categorical_accuracy: 0.4000\n",
      "Epoch 45/150\n",
      "8/8 [==============================] - 2s 231ms/step - loss: 1.3824 - categorical_accuracy: 0.2745 - val_loss: 1.3185 - val_categorical_accuracy: 0.3778\n",
      "Epoch 46/150\n",
      "8/8 [==============================] - 2s 224ms/step - loss: 1.3899 - categorical_accuracy: 0.2471 - val_loss: 1.3203 - val_categorical_accuracy: 0.3778\n",
      "Epoch 47/150\n",
      "8/8 [==============================] - 2s 224ms/step - loss: 1.3648 - categorical_accuracy: 0.3020 - val_loss: 1.3278 - val_categorical_accuracy: 0.3556\n",
      "Epoch 48/150\n",
      "8/8 [==============================] - 2s 226ms/step - loss: 1.3729 - categorical_accuracy: 0.2824 - val_loss: 1.3125 - val_categorical_accuracy: 0.3778\n",
      "Epoch 49/150\n",
      "8/8 [==============================] - 2s 252ms/step - loss: 1.3663 - categorical_accuracy: 0.2784 - val_loss: 1.3079 - val_categorical_accuracy: 0.4000\n",
      "Epoch 50/150\n",
      "8/8 [==============================] - 2s 213ms/step - loss: 1.3747 - categorical_accuracy: 0.2980 - val_loss: 1.3087 - val_categorical_accuracy: 0.3778\n",
      "Epoch 51/150\n",
      "8/8 [==============================] - 2s 250ms/step - loss: 1.3675 - categorical_accuracy: 0.2863 - val_loss: 1.3123 - val_categorical_accuracy: 0.3111\n",
      "Epoch 52/150\n",
      "8/8 [==============================] - 2s 271ms/step - loss: 1.3643 - categorical_accuracy: 0.3098 - val_loss: 1.3092 - val_categorical_accuracy: 0.4444\n",
      "Epoch 53/150\n",
      "8/8 [==============================] - 2s 256ms/step - loss: 1.3847 - categorical_accuracy: 0.3294 - val_loss: 1.3077 - val_categorical_accuracy: 0.3556\n",
      "Epoch 54/150\n",
      "8/8 [==============================] - 2s 233ms/step - loss: 1.3674 - categorical_accuracy: 0.3059 - val_loss: 1.3121 - val_categorical_accuracy: 0.4444\n",
      "Epoch 55/150\n",
      "8/8 [==============================] - 2s 227ms/step - loss: 1.3586 - categorical_accuracy: 0.3059 - val_loss: 1.3069 - val_categorical_accuracy: 0.3778\n",
      "Epoch 56/150\n",
      "8/8 [==============================] - 2s 222ms/step - loss: 1.3515 - categorical_accuracy: 0.3333 - val_loss: 1.3018 - val_categorical_accuracy: 0.3778\n",
      "Epoch 57/150\n",
      "8/8 [==============================] - 2s 222ms/step - loss: 1.3627 - categorical_accuracy: 0.2784 - val_loss: 1.2998 - val_categorical_accuracy: 0.4889\n",
      "Epoch 58/150\n",
      "8/8 [==============================] - 2s 217ms/step - loss: 1.3656 - categorical_accuracy: 0.3176 - val_loss: 1.2993 - val_categorical_accuracy: 0.4000\n",
      "Epoch 59/150\n",
      "8/8 [==============================] - 2s 219ms/step - loss: 1.3674 - categorical_accuracy: 0.2627 - val_loss: 1.2984 - val_categorical_accuracy: 0.4222\n",
      "Epoch 60/150\n",
      "8/8 [==============================] - 2s 217ms/step - loss: 1.3467 - categorical_accuracy: 0.3608 - val_loss: 1.3043 - val_categorical_accuracy: 0.3778\n",
      "Epoch 61/150\n",
      "8/8 [==============================] - 2s 241ms/step - loss: 1.3474 - categorical_accuracy: 0.3137 - val_loss: 1.2956 - val_categorical_accuracy: 0.4444\n",
      "Epoch 62/150\n",
      "8/8 [==============================] - 2s 259ms/step - loss: 1.3446 - categorical_accuracy: 0.3137 - val_loss: 1.2959 - val_categorical_accuracy: 0.4222\n",
      "Epoch 63/150\n",
      "8/8 [==============================] - 2s 242ms/step - loss: 1.3634 - categorical_accuracy: 0.3098 - val_loss: 1.2909 - val_categorical_accuracy: 0.4667\n",
      "Epoch 64/150\n",
      "8/8 [==============================] - 2s 219ms/step - loss: 1.3369 - categorical_accuracy: 0.3451 - val_loss: 1.2916 - val_categorical_accuracy: 0.3778\n",
      "Epoch 65/150\n",
      "8/8 [==============================] - 2s 222ms/step - loss: 1.3388 - categorical_accuracy: 0.3294 - val_loss: 1.2898 - val_categorical_accuracy: 0.5556\n",
      "Epoch 66/150\n",
      "8/8 [==============================] - 2s 241ms/step - loss: 1.3371 - categorical_accuracy: 0.3412 - val_loss: 1.2908 - val_categorical_accuracy: 0.4889\n",
      "Epoch 67/150\n",
      "8/8 [==============================] - 2s 221ms/step - loss: 1.3342 - categorical_accuracy: 0.3098 - val_loss: 1.2942 - val_categorical_accuracy: 0.3778\n",
      "Epoch 68/150\n",
      "8/8 [==============================] - 2s 228ms/step - loss: 1.3466 - categorical_accuracy: 0.3098 - val_loss: 1.2898 - val_categorical_accuracy: 0.4889\n",
      "Epoch 69/150\n",
      "8/8 [==============================] - 2s 222ms/step - loss: 1.3538 - categorical_accuracy: 0.2902 - val_loss: 1.2883 - val_categorical_accuracy: 0.4222\n",
      "Epoch 70/150\n",
      "8/8 [==============================] - 2s 233ms/step - loss: 1.3382 - categorical_accuracy: 0.3412 - val_loss: 1.2910 - val_categorical_accuracy: 0.4889\n",
      "Epoch 71/150\n",
      "8/8 [==============================] - 2s 230ms/step - loss: 1.3340 - categorical_accuracy: 0.4078 - val_loss: 1.2847 - val_categorical_accuracy: 0.4889\n",
      "Epoch 72/150\n",
      "8/8 [==============================] - 2s 220ms/step - loss: 1.3255 - categorical_accuracy: 0.3490 - val_loss: 1.2872 - val_categorical_accuracy: 0.4889\n",
      "Epoch 73/150\n",
      "8/8 [==============================] - 2s 230ms/step - loss: 1.3275 - categorical_accuracy: 0.3529 - val_loss: 1.2885 - val_categorical_accuracy: 0.5333\n",
      "Epoch 74/150\n",
      "8/8 [==============================] - 2s 228ms/step - loss: 1.3325 - categorical_accuracy: 0.3333 - val_loss: 1.2868 - val_categorical_accuracy: 0.4444\n",
      "Epoch 75/150\n",
      "8/8 [==============================] - 2s 229ms/step - loss: 1.3411 - categorical_accuracy: 0.3216 - val_loss: 1.2856 - val_categorical_accuracy: 0.5333\n",
      "Epoch 76/150\n",
      "8/8 [==============================] - 2s 226ms/step - loss: 1.3289 - categorical_accuracy: 0.3529 - val_loss: 1.2855 - val_categorical_accuracy: 0.4444\n",
      "Epoch 77/150\n",
      "8/8 [==============================] - 2s 229ms/step - loss: 1.3305 - categorical_accuracy: 0.3882 - val_loss: 1.2821 - val_categorical_accuracy: 0.5333\n",
      "Epoch 78/150\n",
      "8/8 [==============================] - 2s 221ms/step - loss: 1.3268 - categorical_accuracy: 0.3647 - val_loss: 1.2806 - val_categorical_accuracy: 0.3778\n",
      "Epoch 79/150\n",
      "8/8 [==============================] - 2s 228ms/step - loss: 1.3257 - categorical_accuracy: 0.3255 - val_loss: 1.2806 - val_categorical_accuracy: 0.4667\n",
      "Epoch 80/150\n",
      "8/8 [==============================] - 2s 222ms/step - loss: 1.3192 - categorical_accuracy: 0.3882 - val_loss: 1.2854 - val_categorical_accuracy: 0.4000\n",
      "Epoch 81/150\n",
      "8/8 [==============================] - 2s 224ms/step - loss: 1.3268 - categorical_accuracy: 0.3333 - val_loss: 1.2966 - val_categorical_accuracy: 0.3778\n",
      "Epoch 82/150\n",
      "8/8 [==============================] - 2s 221ms/step - loss: 1.3201 - categorical_accuracy: 0.3529 - val_loss: 1.2748 - val_categorical_accuracy: 0.4667\n",
      "Epoch 83/150\n",
      "8/8 [==============================] - 2s 222ms/step - loss: 1.3121 - categorical_accuracy: 0.3922 - val_loss: 1.2877 - val_categorical_accuracy: 0.5333\n",
      "Epoch 84/150\n",
      "8/8 [==============================] - 2s 223ms/step - loss: 1.3186 - categorical_accuracy: 0.3843 - val_loss: 1.2832 - val_categorical_accuracy: 0.5111\n",
      "Epoch 85/150\n",
      "8/8 [==============================] - 2s 227ms/step - loss: 1.3086 - categorical_accuracy: 0.3882 - val_loss: 1.2735 - val_categorical_accuracy: 0.4889\n",
      "Epoch 86/150\n",
      "8/8 [==============================] - 2s 222ms/step - loss: 1.3152 - categorical_accuracy: 0.3529 - val_loss: 1.2738 - val_categorical_accuracy: 0.4889\n",
      "Epoch 87/150\n",
      "8/8 [==============================] - 2s 231ms/step - loss: 1.3037 - categorical_accuracy: 0.4000 - val_loss: 1.2730 - val_categorical_accuracy: 0.4889\n",
      "Epoch 88/150\n",
      "8/8 [==============================] - 2s 227ms/step - loss: 1.2967 - categorical_accuracy: 0.4549 - val_loss: 1.2716 - val_categorical_accuracy: 0.4000\n",
      "Epoch 89/150\n",
      "8/8 [==============================] - 2s 228ms/step - loss: 1.3101 - categorical_accuracy: 0.3686 - val_loss: 1.2792 - val_categorical_accuracy: 0.4000\n",
      "Epoch 90/150\n",
      "8/8 [==============================] - 2s 248ms/step - loss: 1.3271 - categorical_accuracy: 0.3255 - val_loss: 1.3003 - val_categorical_accuracy: 0.3333\n",
      "Epoch 91/150\n",
      "8/8 [==============================] - 2s 239ms/step - loss: 1.3160 - categorical_accuracy: 0.3412 - val_loss: 1.2837 - val_categorical_accuracy: 0.3556\n",
      "Epoch 92/150\n",
      "8/8 [==============================] - 2s 234ms/step - loss: 1.2996 - categorical_accuracy: 0.3569 - val_loss: 1.2641 - val_categorical_accuracy: 0.4667\n",
      "Epoch 93/150\n",
      "8/8 [==============================] - 2s 271ms/step - loss: 1.2955 - categorical_accuracy: 0.4157 - val_loss: 1.2902 - val_categorical_accuracy: 0.4444\n",
      "Epoch 94/150\n",
      "8/8 [==============================] - 2s 261ms/step - loss: 1.3080 - categorical_accuracy: 0.3490 - val_loss: 1.2625 - val_categorical_accuracy: 0.4667\n",
      "Epoch 95/150\n",
      "8/8 [==============================] - 2s 266ms/step - loss: 1.2994 - categorical_accuracy: 0.4039 - val_loss: 1.2607 - val_categorical_accuracy: 0.4667\n",
      "Epoch 96/150\n",
      "8/8 [==============================] - 2s 225ms/step - loss: 1.2978 - categorical_accuracy: 0.3176 - val_loss: 1.2594 - val_categorical_accuracy: 0.5333\n",
      "Epoch 97/150\n",
      "8/8 [==============================] - 2s 269ms/step - loss: 1.3108 - categorical_accuracy: 0.3647 - val_loss: 1.2874 - val_categorical_accuracy: 0.3333\n",
      "Epoch 98/150\n",
      "8/8 [==============================] - 2s 258ms/step - loss: 1.3002 - categorical_accuracy: 0.3686 - val_loss: 1.2542 - val_categorical_accuracy: 0.4889\n",
      "Epoch 99/150\n",
      "8/8 [==============================] - 2s 236ms/step - loss: 1.2788 - categorical_accuracy: 0.4196 - val_loss: 1.2521 - val_categorical_accuracy: 0.4889\n",
      "Epoch 100/150\n",
      "8/8 [==============================] - 2s 224ms/step - loss: 1.2753 - categorical_accuracy: 0.3843 - val_loss: 1.2600 - val_categorical_accuracy: 0.4889\n",
      "Epoch 101/150\n",
      "8/8 [==============================] - 2s 225ms/step - loss: 1.2613 - categorical_accuracy: 0.4667 - val_loss: 1.2511 - val_categorical_accuracy: 0.4444\n",
      "Epoch 102/150\n",
      "8/8 [==============================] - 2s 225ms/step - loss: 1.2616 - categorical_accuracy: 0.4667 - val_loss: 1.2447 - val_categorical_accuracy: 0.4667\n",
      "Epoch 103/150\n",
      "8/8 [==============================] - 2s 239ms/step - loss: 1.2465 - categorical_accuracy: 0.4431 - val_loss: 1.2523 - val_categorical_accuracy: 0.4667\n",
      "Epoch 104/150\n",
      "8/8 [==============================] - 2s 228ms/step - loss: 1.2492 - categorical_accuracy: 0.4039 - val_loss: 1.3076 - val_categorical_accuracy: 0.3556\n",
      "Epoch 105/150\n",
      "8/8 [==============================] - 2s 225ms/step - loss: 1.2944 - categorical_accuracy: 0.3686 - val_loss: 1.2991 - val_categorical_accuracy: 0.4000\n",
      "Epoch 106/150\n",
      "8/8 [==============================] - 2s 224ms/step - loss: 1.2785 - categorical_accuracy: 0.3333 - val_loss: 1.2189 - val_categorical_accuracy: 0.5333\n",
      "Epoch 107/150\n",
      "8/8 [==============================] - 2s 229ms/step - loss: 1.2587 - categorical_accuracy: 0.4039 - val_loss: 1.2484 - val_categorical_accuracy: 0.4444\n",
      "Epoch 108/150\n",
      "8/8 [==============================] - 2s 228ms/step - loss: 1.2532 - categorical_accuracy: 0.4667 - val_loss: 1.2235 - val_categorical_accuracy: 0.5333\n",
      "Epoch 109/150\n",
      "8/8 [==============================] - 2s 229ms/step - loss: 1.2273 - categorical_accuracy: 0.4627 - val_loss: 1.2475 - val_categorical_accuracy: 0.3556\n",
      "Epoch 110/150\n",
      "8/8 [==============================] - 2s 241ms/step - loss: 1.3074 - categorical_accuracy: 0.3569 - val_loss: 1.2949 - val_categorical_accuracy: 0.4667\n",
      "Epoch 111/150\n",
      "8/8 [==============================] - 2s 235ms/step - loss: 1.3200 - categorical_accuracy: 0.3608 - val_loss: 1.2620 - val_categorical_accuracy: 0.3556\n",
      "Epoch 112/150\n",
      "8/8 [==============================] - 2s 234ms/step - loss: 1.2270 - categorical_accuracy: 0.3882 - val_loss: 1.1931 - val_categorical_accuracy: 0.5111\n",
      "Epoch 113/150\n",
      "8/8 [==============================] - 2s 224ms/step - loss: 1.1607 - categorical_accuracy: 0.5059 - val_loss: 1.1369 - val_categorical_accuracy: 0.5111\n",
      "Epoch 114/150\n",
      "8/8 [==============================] - 2s 227ms/step - loss: 1.3964 - categorical_accuracy: 0.3843 - val_loss: 1.5099 - val_categorical_accuracy: 0.3556\n",
      "Epoch 115/150\n",
      "8/8 [==============================] - 2s 242ms/step - loss: 1.4087 - categorical_accuracy: 0.3294 - val_loss: 1.3738 - val_categorical_accuracy: 0.3778\n",
      "Epoch 116/150\n",
      "8/8 [==============================] - 2s 237ms/step - loss: 1.3686 - categorical_accuracy: 0.3765 - val_loss: 1.3243 - val_categorical_accuracy: 0.3556\n",
      "Epoch 117/150\n",
      "8/8 [==============================] - 2s 227ms/step - loss: 1.3621 - categorical_accuracy: 0.2706 - val_loss: 1.3063 - val_categorical_accuracy: 0.3556\n",
      "Epoch 118/150\n",
      "8/8 [==============================] - 2s 223ms/step - loss: 1.3413 - categorical_accuracy: 0.3059 - val_loss: 1.2880 - val_categorical_accuracy: 0.3778\n",
      "Epoch 119/150\n",
      "8/8 [==============================] - 2s 229ms/step - loss: 1.3307 - categorical_accuracy: 0.2863 - val_loss: 1.2823 - val_categorical_accuracy: 0.4000\n",
      "Epoch 120/150\n",
      "8/8 [==============================] - 2s 232ms/step - loss: 1.3305 - categorical_accuracy: 0.2745 - val_loss: 1.2777 - val_categorical_accuracy: 0.4000\n",
      "Epoch 121/150\n",
      "8/8 [==============================] - 2s 246ms/step - loss: 1.3266 - categorical_accuracy: 0.3294 - val_loss: 1.2812 - val_categorical_accuracy: 0.3778\n",
      "Epoch 122/150\n",
      "8/8 [==============================] - 2s 246ms/step - loss: 1.3280 - categorical_accuracy: 0.3098 - val_loss: 1.2816 - val_categorical_accuracy: 0.3556\n",
      "Epoch 123/150\n",
      "8/8 [==============================] - 2s 228ms/step - loss: 1.3243 - categorical_accuracy: 0.2784 - val_loss: 1.2854 - val_categorical_accuracy: 0.4222\n",
      "Epoch 124/150\n",
      "8/8 [==============================] - 3s 330ms/step - loss: 1.3254 - categorical_accuracy: 0.3098 - val_loss: 1.2787 - val_categorical_accuracy: 0.3778\n",
      "Epoch 125/150\n",
      "8/8 [==============================] - 3s 360ms/step - loss: 1.3267 - categorical_accuracy: 0.2902 - val_loss: 1.2836 - val_categorical_accuracy: 0.3111\n",
      "Epoch 126/150\n",
      "8/8 [==============================] - 2s 267ms/step - loss: 1.3217 - categorical_accuracy: 0.3294 - val_loss: 1.2849 - val_categorical_accuracy: 0.3778\n",
      "Epoch 127/150\n",
      "8/8 [==============================] - 2s 272ms/step - loss: 1.3246 - categorical_accuracy: 0.3098 - val_loss: 1.2765 - val_categorical_accuracy: 0.4000\n",
      "Epoch 128/150\n",
      "8/8 [==============================] - 2s 260ms/step - loss: 1.3276 - categorical_accuracy: 0.3098 - val_loss: 1.2945 - val_categorical_accuracy: 0.3778\n",
      "Epoch 129/150\n",
      "8/8 [==============================] - 2s 249ms/step - loss: 1.3356 - categorical_accuracy: 0.3294 - val_loss: 1.2827 - val_categorical_accuracy: 0.4222\n",
      "Epoch 130/150\n",
      "8/8 [==============================] - 2s 272ms/step - loss: 1.3261 - categorical_accuracy: 0.3137 - val_loss: 1.2786 - val_categorical_accuracy: 0.4000\n",
      "Epoch 131/150\n",
      "8/8 [==============================] - 2s 272ms/step - loss: 1.3275 - categorical_accuracy: 0.3373 - val_loss: 1.2765 - val_categorical_accuracy: 0.4444\n",
      "Epoch 132/150\n",
      "8/8 [==============================] - 2s 314ms/step - loss: 1.3245 - categorical_accuracy: 0.3216 - val_loss: 1.2839 - val_categorical_accuracy: 0.3778\n",
      "Epoch 133/150\n",
      "8/8 [==============================] - 3s 337ms/step - loss: 1.3216 - categorical_accuracy: 0.3098 - val_loss: 1.2784 - val_categorical_accuracy: 0.4000\n",
      "Epoch 134/150\n",
      "8/8 [==============================] - 3s 385ms/step - loss: 1.3249 - categorical_accuracy: 0.2902 - val_loss: 1.2782 - val_categorical_accuracy: 0.3778\n",
      "Epoch 135/150\n",
      "8/8 [==============================] - 3s 310ms/step - loss: 1.3192 - categorical_accuracy: 0.2784 - val_loss: 1.2779 - val_categorical_accuracy: 0.4222\n",
      "Epoch 136/150\n",
      "8/8 [==============================] - 2s 274ms/step - loss: 1.3224 - categorical_accuracy: 0.2941 - val_loss: 1.2801 - val_categorical_accuracy: 0.3556\n",
      "Epoch 137/150\n",
      "8/8 [==============================] - 2s 303ms/step - loss: 1.3201 - categorical_accuracy: 0.3059 - val_loss: 1.2780 - val_categorical_accuracy: 0.4222\n",
      "Epoch 138/150\n",
      "8/8 [==============================] - 3s 378ms/step - loss: 1.3256 - categorical_accuracy: 0.3020 - val_loss: 1.2754 - val_categorical_accuracy: 0.3111\n",
      "Epoch 139/150\n",
      "8/8 [==============================] - 3s 390ms/step - loss: 1.3206 - categorical_accuracy: 0.3176 - val_loss: 1.2859 - val_categorical_accuracy: 0.3556\n",
      "Epoch 140/150\n",
      "8/8 [==============================] - 3s 339ms/step - loss: 1.3236 - categorical_accuracy: 0.3294 - val_loss: 1.2768 - val_categorical_accuracy: 0.3778\n",
      "Epoch 141/150\n",
      "8/8 [==============================] - 3s 345ms/step - loss: 1.3206 - categorical_accuracy: 0.2980 - val_loss: 1.2776 - val_categorical_accuracy: 0.4444\n",
      "Epoch 142/150\n",
      "8/8 [==============================] - 2s 306ms/step - loss: 1.3161 - categorical_accuracy: 0.3098 - val_loss: 1.2795 - val_categorical_accuracy: 0.3556\n",
      "Epoch 143/150\n",
      "8/8 [==============================] - 2s 268ms/step - loss: 1.3253 - categorical_accuracy: 0.3137 - val_loss: 1.2856 - val_categorical_accuracy: 0.3556\n",
      "Epoch 144/150\n",
      "8/8 [==============================] - 2s 256ms/step - loss: 1.3205 - categorical_accuracy: 0.2745 - val_loss: 1.2749 - val_categorical_accuracy: 0.3111\n",
      "Epoch 145/150\n",
      "8/8 [==============================] - 2s 258ms/step - loss: 1.3218 - categorical_accuracy: 0.3020 - val_loss: 1.2781 - val_categorical_accuracy: 0.4222\n",
      "Epoch 146/150\n",
      "8/8 [==============================] - 2s 272ms/step - loss: 1.3335 - categorical_accuracy: 0.3176 - val_loss: 1.2806 - val_categorical_accuracy: 0.3778\n",
      "Epoch 147/150\n",
      "8/8 [==============================] - 2s 283ms/step - loss: 1.3195 - categorical_accuracy: 0.2824 - val_loss: 1.2843 - val_categorical_accuracy: 0.3778\n",
      "Epoch 148/150\n",
      "8/8 [==============================] - 2s 226ms/step - loss: 1.3177 - categorical_accuracy: 0.2824 - val_loss: 1.2752 - val_categorical_accuracy: 0.4222\n",
      "Epoch 149/150\n",
      "8/8 [==============================] - 2s 227ms/step - loss: 1.3146 - categorical_accuracy: 0.3216 - val_loss: 1.2789 - val_categorical_accuracy: 0.3778\n",
      "Epoch 150/150\n",
      "8/8 [==============================] - 2s 283ms/step - loss: 1.3189 - categorical_accuracy: 0.2784 - val_loss: 1.2728 - val_categorical_accuracy: 0.4000\n"
     ]
    }
   ],
   "source": [
    "history1=model.fit(x_train,y_train,epochs=150,validation_data=(x_test,y_test))"
   ]
  },
  {
   "cell_type": "code",
   "execution_count": null,
   "id": "3e9eb674-e896-40fb-a1c7-a5e7cc995bb0",
   "metadata": {},
   "outputs": [],
   "source": []
  }
 ],
 "metadata": {
  "kernelspec": {
   "display_name": "Python 3 (ipykernel)",
   "language": "python",
   "name": "python3"
  },
  "language_info": {
   "codemirror_mode": {
    "name": "ipython",
    "version": 3
   },
   "file_extension": ".py",
   "mimetype": "text/x-python",
   "name": "python",
   "nbconvert_exporter": "python",
   "pygments_lexer": "ipython3",
   "version": "3.11.5"
  }
 },
 "nbformat": 4,
 "nbformat_minor": 5
}
