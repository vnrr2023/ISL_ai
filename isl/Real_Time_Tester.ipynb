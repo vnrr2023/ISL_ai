{
 "cells": [
  {
   "cell_type": "code",
   "execution_count": 1,
   "id": "85dba3de-322a-48ae-a209-1cdd93b0e842",
   "metadata": {},
   "outputs": [],
   "source": [
    "# write the code here to test the model in real time"
   ]
  },
  {
   "cell_type": "code",
   "execution_count": null,
   "id": "7a0e29c4-c9ef-405a-8c70-b4452d918552",
   "metadata": {},
   "outputs": [],
   "source": []
  }
 ],
 "metadata": {
  "kernelspec": {
   "display_name": "Python 3 (ipykernel)",
   "language": "python",
   "name": "python3"
  },
  "language_info": {
   "codemirror_mode": {
    "name": "ipython",
    "version": 3
   },
   "file_extension": ".py",
   "mimetype": "text/x-python",
   "name": "python",
   "nbconvert_exporter": "python",
   "pygments_lexer": "ipython3",
   "version": "3.11.5"
  }
 },
 "nbformat": 4,
 "nbformat_minor": 5
}
