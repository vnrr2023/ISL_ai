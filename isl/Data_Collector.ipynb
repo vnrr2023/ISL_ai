{
 "cells": [
  {
   "cell_type": "code",
   "execution_count": 1,
   "id": "6dc7db4a-d175-46a5-a9bc-ac43da7fa934",
   "metadata": {},
   "outputs": [],
   "source": [
    "# write the data collection code here for ISL.ai\n"
   ]
  },
  {
   "cell_type": "code",
   "execution_count": 1,
   "id": "5c50bd86-768b-4f50-978d-ad30b29d9761",
   "metadata": {},
   "outputs": [],
   "source": [
    "import mediapipe as mp\n",
    "import numpy as np\n",
    "import cv2 as cv\n",
    "import os"
   ]
  },
  {
   "cell_type": "code",
   "execution_count": 2,
   "id": "dcb662d6-ec60-4fb9-9998-98835eae2acd",
   "metadata": {},
   "outputs": [],
   "source": [
    "cap=cv.VideoCapture(0)\n",
    "while True:\n",
    "    _,frame=cap.read()\n",
    "\n",
    "    cv.imshow('frame',frame)\n",
    "    if cv.waitKey(10)==27:\n",
    "        cap.release()\n",
    "        break\n",
    "\n",
    "cv.destroyAllWindows()"
   ]
  },
  {
   "cell_type": "code",
   "execution_count": 3,
   "id": "1a861ea1-5f5c-4892-8363-ca6ebad06d39",
   "metadata": {},
   "outputs": [],
   "source": [
    "mp_drawing=mp.solutions.drawing_utils\n",
    "mp_holistic=mp.solutions.holistic"
   ]
  },
  {
   "cell_type": "code",
   "execution_count": 4,
   "id": "a38df63e-2b8c-498d-9f97-1458338be2aa",
   "metadata": {},
   "outputs": [],
   "source": [
    "holistic=mp_holistic.Holistic()"
   ]
  },
  {
   "cell_type": "code",
   "execution_count": 29,
   "id": "d25a9b44-3b7f-423d-beb9-c1edb03ab838",
   "metadata": {},
   "outputs": [],
   "source": [
    "cap=cv.VideoCapture(0)\n",
    "while True:\n",
    "    _,frame=cap.read()\n",
    "    # mediapipe operations\n",
    "    img=cv.cvtColor(frame,cv.COLOR_BGR2RGB)\n",
    "    results=holistic.process(img)\n",
    "    img=cv.cvtColor(img,cv.COLOR_RGB2BGR)\n",
    "    draw_landmarks(img,results)\n",
    "\n",
    "    cv.imshow('frame',img)\n",
    "    if cv.waitKey(1)==27:\n",
    "        cap.release()\n",
    "        break\n",
    "\n",
    "cv.destroyAllWindows()"
   ]
  },
  {
   "cell_type": "code",
   "execution_count": 5,
   "id": "41ba060d-56a0-480d-9ea1-b06eb7b1d2b5",
   "metadata": {},
   "outputs": [],
   "source": [
    "def draw_landmarks(img,results):\n",
    "    mp_drawing.draw_landmarks(img,results.left_hand_landmarks,mp_holistic.HAND_CONNECTIONS,style1,style2)\n",
    "    mp_drawing.draw_landmarks(img,results.right_hand_landmarks,mp_holistic.HAND_CONNECTIONS,style1,style2)\n",
    "    mp_drawing.draw_landmarks(img,results.pose_landmarks,mp_holistic.POSE_CONNECTIONS,style1,style2)\n",
    "    mp_drawing.draw_landmarks(img,results.face_landmarks,mp_holistic.FACEMESH_CONTOURS,style1,style2)\n"
   ]
  },
  {
   "cell_type": "code",
   "execution_count": 6,
   "id": "0ada72c6-02c3-42d6-bc5f-942d83c72f4a",
   "metadata": {},
   "outputs": [],
   "source": [
    "style1=mp_drawing.DrawingSpec((71, 237, 212),1,1)\n",
    "style2=mp_drawing.DrawingSpec((67, 73, 247),2,1)"
   ]
  },
  {
   "cell_type": "code",
   "execution_count": 39,
   "id": "202a0f5a-893b-4420-a18e-1cf6b9e36c3e",
   "metadata": {},
   "outputs": [],
   "source": [
    "cap.release()"
   ]
  },
  {
   "cell_type": "code",
   "execution_count": 7,
   "id": "48625db6-5d81-4f52-ae83-e0523c86415d",
   "metadata": {},
   "outputs": [],
   "source": [
    "def extract_landmarks(results):\n",
    "    face=np.array([[landmark.x,landmark.y,landmark.z] for landmark in results.face_landmarks.landmark]).flatten()  if results.face_landmarks else np.zeros(1404)\n",
    "    pose=np.array([[landmark.x,landmark.y,landmark.z , landmark.visibility] for landmark in results.pose_landmarks.landmark]).flatten() if results.pose_landmarks else np.zeros(132)\n",
    "    rh=np.array([[landmark.x,landmark.y,landmark.z] for landmark in results.right_hand_landmarks.landmark]).flatten() if results.right_hand_landmarks else np.zeros(63)\n",
    "    lh=np.array([[landmark.x,landmark.y,landmark.z] for landmark in results.left_hand_landmarks.landmark]).flatten() if results.left_hand_landmarks else np.zeros(63)\n",
    "\n",
    "    return np.concatenate([pose,face,lh,rh])"
   ]
  },
  {
   "cell_type": "code",
   "execution_count": null,
   "id": "0c63697c-e737-4072-aefb-52c56704d65a",
   "metadata": {},
   "outputs": [],
   "source": [
    "mp_holistic.FA"
   ]
  },
  {
   "cell_type": "code",
   "execution_count": 22,
   "id": "a166e6a0-a70e-4282-9bac-4d5aebb677be",
   "metadata": {},
   "outputs": [],
   "source": [
    "cap=cv.VideoCapture(0)\n",
    "while True:\n",
    "    _,frame=cap.read()\n",
    "    # mediapipe operations\n",
    "    img=cv.cvtColor(frame,cv.COLOR_BGR2RGB)\n",
    "    results=holistic.process(img)\n",
    "    img=cv.cvtColor(img,cv.COLOR_RGB2BGR)\n",
    "    draw_landmarks(img,results)\n",
    "    landmarks=extract_landmarks(results)\n",
    "    # print(landmarks)\n",
    "    \n",
    "    cv.imshow('frame',img)\n",
    "    if cv.waitKey(1)==27:\n",
    "        cap.release()\n",
    "        break\n",
    "\n",
    "cv.destroyAllWindows()"
   ]
  },
  {
   "cell_type": "code",
   "execution_count": 31,
   "id": "f50a5329-cadf-400b-b7d6-94fd12a94348",
   "metadata": {},
   "outputs": [],
   "source": [
    "# create directories"
   ]
  },
  {
   "cell_type": "code",
   "execution_count": 10,
   "id": "674798e2-dedd-41da-841f-3014789fc556",
   "metadata": {},
   "outputs": [],
   "source": [
    "data_dir='data'"
   ]
  },
  {
   "cell_type": "code",
   "execution_count": 11,
   "id": "4195c8a3-d7a7-4253-a151-8bcce52ae0e4",
   "metadata": {},
   "outputs": [],
   "source": [
    "# actions=np.array(['hello','how are you','i am fine','thanks','blank'])"
   ]
  },
  {
   "cell_type": "code",
   "execution_count": 21,
   "id": "7579bd51-7943-43f4-b892-d430bd5d20ab",
   "metadata": {},
   "outputs": [],
   "source": [
    "no_of_videos=30\n",
    "no_of_frames=30"
   ]
  },
  {
   "cell_type": "code",
   "execution_count": 19,
   "id": "ce15d5af-70ea-49d3-895b-872927428d4e",
   "metadata": {},
   "outputs": [],
   "source": [
    "action='age'"
   ]
  },
  {
   "cell_type": "code",
   "execution_count": 20,
   "id": "ecae2845-ec73-46c7-9072-1d49d110b279",
   "metadata": {},
   "outputs": [],
   "source": [
    "os.mkdir(os.path.join(data_dir,action))"
   ]
  },
  {
   "cell_type": "code",
   "execution_count": 13,
   "id": "8329d73d-653b-4e19-94d9-8315f55000c6",
   "metadata": {
    "scrolled": true
   },
   "outputs": [],
   "source": [
    "# for action in actions:\n",
    "#     print(action)\n",
    "for video in range(no_of_videos):\n",
    "    os.makedirs(os.path.join(data_dir,action,f'{video}'))"
   ]
  },
  {
   "cell_type": "code",
   "execution_count": 16,
   "id": "df0b9470-4a7d-472d-8522-be935806627e",
   "metadata": {},
   "outputs": [],
   "source": [
    "from time import time"
   ]
  },
  {
   "cell_type": "code",
   "execution_count": 24,
   "id": "283846b7-2c3f-4a66-be21-467a4503a9b6",
   "metadata": {},
   "outputs": [
    {
     "name": "stdout",
     "output_type": "stream",
     "text": [
      "1711020007.3289027\n",
      "219.50798535346985\n"
     ]
    }
   ],
   "source": [
    "st=time()\n",
    "print(st)\n",
    "try:\n",
    "    cap=cv.VideoCapture(0)\n",
    "\n",
    "    for video in range(20,50):\n",
    "    # for video in [80,81,82,83,103,105,106,111]:\n",
    "        l_list=[]\n",
    "        for frame in range(no_of_frames):\n",
    "            _,framee=cap.read()\n",
    "            # mediapipe operations\n",
    "            img=cv.cvtColor(framee,cv.COLOR_BGR2RGB)\n",
    "            results=holistic.process(img)\n",
    "            img=cv.cvtColor(img,cv.COLOR_RGB2BGR)\n",
    "            \n",
    "            draw_landmarks(img,results)\n",
    "            landmarks=extract_landmarks(results)\n",
    "            if frame==0:  # for the first frame\n",
    "                cv.putText(img,f'starting collection',(100,200),cv.FONT_HERSHEY_COMPLEX_SMALL,4,(0,0,255),1,cv.LINE_AA)\n",
    "                cv.putText(img,f'For {action}  Video {video} Frame {frame}',(120,32),cv.FONT_HERSHEY_COMPLEX_SMALL,1,(255,0,0),1,cv.LINE_AA)\n",
    "                cv.imshow('image',img)\n",
    "                cv.waitKey(4000)\n",
    "            else:\n",
    "                cv.putText(img,f'For {action}  Video {video} Frame {frame}',(120,32),cv.FONT_HERSHEY_COMPLEX_SMALL,1,(255,0,0),1,cv.LINE_AA)\n",
    "                cv.imshow('image',img)\n",
    "    \n",
    "            # path=os.path.join(data_dir,action,str(video),f'{frame}.npy')\n",
    "            # np.save(path,landmarks)\n",
    "            l_list.append(landmarks)\n",
    "        \n",
    "    \n",
    "                \n",
    "    \n",
    "            \n",
    "        \n",
    "            \n",
    "            if cv.waitKey(1)==27:\n",
    "                cap.release()\n",
    "                break\n",
    "        a=np.array(l_list)\n",
    "        l_list.clear()\n",
    "        path=os.path.join(data_dir,action,f'{video}.npy')\n",
    "        np.save(path,a)\n",
    "\n",
    "    \n",
    "except:\n",
    "        print('error')\n",
    "\n",
    "\n",
    "cv.destroyAllWindows()\n",
    "print(time()-st)   \n",
    "cap.release()"
   ]
  },
  {
   "cell_type": "code",
   "execution_count": 33,
   "id": "06553265-ca0a-4980-b843-9554bbd8b62d",
   "metadata": {},
   "outputs": [],
   "source": [
    "cap.release()"
   ]
  },
  {
   "cell_type": "code",
   "execution_count": null,
   "id": "fab483fe-a0ba-4724-be97-49227c0d2a0d",
   "metadata": {},
   "outputs": [],
   "source": [
    "hello\n",
    "thank you\n",
    "# please\n",
    "how are you\n",
    "i am fine\n",
    "i am not well\n",
    "blank\n",
    "morning"
   ]
  },
  {
   "cell_type": "code",
   "execution_count": 23,
   "id": "00554a34-bff2-4b05-ad8a-1eb82be251c9",
   "metadata": {},
   "outputs": [],
   "source": [
    "import tensorflow as tf"
   ]
  },
  {
   "cell_type": "code",
   "execution_count": 24,
   "id": "6f859cdc-adaf-4714-89f1-4a8cc57200df",
   "metadata": {},
   "outputs": [
    {
     "name": "stdout",
     "output_type": "stream",
     "text": [
      "2.13.0\n"
     ]
    }
   ],
   "source": [
    "print(tf.__version__)"
   ]
  },
  {
   "cell_type": "code",
   "execution_count": 53,
   "id": "a089854b-e9f1-4e80-9542-fbfe27d37905",
   "metadata": {},
   "outputs": [
    {
     "data": {
      "text/plain": [
       "array([[ 0.58015025,  0.74134481, -1.0998981 , ...,  0.        ,\n",
       "         0.        ,  0.        ],\n",
       "       [ 0.58153564,  0.74139678, -1.14557135, ...,  0.        ,\n",
       "         0.        ,  0.        ],\n",
       "       [ 0.58167303,  0.74119169, -1.13250053, ...,  0.        ,\n",
       "         0.        ,  0.        ]])"
      ]
     },
     "execution_count": 53,
     "metadata": {},
     "output_type": "execute_result"
    }
   ],
   "source": [
    "np.load(\"data/yes/0.npy\")[27:]"
   ]
  },
  {
   "cell_type": "code",
   "execution_count": 54,
   "id": "4f6e4a57-64a6-4217-9bcf-f62049d6242c",
   "metadata": {},
   "outputs": [
    {
     "data": {
      "text/plain": [
       "array([[ 5.67605078e-01,  7.56765306e-01, -1.66572499e+00, ...,\n",
       "         2.92707324e-01,  2.67331421e-01, -3.57558049e-04],\n",
       "       [ 5.72914422e-01,  7.57230639e-01, -1.65775716e+00, ...,\n",
       "         2.28268772e-01,  2.60999709e-01,  2.18449887e-02],\n",
       "       [ 5.79662204e-01,  7.57361352e-01, -1.59719849e+00, ...,\n",
       "         2.05704659e-01,  2.70059675e-01,  9.57193077e-02]])"
      ]
     },
     "execution_count": 54,
     "metadata": {},
     "output_type": "execute_result"
    }
   ],
   "source": [
    "np.load(\"data/yes/1.npy\")[27:]"
   ]
  },
  {
   "cell_type": "code",
   "execution_count": null,
   "id": "db220b43-ea81-402f-91cf-23dc16431078",
   "metadata": {},
   "outputs": [],
   "source": []
  }
 ],
 "metadata": {
  "kernelspec": {
   "display_name": "Python 3 (ipykernel)",
   "language": "python",
   "name": "python3"
  },
  "language_info": {
   "codemirror_mode": {
    "name": "ipython",
    "version": 3
   },
   "file_extension": ".py",
   "mimetype": "text/x-python",
   "name": "python",
   "nbconvert_exporter": "python",
   "pygments_lexer": "ipython3",
   "version": "3.11.5"
  }
 },
 "nbformat": 4,
 "nbformat_minor": 5
}
