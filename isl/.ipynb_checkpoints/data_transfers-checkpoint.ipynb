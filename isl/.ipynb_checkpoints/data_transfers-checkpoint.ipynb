{
 "cells": [
  {
   "cell_type": "code",
   "execution_count": null,
   "id": "4b97bf10-1511-4aae-85f9-57cfca80831b",
   "metadata": {},
   "outputs": [],
   "source": [
    "# pip install opencv-python uvicorn flask numpy tensorflow==2.13\n",
    "run above command first\n",
    "from flask import Flask,request,jsonify\n",
    "from flask_cors import CORS\n",
    "import numpy as np\n",
    "import tensorflow as tf\n",
    "import tensorflow as tf\n",
    "import pickle \n",
    "\n",
    "model=tf.keras.models.load_model(\"gru_isl_model_v2.keras\")\n",
    "labels=['blank', 'hello', 'how are you', 'sorry', 'thank you', 'welcome']\n",
    "\n",
    "app = Flask(__name__)\n",
    "CORS(app)\n",
    "port_no = 5000\n",
    "\n",
    "@app.route(\"/test\",methods=['POST'])\n",
    "def home():\n",
    "    \n",
    "    data = request.form['vector']\n",
    "    \n",
    "    array = np.array(eval(data))\n",
    "    pred=model.predict(np.expand_dims(array,0))[0]\n",
    "    if np.max(pred)>=0.85:\n",
    "        label=labels[np.argmax(pred)]\n",
    "        print(label)\n",
    "        res=jsonify({'resp':label})\n",
    "    else:\n",
    "        res=jsonify({'resp':''})\n",
    "    return res\n",
    "\n",
    "app.run(port=port_no)"
   ]
  }
 ],
 "metadata": {
  "kernelspec": {
   "display_name": "Python 3 (ipykernel)",
   "language": "python",
   "name": "python3"
  },
  "language_info": {
   "codemirror_mode": {
    "name": "ipython",
    "version": 3
   },
   "file_extension": ".py",
   "mimetype": "text/x-python",
   "name": "python",
   "nbconvert_exporter": "python",
   "pygments_lexer": "ipython3",
   "version": "3.11.5"
  }
 },
 "nbformat": 4,
 "nbformat_minor": 5
}
