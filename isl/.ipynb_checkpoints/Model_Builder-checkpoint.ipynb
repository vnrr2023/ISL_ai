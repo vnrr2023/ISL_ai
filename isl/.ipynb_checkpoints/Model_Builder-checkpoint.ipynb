{
 "cells": [
  {
   "cell_type": "code",
   "execution_count": 1,
   "id": "693372fb-80fe-4033-974f-0236e74b6839",
   "metadata": {},
   "outputs": [],
   "source": [
    "# here after collecting the data create the code for implementing the model"
   ]
  },
  {
   "cell_type": "code",
   "execution_count": null,
   "id": "30f37615-db37-4311-a8fd-dc330ea77595",
   "metadata": {},
   "outputs": [],
   "source": []
  }
 ],
 "metadata": {
  "kernelspec": {
   "display_name": "Python 3 (ipykernel)",
   "language": "python",
   "name": "python3"
  },
  "language_info": {
   "codemirror_mode": {
    "name": "ipython",
    "version": 3
   },
   "file_extension": ".py",
   "mimetype": "text/x-python",
   "name": "python",
   "nbconvert_exporter": "python",
   "pygments_lexer": "ipython3",
   "version": "3.11.5"
  }
 },
 "nbformat": 4,
 "nbformat_minor": 5
}
