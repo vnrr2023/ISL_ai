{
 "cells": [
  {
   "cell_type": "code",
   "execution_count": 1,
   "id": "693372fb-80fe-4033-974f-0236e74b6839",
   "metadata": {},
   "outputs": [],
   "source": [
    "# here after collecting the data create the code for implementing the model"
   ]
  },
  {
   "cell_type": "code",
   "execution_count": 1,
   "id": "30f37615-db37-4311-a8fd-dc330ea77595",
   "metadata": {},
   "outputs": [],
   "source": [
    "import numpy as np\n",
    "import os\n",
    "import tensorflow as tf\n",
    "import tqdm\n",
    "from sklearn.model_selection import train_test_split\n",
    "from tensorflow import keras"
   ]
  },
  {
   "cell_type": "code",
   "execution_count": 8,
   "id": "1026c421-2290-45e9-84c5-7fc5cb061272",
   "metadata": {},
   "outputs": [],
   "source": [
    "data_dir='data2/data'\n",
    "no_of_videos=100\n",
    "no_of_frames=30"
   ]
  },
  {
   "cell_type": "code",
   "execution_count": 9,
   "id": "a60cce95-0bba-4714-bbfa-8a84ef615115",
   "metadata": {},
   "outputs": [],
   "source": [
    "actions=os.listdir(data_dir)\n",
    "action_map={action:num for num,action in enumerate(actions)}"
   ]
  },
  {
   "cell_type": "code",
   "execution_count": 10,
   "id": "eb470aca-b50d-4ee5-8bf9-298da2ba989d",
   "metadata": {},
   "outputs": [
    {
     "data": {
      "text/plain": [
       "['blank', 'hello', 'how are you', 'sorry', 'thank you', 'welcome']"
      ]
     },
     "execution_count": 10,
     "metadata": {},
     "output_type": "execute_result"
    }
   ],
   "source": [
    "actions"
   ]
  },
  {
   "cell_type": "code",
   "execution_count": null,
   "id": "f8baa88b-6245-426c-b99f-370d6c3b92c5",
   "metadata": {},
   "outputs": [
    {
     "name": "stderr",
     "output_type": "stream",
     "text": [
      "  0%|                                                                                                                        | 0/6 [00:00<?, ?it/s]"
     ]
    }
   ],
   "source": [
    "x_data=[]\n",
    "y_data=[]\n",
    "for action in tqdm.tqdm(actions):\n",
    "    index=action_map[action]\n",
    "    for video in range(no_of_videos):\n",
    "        window=[]\n",
    "        for frame in range(no_of_frames):\n",
    "            path=os.path.join(data_dir,action,str(video),f'{frame}.npy')\n",
    "            res=np.load(path)\n",
    "            window.append(res)\n",
    "        x_data.append(window)\n",
    "        y_data.append(index)\n",
    "        \n",
    "    "
   ]
  },
  {
   "cell_type": "code",
   "execution_count": null,
   "id": "ee872948-d961-48c6-99cc-ab9af6efc84b",
   "metadata": {},
   "outputs": [],
   "source": [
    "len(y_data),6*75"
   ]
  },
  {
   "cell_type": "code",
   "execution_count": null,
   "id": "e94298d9-6cde-45ab-9f96-40f9f5aa7afa",
   "metadata": {},
   "outputs": [],
   "source": [
    "x=np.array(x_data)"
   ]
  },
  {
   "cell_type": "code",
   "execution_count": null,
   "id": "2643177e-d22a-441c-aabf-dce03d0db9a5",
   "metadata": {},
   "outputs": [],
   "source": [
    "y=keras.utils.to_categorical(np.array(y_data)).astype(int)"
   ]
  },
  {
   "cell_type": "code",
   "execution_count": null,
   "id": "15cc8a9a-4325-438c-aace-2e95d7442ec7",
   "metadata": {},
   "outputs": [],
   "source": [
    "y,x.shape"
   ]
  },
  {
   "cell_type": "code",
   "execution_count": null,
   "id": "aea6f2ba-7835-478d-bcdb-16cbbe9326e8",
   "metadata": {},
   "outputs": [],
   "source": [
    "x_train,x_test,y_train,y_test=train_test_split(x,y,test_size=0.1)"
   ]
  },
  {
   "cell_type": "code",
   "execution_count": null,
   "id": "8c5dc156-cfcf-4c56-bafb-3e84d61cec12",
   "metadata": {},
   "outputs": [],
   "source": [
    "x_train.shape"
   ]
  },
  {
   "cell_type": "code",
   "execution_count": 23,
   "id": "0fe5d9cf-63be-426e-8db0-47f33a5a2807",
   "metadata": {},
   "outputs": [
    {
     "name": "stdout",
     "output_type": "stream",
     "text": [
      "Epoch 1/25\n",
      "13/13 [==============================] - 9s 185ms/step - loss: 1.7911 - categorical_accuracy: 0.1679 - val_loss: 1.7507 - val_categorical_accuracy: 0.1778\n",
      "Epoch 2/25\n",
      "13/13 [==============================] - 1s 106ms/step - loss: 1.7218 - categorical_accuracy: 0.2346 - val_loss: 1.5785 - val_categorical_accuracy: 0.4000\n",
      "Epoch 3/25\n",
      "13/13 [==============================] - 1s 107ms/step - loss: 1.4288 - categorical_accuracy: 0.3778 - val_loss: 1.1442 - val_categorical_accuracy: 0.3333\n",
      "Epoch 4/25\n",
      "13/13 [==============================] - 1s 107ms/step - loss: 1.0242 - categorical_accuracy: 0.5284 - val_loss: 1.0327 - val_categorical_accuracy: 0.4667\n",
      "Epoch 5/25\n",
      "13/13 [==============================] - 1s 108ms/step - loss: 0.8948 - categorical_accuracy: 0.5654 - val_loss: 0.7741 - val_categorical_accuracy: 0.5778\n",
      "Epoch 6/25\n",
      "13/13 [==============================] - 1s 107ms/step - loss: 0.6935 - categorical_accuracy: 0.7160 - val_loss: 0.6003 - val_categorical_accuracy: 0.8000\n",
      "Epoch 7/25\n",
      "13/13 [==============================] - 1s 105ms/step - loss: 0.6324 - categorical_accuracy: 0.6716 - val_loss: 0.6042 - val_categorical_accuracy: 0.7778\n",
      "Epoch 8/25\n",
      "13/13 [==============================] - 1s 108ms/step - loss: 0.6116 - categorical_accuracy: 0.7185 - val_loss: 0.4888 - val_categorical_accuracy: 0.8000\n",
      "Epoch 9/25\n",
      "13/13 [==============================] - 1s 114ms/step - loss: 0.4740 - categorical_accuracy: 0.7975 - val_loss: 0.3618 - val_categorical_accuracy: 0.9111\n",
      "Epoch 10/25\n",
      "13/13 [==============================] - 1s 109ms/step - loss: 0.3525 - categorical_accuracy: 0.8691 - val_loss: 0.2564 - val_categorical_accuracy: 0.9333\n",
      "Epoch 11/25\n",
      "13/13 [==============================] - 1s 110ms/step - loss: 0.2021 - categorical_accuracy: 0.9309 - val_loss: 0.2679 - val_categorical_accuracy: 0.8667\n",
      "Epoch 12/25\n",
      "13/13 [==============================] - 1s 115ms/step - loss: 0.4828 - categorical_accuracy: 0.8148 - val_loss: 0.3857 - val_categorical_accuracy: 0.8889\n",
      "Epoch 13/25\n",
      "13/13 [==============================] - 1s 111ms/step - loss: 0.3774 - categorical_accuracy: 0.8593 - val_loss: 0.2080 - val_categorical_accuracy: 0.9556\n",
      "Epoch 14/25\n",
      "13/13 [==============================] - 1s 107ms/step - loss: 0.1742 - categorical_accuracy: 0.9506 - val_loss: 0.1244 - val_categorical_accuracy: 0.9556\n",
      "Epoch 15/25\n",
      "13/13 [==============================] - 1s 109ms/step - loss: 0.1245 - categorical_accuracy: 0.9630 - val_loss: 0.0471 - val_categorical_accuracy: 1.0000\n",
      "Epoch 16/25\n",
      "13/13 [==============================] - 1s 116ms/step - loss: 0.0816 - categorical_accuracy: 0.9802 - val_loss: 0.0557 - val_categorical_accuracy: 0.9778\n",
      "Epoch 17/25\n",
      "13/13 [==============================] - 1s 109ms/step - loss: 0.1454 - categorical_accuracy: 0.9383 - val_loss: 0.1001 - val_categorical_accuracy: 0.9778\n",
      "Epoch 18/25\n",
      "13/13 [==============================] - 1s 110ms/step - loss: 0.1818 - categorical_accuracy: 0.9309 - val_loss: 0.0820 - val_categorical_accuracy: 0.9556\n",
      "Epoch 19/25\n",
      "13/13 [==============================] - 1s 110ms/step - loss: 0.0960 - categorical_accuracy: 0.9753 - val_loss: 0.1055 - val_categorical_accuracy: 0.9556\n",
      "Epoch 20/25\n",
      "13/13 [==============================] - 2s 121ms/step - loss: 0.0748 - categorical_accuracy: 0.9728 - val_loss: 0.0337 - val_categorical_accuracy: 1.0000\n",
      "Epoch 21/25\n",
      "13/13 [==============================] - 1s 114ms/step - loss: 0.0405 - categorical_accuracy: 0.9901 - val_loss: 0.1150 - val_categorical_accuracy: 0.9778\n",
      "Epoch 22/25\n",
      "13/13 [==============================] - 1s 110ms/step - loss: 0.1198 - categorical_accuracy: 0.9630 - val_loss: 0.0796 - val_categorical_accuracy: 0.9556\n",
      "Epoch 23/25\n",
      "13/13 [==============================] - 1s 113ms/step - loss: 0.1367 - categorical_accuracy: 0.9556 - val_loss: 0.1257 - val_categorical_accuracy: 0.9778\n",
      "Epoch 24/25\n",
      "13/13 [==============================] - 1s 112ms/step - loss: 0.0383 - categorical_accuracy: 0.9901 - val_loss: 0.0813 - val_categorical_accuracy: 0.9778\n",
      "Epoch 25/25\n",
      "13/13 [==============================] - 1s 115ms/step - loss: 0.0246 - categorical_accuracy: 0.9975 - val_loss: 0.0215 - val_categorical_accuracy: 1.0000\n"
     ]
    }
   ],
   "source": [
    "gru_model2_v2=keras.models.Sequential()\n",
    "gru_model2_v2.add(keras.layers.GRU(64,activation='relu',return_sequences=True,input_shape=(30,1662)))\n",
    "gru_model2_v2.add(keras.layers.GRU(128,activation='relu',return_sequences=True))\n",
    "gru_model2_v2.add(keras.layers.GRU(32,activation='relu',return_sequences=False))\n",
    "gru_model2_v2.add(keras.layers.Dense(64,activation='relu'))\n",
    "gru_model2_v2.add(keras.layers.Dense(32,activation='relu'))\n",
    "gru_model2_v2.add(keras.layers.Dense(6,activation='softmax'))\n",
    "gru_model2_v2.compile(loss='categorical_crossentropy',optimizer='adam',metrics=['categorical_accuracy'])\n",
    "\n",
    "\n",
    "history_2_v2=gru_model2_v2.fit(x_train,y_train,epochs=25,validation_data=(x_test,y_test))"
   ]
  },
  {
   "cell_type": "code",
   "execution_count": 24,
   "id": "d9a1cf27-4b8b-4d74-ae97-f1d1b9701575",
   "metadata": {},
   "outputs": [
    {
     "name": "stdout",
     "output_type": "stream",
     "text": [
      "2/2 [==============================] - 0s 30ms/step - loss: 0.0215 - categorical_accuracy: 1.0000\n"
     ]
    },
    {
     "data": {
      "text/plain": [
       "[0.021533260121941566, 1.0]"
      ]
     },
     "execution_count": 24,
     "metadata": {},
     "output_type": "execute_result"
    }
   ],
   "source": [
    "\n",
    "gru_model2_v2.evaluate(x_test,y_test)"
   ]
  },
  {
   "cell_type": "code",
   "execution_count": 26,
   "id": "0145e6a9-eb2b-4471-9410-afa774d8cff1",
   "metadata": {},
   "outputs": [
    {
     "name": "stdout",
     "output_type": "stream",
     "text": [
      "2/2 [==============================] - 0s 23ms/step - loss: 0.0352 - categorical_accuracy: 0.9778\n"
     ]
    },
    {
     "data": {
      "text/plain": [
       "[0.03522380068898201, 0.9777777791023254]"
      ]
     },
     "execution_count": 26,
     "metadata": {},
     "output_type": "execute_result"
    }
   ],
   "source": [
    "gru_model_v2.evaluate(x_test,y_test)"
   ]
  },
  {
   "cell_type": "code",
   "execution_count": 30,
   "id": "63a4e220-c213-404c-b232-be9a60f425a1",
   "metadata": {},
   "outputs": [],
   "source": [
    "from matplotlib import pyplot as plt"
   ]
  },
  {
   "cell_type": "code",
   "execution_count": 38,
   "id": "0c41193a-ed3b-444e-8bf1-b332a5886171",
   "metadata": {},
   "outputs": [
    {
     "data": {
      "image/png": "[encoded data removed]",
      "text/plain": [
       "<Figure size 640x480 with 1 Axes>"
      ]
     },
     "metadata": {},
     "output_type": "display_data"
    }
   ],
   "source": [
    "plt.plot(history_2_v2.history['loss'])\n",
    "plt.plot(history_2_v2.history['categorical_accuracy'])\n",
    "plt.title('Training Stats')\n",
    "plt.xlabel('epochs')\n",
    "plt.legend(['training_loss','traning categorical_accuracy'])\n",
    "plt.savefig('training_stats.png')"
   ]
  },
  {
   "cell_type": "code",
   "execution_count": 42,
   "id": "69529931-4965-4b25-9ae8-7cb705bd3996",
   "metadata": {},
   "outputs": [
    {
     "data": {
      "image/png": "[encoded data removed]",
      "text/plain": [
       "<Figure size 640x480 with 1 Axes>"
      ]
     },
     "metadata": {},
     "output_type": "display_data"
    }
   ],
   "source": [
    "plt.plot(history_2_v2.history['val_loss'])\n",
    "plt.plot(history_2_v2.history['val_categorical_accuracy'])\n",
    "plt.title('Training Stats')\n",
    "plt.xlabel('epochs')\n",
    "plt.legend(['testing_loss','testing categorical_accuracy'])\n",
    "plt.savefig('testing_stats.png')"
   ]
  },
  {
   "cell_type": "code",
   "execution_count": 43,
   "id": "054926b1-ab1f-421a-8c43-e69115ff7100",
   "metadata": {},
   "outputs": [
    {
     "name": "stderr",
     "output_type": "stream",
     "text": [
      "C:\\Users\\vivek chouhan\\AppData\\Roaming\\Python\\Python311\\site-packages\\keras\\src\\engine\\training.py:3000: UserWarning: You are saving your model as an HDF5 file via `model.save()`. This file format is considered legacy. We recommend using instead the native Keras format, e.g. `model.save('my_model.keras')`.\n",
      "  saving_api.save_model(\n"
     ]
    }
   ],
   "source": [
    "gru_model2_v2.save('gru_isl_model_v2.keras')\n",
    "gru_model2_v2.save('gru_isl_model_v2.h5')"
   ]
  },
  {
   "cell_type": "code",
   "execution_count": 45,
   "id": "80dd9d23-a984-4465-b1a1-c212c5d7a4a0",
   "metadata": {},
   "outputs": [],
   "source": [
    "import pickle"
   ]
  },
  {
   "cell_type": "code",
   "execution_count": 46,
   "id": "4ea7d139-b130-431e-9919-e66c6d84bffb",
   "metadata": {},
   "outputs": [],
   "source": [
    "pickle.dump(actions,open('v2_classes.pickle','wb'))"
   ]
  },
  {
   "cell_type": "code",
   "execution_count": 50,
   "id": "68f67d1d-2250-42d8-a429-5949a74579db",
   "metadata": {},
   "outputs": [],
   "source": [
    "actual=[np.argmax(i) for i in y_test]"
   ]
  },
  {
   "cell_type": "code",
   "execution_count": 51,
   "id": "83d686f6-e24f-4365-8022-11f3a3fd3a84",
   "metadata": {
    "scrolled": true
   },
   "outputs": [
    {
     "data": {
      "text/plain": [
       "45"
      ]
     },
     "execution_count": 51,
     "metadata": {},
     "output_type": "execute_result"
    }
   ],
   "source": [
    "len(actual)"
   ]
  },
  {
   "cell_type": "code",
   "execution_count": 53,
   "id": "fd18b30f-b11b-4d2e-b2b0-78e4b0405a54",
   "metadata": {},
   "outputs": [
    {
     "name": "stdout",
     "output_type": "stream",
     "text": [
      "2/2 [==============================] - 1s 30ms/step\n"
     ]
    }
   ],
   "source": [
    "y_p=gru_model2_v2.predict(x_test)"
   ]
  },
  {
   "cell_type": "code",
   "execution_count": 54,
   "id": "016a2830-0bfc-4f98-aaae-9496d45e5575",
   "metadata": {},
   "outputs": [
    {
     "data": {
      "text/plain": [
       "array([[4.0991516e-11, 1.5915861e-06, 1.7602229e-05, 2.9272464e-04,\n",
       "        3.4122996e-02, 9.6556503e-01],\n",
       "       [2.1456553e-10, 9.6570851e-08, 2.1201344e-04, 8.6935339e-03,\n",
       "        3.4385999e-03, 9.8765570e-01],\n",
       "       [9.9828440e-01, 1.3990568e-03, 1.9528099e-07, 2.6365076e-04,\n",
       "        9.8078626e-06, 4.2761432e-05],\n",
       "       [1.5491990e-10, 1.1384355e-07, 9.9908757e-01, 6.9884126e-10,\n",
       "        8.6657028e-04, 4.5797864e-05],\n",
       "       [8.0207320e-15, 1.3361032e-11, 2.1496926e-06, 3.4936625e-07,\n",
       "        2.9814078e-03, 9.9701607e-01],\n",
       "       [3.3969862e-09, 1.8448958e-05, 1.1921901e-03, 2.7535358e-05,\n",
       "        8.7938541e-01, 1.1937642e-01],\n",
       "       [2.3373993e-15, 7.6752504e-13, 1.5847012e-07, 5.9118061e-06,\n",
       "        2.2797358e-05, 9.9997115e-01],\n",
       "       [1.0250419e-08, 4.1355665e-06, 9.7584730e-01, 1.6533741e-08,\n",
       "        2.3974326e-02, 1.7417989e-04],\n",
       "       [6.2335333e-05, 9.9906415e-01, 3.0153806e-05, 4.6705865e-04,\n",
       "        2.9726129e-04, 7.8963087e-05],\n",
       "       [3.9946135e-10, 1.2318050e-07, 9.9950552e-01, 9.8987085e-10,\n",
       "        4.2724636e-04, 6.7092675e-05],\n",
       "       [1.0808837e-11, 4.0923524e-07, 3.3986523e-06, 8.5787702e-01,\n",
       "        2.2492296e-04, 1.4189430e-01],\n",
       "       [6.7990013e-06, 9.9802041e-01, 1.5712762e-04, 6.2322582e-04,\n",
       "        1.0174381e-03, 1.7498306e-04],\n",
       "       [5.9802024e-10, 4.7433230e-07, 9.9707055e-01, 9.7126063e-10,\n",
       "        2.8838303e-03, 4.5164910e-05],\n",
       "       [1.6669400e-09, 6.4533407e-07, 9.9630690e-01, 2.1864341e-09,\n",
       "        3.6034461e-03, 8.9059846e-05],\n",
       "       [9.9729663e-01, 2.2719989e-03, 4.0315982e-07, 3.4965691e-04,\n",
       "        1.6780850e-05, 6.4575463e-05],\n",
       "       [7.7947582e-10, 2.8669328e-06, 1.9824435e-03, 4.0190176e-07,\n",
       "        9.9341971e-01, 4.5945863e-03],\n",
       "       [9.9678254e-01, 2.6651747e-03, 5.4198767e-07, 4.5304492e-04,\n",
       "        2.1355992e-05, 7.7215132e-05],\n",
       "       [4.0174092e-14, 8.7521236e-08, 4.2656190e-10, 9.9996984e-01,\n",
       "        2.0113630e-08, 3.0039000e-05],\n",
       "       [2.5032939e-06, 9.9980289e-01, 2.4989599e-06, 1.5027422e-04,\n",
       "        2.8892080e-05, 1.2937711e-05],\n",
       "       [9.9903357e-01, 8.0203736e-04, 6.7818846e-08, 1.3396253e-04,\n",
       "        4.4031231e-06, 2.5973213e-05],\n",
       "       [1.3452083e-09, 2.5998891e-06, 1.7271938e-02, 2.1089558e-07,\n",
       "        9.8226142e-01, 4.6375583e-04],\n",
       "       [7.8406372e-16, 1.2811016e-09, 1.0624502e-11, 9.9998307e-01,\n",
       "        2.8746545e-09, 1.6962389e-05],\n",
       "       [9.9819881e-01, 1.4712779e-03, 2.0104804e-07, 2.7384743e-04,\n",
       "        1.0067354e-05, 4.5779037e-05],\n",
       "       [9.0575469e-15, 1.9701895e-11, 1.9089896e-06, 4.8297716e-07,\n",
       "        2.9835892e-03, 9.9701405e-01],\n",
       "       [5.0715943e-10, 1.1989487e-06, 2.2773684e-03, 6.8943331e-07,\n",
       "        9.9119765e-01, 6.5230494e-03],\n",
       "       [2.4253308e-10, 9.2712526e-07, 1.4782221e-03, 7.6321817e-07,\n",
       "        9.8770708e-01, 1.0812949e-02],\n",
       "       [1.9536481e-05, 9.9598014e-01, 6.0180185e-04, 4.1243603e-04,\n",
       "        2.6568943e-03, 3.2915885e-04],\n",
       "       [1.8566244e-11, 2.4760982e-07, 7.2208741e-06, 3.5529124e-04,\n",
       "        3.2671851e-03, 9.9637008e-01],\n",
       "       [5.0986923e-06, 9.9962127e-01, 3.1448687e-07, 3.6299214e-04,\n",
       "        4.9510063e-06, 5.4415800e-06],\n",
       "       [3.0815420e-10, 9.5126018e-07, 1.9539285e-03, 1.1041885e-06,\n",
       "        9.8841023e-01, 9.6337711e-03],\n",
       "       [6.5717424e-14, 1.0549125e-07, 1.0711562e-09, 9.9995458e-01,\n",
       "        3.5572025e-08, 4.5311965e-05],\n",
       "       [7.4603100e-05, 9.8431039e-01, 2.5427868e-04, 1.2028366e-02,\n",
       "        2.4674097e-03, 8.6485385e-04],\n",
       "       [1.1831240e-13, 2.5206412e-10, 6.2392212e-07, 3.7170281e-05,\n",
       "        4.4299118e-04, 9.9951923e-01],\n",
       "       [3.3367878e-11, 2.5028251e-06, 3.9408815e-06, 9.9163228e-01,\n",
       "        2.3800716e-05, 8.3375210e-03],\n",
       "       [4.3463958e-15, 6.3219501e-09, 1.0304775e-10, 9.9986076e-01,\n",
       "        2.0753047e-08, 1.3915250e-04],\n",
       "       [9.3192809e-16, 3.7317798e-14, 1.5470605e-05, 4.6137846e-08,\n",
       "        2.6690675e-04, 9.9971753e-01],\n",
       "       [1.7953847e-09, 2.9215995e-05, 2.0078682e-04, 3.6851875e-04,\n",
       "        2.9079041e-01, 7.0861113e-01],\n",
       "       [1.5658515e-10, 2.2948591e-07, 9.9951363e-01, 4.7735665e-10,\n",
       "        4.5621212e-04, 2.9893979e-05],\n",
       "       [5.2942795e-10, 3.2950177e-06, 9.1106171e-04, 3.5342591e-06,\n",
       "        9.3697071e-01, 6.2111355e-02],\n",
       "       [7.3162423e-09, 6.0655611e-06, 9.8626745e-01, 7.2384294e-09,\n",
       "        1.3626958e-02, 9.9484489e-05],\n",
       "       [6.0687576e-05, 9.9956483e-01, 8.4760513e-06, 2.2636897e-04,\n",
       "        9.9174067e-05, 4.0502626e-05],\n",
       "       [5.6597908e-14, 1.6556843e-08, 6.2682132e-10, 9.9994028e-01,\n",
       "        5.4075841e-08, 5.9660546e-05],\n",
       "       [3.6568979e-13, 9.5736385e-10, 9.2579994e-06, 2.5857519e-06,\n",
       "        1.7162891e-02, 9.8282522e-01],\n",
       "       [9.9808973e-01, 1.5480150e-03, 1.9164231e-07, 3.0591476e-04,\n",
       "        9.8795708e-06, 4.6153153e-05],\n",
       "       [2.0576334e-12, 3.0127609e-11, 2.9081121e-02, 1.1308496e-07,\n",
       "        2.2973051e-02, 9.4794577e-01]], dtype=float32)"
      ]
     },
     "execution_count": 54,
     "metadata": {},
     "output_type": "execute_result"
    }
   ],
   "source": [
    "y_p"
   ]
  },
  {
   "cell_type": "code",
   "execution_count": 56,
   "id": "a7d000fb-6706-42c8-823e-4d46bb588dc7",
   "metadata": {},
   "outputs": [],
   "source": [
    "predicted=[np.argmax(i) for i in y_p]"
   ]
  },
  {
   "cell_type": "code",
   "execution_count": 57,
   "id": "0225e3ae-eddd-4ab9-807e-8439832a9a40",
   "metadata": {},
   "outputs": [],
   "source": [
    "from seaborn import heatmap"
   ]
  },
  {
   "cell_type": "code",
   "execution_count": 59,
   "id": "8155fc0f-8eaf-436c-8f89-af39c7ff10d1",
   "metadata": {},
   "outputs": [],
   "source": [
    "cm=tf.math.confusion_matrix(actual,predicted)"
   ]
  },
  {
   "cell_type": "code",
   "execution_count": 60,
   "id": "e8f67061-b2df-4039-a80a-1bd2115b0f21",
   "metadata": {},
   "outputs": [],
   "source": [
    "from sklearn.metrics import classification_report"
   ]
  },
  {
   "cell_type": "code",
   "execution_count": 64,
   "id": "798f186f-baa3-43d0-8722-c45710fd5090",
   "metadata": {},
   "outputs": [
    {
     "data": {
      "image/png": "[encoded data removed]",
      "text/plain": [
       "<Figure size 640x480 with 2 Axes>"
      ]
     },
     "metadata": {},
     "output_type": "display_data"
    }
   ],
   "source": [
    "cm_plot=heatmap(cm,annot=True)"
   ]
  },
  {
   "cell_type": "code",
   "execution_count": 67,
   "id": "16c81da7-8fa8-41fa-b57d-1a54fba07b4c",
   "metadata": {},
   "outputs": [],
   "source": [
    "cm_plot.get_figure().savefig('v2_cm.png')"
   ]
  },
  {
   "cell_type": "code",
   "execution_count": 68,
   "id": "0e7eec04-27ac-416a-aae9-8f03bfbd4902",
   "metadata": {},
   "outputs": [
    {
     "name": "stdout",
     "output_type": "stream",
     "text": [
      "              precision    recall  f1-score   support\n",
      "\n",
      "           0       1.00      1.00      1.00         6\n",
      "           1       1.00      1.00      1.00         7\n",
      "           2       1.00      1.00      1.00         7\n",
      "           3       1.00      1.00      1.00         7\n",
      "           4       1.00      1.00      1.00         7\n",
      "           5       1.00      1.00      1.00        11\n",
      "\n",
      "    accuracy                           1.00        45\n",
      "   macro avg       1.00      1.00      1.00        45\n",
      "weighted avg       1.00      1.00      1.00        45\n",
      "\n"
     ]
    }
   ],
   "source": [
    "print(classification_report(actual,predicted))"
   ]
  },
  {
   "cell_type": "code",
   "execution_count": null,
   "id": "ae02e70f-ba37-48e7-a4ae-070d58a624d8",
   "metadata": {},
   "outputs": [],
   "source": []
  }
 ],
 "metadata": {
  "kernelspec": {
   "display_name": "Python 3 (ipykernel)",
   "language": "python",
   "name": "python3"
  },
  "language_info": {
   "codemirror_mode": {
    "name": "ipython",
    "version": 3
   },
   "file_extension": ".py",
   "mimetype": "text/x-python",
   "name": "python",
   "nbconvert_exporter": "python",
   "pygments_lexer": "ipython3",
   "version": "3.11.5"
  }
 },
 "nbformat": 4,
 "nbformat_minor": 5
}
