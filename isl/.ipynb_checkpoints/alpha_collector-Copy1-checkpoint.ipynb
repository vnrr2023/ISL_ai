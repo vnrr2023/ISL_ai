{
 "cells": [
  {
   "cell_type": "code",
   "execution_count": 1,
   "id": "6dc7db4a-d175-46a5-a9bc-ac43da7fa934",
   "metadata": {},
   "outputs": [],
   "source": [
    "# write the data collection code here for ISL.ai\n",
    "\n",
    "# run the below commands when u start this file\n",
    "!pip install mediapipe opencv-python numpy"
   ]
  },
  {
   "cell_type": "code",
   "execution_count": 1,
   "id": "5c50bd86-768b-4f50-978d-ad30b29d9761",
   "metadata": {},
   "outputs": [],
   "source": [
    "import mediapipe as mp\n",
    "import numpy as np\n",
    "import cv2 as cv\n",
    "import os\n",
    "from time import time"
   ]
  },
  {
   "cell_type": "code",
   "execution_count": 2,
   "id": "dcb662d6-ec60-4fb9-9998-98835eae2acd",
   "metadata": {},
   "outputs": [],
   "source": [
    "cap=cv.VideoCapture(0)\n",
    "while True:\n",
    "    _,frame=cap.read()\n",
    "\n",
    "    cv.imshow('frame',frame)\n",
    "    if cv.waitKey(10)==27:\n",
    "        cap.release()\n",
    "        break\n",
    "\n",
    "cv.destroyAllWindows()"
   ]
  },
  {
   "cell_type": "code",
   "execution_count": 2,
   "id": "1a861ea1-5f5c-4892-8363-ca6ebad06d39",
   "metadata": {},
   "outputs": [],
   "source": [
    "mp_drawing=mp.solutions.drawing_utils\n",
    "mp_holistic=mp.solutions.holistic\n",
    "holistic=mp_holistic.Holistic()"
   ]
  },
  {
   "cell_type": "code",
   "execution_count": 3,
   "id": "41ba060d-56a0-480d-9ea1-b06eb7b1d2b5",
   "metadata": {},
   "outputs": [],
   "source": [
    "def draw_landmarks(img,results):\n",
    "    mp_drawing.draw_landmarks(img,results.left_hand_landmarks,mp_holistic.HAND_CONNECTIONS,style1,style2)\n",
    "    mp_drawing.draw_landmarks(img,results.right_hand_landmarks,mp_holistic.HAND_CONNECTIONS,style1,style2)\n",
    "    mp_drawing.draw_landmarks(img,results.pose_landmarks,mp_holistic.POSE_CONNECTIONS,style1,style2)\n",
    "    mp_drawing.draw_landmarks(img,results.face_landmarks,mp_holistic.FACEMESH_CONTOURS,style1,style2)"
   ]
  },
  {
   "cell_type": "code",
   "execution_count": 4,
   "id": "0ada72c6-02c3-42d6-bc5f-942d83c72f4a",
   "metadata": {},
   "outputs": [],
   "source": [
    "style1=mp_drawing.DrawingSpec((71, 237, 212),1,1)\n",
    "style2=mp_drawing.DrawingSpec((67, 73, 247),2,1)"
   ]
  },
  {
   "cell_type": "code",
   "execution_count": 5,
   "id": "48625db6-5d81-4f52-ae83-e0523c86415d",
   "metadata": {},
   "outputs": [],
   "source": [
    "def extract_landmarks(results):\n",
    "    face=np.array([[landmark.x,landmark.y,landmark.z] for landmark in results.face_landmarks.landmark]).flatten()  if results.face_landmarks else np.zeros(1404)\n",
    "    pose=np.array([[landmark.x,landmark.y,landmark.z , landmark.visibility] for landmark in results.pose_landmarks.landmark]).flatten() if results.pose_landmarks else np.zeros(132)\n",
    "    rh=np.array([[landmark.x,landmark.y,landmark.z] for landmark in results.right_hand_landmarks.landmark]).flatten() if results.right_hand_landmarks else np.zeros(63)\n",
    "    lh=np.array([[landmark.x,landmark.y,landmark.z] for landmark in results.left_hand_landmarks.landmark]).flatten() if results.left_hand_landmarks else np.zeros(63)\n",
    "\n",
    "    return np.concatenate([pose,face,lh,rh]),np.concatenate([pose,lh,rh])"
   ]
  },
  {
   "cell_type": "code",
   "execution_count": 13,
   "id": "a166e6a0-a70e-4282-9bac-4d5aebb677be",
   "metadata": {},
   "outputs": [],
   "source": [
    "# test your postion here\n",
    "cap=cv.VideoCapture(0)\n",
    "while True:\n",
    "    _,frame=cap.read()\n",
    "    # mediapipe operations\n",
    "    img=cv.cvtColor(frame,cv.COLOR_BGR2RGB)\n",
    "    results=holistic.process(img)\n",
    "    img=cv.cvtColor(img,cv.COLOR_RGB2BGR)\n",
    "    draw_landmarks(img,results)\n",
    "    landmarks=extract_landmarks(results)\n",
    "    # print(landmarks)\n",
    "    \n",
    "    cv.imshow('frame',img)\n",
    "    if cv.waitKey(1)==27:\n",
    "        cap.release()\n",
    "        break\n",
    "\n",
    "cv.destroyAllWindows()"
   ]
  },
  {
   "cell_type": "code",
   "execution_count": 15,
   "id": "f50a5329-cadf-400b-b7d6-94fd12a94348",
   "metadata": {},
   "outputs": [],
   "source": [
    "# create directories"
   ]
  },
  {
   "cell_type": "code",
   "execution_count": 16,
   "id": "76609b07-3061-47a5-aa94-0b10d5661057",
   "metadata": {},
   "outputs": [],
   "source": [
    "# data_dir30='alpha_30'\n",
    "# data_dir15='alpha_15'\n",
    "video_dir='videos'"
   ]
  },
  {
   "cell_type": "code",
   "execution_count": 17,
   "id": "7579bd51-7943-43f4-b892-d430bd5d20ab",
   "metadata": {},
   "outputs": [],
   "source": [
    "no_of_videos=10\n",
    "no_of_frames=30"
   ]
  },
  {
   "cell_type": "code",
   "execution_count": 18,
   "id": "ce15d5af-70ea-49d3-895b-872927428d4e",
   "metadata": {},
   "outputs": [],
   "source": [
    "# enter action correctly\n",
    "action='a'"
   ]
  },
  {
   "cell_type": "code",
   "execution_count": 19,
   "id": "ecae2845-ec73-46c7-9072-1d49d110b279",
   "metadata": {},
   "outputs": [
    {
     "ename": "FileExistsError",
     "evalue": "[WinError 183] Cannot create a file when that file already exists: 'videos\\\\a'",
     "output_type": "error",
     "traceback": [
      "\u001b[1;31m---------------------------------------------------------------------------\u001b[0m",
      "\u001b[1;31mFileExistsError\u001b[0m                           Traceback (most recent call last)",
      "Cell \u001b[1;32mIn[19], line 3\u001b[0m\n\u001b[0;32m      1\u001b[0m \u001b[38;5;66;03m# create directory for action eg==> a\u001b[39;00m\n\u001b[1;32m----> 3\u001b[0m \u001b[43mos\u001b[49m\u001b[38;5;241;43m.\u001b[39;49m\u001b[43mmkdir\u001b[49m\u001b[43m(\u001b[49m\u001b[43mos\u001b[49m\u001b[38;5;241;43m.\u001b[39;49m\u001b[43mpath\u001b[49m\u001b[38;5;241;43m.\u001b[39;49m\u001b[43mjoin\u001b[49m\u001b[43m(\u001b[49m\u001b[43mvideo_dir\u001b[49m\u001b[43m,\u001b[49m\u001b[43maction\u001b[49m\u001b[43m)\u001b[49m\u001b[43m)\u001b[49m\n",
      "\u001b[1;31mFileExistsError\u001b[0m: [WinError 183] Cannot create a file when that file already exists: 'videos\\\\a'"
     ]
    }
   ],
   "source": [
    "# create directory for action eg==> a\n",
    "\n",
    "os.mkdir(os.path.join(video_dir,action))"
   ]
  },
  {
   "cell_type": "code",
   "execution_count": 20,
   "id": "283846b7-2c3f-4a66-be21-467a4503a9b6",
   "metadata": {},
   "outputs": [
    {
     "name": "stderr",
     "output_type": "stream",
     "text": [
      "C:\\Users\\vivek chouhan\\AppData\\Local\\Programs\\Python\\Python311\\Lib\\site-packages\\google\\protobuf\\symbol_database.py:55: UserWarning: SymbolDatabase.GetPrototype() is deprecated. Please use message_factory.GetMessageClass() instead. SymbolDatabase.GetPrototype() will be removed soon.\n",
      "  warnings.warn('SymbolDatabase.GetPrototype() is deprecated. Please '\n"
     ]
    },
    {
     "name": "stdout",
     "output_type": "stream",
     "text": [
      "70.9187319278717\n"
     ]
    }
   ],
   "source": [
    "\n",
    "'''\n",
    "Jar huglas kuthehi tar jaun video delete kar fakt tya number chi.\n",
    "video fast asnar but during processing it wil become slow....\n",
    "dnt change anything...\n",
    "\n",
    "\n",
    "PUT VARIATIONS IN THESE 15 VIDEOS... not much but little bit\n",
    "'''\n",
    "\n",
    "st=time()\n",
    "try:\n",
    "    cap=cv.VideoCapture(0)\n",
    "    \n",
    "    # get the properties of the captured frames\n",
    "    width=int(cap.get(cv.CAP_PROP_FRAME_WIDTH))\n",
    "    height=int(cap.get(cv.CAP_PROP_FRAME_HEIGHT))\n",
    "    fps=cap.get(cv.CAP_PROP_FPS)\n",
    "    fourcc = cv.VideoWriter_fourcc(*'XVID')\n",
    "    \n",
    "    for video in range(no_of_videos):\n",
    "    # for video in [15,69,70,78,79,144]:\n",
    "        video_writer = cv.VideoWriter(os.path.join(video_dir,action,f'{video}.mp4'),\n",
    "                fourcc, \n",
    "                30,\n",
    "                (640,480)\n",
    "                )\n",
    "        for frame in range(no_of_frames):\n",
    "            _,framee=cap.read()\n",
    "            # mediapipe operations\n",
    "            img=cv.cvtColor(framee,cv.COLOR_BGR2RGB)\n",
    "            results=holistic.process(img)\n",
    "            img=cv.cvtColor(img,cv.COLOR_RGB2BGR)\n",
    "            \n",
    "            draw_landmarks(img,results)\n",
    "            landmarks=extract_landmarks(results)\n",
    "            if frame==0:  # for the first frame\n",
    "                cv.putText(img,f'starting collection',(100,200),cv.FONT_HERSHEY_COMPLEX_SMALL,4,(0,0,255),1,cv.LINE_AA)\n",
    "                cv.putText(img,f'For {action}  Video {video} Frame {frame}',(120,32),cv.FONT_HERSHEY_COMPLEX_SMALL,1,(255,0,0),1,cv.LINE_AA)\n",
    "                cv.imshow('image',img)\n",
    "                cv.waitKey(4000)\n",
    "            else:\n",
    "                cv.putText(img,f'For {action}  Video {video} Frame {frame}',(120,32),cv.FONT_HERSHEY_COMPLEX_SMALL,1,(255,0,0),1,cv.LINE_AA)\n",
    "                cv.imshow('image',img)\n",
    "    \n",
    "           \n",
    "            video_writer.write(framee) \n",
    "    \n",
    "            \n",
    "        \n",
    "            \n",
    "            if cv.waitKey(1)==27:\n",
    "                cap.release()\n",
    "                break\n",
    "\n",
    "        # release video for new video\n",
    "        video_writer.release()  \n",
    "  \n",
    "    \n",
    "            \n",
    "except:\n",
    "        print('error')\n",
    "\n",
    "\n",
    "cv.destroyAllWindows()\n",
    "print(time()-st)    \n",
    "cap.release()"
   ]
  },
  {
   "cell_type": "code",
   "execution_count": null,
   "id": "ef5e7463-2057-4091-9da7-62d7b96d04a7",
   "metadata": {},
   "outputs": [],
   "source": []
  }
 ],
 "metadata": {
  "kernelspec": {
   "display_name": "Python 3 (ipykernel)",
   "language": "python",
   "name": "python3"
  },
  "language_info": {
   "codemirror_mode": {
    "name": "ipython",
    "version": 3
   },
   "file_extension": ".py",
   "mimetype": "text/x-python",
   "name": "python",
   "nbconvert_exporter": "python",
   "pygments_lexer": "ipython3",
   "version": "3.11.5"
  }
 },
 "nbformat": 4,
 "nbformat_minor": 5
}
