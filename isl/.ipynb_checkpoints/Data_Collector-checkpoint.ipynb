{
 "cells": [
  {
   "cell_type": "code",
   "execution_count": 1,
   "id": "6dc7db4a-d175-46a5-a9bc-ac43da7fa934",
   "metadata": {},
   "outputs": [],
   "source": [
    "# write the data collection code here for ISL.ai\n"
   ]
  },
  {
   "cell_type": "code",
   "execution_count": 1,
   "id": "5c50bd86-768b-4f50-978d-ad30b29d9761",
   "metadata": {},
   "outputs": [],
   "source": [
    "import mediapipe as mp\n",
    "import numpy as np\n",
    "import cv2 as cv\n",
    "import os"
   ]
  },
  {
   "cell_type": "code",
   "execution_count": 2,
   "id": "dcb662d6-ec60-4fb9-9998-98835eae2acd",
   "metadata": {},
   "outputs": [],
   "source": [
    "cap=cv.VideoCapture(0)\n",
    "while True:\n",
    "    _,frame=cap.read()\n",
    "\n",
    "    cv.imshow('frame',frame)\n",
    "    if cv.waitKey(10)==27:\n",
    "        cap.release()\n",
    "        break\n",
    "\n",
    "cv.destroyAllWindows()"
   ]
  },
  {
   "cell_type": "code",
   "execution_count": 2,
   "id": "1a861ea1-5f5c-4892-8363-ca6ebad06d39",
   "metadata": {},
   "outputs": [],
   "source": [
    "mp_drawing=mp.solutions.drawing_utils\n",
    "mp_holistic=mp.solutions.holistic"
   ]
  },
  {
   "cell_type": "code",
   "execution_count": 3,
   "id": "a38df63e-2b8c-498d-9f97-1458338be2aa",
   "metadata": {},
   "outputs": [],
   "source": [
    "holistic=mp_holistic.Holistic()"
   ]
  },
  {
   "cell_type": "code",
   "execution_count": 23,
   "id": "d25a9b44-3b7f-423d-beb9-c1edb03ab838",
   "metadata": {},
   "outputs": [],
   "source": [
    "cap=cv.VideoCapture(0)\n",
    "while True:\n",
    "    _,frame=cap.read()\n",
    "    # mediapipe operations\n",
    "    img=cv.cvtColor(frame,cv.COLOR_BGR2RGB)\n",
    "    results=holistic.process(img)\n",
    "    img=cv.cvtColor(img,cv.COLOR_RGB2BGR)\n",
    "    draw_landmarks(img,results)\n",
    "\n",
    "    cv.imshow('frame',img)\n",
    "    if cv.waitKey(1)==27:\n",
    "        cap.release()\n",
    "        break\n",
    "\n",
    "cv.destroyAllWindows()"
   ]
  },
  {
   "cell_type": "code",
   "execution_count": 4,
   "id": "41ba060d-56a0-480d-9ea1-b06eb7b1d2b5",
   "metadata": {},
   "outputs": [],
   "source": [
    "def draw_landmarks(img,results):\n",
    "    mp_drawing.draw_landmarks(img,results.left_hand_landmarks,mp_holistic.HAND_CONNECTIONS,style1,style2)\n",
    "    mp_drawing.draw_landmarks(img,results.right_hand_landmarks,mp_holistic.HAND_CONNECTIONS,style1,style2)\n",
    "    mp_drawing.draw_landmarks(img,results.pose_landmarks,mp_holistic.POSE_CONNECTIONS,style1,style2)\n",
    "    mp_drawing.draw_landmarks(img,results.face_landmarks,mp_holistic.FACEMESH_CONTOURS,style1,style2)"
   ]
  },
  {
   "cell_type": "code",
   "execution_count": 5,
   "id": "0ada72c6-02c3-42d6-bc5f-942d83c72f4a",
   "metadata": {},
   "outputs": [],
   "source": [
    "style1=mp_drawing.DrawingSpec((71, 237, 212),1,1)\n",
    "style2=mp_drawing.DrawingSpec((67, 73, 247),1,1)"
   ]
  },
  {
   "cell_type": "code",
   "execution_count": 6,
   "id": "202a0f5a-893b-4420-a18e-1cf6b9e36c3e",
   "metadata": {},
   "outputs": [
    {
     "ename": "NameError",
     "evalue": "name 'cap' is not defined",
     "output_type": "error",
     "traceback": [
      "\u001b[1;31m---------------------------------------------------------------------------\u001b[0m",
      "\u001b[1;31mNameError\u001b[0m                                 Traceback (most recent call last)",
      "Cell \u001b[1;32mIn[6], line 1\u001b[0m\n\u001b[1;32m----> 1\u001b[0m \u001b[43mcap\u001b[49m\u001b[38;5;241m.\u001b[39mrelease()\n",
      "\u001b[1;31mNameError\u001b[0m: name 'cap' is not defined"
     ]
    }
   ],
   "source": [
    "cap.release()"
   ]
  },
  {
   "cell_type": "code",
   "execution_count": 10,
   "id": "48625db6-5d81-4f52-ae83-e0523c86415d",
   "metadata": {},
   "outputs": [],
   "source": [
    "def extract_landmarks(results):\n",
    "    face=np.array([[landmark.x,landmark.y,landmark.z] for landmark in results.face_landmarks.landmark]).flatten()  if results.face_landmarks else np.zeros(1404)\n",
    "    pose=np.array([[landmark.x,landmark.y,landmark.z , landmark.visibility] for landmark in results.pose_landmarks.landmark]).flatten() if results.pose_landmarks else np.zeros(132)\n",
    "    rh=np.array([[landmark.x,landmark.y,landmark.z] for landmark in results.right_hand_landmarks.landmark]).flatten() if results.right_hand_landmarks else np.zeros(63)\n",
    "    lh=np.array([[landmark.x,landmark.y,landmark.z] for landmark in results.left_hand_landmarks.landmark]).flatten() if results.left_hand_landmarks else np.zeros(63)\n",
    "\n",
    "    return np.concatenate([pose,face,lh,rh])"
   ]
  },
  {
   "cell_type": "code",
   "execution_count": 27,
   "id": "0c63697c-e737-4072-aefb-52c56704d65a",
   "metadata": {},
   "outputs": [
    {
     "data": {
      "text/plain": [
       "33"
      ]
     },
     "execution_count": 27,
     "metadata": {},
     "output_type": "execute_result"
    }
   ],
   "source": [
    "len(results.pose_landmarks.landmark)\n"
   ]
  },
  {
   "cell_type": "code",
   "execution_count": 30,
   "id": "a166e6a0-a70e-4282-9bac-4d5aebb677be",
   "metadata": {},
   "outputs": [],
   "source": [
    "cap=cv.VideoCapture(0)\n",
    "while True:\n",
    "    _,frame=cap.read()\n",
    "    # mediapipe operations\n",
    "    img=cv.cvtColor(frame,cv.COLOR_BGR2RGB)\n",
    "    results=holistic.process(img)\n",
    "    img=cv.cvtColor(img,cv.COLOR_RGB2BGR)\n",
    "    draw_landmarks(img,results)\n",
    "    landmarks=extract_landmarks(results)\n",
    "    # print(landmarks)\n",
    "    \n",
    "    cv.imshow('frame',img)\n",
    "    if cv.waitKey(1)==27:\n",
    "        cap.release()\n",
    "        break\n",
    "\n",
    "cv.destroyAllWindows()"
   ]
  },
  {
   "cell_type": "code",
   "execution_count": 31,
   "id": "f50a5329-cadf-400b-b7d6-94fd12a94348",
   "metadata": {},
   "outputs": [],
   "source": [
    "# create directories"
   ]
  },
  {
   "cell_type": "code",
   "execution_count": 7,
   "id": "674798e2-dedd-41da-841f-3014789fc556",
   "metadata": {},
   "outputs": [],
   "source": [
    "data_dir='data'"
   ]
  },
  {
   "cell_type": "code",
   "execution_count": 8,
   "id": "4195c8a3-d7a7-4253-a151-8bcce52ae0e4",
   "metadata": {},
   "outputs": [],
   "source": [
    "actions=np.array(['hello','how are you','i am fine','thanks','blank'])"
   ]
  },
  {
   "cell_type": "code",
   "execution_count": 9,
   "id": "7579bd51-7943-43f4-b892-d430bd5d20ab",
   "metadata": {},
   "outputs": [],
   "source": [
    "no_of_videos=100\n",
    "no_of_frames=30"
   ]
  },
  {
   "cell_type": "code",
   "execution_count": 35,
   "id": "8329d73d-653b-4e19-94d9-8315f55000c6",
   "metadata": {},
   "outputs": [
    {
     "name": "stdout",
     "output_type": "stream",
     "text": [
      "hello\n",
      "how are you\n",
      "i am fine\n",
      "thanks\n",
      "blank\n"
     ]
    }
   ],
   "source": [
    "for action in actions:\n",
    "    print(action)\n",
    "    for video in range(no_of_videos):\n",
    "        os.makedirs(os.path.join(data_dir,action,f'{video}'))"
   ]
  },
  {
   "cell_type": "code",
   "execution_count": 13,
   "id": "283846b7-2c3f-4a66-be21-467a4503a9b6",
   "metadata": {},
   "outputs": [
    {
     "ename": "error",
     "evalue": "OpenCV(4.8.0) D:\\a\\opencv-python\\opencv-python\\opencv\\modules\\imgproc\\src\\color.cpp:182: error: (-215:Assertion failed) !_src.empty() in function 'cv::cvtColor'\n",
     "output_type": "error",
     "traceback": [
      "\u001b[1;31m---------------------------------------------------------------------------\u001b[0m",
      "\u001b[1;31merror\u001b[0m                                     Traceback (most recent call last)",
      "Cell \u001b[1;32mIn[13], line 7\u001b[0m\n\u001b[0;32m      5\u001b[0m _,framee\u001b[38;5;241m=\u001b[39mcap\u001b[38;5;241m.\u001b[39mread()\n\u001b[0;32m      6\u001b[0m \u001b[38;5;66;03m# mediapipe operations\u001b[39;00m\n\u001b[1;32m----> 7\u001b[0m img\u001b[38;5;241m=\u001b[39m\u001b[43mcv\u001b[49m\u001b[38;5;241;43m.\u001b[39;49m\u001b[43mcvtColor\u001b[49m\u001b[43m(\u001b[49m\u001b[43mframee\u001b[49m\u001b[43m,\u001b[49m\u001b[43mcv\u001b[49m\u001b[38;5;241;43m.\u001b[39;49m\u001b[43mCOLOR_BGR2RGB\u001b[49m\u001b[43m)\u001b[49m\n\u001b[0;32m      8\u001b[0m results\u001b[38;5;241m=\u001b[39mholistic\u001b[38;5;241m.\u001b[39mprocess(img)\n\u001b[0;32m      9\u001b[0m img\u001b[38;5;241m=\u001b[39mcv\u001b[38;5;241m.\u001b[39mcvtColor(img,cv\u001b[38;5;241m.\u001b[39mCOLOR_RGB2BGR)\n",
      "\u001b[1;31merror\u001b[0m: OpenCV(4.8.0) D:\\a\\opencv-python\\opencv-python\\opencv\\modules\\imgproc\\src\\color.cpp:182: error: (-215:Assertion failed) !_src.empty() in function 'cv::cvtColor'\n"
     ]
    }
   ],
   "source": [
    "try:\n",
    "    cap=cv.VideoCapture(0)\n",
    "    for action in actions:\n",
    "        for video in range(no_of_videos):\n",
    "            for frame in range(no_of_frames):\n",
    "                _,framee=cap.read()\n",
    "                # mediapipe operations\n",
    "                img=cv.cvtColor(framee,cv.COLOR_BGR2RGB)\n",
    "                results=holistic.process(img)\n",
    "                img=cv.cvtColor(img,cv.COLOR_RGB2BGR)\n",
    "                \n",
    "                draw_landmarks(img,results)\n",
    "                landmarks=extract_landmarks(results)\n",
    "                if frame==0:  # for the first frame\n",
    "                    cv.putText(img,f'starting collection',(100,200),cv.FONT_HERSHEY_SIMPLEX,3,(0,0,255),1,cv.LINE_AA)\n",
    "                    cv.putText(img,f'For {action}  Video {video} Frame {frame}',(120,32),cv.FONT_HERSHEY_COMPLEX_SMALL,1,(0,255,0),1,cv.LINE_AA)\n",
    "                    cv.imshow('image',img)\n",
    "                    cv.waitKey(4000)\n",
    "                else:\n",
    "                    cv.putText(img,f'For {action}  Video {video} Frame {frame}',(120,32),cv.FONT_HERSHEY_COMPLEX_SMALL,1,(0,255,0),1,cv.LINE_AA)\n",
    "                    cv.imshow('image',img)\n",
    "    \n",
    "                # path=os.path.join(data_dir,action,str(video),f'{frame}.npy')\n",
    "                # np.save(path,landmarks)\n",
    "                    \n",
    "    \n",
    "                \n",
    "            \n",
    "                \n",
    "                if cv.waitKey(1)==27:\n",
    "                    cap.release()\n",
    "                    break\n",
    "    except:\n",
    "        print('error')\n",
    "\n",
    "\n",
    "cv.destroyAllWindows()\n",
    "            "
   ]
  },
  {
   "cell_type": "code",
   "execution_count": 12,
   "id": "06553265-ca0a-4980-b843-9554bbd8b62d",
   "metadata": {},
   "outputs": [],
   "source": [
    "cap.release()"
   ]
  },
  {
   "cell_type": "code",
   "execution_count": null,
   "id": "fab483fe-a0ba-4724-be97-49227c0d2a0d",
   "metadata": {},
   "outputs": [],
   "source": []
  }
 ],
 "metadata": {
  "kernelspec": {
   "display_name": "Python 3 (ipykernel)",
   "language": "python",
   "name": "python3"
  },
  "language_info": {
   "codemirror_mode": {
    "name": "ipython",
    "version": 3
   },
   "file_extension": ".py",
   "mimetype": "text/x-python",
   "name": "python",
   "nbconvert_exporter": "python",
   "pygments_lexer": "ipython3",
   "version": "3.11.5"
  }
 },
 "nbformat": 4,
 "nbformat_minor": 5
}
