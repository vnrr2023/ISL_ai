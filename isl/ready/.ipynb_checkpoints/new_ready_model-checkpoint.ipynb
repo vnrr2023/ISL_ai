{
 "cells": [
  {
   "cell_type": "code",
   "execution_count": 1,
   "id": "a9a79e8f-efa7-4cd6-a5b5-7fe6424dd544",
   "metadata": {},
   "outputs": [],
   "source": [
    "import tensorflow as tf\n",
    "from tensorflow import keras"
   ]
  },
  {
   "cell_type": "code",
   "execution_count": 2,
   "id": "b4635132-7001-4f1c-b838-81c841c7fc0f",
   "metadata": {},
   "outputs": [],
   "source": [
    "import os"
   ]
  },
  {
   "cell_type": "code",
   "execution_count": 3,
   "id": "c6980080-bb3d-4995-8379-1f5bd68ffb0a",
   "metadata": {},
   "outputs": [],
   "source": [
    "import numpy as np"
   ]
  },
  {
   "cell_type": "code",
   "execution_count": 4,
   "id": "ba8236a5-b60f-45ae-89ba-9be9d22fe926",
   "metadata": {},
   "outputs": [],
   "source": [
    "from pandas import *\n",
    "from tqdm import tqdm"
   ]
  },
  {
   "cell_type": "code",
   "execution_count": 5,
   "id": "35156833-f021-4a4e-9a7a-6653d99552f9",
   "metadata": {},
   "outputs": [],
   "source": [
    "df=read_csv(\"ready_data.csv\",)"
   ]
  },
  {
   "cell_type": "code",
   "execution_count": 7,
   "id": "5e9960b0-e425-48db-9a31-1e77fe053d76",
   "metadata": {},
   "outputs": [],
   "source": [
    "df.drop(columns=['Unnamed: 0'],inplace=True)"
   ]
  },
  {
   "cell_type": "code",
   "execution_count": 11,
   "id": "9d14491a-9059-4dc5-8b46-9f86a8777fec",
   "metadata": {},
   "outputs": [],
   "source": [
    "df_classes=read_csv(\"ready_classes.csv\")"
   ]
  },
  {
   "cell_type": "code",
   "execution_count": 14,
   "id": "4b07e933-ef94-4a1e-98df-6b310a2ae332",
   "metadata": {},
   "outputs": [],
   "source": [
    "df_classes.drop(\"Unnamed: 0\",axis=1,inplace=True)"
   ]
  },
  {
   "cell_type": "code",
   "execution_count": 16,
   "id": "e9637f47-aedf-4c57-8a06-74aaced25e62",
   "metadata": {},
   "outputs": [],
   "source": [
    "df_classes['y']=df_classes['class'].map(\n",
    "    {\n",
    "        'not ready':0,\n",
    "        'ready':1\n",
    "    }\n",
    ")"
   ]
  },
  {
   "cell_type": "code",
   "execution_count": 17,
   "id": "c7ea77fb-0b94-4f53-bf07-c181d9b8b2f7",
   "metadata": {},
   "outputs": [
    {
     "data": {
      "text/html": [
       "<div>\n",
       "<style scoped>\n",
       "    .dataframe tbody tr th:only-of-type {\n",
       "        vertical-align: middle;\n",
       "    }\n",
       "\n",
       "    .dataframe tbody tr th {\n",
       "        vertical-align: top;\n",
       "    }\n",
       "\n",
       "    .dataframe thead th {\n",
       "        text-align: right;\n",
       "    }\n",
       "</style>\n",
       "<table border=\"1\" class=\"dataframe\">\n",
       "  <thead>\n",
       "    <tr style=\"text-align: right;\">\n",
       "      <th></th>\n",
       "      <th>class</th>\n",
       "      <th>y</th>\n",
       "    </tr>\n",
       "  </thead>\n",
       "  <tbody>\n",
       "    <tr>\n",
       "      <th>0</th>\n",
       "      <td>not ready</td>\n",
       "      <td>0</td>\n",
       "    </tr>\n",
       "    <tr>\n",
       "      <th>1</th>\n",
       "      <td>not ready</td>\n",
       "      <td>0</td>\n",
       "    </tr>\n",
       "    <tr>\n",
       "      <th>2</th>\n",
       "      <td>not ready</td>\n",
       "      <td>0</td>\n",
       "    </tr>\n",
       "    <tr>\n",
       "      <th>3</th>\n",
       "      <td>not ready</td>\n",
       "      <td>0</td>\n",
       "    </tr>\n",
       "    <tr>\n",
       "      <th>4</th>\n",
       "      <td>not ready</td>\n",
       "      <td>0</td>\n",
       "    </tr>\n",
       "    <tr>\n",
       "      <th>...</th>\n",
       "      <td>...</td>\n",
       "      <td>...</td>\n",
       "    </tr>\n",
       "    <tr>\n",
       "      <th>1006</th>\n",
       "      <td>ready</td>\n",
       "      <td>1</td>\n",
       "    </tr>\n",
       "    <tr>\n",
       "      <th>1007</th>\n",
       "      <td>ready</td>\n",
       "      <td>1</td>\n",
       "    </tr>\n",
       "    <tr>\n",
       "      <th>1008</th>\n",
       "      <td>ready</td>\n",
       "      <td>1</td>\n",
       "    </tr>\n",
       "    <tr>\n",
       "      <th>1009</th>\n",
       "      <td>ready</td>\n",
       "      <td>1</td>\n",
       "    </tr>\n",
       "    <tr>\n",
       "      <th>1010</th>\n",
       "      <td>ready</td>\n",
       "      <td>1</td>\n",
       "    </tr>\n",
       "  </tbody>\n",
       "</table>\n",
       "<p>1011 rows × 2 columns</p>\n",
       "</div>"
      ],
      "text/plain": [
       "          class  y\n",
       "0     not ready  0\n",
       "1     not ready  0\n",
       "2     not ready  0\n",
       "3     not ready  0\n",
       "4     not ready  0\n",
       "...         ... ..\n",
       "1006      ready  1\n",
       "1007      ready  1\n",
       "1008      ready  1\n",
       "1009      ready  1\n",
       "1010      ready  1\n",
       "\n",
       "[1011 rows x 2 columns]"
      ]
     },
     "execution_count": 17,
     "metadata": {},
     "output_type": "execute_result"
    }
   ],
   "source": [
    "df_classes"
   ]
  },
  {
   "cell_type": "code",
   "execution_count": 26,
   "id": "e06437e0-2d11-48d0-a6da-02edcffd59a0",
   "metadata": {},
   "outputs": [
    {
     "data": {
      "text/plain": [
       "<Axes: xlabel='y'>"
      ]
     },
     "execution_count": 26,
     "metadata": {},
     "output_type": "execute_result"
    },
    {
     "data": {
      "image/png": "[encoded data removed]",
      "text/plain": [
       "<Figure size 640x480 with 1 Axes>"
      ]
     },
     "metadata": {},
     "output_type": "display_data"
    }
   ],
   "source": [
    "df_classes['y'].value_counts().plot(kind='bar')"
   ]
  },
  {
   "cell_type": "code",
   "execution_count": 27,
   "id": "08f63ff6-8870-4ae3-b55e-dfd0e1cdebb2",
   "metadata": {},
   "outputs": [],
   "source": [
    "from sklearn.preprocessing import StandardScaler"
   ]
  },
  {
   "cell_type": "code",
   "execution_count": 78,
   "id": "91ff0c56-3dd2-4ff4-99ff-2858dea04afd",
   "metadata": {},
   "outputs": [],
   "source": [
    "x=df.to_numpy()"
   ]
  },
  {
   "cell_type": "code",
   "execution_count": 67,
   "id": "47b72130-bef6-4093-aabe-4257eded7b4e",
   "metadata": {},
   "outputs": [],
   "source": [
    "y=df_classes['y'].values"
   ]
  },
  {
   "cell_type": "code",
   "execution_count": 40,
   "id": "2a3a6e3e-e215-4e12-85c8-1736625f304e",
   "metadata": {},
   "outputs": [],
   "source": [
    "scaler=StandardScaler()"
   ]
  },
  {
   "cell_type": "code",
   "execution_count": 47,
   "id": "1ded628a-c00c-42fc-8ad4-6d3264f86fbb",
   "metadata": {},
   "outputs": [],
   "source": [
    "x=scaler.fit_transform(x)"
   ]
  },
  {
   "cell_type": "code",
   "execution_count": 45,
   "id": "056bf36b-a9f0-4ba5-9e24-a98dbd3b8eb5",
   "metadata": {},
   "outputs": [],
   "source": [
    "from seaborn import *"
   ]
  },
  {
   "cell_type": "code",
   "execution_count": 48,
   "id": "16593006-9778-4b95-9032-8993a8d61272",
   "metadata": {},
   "outputs": [
    {
     "name": "stderr",
     "output_type": "stream",
     "text": [
      "C:\\Users\\vivek chouhan\\AppData\\Local\\Temp\\ipykernel_19128\\2501188173.py:1: UserWarning: \n",
      "\n",
      "`distplot` is a deprecated function and will be removed in seaborn v0.14.0.\n",
      "\n",
      "Please adapt your code to use either `displot` (a figure-level function with\n",
      "similar flexibility) or `histplot` (an axes-level function for histograms).\n",
      "\n",
      "For a guide to updating your code to use the new functions, please see\n",
      "https://gist.github.com/mwaskom/de44147ed2974457ad6372750bbe5751\n",
      "\n",
      "  distplot(x,kde=True,color='red')\n",
      "C:\\Users\\vivek chouhan\\AppData\\Local\\Programs\\Python\\Python311\\Lib\\site-packages\\seaborn\\_oldcore.py:1498: FutureWarning: is_categorical_dtype is deprecated and will be removed in a future version. Use isinstance(dtype, CategoricalDtype) instead\n",
      "  if pd.api.types.is_categorical_dtype(vector):\n",
      "C:\\Users\\vivek chouhan\\AppData\\Local\\Programs\\Python\\Python311\\Lib\\site-packages\\seaborn\\_oldcore.py:1119: FutureWarning: use_inf_as_na option is deprecated and will be removed in a future version. Convert inf values to NaN before operating instead.\n",
      "  with pd.option_context('mode.use_inf_as_na', True):\n"
     ]
    },
    {
     "data": {
      "text/plain": [
       "<Axes: ylabel='Density'>"
      ]
     },
     "execution_count": 48,
     "metadata": {},
     "output_type": "execute_result"
    },
    {
     "data": {
      "image/png": "[encoded data removed]",
      "text/plain": [
       "<Figure size 640x480 with 1 Axes>"
      ]
     },
     "metadata": {},
     "output_type": "display_data"
    }
   ],
   "source": [
    "distplot(x,kde=True,color='red')"
   ]
  },
  {
   "cell_type": "code",
   "execution_count": 51,
   "id": "cf17b389-7644-4d14-8137-61f3c952bd9f",
   "metadata": {},
   "outputs": [],
   "source": [
    "input_layers=len(df.columns)"
   ]
  },
  {
   "cell_type": "code",
   "execution_count": 52,
   "id": "272c6865-8e79-4c7d-8387-c449902c735f",
   "metadata": {},
   "outputs": [
    {
     "data": {
      "text/plain": [
       "225"
      ]
     },
     "execution_count": 52,
     "metadata": {},
     "output_type": "execute_result"
    }
   ],
   "source": [
    "input_layers"
   ]
  },
  {
   "cell_type": "code",
   "execution_count": 55,
   "id": "c127619b-a48b-466c-9f1e-9baff03c6a13",
   "metadata": {},
   "outputs": [
    {
     "data": {
      "text/plain": [
       "(1011, 225)"
      ]
     },
     "execution_count": 55,
     "metadata": {},
     "output_type": "execute_result"
    }
   ],
   "source": [
    "x.shape"
   ]
  },
  {
   "cell_type": "code",
   "execution_count": 53,
   "id": "1af18c5c-d4f0-441f-b099-b23a4f224be6",
   "metadata": {},
   "outputs": [],
   "source": [
    "model=keras.Sequential()"
   ]
  },
  {
   "cell_type": "code",
   "execution_count": 56,
   "id": "e3d86506-c441-44f5-aa87-477c9ee844f9",
   "metadata": {},
   "outputs": [],
   "source": [
    "model.add(\n",
    "    keras.layers.Dense(128,activation='relu',input_shape=(255,))\n",
    ")\n",
    "model.add(keras.layers.Dense(64,activation='relu'))\n",
    "model.add(keras.layers.Dense(32,activation='relu'))\n",
    "model.add(keras.layers.Dense(2,activation='sigmoid'))\n",
    "model.compile(loss='sparse_categorical_crossentropy',optimizer='adam',metrics=['accuracy'])"
   ]
  },
  {
   "cell_type": "code",
   "execution_count": 57,
   "id": "da490ab9-bcfa-47c2-a746-0ea409f986ad",
   "metadata": {},
   "outputs": [],
   "source": [
    "from sklearn.model_selection import train_test_split"
   ]
  },
  {
   "cell_type": "code",
   "execution_count": 81,
   "id": "921af277-8977-47c6-9107-bbc65ca1f3ef",
   "metadata": {},
   "outputs": [],
   "source": [
    "X_train, X_test, y_train, y_test =train_test_split(x,y,stratify=y,test_size=0.15)"
   ]
  },
  {
   "cell_type": "code",
   "execution_count": 70,
   "id": "3f6c0a03-6450-410d-85f2-15c89a036230",
   "metadata": {},
   "outputs": [
    {
     "name": "stdout",
     "output_type": "stream",
     "text": [
      "Epoch 1/20\n",
      "27/27 [==============================] - 5s 8ms/step - loss: 0.1264 - accuracy: 0.9476\n",
      "Epoch 2/20\n",
      "27/27 [==============================] - 0s 3ms/step - loss: 0.0085 - accuracy: 0.9988\n",
      "Epoch 3/20\n",
      "27/27 [==============================] - 0s 3ms/step - loss: 0.0019 - accuracy: 1.0000\n",
      "Epoch 4/20\n",
      "27/27 [==============================] - 0s 3ms/step - loss: 8.3543e-04 - accuracy: 1.0000\n",
      "Epoch 5/20\n",
      "27/27 [==============================] - 0s 3ms/step - loss: 5.4782e-04 - accuracy: 1.0000\n",
      "Epoch 6/20\n",
      "27/27 [==============================] - 0s 4ms/step - loss: 3.8315e-04 - accuracy: 1.0000\n",
      "Epoch 7/20\n",
      "27/27 [==============================] - 0s 4ms/step - loss: 2.6765e-04 - accuracy: 1.0000\n",
      "Epoch 8/20\n",
      "27/27 [==============================] - 0s 3ms/step - loss: 2.0414e-04 - accuracy: 1.0000\n",
      "Epoch 9/20\n",
      "27/27 [==============================] - 0s 3ms/step - loss: 1.5647e-04 - accuracy: 1.0000\n",
      "Epoch 10/20\n",
      "27/27 [==============================] - 0s 4ms/step - loss: 1.2623e-04 - accuracy: 1.0000\n",
      "Epoch 11/20\n",
      "27/27 [==============================] - 0s 3ms/step - loss: 1.0406e-04 - accuracy: 1.0000\n",
      "Epoch 12/20\n",
      "27/27 [==============================] - 0s 4ms/step - loss: 8.6292e-05 - accuracy: 1.0000\n",
      "Epoch 13/20\n",
      "27/27 [==============================] - 0s 3ms/step - loss: 7.2734e-05 - accuracy: 1.0000\n",
      "Epoch 14/20\n",
      "27/27 [==============================] - 0s 3ms/step - loss: 6.1493e-05 - accuracy: 1.0000\n",
      "Epoch 15/20\n",
      "27/27 [==============================] - 0s 4ms/step - loss: 5.3849e-05 - accuracy: 1.0000\n",
      "Epoch 16/20\n",
      "27/27 [==============================] - 1s 22ms/step - loss: 4.6540e-05 - accuracy: 1.0000\n",
      "Epoch 17/20\n",
      "27/27 [==============================] - 0s 4ms/step - loss: 4.1313e-05 - accuracy: 1.0000\n",
      "Epoch 18/20\n",
      "27/27 [==============================] - 0s 4ms/step - loss: 3.6370e-05 - accuracy: 1.0000\n",
      "Epoch 19/20\n",
      "27/27 [==============================] - 0s 3ms/step - loss: 3.2579e-05 - accuracy: 1.0000\n",
      "Epoch 20/20\n",
      "27/27 [==============================] - 0s 3ms/step - loss: 2.9333e-05 - accuracy: 1.0000\n"
     ]
    }
   ],
   "source": [
    "history=model.fit(X_train,y_train,epochs=20)"
   ]
  },
  {
   "cell_type": "code",
   "execution_count": 74,
   "id": "906f59a9-3ba5-48b0-89a4-0ea1da076f6b",
   "metadata": {},
   "outputs": [
    {
     "data": {
      "text/plain": [
       "<Axes: >"
      ]
     },
     "execution_count": 74,
     "metadata": {},
     "output_type": "execute_result"
    },
    {
     "data": {
      "image/png": "[encoded data removed]",
      "text/plain": [
       "<Figure size 640x480 with 1 Axes>"
      ]
     },
     "metadata": {},
     "output_type": "display_data"
    }
   ],
   "source": [
    "DataFrame(history.history).plot()"
   ]
  },
  {
   "cell_type": "code",
   "execution_count": 75,
   "id": "2018ee4c-d59f-4873-8d49-16fe9b96bb6f",
   "metadata": {},
   "outputs": [
    {
     "name": "stdout",
     "output_type": "stream",
     "text": [
      "5/5 [==============================] - 0s 4ms/step - loss: 0.0050 - accuracy: 0.9934\n"
     ]
    },
    {
     "data": {
      "text/plain": [
       "[0.0050115701742470264, 0.9934210777282715]"
      ]
     },
     "execution_count": 75,
     "metadata": {},
     "output_type": "execute_result"
    }
   ],
   "source": [
    "model.evaluate(X_test,y_test)"
   ]
  },
  {
   "cell_type": "code",
   "execution_count": 77,
   "id": "757366ee-d07b-4480-8aac-b35c2e36ec8e",
   "metadata": {},
   "outputs": [],
   "source": [
    "model.save(\"ready_model_nn.keras\")"
   ]
  },
  {
   "cell_type": "code",
   "execution_count": 79,
   "id": "483e347a-6273-41c2-8743-25858502adc4",
   "metadata": {},
   "outputs": [],
   "source": [
    "model1=model"
   ]
  },
  {
   "cell_type": "code",
   "execution_count": 82,
   "id": "65323834-204b-400e-bf18-3d0d93584057",
   "metadata": {},
   "outputs": [
    {
     "name": "stdout",
     "output_type": "stream",
     "text": [
      "Epoch 1/20\n",
      "27/27 [==============================] - 0s 3ms/step - loss: 0.2178 - accuracy: 0.9243\n",
      "Epoch 2/20\n",
      "27/27 [==============================] - 0s 4ms/step - loss: 0.0531 - accuracy: 0.9837\n",
      "Epoch 3/20\n",
      "27/27 [==============================] - 0s 3ms/step - loss: 0.0550 - accuracy: 0.9849\n",
      "Epoch 4/20\n",
      "27/27 [==============================] - 0s 3ms/step - loss: 0.0380 - accuracy: 0.9872\n",
      "Epoch 5/20\n",
      "27/27 [==============================] - 0s 3ms/step - loss: 0.0365 - accuracy: 0.9872\n",
      "Epoch 6/20\n",
      "27/27 [==============================] - 0s 4ms/step - loss: 0.0434 - accuracy: 0.9872\n",
      "Epoch 7/20\n",
      "27/27 [==============================] - 0s 4ms/step - loss: 0.0439 - accuracy: 0.9860\n",
      "Epoch 8/20\n",
      "27/27 [==============================] - 0s 3ms/step - loss: 0.0361 - accuracy: 0.9895\n",
      "Epoch 9/20\n",
      "27/27 [==============================] - 0s 3ms/step - loss: 0.0300 - accuracy: 0.9930\n",
      "Epoch 10/20\n",
      "27/27 [==============================] - 0s 3ms/step - loss: 0.0232 - accuracy: 0.9930\n",
      "Epoch 11/20\n",
      "27/27 [==============================] - 0s 4ms/step - loss: 0.0208 - accuracy: 0.9953\n",
      "Epoch 12/20\n",
      "27/27 [==============================] - 0s 4ms/step - loss: 0.0296 - accuracy: 0.9907\n",
      "Epoch 13/20\n",
      "27/27 [==============================] - 0s 3ms/step - loss: 0.0237 - accuracy: 0.9919\n",
      "Epoch 14/20\n",
      "27/27 [==============================] - 0s 3ms/step - loss: 0.0215 - accuracy: 0.9930\n",
      "Epoch 15/20\n",
      "27/27 [==============================] - 0s 3ms/step - loss: 0.0265 - accuracy: 0.9919\n",
      "Epoch 16/20\n",
      "27/27 [==============================] - 0s 3ms/step - loss: 0.0207 - accuracy: 0.9930\n",
      "Epoch 17/20\n",
      "27/27 [==============================] - 0s 4ms/step - loss: 0.0206 - accuracy: 0.9930\n",
      "Epoch 18/20\n",
      "27/27 [==============================] - 0s 4ms/step - loss: 0.0198 - accuracy: 0.9942\n",
      "Epoch 19/20\n",
      "27/27 [==============================] - 0s 4ms/step - loss: 0.0218 - accuracy: 0.9942\n",
      "Epoch 20/20\n",
      "27/27 [==============================] - 0s 4ms/step - loss: 0.0190 - accuracy: 0.9942\n"
     ]
    },
    {
     "data": {
      "text/plain": [
       "<keras.src.callbacks.History at 0x25a492fee50>"
      ]
     },
     "execution_count": 82,
     "metadata": {},
     "output_type": "execute_result"
    }
   ],
   "source": [
    "model1.fit(X_train,y_train,epochs=20)"
   ]
  },
  {
   "cell_type": "code",
   "execution_count": 83,
   "id": "6e38e8de-6433-4ce3-9701-8915f29a1a5f",
   "metadata": {},
   "outputs": [
    {
     "name": "stdout",
     "output_type": "stream",
     "text": [
      "5/5 [==============================] - 0s 750us/step - loss: 0.0071 - accuracy: 1.0000\n"
     ]
    },
    {
     "data": {
      "text/plain": [
       "[0.007136476691812277, 1.0]"
      ]
     },
     "execution_count": 83,
     "metadata": {},
     "output_type": "execute_result"
    }
   ],
   "source": [
    "model.evaluate(X_test,y_test)"
   ]
  },
  {
   "cell_type": "code",
   "execution_count": 86,
   "id": "e684ff6d-b871-4a5c-abd9-c085dfe1f7b7",
   "metadata": {},
   "outputs": [
    {
     "name": "stdout",
     "output_type": "stream",
     "text": [
      "5/5 [==============================] - 0s 6ms/step\n"
     ]
    }
   ],
   "source": [
    "y_p=[np.argmax(i) for i in model.predict(X_test)]"
   ]
  },
  {
   "cell_type": "code",
   "execution_count": 89,
   "id": "f836a27c-2a90-46b3-9134-368f30bb8acd",
   "metadata": {},
   "outputs": [
    {
     "data": {
      "text/plain": [
       "<Axes: >"
      ]
     },
     "execution_count": 89,
     "metadata": {},
     "output_type": "execute_result"
    },
    {
     "data": {
      "image/png": "[encoded data removed]",
      "text/plain": [
       "<Figure size 640x480 with 2 Axes>"
      ]
     },
     "metadata": {},
     "output_type": "display_data"
    }
   ],
   "source": [
    "heatmap(tf.math.confusion_matrix(y_test,y_p),annot=True)"
   ]
  },
  {
   "cell_type": "code",
   "execution_count": null,
   "id": "218a97b7-e044-4e9a-9f13-8db47c0d8ada",
   "metadata": {},
   "outputs": [],
   "source": []
  }
 ],
 "metadata": {
  "kernelspec": {
   "display_name": "Python 3 (ipykernel)",
   "language": "python",
   "name": "python3"
  },
  "language_info": {
   "codemirror_mode": {
    "name": "ipython",
    "version": 3
   },
   "file_extension": ".py",
   "mimetype": "text/x-python",
   "name": "python",
   "nbconvert_exporter": "python",
   "pygments_lexer": "ipython3",
   "version": "3.11.5"
  }
 },
 "nbformat": 4,
 "nbformat_minor": 5
}
